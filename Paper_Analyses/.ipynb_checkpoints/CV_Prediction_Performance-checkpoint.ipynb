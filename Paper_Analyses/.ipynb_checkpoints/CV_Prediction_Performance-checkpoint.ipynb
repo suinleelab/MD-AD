{
 "cells": [
  {
   "cell_type": "code",
   "execution_count": 12,
   "metadata": {
    "collapsed": true
   },
   "outputs": [],
   "source": [
    "# PACKAGES\n",
    "import matplotlib.pyplot as plt\n",
    "import numpy as np\n",
    "import os\n",
    "import h5py\n",
    "import pandas as pd\n",
    "from scipy import stats\n",
    "import matplotlib as mpl\n",
    "%matplotlib inline\n",
    "mpl.rcParams['font.size']=20"
   ]
  },
  {
   "cell_type": "code",
   "execution_count": 13,
   "metadata": {
    "collapsed": true
   },
   "outputs": [],
   "source": [
    "def str_to_param_dict(string):\n",
    "    d = {}\n",
    "    _,_,_,_,_,d[\"k_reg\"],d[\"learning_rate\"],_,d[\"grad_clip_norm\"],_ = string.split(\"_\")\n",
    "    return d"
   ]
  },
  {
   "cell_type": "code",
   "execution_count": 14,
   "metadata": {
    "collapsed": true
   },
   "outputs": [],
   "source": [
    "path_to_results = \"/Users/nbbwang/Documents/Lee Lab/AD_project/analyses/MTL_variable_tasks/6vars-continuous/origGE/\"\n",
    "\n",
    "dtype = \"ACT_MSBBRNA_ROSMAP_PCASplit\"\n",
    "metric = \"loss\"\n",
    "\n",
    "blue_plot =(0.12156862745098039, 0.4666666666666667, 0.7058823529411765, 1.0)\n",
    "green_plot= (0.17254901960784313, 0.6274509803921569, 0.17254901960784313, 1.0)\n",
    "red_plot= (0.8392156862745098, 0.15294117647058825, 0.1568627450980392, 1.0)"
   ]
  },
  {
   "cell_type": "code",
   "execution_count": 15,
   "metadata": {
    "collapsed": true
   },
   "outputs": [],
   "source": [
    "def get_CV_test_res_as_df(path_to_log_files):\n",
    "    firstfile = os.listdir(path_to_log_files)[0]\n",
    "    cols = pd.read_csv(path_to_log_files + firstfile).columns\n",
    "    \n",
    "    # save average performance of each CV fold for a given train/test split\n",
    "    training_averages = []\n",
    "    for i in range(5):\n",
    "        all_vals = np.array([pd.read_csv(path_to_log_files + \"%d.log\"%((i*5)+j)).values for j in range(5)])\n",
    "        training_averages.append(pd.DataFrame(np.nanmean(all_vals,axis=0), columns=cols))\n",
    "    # save average performance across all CV folds for each train/test split \n",
    "    # (this could be used to select the hyperparameters for the final model but not for model evaluation purposes!)\n",
    "    training_overall_averages = pd.DataFrame(np.nanmean(np.array([training_averages[i].values for i in range(5)]),axis=0), columns=cols)\n",
    "\n",
    "    # save test performance measures\n",
    "    test_runs = []\n",
    "    for cur_idx in range(25,30):\n",
    "        test_runs.append(pd.read_csv(path_to_log_files + \"%d.log\"%cur_idx))\n",
    "    test_overall_averages = pd.DataFrame(np.nanmean(np.array([test_runs[i].values for i in range(5)]),axis=0), columns=cols)\n",
    "\n",
    "    return training_averages, training_overall_averages, test_runs, test_overall_averages\n",
    "\n",
    "\n",
    "def get_CV_test_error(path_to_results_folder, datatype, var, metric, MTL=True):\n",
    "    \n",
    "    hy_names = []\n",
    "    tr_valid_vals_folds = []\n",
    "    \n",
    "    # loop through all hyperparameter combos\n",
    "    files = os.listdir(path_to_results_folder + datatype)\n",
    "    for fname in files:\n",
    "        if MTL:\n",
    "            cur_metric = var + \"_out_\" + metric\n",
    "            path_to_log_files = path_to_results_folder + datatype+ \"/\"+fname+\"/\"\n",
    "        else:\n",
    "            cur_metric = metric\n",
    "            path_to_log_files = path_to_results_folder + datatype+ \"/\"+fname+\"/\" + variable + \"/\"\n",
    "\n",
    "        # get training performances \n",
    "        tr_runs, tr_av, test_runs, test_av = get_CV_test_res_as_df(path_to_log_files)\n",
    "        \n",
    "        hy_names.append(fname) \n",
    "        # for each train/test split, get average average CV score for the current set of hyperparameters\n",
    "        tr_valid_vals_folds.append(np.array([tr_av_fold[\"val_\" + cur_metric].values[-1] for tr_av_fold in tr_runs]))\n",
    "\n",
    "\n",
    "    \n",
    "    best_cases_test_performances = []\n",
    "    best_case_test_performance_eps = []\n",
    "    best_cases_parameters = []\n",
    "\n",
    "    # get hyperparameter setting with lowest loss for each test fold \n",
    "    best_params_per_outerfold = np.argmin(np.array(tr_valid_vals_folds), axis=0)\n",
    "\n",
    "    # loop through the five final test performances we get for each train/test split \n",
    "    for i, bestidx in enumerate(best_params_per_outerfold):\n",
    "\n",
    "        if MTL:\n",
    "            best_path = path_to_results_folder + datatype+ \"/\"+hy_names[bestidx]+\"/\"\n",
    "        else:\n",
    "            best_path = path_to_results_folder + datatype+ \"/\"+hy_names[bestidx]+\"/\" + variable + \"/\"\n",
    "           \n",
    "        tr_runs, tr_av, test_runs, test_av = get_CV_test_res_as_df(best_path)\n",
    "\n",
    "        best_cases_test_performances.append(test_runs[i][\"val_\" + cur_metric].values[-1])\n",
    "        best_case_test_performance_eps.append(np.argmin(test_runs[i][\"val_\" + cur_metric]))\n",
    "        best_cases_parameters.append(hy_names[bestidx])\n",
    "\n",
    "    return best_cases_test_performances,best_case_test_performance_eps,best_cases_parameters\n",
    "\n",
    "\n",
    "\n",
    "def get_percent_error_reduction(performance_dict, orig, new, pathology):\n",
    "    return (performance_dict[orig][pathology] - performance_dict[new][pathology])/performance_dict[orig][pathology]"
   ]
  },
  {
   "cell_type": "markdown",
   "metadata": {},
   "source": [
    "## Store val and test set variances for MSE scaling"
   ]
  },
  {
   "cell_type": "code",
   "execution_count": 16,
   "metadata": {},
   "outputs": [],
   "source": [
    "ALL_VARIANCES = {}\n",
    "TOTAL_VARIANCES = {}\n",
    "\n",
    "\n",
    "for variable in [\"CERAD\", \"BRAAK\", \"PLAQUES\", \"TANGLES\", \"ABETA_IHC\", \"TAU_IHC\"]:\n",
    "\n",
    "    vars_by_split = []\n",
    "    all_vals = np.array([])\n",
    "    for fold_idx in range(30):\n",
    "        path_to_preds_folder = path_to_results + \"predictions/MTL/\" + dtype + \"/\" \n",
    "        folder = os.listdir(path_to_preds_folder)[0]\n",
    "\n",
    "        with h5py.File(path_to_preds_folder  + folder+\"/\" + \"%d.h5\"%fold_idx, 'r') as hf:\n",
    "            true_plaques = hf[\"y_true\"][variable][:]\n",
    "        \n",
    "        all_vals = np.append(all_vals, true_plaques)\n",
    "        vars_by_split.append(np.nanvar(true_plaques))    \n",
    "    variances = np.array(vars_by_split)\n",
    "    ALL_VARIANCES[variable] = variances\n",
    "    \n",
    "    TOTAL_VARIANCES[variable] = np.nanvar(all_vals)\n",
    "    \n",
    "saved_vars = pd.DataFrame.from_dict(ALL_VARIANCES)\n",
    "saved_vars.to_csv(\"test_set_variances.csv\")"
   ]
  },
  {
   "cell_type": "markdown",
   "metadata": {},
   "source": [
    "## create dict of test set performances for each model class"
   ]
  },
  {
   "cell_type": "code",
   "execution_count": 17,
   "metadata": {},
   "outputs": [
    {
     "data": {
      "text/plain": [
       "'/Users/nbbwang/Documents/Lee Lab/AD_project/analyses/MTL_variable_tasks/6vars-continuous/origGE/'"
      ]
     },
     "execution_count": 17,
     "metadata": {},
     "output_type": "execute_result"
    }
   ],
   "source": [
    "path_to_results"
   ]
  },
  {
   "cell_type": "code",
   "execution_count": 18,
   "metadata": {
    "scrolled": false
   },
   "outputs": [],
   "source": [
    "PERFORMANCE_VALS = {}\n",
    "PERFORMANCE_VALS_list = {}\n",
    "PERFORMANCE_SEMS = {}\n",
    "best_hys = {}\n",
    "df_contents=[]\n",
    "\n",
    "for experiment in [\"MTL\", \"MLP_Baselines\", 'Linear_Baselines']:\n",
    "\n",
    "    PERFORMANCE_VALS[experiment] = {}\n",
    "    PERFORMANCE_VALS_list[experiment] = {}\n",
    "    PERFORMANCE_SEMS[experiment] = {}\n",
    "    best_hys[experiment] = {}\n",
    "\n",
    "    path_to_results_folder = path_to_results + \"results/\" + experiment + \"/\"\n",
    "    path_to_preds_folder = path_to_results + \"predictions/\" + experiment + \"/\"\n",
    "\n",
    "\n",
    "    for variable in [\"CERAD\", \"BRAAK\", \"PLAQUES\", \"TANGLES\", \"TAU_IHC\", \"ABETA_IHC\"]:\n",
    "\n",
    "        # get test results for each fold\n",
    "        best_hy_test, best_hy_ep, best_hy = get_CV_test_error(path_to_results_folder,\\\n",
    "                dtype, variable, metric, MTL=(experiment==\"MTL\"))\n",
    "\n",
    "        # get scaled average + std error for test performance\n",
    "        mean_performance = np.round(np.mean(best_hy_test/ALL_VARIANCES[variable][25:]), 5)\n",
    "        sem_performance = stats.sem(np.array(best_hy_test)/np.array(ALL_VARIANCES[variable][25:]))\n",
    "        \n",
    "        best_hys[experiment][variable] = best_hy\n",
    "        PERFORMANCE_VALS[experiment][variable] = mean_performance\n",
    "        PERFORMANCE_VALS_list[experiment][variable] = best_hy_test/ALL_VARIANCES[variable][25:]\n",
    "\n",
    "        PERFORMANCE_SEMS[experiment][variable] = sem_performance\n",
    "    \n",
    "        for i,x in enumerate(best_hy):\n",
    "            df_contents.append([experiment, variable, i] + list(str_to_param_dict(x).values()))\n",
    "            \n",
    "selected_hyperparams = pd.DataFrame(df_contents, columns=[\"experiment\", \"variable\", \"run\"]+list(str_to_param_dict(x).keys()))\n",
    "selected_hyperparams.to_csv(\"selected_hyperparameters.csv\", index=False)"
   ]
  },
  {
   "cell_type": "code",
   "execution_count": 20,
   "metadata": {
    "collapsed": true
   },
   "outputs": [],
   "source": [
    "# put results into format for easily generating figures \n",
    "\n",
    "experiments = [\"Linear_Baselines\", \"MLP_Baselines\", \"MTL\"]\n",
    "\n",
    "VALUES = {}\n",
    "STD_ERRS = {}\n",
    "METRICS = {}\n",
    "\n",
    "for pathology in [\"CERAD\", \"BRAAK\"]:\n",
    "    VALUES[pathology] = []\n",
    "    STD_ERRS[pathology] = []\n",
    "    METRICS[pathology] = 'Mean Squared Error (scaled)'\n",
    "    for experiment in experiments:\n",
    "        VALUES[pathology].append(PERFORMANCE_VALS[experiment][pathology])\n",
    "        STD_ERRS[pathology].append(PERFORMANCE_SEMS[experiment][pathology])"
   ]
  },
  {
   "cell_type": "markdown",
   "metadata": {},
   "source": [
    "# generate paper figures"
   ]
  },
  {
   "cell_type": "code",
   "execution_count": 21,
   "metadata": {
    "scrolled": false
   },
   "outputs": [
    {
     "data": {
      "image/png": "[encoded data removed]",
      "text/plain": [
       "<Figure size 288x360 with 1 Axes>"
      ]
     },
     "metadata": {},
     "output_type": "display_data"
    },
    {
     "data": {
      "image/png": "[encoded data removed]",
      "text/plain": [
       "<Figure size 288x360 with 1 Axes>"
      ]
     },
     "metadata": {},
     "output_type": "display_data"
    }
   ],
   "source": [
    "methods = ['Linear \\nBaseline', 'MLP \\nBaseline', 'MD-AD']\n",
    "barcolor = plt.cm.Reds(.6)\n",
    "\n",
    "\n",
    "x_pos = np.arange(len(methods))\n",
    "\n",
    "# can use this code to try to generate upper limits for graph automatically\n",
    "ylims = {}\n",
    "for key in VALUES.keys():\n",
    "\n",
    "    VAL_plus_STD = np.array(VALUES[key]) + np.array(STD_ERRS[key])\n",
    "    upperlim = np.round(np.max(VAL_plus_STD), 1) \n",
    "    if key == \"ABETA_IHC\":\n",
    "        upperlim += .05\n",
    "    ylims[key] = (.4, upperlim)\n",
    "    \n",
    "# manually picked these upper limits for graph to make the figures look nice & clean\n",
    "ylims = {\"ABETA_IHC\": 1.2, \"TAU_IHC\": 1.1, \"PLAQUES\": .7, \"TANGLES\": 1.5, \"CERAD\": .7, \"BRAAK\": .7}\n",
    "\n",
    "\n",
    "for key in VALUES.keys():\n",
    "    \n",
    "    # generate annotations to test for significance between MTL and baselines \n",
    "    annots = []\n",
    "    for exp in [\"Linear_Baselines\", \"MLP_Baselines\"]:\n",
    "        t,p = stats.ttest_rel(PERFORMANCE_VALS_list[\"MTL\"][key], PERFORMANCE_VALS_list[exp][key])\n",
    "        if p/2 < .001:\n",
    "            annots.append(\"***\")\n",
    "        elif p/2 < .01:\n",
    "            annots.append(\"**\")\n",
    "        elif p/2 < .05:\n",
    "            annots.append(\"*\")\n",
    "        else:\n",
    "            annots.append(\"\")\n",
    "\n",
    "    \n",
    "    fig, ax = plt.subplots(figsize=(4,5))\n",
    "    lin,mlp, mtl= ax.bar(x_pos, VALUES[key], yerr=STD_ERRS[key], align='center', alpha=1,  ecolor='black',\n",
    "                         color=[green_plot, blue_plot, red_plot],error_kw=dict(lw=2, capsize=5, capthick=2))\n",
    "\n",
    "    for i, txt in enumerate(annots):\n",
    "        ann_x = x_pos[i]\n",
    "        ann_y = VALUES[key][i] + STD_ERRS[key][i] + np.max(VALUES[key][i] + STD_ERRS[key][i])/100\n",
    "        ax.text(ann_x,ann_y, txt, color='black', horizontalalignment =\"center\",fontweight=\"bold\")\n",
    "    \n",
    "    for b in [lin,mlp,mtl]:\n",
    "        b.set_edgecolor(\"None\")\n",
    "            \n",
    "    \n",
    "    ax.set_xticks(x_pos)\n",
    "    ax.set_xticklabels(\"\")\n",
    "    ax.set_ylim(.4,ylims[key])\n",
    "\n",
    "\n",
    "\n",
    "    ax.spines['right'].set_visible(False)\n",
    "    ax.spines['top'].set_visible(False)\n",
    "    if key in [\"BRAAK\", \"CERAD\", \"PLAQUES\"]:\n",
    "        ax.yaxis.set_major_locator(plt.MaxNLocator(3))\n",
    "    else:\n",
    "        ax.yaxis.set_major_locator(plt.MaxNLocator(4))\n",
    "\n",
    "    ax.set_facecolor('None')\n",
    "    ax.set_title(key)\n",
    "    plt.tight_layout()\n"
   ]
  },
  {
   "cell_type": "markdown",
   "metadata": {
    "collapsed": true
   },
   "source": [
    "# calculating improvement percents:\n",
    "This is for the paper, if we want to say \"'MD-AD' provides a X percent reduction in error over the linear/mlp metod\""
   ]
  },
  {
   "cell_type": "code",
   "execution_count": 22,
   "metadata": {},
   "outputs": [
    {
     "name": "stdout",
     "output_type": "stream",
     "text": [
      "0.06726099394584531\n",
      "0.1293861045660066\n",
      "0.07450307450307449\n",
      "0.24846995416979\n",
      "0.09759229880963945\n",
      "0.1374034218080196\n"
     ]
    }
   ],
   "source": [
    "for p in [\"CERAD\", \"BRAAK\", \"PLAQUES\", \"TANGLES\", \"ABETA_IHC\", \"TAU_IHC\"]:\n",
    "    print(get_percent_error_reduction(PERFORMANCE_VALS, \"MLP_Baselines\", \"MTL\", p))"
   ]
  },
  {
   "cell_type": "code",
   "execution_count": 23,
   "metadata": {},
   "outputs": [
    {
     "name": "stdout",
     "output_type": "stream",
     "text": [
      "0.10126764852000845\n",
      "0.12433947157726197\n",
      "0.06668803076430058\n",
      "0.3278938927216721\n",
      "0.17380865338062812\n",
      "0.2711839054670555\n"
     ]
    }
   ],
   "source": [
    "for p in [\"CERAD\", \"BRAAK\", \"PLAQUES\", \"TANGLES\", \"ABETA_IHC\", \"TAU_IHC\"]:\n",
    "    print(get_percent_error_reduction(PERFORMANCE_VALS, \"Linear_Baselines\", \"MTL\", p))"
   ]
  }
 ],
 "metadata": {
  "kernelspec": {
   "display_name": "Python 3.6",
   "language": "python",
   "name": "py36"
  },
  "language_info": {
   "codemirror_mode": {
    "name": "ipython",
    "version": 3
   },
   "file_extension": ".py",
   "mimetype": "text/x-python",
   "name": "python",
   "nbconvert_exporter": "python",
   "pygments_lexer": "ipython3",
   "version": "3.6.3"
  }
 },
 "nbformat": 4,
 "nbformat_minor": 2
}
