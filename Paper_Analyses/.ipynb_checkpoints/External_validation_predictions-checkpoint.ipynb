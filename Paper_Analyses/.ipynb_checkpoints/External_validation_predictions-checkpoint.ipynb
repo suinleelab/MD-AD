{
 "cells": [
  {
   "cell_type": "code",
   "execution_count": 1,
   "metadata": {},
   "outputs": [],
   "source": [
    "import numpy as np\n",
    "import pandas as pd\n",
    "import scipy\n",
    "import sys\n",
    "import os\n",
    "import seaborn as sns\n",
    "\n",
    "from matplotlib import pyplot as plt\n",
    "%matplotlib inline"
   ]
  },
  {
   "cell_type": "code",
   "execution_count": 2,
   "metadata": {},
   "outputs": [],
   "source": [
    "cmap=plt.cm.tab20\n",
    "cmaplist = [cmap(i) for i in range(cmap.N)]"
   ]
  },
  {
   "cell_type": "code",
   "execution_count": 3,
   "metadata": {},
   "outputs": [],
   "source": [
    "mods = [\"Linear\", \"MLP_baselines\", \"MTL\"]\n",
    "phens = [\"CERAD\", \"BRAAK\", \"PLAQUES\", \"TANGLES\", \"ABETA_IHC\", \"TAU_IHC\"]\n",
    "path_to_preds = \"../../Pipeline_Outputs_Submitted/External_Validation/Cleaned/Model_Predictions/\"\n",
    "human_apoe = \"../../DATA/External_Validation/processed/all_human/all_human_covars_w_apoe/\""
   ]
  },
  {
   "cell_type": "markdown",
   "metadata": {},
   "source": [
    "### Human"
   ]
  },
  {
   "cell_type": "code",
   "execution_count": 4,
   "metadata": {},
   "outputs": [],
   "source": [
    "t_stat = {}\n",
    "t_ps= {}\n",
    "dfs = {}\n",
    "for mod in mods:\n",
    "    df = pd.read_csv(path_to_preds + \"%s/all_human.csv\"%mod)\n",
    "    dfs[mod] = df\n",
    "    t_stat[mod] = {}\n",
    "    t_ps[mod] = {}\n",
    "\n",
    "    for yvar in ['CERAD', 'BRAAK', 'PLAQUES', 'TANGLES',\n",
    "           'ABETA_IHC', 'TAU_IHC', 'AB_RELATED', 'TAU_RELATED', 'AVG']:\n",
    "\n",
    "        t_stat[mod][yvar] = {}\n",
    "        t_ps[mod][yvar] = {}\n",
    "\n",
    "        t,p = scipy.stats.ttest_ind(df[df[\"AD\"]==1][yvar].values,  df[df[\"AD\"]==0][yvar].values)\n",
    "        t_stat[mod][yvar][\"all\"] = t\n",
    "        t_ps[mod][yvar][\"all\"] = p\n",
    "      \n",
    "    \n",
    "        for study in np.unique(df[\"study\"]):\n",
    "            subdf = df[df[\"study\"]==study]\n",
    "            t,p = scipy.stats.ttest_ind(subdf[subdf[\"AD\"]==1][yvar].values, subdf[subdf[\"AD\"]==0][yvar].values)\n",
    "            t_stat[mod][yvar][study] = t\n",
    "            t_ps[mod][yvar][study] = p"
   ]
  },
  {
   "cell_type": "code",
   "execution_count": 5,
   "metadata": {
    "scrolled": true
   },
   "outputs": [
    {
     "name": "stdout",
     "output_type": "stream",
     "text": [
      "amp-ad_msbb [12.085109254151837, 15.010835850618214, 17.255303811113986]\n",
      "amp-ad_msbb [1.4452375197495927e-31, 2.8750699060466297e-46, 6.7523879086363275e-59]\n",
      "\n",
      "MayoRNASeq.tsv [8.696563470729208, 11.605545025842991, 9.086570189836078]\n",
      "MayoRNASeq.tsv [4.649297584122482e-15, 8.32262076190317e-23, 4.549632114765281e-16]\n",
      "\n",
      "HBTRC_GEO [9.993804485341146, 14.175126206699728, 14.513736500495046]\n",
      "HBTRC_GEO [9.250767377469583e-21, 4.446486502285092e-36, 2.1553481022836393e-37]\n",
      "\n",
      "all [16.853022389993296, 21.48236550571764, 22.976364470733326]\n",
      "all [1.2817370531449024e-58, 9.424287527701047e-90, 1.0835178332276176e-100]\n",
      "\n"
     ]
    },
    {
     "data": {
      "image/png": "[encoded data removed]",
      "text/plain": [
       "<Figure size 864x288 with 4 Axes>"
      ]
     },
     "metadata": {
      "needs_background": "light"
     },
     "output_type": "display_data"
    }
   ],
   "source": [
    "dsets_list = ['amp-ad_msbb', 'MayoRNASeq.tsv', \"HBTRC_GEO\", \"all\"]\n",
    "# for yvar in ['CERAD', 'BRAAK', 'PLAQUES', 'TANGLES',\n",
    "#        'ABETA_IHC', 'TAU_IHC', 'AB_RELATED', 'TAU_RELATED', 'AVG']:\n",
    "for yvar in ['AVG']:\n",
    "    f,axs = plt.subplots(1,4, figsize=(12,4))\n",
    "    \n",
    "    lim = np.max([[t_stat[mod][yvar][dset] for mod in [\"Linear\", \"MLP_baselines\", \"MTL\"]] for dset in dsets_list])\n",
    "    \n",
    "    for i, dset in enumerate(dsets_list):\n",
    "\n",
    "        lin,mlp,mtl= axs[i].bar(mods, [t_stat[mod][yvar][dset] for mod in [\"Linear\", \"MLP_baselines\", \"MTL\"]], \n",
    "                                align='center', alpha=1, ecolor='black')\n",
    "        \n",
    "        print(dset, [t_stat[mod][yvar][dset] for mod in [\"Linear\", \"MLP_baselines\", \"MTL\"]])\n",
    "        print(dset, [t_ps[mod][yvar][dset] for mod in [\"Linear\", \"MLP_baselines\", \"MTL\"]])\n",
    "        print()\n",
    "        lin.set_facecolor(cmaplist[4])\n",
    "        mlp.set_facecolor(cmaplist[0])\n",
    "        mtl.set_facecolor(cmaplist[6])\n",
    "\n",
    "        axs[i].set_xticks(mods)\n",
    "        axs[i].set_xticklabels(\"\")\n",
    "\n",
    "        axs[i].set_title(dset)\n",
    "        \n",
    "        axs[i].spines['right'].set_visible(False)\n",
    "        axs[i].spines['top'].set_visible(False)\n",
    "        axs[i].set_ylim(0,lim)\n",
    "    plt.suptitle(yvar)\n",
    "        \n",
    "    plt.tight_layout()\n"
   ]
  },
  {
   "cell_type": "code",
   "execution_count": 6,
   "metadata": {},
   "outputs": [],
   "source": [
    "for mod in mods:\n",
    "    dfs[mod][\"model\"] = mod"
   ]
  },
  {
   "cell_type": "markdown",
   "metadata": {},
   "source": [
    "### Comparing methods"
   ]
  },
  {
   "cell_type": "code",
   "execution_count": 7,
   "metadata": {},
   "outputs": [
    {
     "data": {
      "image/png": "[encoded data removed]",
      "text/plain": [
       "<Figure size 576x576 with 1 Axes>"
      ]
     },
     "metadata": {
      "needs_background": "light"
     },
     "output_type": "display_data"
    }
   ],
   "source": [
    "alldfs = pd.concat(dfs.values())\n",
    "\n",
    "\n",
    "f, ax = plt.subplots(1,1,figsize=(8,8))\n",
    "\n",
    "g=sns.catplot(x=\"model\", y=yvar, hue=\"AD\",aspect=1,ax=ax,\n",
    "            kind=\"box\",ci=\"sd\", data= alldfs, hue_order=[0,1], palette=[cmaplist[0], cmaplist[12]],\n",
    "              legend=False, saturation=1);\n",
    "\n",
    "\n",
    "ax.set_facecolor('None')\n",
    "ax.spines['right'].set_visible(False)\n",
    "ax.spines['top'].set_visible(False)\n",
    "ax.spines['bottom'].set_visible(False)\n",
    "\n",
    "ax.get_legend().remove()\n",
    "plt.close(2)\n",
    "\n"
   ]
  },
  {
   "cell_type": "markdown",
   "metadata": {},
   "source": [
    "### MD-AD: split by age groups:"
   ]
  },
  {
   "cell_type": "code",
   "execution_count": 729,
   "metadata": {
    "scrolled": true
   },
   "outputs": [
    {
     "data": {
      "image/png": "[encoded data removed]",
      "text/plain": [
       "<Figure size 576x576 with 1 Axes>"
      ]
     },
     "metadata": {
      "needs_background": "light"
     },
     "output_type": "display_data"
    }
   ],
   "source": [
    "f, ax = plt.subplots(1,1,figsize=(8,8))\n",
    "\n",
    "xorder = np.array([\"<75\",\"[75-85)\", \"85+\"])\n",
    "yvar = 'AVG'\n",
    "\n",
    "g=sns.catplot(x=\"age_groups\", y=yvar, hue=\"AD\",col=\"model\",aspect=1.2, order=xorder,ax=ax,\n",
    "            kind=\"box\",ci=\"sd\", data= dfs[\"MTL\"], hue_order=[0,1], palette=[cmaplist[0], cmaplist[12]], legend=False, saturation=1);\n",
    "\n",
    "plt.title(mod)\n",
    "\n",
    "ax.set_facecolor('None')\n",
    "ax.spines['right'].set_visible(False)\n",
    "ax.spines['top'].set_visible(False)\n",
    "ax.spines['bottom'].set_visible(False)\n",
    "\n",
    "ax.get_legend().remove()\n",
    "plt.close(2)\n",
    "plt.show()"
   ]
  },
  {
   "cell_type": "code",
   "execution_count": 731,
   "metadata": {},
   "outputs": [
    {
     "name": "stdout",
     "output_type": "stream",
     "text": [
      "0-<75 (179),,***,**,***,***,***,\n",
      "1-<75 (95),***,,***,*,***,,\n",
      "0-[75-85) (134),**,***,,***,,***,\n",
      "1-[75-85) (243),***,*,***,,***,*,\n",
      "0-85+ (337),***,***,,***,,***,\n",
      "1-85+ (554),***,,***,*,***,,\n"
     ]
    }
   ],
   "source": [
    "groups = []\n",
    "vals = []\n",
    "for sname, s_df in dfs[\"MTL\"].groupby(\"AD\"):\n",
    "    stxt = \"AD\" if sname==1 else \"Control\"\n",
    "    for aname, a_df in s_df.groupby(\"age_groups\"):\n",
    "        groups.append(str(sname)+\"-\"+aname)\n",
    "        vals.append(a_df[\"AVG\"].values)\n",
    "        \n",
    "group_ordering = ['0-<75', '1-<75', '0-[75-85)', '1-[75-85)', '0-85+','1-85+']\n",
    "\n",
    "for _, g_name in enumerate(group_ordering):\n",
    "    i = groups.index(g_name)\n",
    "\n",
    "    print(g_name+\" (%i),\"%len(vals[i]), end=\"\")\n",
    "    for _, g2_name in enumerate(group_ordering):\n",
    "        j = groups.index(g2_name)\n",
    "        t_res = scipy.stats.ttest_ind(vals[i], vals[j])\n",
    "        stars = \"\"\n",
    "        if t_res[1] < .05:\n",
    "            stars += \"*\"\n",
    "        if t_res[1] < .01:\n",
    "            stars += \"*\"\n",
    "        if t_res[1] < .001:\n",
    "            stars += \"*\"\n",
    "            \n",
    "        print(stars+\",\",end=\"\")\n",
    "    print()"
   ]
  },
  {
   "cell_type": "code",
   "execution_count": 732,
   "metadata": {},
   "outputs": [
    {
     "name": "stdout",
     "output_type": "stream",
     "text": [
      "0-<75 (179),,4e-28,0.005,1e-35,1e-08,5e-61,\n",
      "1-<75 (95),4e-28,,3e-18,0.011,2e-23,,\n",
      "0-[75-85) (134),0.005,3e-18,,5e-20,,2e-34,\n",
      "1-[75-85) (243),1e-35,0.011,5e-20,,3e-25,0.03,\n",
      "0-85+ (337),1e-08,2e-23,,3e-25,,8e-50,\n",
      "1-85+ (554),5e-61,,2e-34,0.03,8e-50,,\n"
     ]
    }
   ],
   "source": [
    "groups = []\n",
    "vals = []\n",
    "for sname, s_df in dfs[\"MTL\"].groupby(\"AD\"):\n",
    "    stxt = \"AD\" if sname==1 else \"Control\"\n",
    "    for aname, a_df in s_df.groupby(\"age_groups\"):\n",
    "        groups.append(str(sname)+\"-\"+aname)\n",
    "        vals.append(a_df[\"AVG\"].values)\n",
    "        \n",
    "group_ordering = ['0-<75', '1-<75', '0-[75-85)', '1-[75-85)', '0-85+','1-85+']\n",
    "\n",
    "for _, g_name in enumerate(group_ordering):\n",
    "    i = groups.index(g_name)\n",
    "\n",
    "    print(g_name+\" (%i),\"%len(vals[i]), end=\"\")\n",
    "    for _, g2_name in enumerate(group_ordering):\n",
    "        j = groups.index(g2_name)\n",
    "        t_res = scipy.stats.ttest_ind(vals[i], vals[j])\n",
    "        if t_res[1] >.05:\n",
    "            stars=\"\"\n",
    "        elif t_res[1] < .001:\n",
    "            stars = \"{:.0e}\".format(t_res[1]) \n",
    "        else:\n",
    "            stars = str(np.round(t_res[1], 3))\n",
    "        \n",
    "        print(stars+\",\",end=\"\")\n",
    "    print()"
   ]
  },
  {
   "cell_type": "code",
   "execution_count": 733,
   "metadata": {},
   "outputs": [
    {
     "name": "stderr",
     "output_type": "stream",
     "text": [
      "/homes/gws/nbbwang/anaconda3/envs/py36-test2/lib/python3.7/site-packages/ipykernel_launcher.py:9: SettingWithCopyWarning: \n",
      "A value is trying to be set on a copy of a slice from a DataFrame.\n",
      "Try using .loc[row_indexer,col_indexer] = value instead\n",
      "\n",
      "See the caveats in the documentation: http://pandas.pydata.org/pandas-docs/stable/indexing.html#indexing-view-versus-copy\n",
      "  if __name__ == '__main__':\n",
      "/homes/gws/nbbwang/anaconda3/envs/py36-test2/lib/python3.7/site-packages/ipykernel_launcher.py:7: SettingWithCopyWarning: \n",
      "A value is trying to be set on a copy of a slice from a DataFrame.\n",
      "Try using .loc[row_indexer,col_indexer] = value instead\n",
      "\n",
      "See the caveats in the documentation: http://pandas.pydata.org/pandas-docs/stable/indexing.html#indexing-view-versus-copy\n",
      "  import sys\n"
     ]
    }
   ],
   "source": [
    "sourcedata_cols = [\"AD\",\"age_groups\"]\n",
    "\n",
    "sourcedata = dfs[\"MTL\"][sourcedata_cols]\n",
    "\n",
    "for mod in mods:\n",
    "    if mod==\"MTL\":\n",
    "        sourcedata[\"MD-AD_predicted_neuropath_score\"] = dfs[mod][\"AVG\"]\n",
    "    else:\n",
    "        sourcedata[mod+\"_predicted_neuropath_score\"] = dfs[mod][\"AVG\"]\n",
    "    \n",
    "# sourcedata.to_csv(\"sourcedata/2c_ext_val_human_brain.csv\", index=False)\n",
    "    "
   ]
  },
  {
   "cell_type": "markdown",
   "metadata": {},
   "source": [
    "## Human - apoe instead of dx (supplementary figure added during revision 2)"
   ]
  },
  {
   "cell_type": "code",
   "execution_count": 8,
   "metadata": {},
   "outputs": [
    {
     "name": "stderr",
     "output_type": "stream",
     "text": [
      "/homes/gws/nbbwang/anaconda3/envs/py36-test2/lib/python3.7/site-packages/ipykernel_launcher.py:6: SettingWithCopyWarning: \n",
      "A value is trying to be set on a copy of a slice from a DataFrame.\n",
      "Try using .loc[row_indexer,col_indexer] = value instead\n",
      "\n",
      "See the caveats in the documentation: http://pandas.pydata.org/pandas-docs/stable/indexing.html#indexing-view-versus-copy\n",
      "  \n",
      "/homes/gws/nbbwang/anaconda3/envs/py36-test2/lib/python3.7/site-packages/ipykernel_launcher.py:10: SettingWithCopyWarning: \n",
      "A value is trying to be set on a copy of a slice from a DataFrame.\n",
      "Try using .loc[row_indexer,col_indexer] = value instead\n",
      "\n",
      "See the caveats in the documentation: http://pandas.pydata.org/pandas-docs/stable/indexing.html#indexing-view-versus-copy\n",
      "  # Remove the CWD from sys.path while we load stuff.\n",
      "/homes/gws/nbbwang/anaconda3/envs/py36-test2/lib/python3.7/site-packages/ipykernel_launcher.py:8: SettingWithCopyWarning: \n",
      "A value is trying to be set on a copy of a slice from a DataFrame.\n",
      "Try using .loc[row_indexer,col_indexer] = value instead\n",
      "\n",
      "See the caveats in the documentation: http://pandas.pydata.org/pandas-docs/stable/indexing.html#indexing-view-versus-copy\n",
      "  \n"
     ]
    }
   ],
   "source": [
    "dfs = []\n",
    "for f in os.listdir(human_apoe):\n",
    "    df =  pd.read_csv(human_apoe + f, sep=\"\\t\")\n",
    "    if \"apoe\" in df.columns:\n",
    "        tmp = df[[\"sample_name\", \"apoe\"]]\n",
    "        tmp[\"apoe\"] = tmp[\"apoe\"].astype(str)\n",
    "        if f in [\"Mayo_TCX.tsv\", \"Mayo_CER.tsv\"]:\n",
    "            tmp[\"source\"] = \"MayoRNASeq.tsv\"\n",
    "        else:\n",
    "            tmp[\"source\"] = f\n",
    "        dfs.append(tmp)\n",
    "        \n",
    "apoe_statuses = pd.concat(dfs)\n",
    "apoe_statuses[\"apoe\"] = apoe_statuses[\"apoe\"].astype(float)\n",
    "apoe_statuses[\"apoe_4\"] = apoe_statuses[\"apoe\"].apply(lambda x: np.nan if pd.isnull(x) else int(\"4\" in str(x)))\n",
    "apoe_statuses[\"sample_name\"] = apoe_statuses[\"sample_name\"].astype(str)"
   ]
  },
  {
   "cell_type": "code",
   "execution_count": 9,
   "metadata": {},
   "outputs": [],
   "source": [
    "t_stat = {}\n",
    "t_ps= {}\n",
    "dfs = {}\n",
    "for mod in mods:\n",
    "    df = pd.read_csv(path_to_preds + \"%s/all_human.csv\"%mod)\n",
    "    df = df.merge(apoe_statuses, how=\"left\", on=[\"sample_name\", \"source\"])\n",
    "    \n",
    "    dfs[mod] = df\n",
    "    t_stat[mod] = {}\n",
    "    t_ps[mod] = {}\n",
    "\n",
    "    for yvar in ['CERAD', 'BRAAK', 'PLAQUES', 'TANGLES',\n",
    "           'ABETA_IHC', 'TAU_IHC', 'AB_RELATED', 'TAU_RELATED', 'AVG']:\n",
    "\n",
    "        t_stat[mod][yvar] = {}\n",
    "        t_ps[mod][yvar] = {}\n",
    "\n",
    "        t,p = scipy.stats.ttest_ind(df[df[\"apoe_4\"]==1][yvar].values,  df[df[\"apoe_4\"]==0][yvar].values)\n",
    "        t_stat[mod][yvar][\"all\"] = t\n",
    "        t_ps[mod][yvar][\"all\"] = p\n",
    "      \n",
    "    \n",
    "        for study in np.unique(df[\"study\"]):\n",
    "            subdf = df[df[\"study\"]==study]\n",
    "            t,p = scipy.stats.ttest_ind(subdf[subdf[\"apoe_4\"]==1][yvar].values, subdf[subdf[\"apoe_4\"]==0][yvar].values)\n",
    "            t_stat[mod][yvar][study] = t\n",
    "            t_ps[mod][yvar][study] = p"
   ]
  },
  {
   "cell_type": "code",
   "execution_count": 10,
   "metadata": {},
   "outputs": [
    {
     "name": "stdout",
     "output_type": "stream",
     "text": [
      "amp-ad_msbb [8.933544229271531e-05, 3.596593294649945e-05, 1.247016418428641e-06]\n",
      "amp-ad_msbb [3.9335014769603545, 4.150206967430678, 4.877056972779924]\n",
      "MayoRNASeq.tsv [2.0766453931951863e-05, 1.7805805679043477e-06, 1.3654395146461535e-05]\n",
      "MayoRNASeq.tsv [4.391378249592614, 4.966676476751087, 4.49309941485304]\n",
      "HBTRC_GEO [nan, nan, nan]\n",
      "HBTRC_GEO [nan, nan, nan]\n",
      "all [1.5804643219100944e-07, 2.5349520660115766e-08, 1.2557068791146903e-09]\n",
      "all [5.274605908958543, 5.608723126408145, 6.121832299576113]\n"
     ]
    },
    {
     "data": {
      "image/png": "[encoded data removed]",
      "text/plain": [
       "<Figure size 864x288 with 4 Axes>"
      ]
     },
     "metadata": {
      "needs_background": "light"
     },
     "output_type": "display_data"
    }
   ],
   "source": [
    "dsets_list = ['amp-ad_msbb', 'MayoRNASeq.tsv', \"HBTRC_GEO\", \"all\"]\n",
    "\n",
    "for yvar in ['AVG']:\n",
    "    f,axs = plt.subplots(1,4, figsize=(12,4))\n",
    "    \n",
    "    lim = np.nanmax([[t_stat[mod][yvar][dset] for mod in [\"Linear\", \"MLP_baselines\", \"MTL\"]] for dset in dsets_list])\n",
    "    \n",
    "    for i, dset in enumerate(dsets_list):\n",
    "\n",
    "        lin,mlp,mtl= axs[i].bar(mods, [t_stat[mod][yvar][dset] for mod in [\"Linear\", \"MLP_baselines\", \"MTL\"]], \n",
    "                                align='center', alpha=1, ecolor='black')\n",
    "        \n",
    "        print(dset, [t_ps[mod][yvar][dset] for mod in [\"Linear\", \"MLP_baselines\", \"MTL\"]])\n",
    "        print(dset, [t_stat[mod][yvar][dset] for mod in [\"Linear\", \"MLP_baselines\", \"MTL\"]])\n",
    "\n",
    "        lin.set_facecolor(cmaplist[4])\n",
    "        mlp.set_facecolor(cmaplist[0])\n",
    "        mtl.set_facecolor(cmaplist[6])\n",
    "\n",
    "        axs[i].set_xticks(mods)\n",
    "        axs[i].set_xticklabels(\"\")\n",
    "\n",
    "        axs[i].set_title(dset)\n",
    "        \n",
    "        axs[i].spines['right'].set_visible(False)\n",
    "        axs[i].spines['top'].set_visible(False)\n",
    "        axs[i].set_ylim(0,lim)\n",
    "    plt.suptitle(yvar)\n",
    "        \n",
    "    plt.tight_layout()\n"
   ]
  },
  {
   "cell_type": "code",
   "execution_count": 11,
   "metadata": {},
   "outputs": [],
   "source": [
    "for mod in mods:\n",
    "    dfs[mod][\"model\"] = mod"
   ]
  },
  {
   "cell_type": "markdown",
   "metadata": {},
   "source": [
    "### Comparing methods:"
   ]
  },
  {
   "cell_type": "code",
   "execution_count": 13,
   "metadata": {},
   "outputs": [
    {
     "data": {
      "image/png": "[encoded data removed]",
      "text/plain": [
       "<Figure size 576x576 with 1 Axes>"
      ]
     },
     "metadata": {
      "needs_background": "light"
     },
     "output_type": "display_data"
    }
   ],
   "source": [
    "alldfs = pd.concat(dfs.values())\n",
    "\n",
    "\n",
    "f, ax = plt.subplots(1,1,figsize=(8,8))\n",
    "\n",
    "g=sns.catplot(x=\"model\", y=yvar, hue=\"apoe_4\",aspect=1,ax=ax,\n",
    "            kind=\"box\",ci=\"sd\", data= alldfs, hue_order=[0,1], palette=[cmaplist[0], cmaplist[12]],\n",
    "              legend=False, saturation=1);\n",
    "\n",
    "\n",
    "ax.set_facecolor('None')\n",
    "ax.spines['right'].set_visible(False)\n",
    "ax.spines['top'].set_visible(False)\n",
    "ax.spines['bottom'].set_visible(False)\n",
    "\n",
    "ax.get_legend().remove()\n",
    "plt.close(2)\n",
    "\n"
   ]
  },
  {
   "cell_type": "markdown",
   "metadata": {},
   "source": [
    "### MD-AD: split by age:"
   ]
  },
  {
   "cell_type": "code",
   "execution_count": 14,
   "metadata": {},
   "outputs": [
    {
     "data": {
      "image/png": "[encoded data removed]",
      "text/plain": [
       "<Figure size 576x576 with 1 Axes>"
      ]
     },
     "metadata": {
      "needs_background": "light"
     },
     "output_type": "display_data"
    }
   ],
   "source": [
    "f, ax = plt.subplots(1,1,figsize=(8,8))\n",
    "\n",
    "xorder = np.array([\"<75\",\"[75-85)\", \"85+\"])\n",
    "yvar = 'AVG'\n",
    "\n",
    "g=sns.catplot(x=\"age_groups\", y=yvar, hue=\"apoe_4\",col=\"model\",aspect=1.2, order=xorder,ax=ax,\n",
    "            kind=\"box\",ci=\"sd\", data= dfs[\"MTL\"], hue_order=[0,1], palette=[cmaplist[0], cmaplist[12]], legend=False, saturation=1);\n",
    "\n",
    "plt.title(mod)\n",
    "\n",
    "ax.set_facecolor('None')\n",
    "ax.spines['right'].set_visible(False)\n",
    "ax.spines['top'].set_visible(False)\n",
    "ax.spines['bottom'].set_visible(False)\n",
    "\n",
    "ax.get_legend().remove()\n",
    "plt.close(2)\n",
    "plt.show()"
   ]
  },
  {
   "cell_type": "code",
   "execution_count": 15,
   "metadata": {},
   "outputs": [
    {
     "name": "stdout",
     "output_type": "stream",
     "text": [
      "0.0-<75 (71),,***,***,***,***,***,\n",
      "1.0-<75 (72),***,,***,***,***,,\n",
      "0.0-[75-85) (125),***,***,,,,***,\n",
      "1.0-[75-85) (143),***,***,,,,**,\n",
      "0.0-85+ (530),***,***,,,,***,\n",
      "1.0-85+ (246),***,,***,**,***,,\n"
     ]
    }
   ],
   "source": [
    "groups = []\n",
    "vals = []\n",
    "for sname, s_df in dfs[\"MTL\"].groupby(\"apoe_4\"):\n",
    "    for aname, a_df in s_df.groupby(\"age_groups\"):\n",
    "        groups.append(str(sname)+\"-\"+aname)\n",
    "        vals.append(a_df[\"AVG\"].values)\n",
    "        \n",
    "group_ordering = ['0.0-<75', '1.0-<75', '0.0-[75-85)', '1.0-[75-85)', '0.0-85+','1.0-85+']\n",
    "\n",
    "for _, g_name in enumerate(group_ordering):\n",
    "    i = groups.index(g_name)\n",
    "\n",
    "    print(g_name+\" (%i),\"%len(vals[i]), end=\"\")\n",
    "    for _, g2_name in enumerate(group_ordering):\n",
    "        j = groups.index(g2_name)\n",
    "        t_res = scipy.stats.ttest_ind(vals[i], vals[j])\n",
    "        stars = \"\"\n",
    "        if t_res[1] < .05:\n",
    "            stars += \"*\"\n",
    "        if t_res[1] < .01:\n",
    "            stars += \"*\"\n",
    "        if t_res[1] < .001:\n",
    "            stars += \"*\"\n",
    "            \n",
    "        print(stars+\",\",end=\"\")\n",
    "    print()"
   ]
  },
  {
   "cell_type": "code",
   "execution_count": 16,
   "metadata": {},
   "outputs": [
    {
     "name": "stdout",
     "output_type": "stream",
     "text": [
      "0.0-<75 (71),,1e-12,5e-07,3e-09,1e-13,8e-18,\n",
      "1.0-<75 (72),1e-12,,2e-05,4e-04,7e-06,,\n",
      "0.0-[75-85) (125),5e-07,2e-05,,,,3e-05,\n",
      "1.0-[75-85) (143),3e-09,4e-04,,,,0.002,\n",
      "0.0-85+ (530),1e-13,7e-06,,,,2e-05,\n",
      "1.0-85+ (246),8e-18,,3e-05,0.002,2e-05,,\n"
     ]
    }
   ],
   "source": [
    "groups = []\n",
    "vals = []\n",
    "for sname, s_df in dfs[\"MTL\"].groupby(\"apoe_4\"):\n",
    "    for aname, a_df in s_df.groupby(\"age_groups\"):\n",
    "        groups.append(str(sname)+\"-\"+aname)\n",
    "        vals.append(a_df[\"AVG\"].values)\n",
    "        \n",
    "group_ordering = ['0.0-<75', '1.0-<75', '0.0-[75-85)', '1.0-[75-85)', '0.0-85+','1.0-85+']\n",
    "\n",
    "for _, g_name in enumerate(group_ordering):\n",
    "    i = groups.index(g_name)\n",
    "\n",
    "    print(g_name+\" (%i),\"%len(vals[i]), end=\"\")\n",
    "    for _, g2_name in enumerate(group_ordering):\n",
    "        j = groups.index(g2_name)\n",
    "        t_res = scipy.stats.ttest_ind(vals[i], vals[j])\n",
    "        if t_res[1] >.05:\n",
    "            stars=\"\"\n",
    "        elif t_res[1] < .001:\n",
    "            stars = \"{:.0e}\".format(t_res[1]) \n",
    "        else:\n",
    "            stars = str(np.round(t_res[1], 3))\n",
    "        \n",
    "        print(stars+\",\",end=\"\")\n",
    "    print()"
   ]
  },
  {
   "cell_type": "markdown",
   "metadata": {},
   "source": [
    "### MD-AD: split by APOE e4 status & cognitive diagnosis"
   ]
  },
  {
   "cell_type": "code",
   "execution_count": 743,
   "metadata": {},
   "outputs": [
    {
     "data": {
      "image/png": "[encoded data removed]",
      "text/plain": [
       "<Figure size 576x576 with 1 Axes>"
      ]
     },
     "metadata": {
      "needs_background": "light"
     },
     "output_type": "display_data"
    }
   ],
   "source": [
    "f, ax = plt.subplots(1,1,figsize=(8,8))\n",
    "\n",
    "# xorder = np.array([0, 1])\n",
    "yvar = 'AVG'\n",
    "\n",
    "g=sns.catplot(x=\"apoe_4\", y=yvar, hue=\"AD\",col=\"model\",aspect=1.2,ax=ax,\n",
    "            kind=\"box\",ci=\"sd\", data= dfs[\"MTL\"], hue_order=[0,1], palette=[cmaplist[0], cmaplist[12]], legend=False, saturation=1);\n",
    "\n",
    "plt.title(mod)\n",
    "\n",
    "ax.set_facecolor('None')\n",
    "ax.spines['right'].set_visible(False)\n",
    "ax.spines['top'].set_visible(False)\n",
    "ax.spines['bottom'].set_visible(False)\n",
    "\n",
    "ax.get_legend().remove()\n",
    "plt.close(2)\n",
    "plt.show()"
   ]
  },
  {
   "cell_type": "code",
   "execution_count": 17,
   "metadata": {},
   "outputs": [
    {
     "name": "stdout",
     "output_type": "stream",
     "text": [
      "Control-non carrier (406),,***,*,***,\n",
      "AD-non carrier (320),***,,***,,\n",
      "Control-e4 carrier (144),*,***,,***,\n",
      "AD-e4 carrier (317),***,,***,,\n"
     ]
    }
   ],
   "source": [
    "groups = []\n",
    "vals = []\n",
    "for sname, s_df in dfs[\"MTL\"].groupby(\"AD\"):\n",
    "    stxt = \"AD\" if sname==1 else \"Control\"\n",
    "    for aname, a_df in s_df.groupby(\"apoe_4\"):\n",
    "        genotype = \"e4 carrier\" if aname==1 else \"non carrier\"\n",
    "        groups.append(str(stxt)+\"-\"+genotype)\n",
    "        vals.append(a_df[\"AVG\"].values)\n",
    "        \n",
    "# control with no apoe4, AD with no apoe4, control with apoe4, AD with apoe4\n",
    "group_ordering = ['Control-non carrier', 'AD-non carrier', 'Control-e4 carrier', 'AD-e4 carrier']\n",
    "for _, g_name in enumerate(group_ordering):\n",
    "    i = groups.index(g_name)\n",
    "\n",
    "    print(g_name+\" (%i),\"%len(vals[i]), end=\"\")\n",
    "    for _, g2_name in enumerate(group_ordering):\n",
    "        j = groups.index(g2_name)\n",
    "        t_res = scipy.stats.ttest_ind(vals[i], vals[j])\n",
    "        stars = \"\"\n",
    "        if t_res[1] < .05:\n",
    "            stars += \"*\"\n",
    "        if t_res[1] < .01:\n",
    "            stars += \"*\"\n",
    "        if t_res[1] < .001:\n",
    "            stars += \"*\"\n",
    "            \n",
    "        print(stars+\",\",end=\"\")\n",
    "    print()\n"
   ]
  },
  {
   "cell_type": "code",
   "execution_count": 18,
   "metadata": {},
   "outputs": [
    {
     "name": "stdout",
     "output_type": "stream",
     "text": [
      "Control-non carrier (406),,2e-48,0.019,5e-52,\n",
      "AD-non carrier (320),2e-48,,3e-17,,\n",
      "Control-e4 carrier (144),0.019,3e-17,,1e-18,\n",
      "AD-e4 carrier (317),5e-52,,1e-18,,\n"
     ]
    }
   ],
   "source": [
    "groups = []\n",
    "vals = []\n",
    "for sname, s_df in dfs[\"MTL\"].groupby(\"AD\"):\n",
    "    stxt = \"AD\" if sname==1 else \"Control\"\n",
    "    for aname, a_df in s_df.groupby(\"apoe_4\"):\n",
    "        genotype = \"e4 carrier\" if aname==1 else \"non carrier\"\n",
    "        groups.append(str(stxt)+\"-\"+genotype)\n",
    "        vals.append(a_df[\"AVG\"].values)\n",
    "        \n",
    "# control with no apoe4, AD with no apoe4, control with apoe4, AD with apoe4\n",
    "group_ordering = ['Control-non carrier', 'AD-non carrier', 'Control-e4 carrier', 'AD-e4 carrier']\n",
    "for _, g_name in enumerate(group_ordering):\n",
    "    i = groups.index(g_name)\n",
    "\n",
    "\n",
    "    print(g_name+\" (%i),\"%len(vals[i]), end=\"\")\n",
    "    for _, g2_name in enumerate(group_ordering):\n",
    "        j = groups.index(g2_name)\n",
    "        t_res = scipy.stats.ttest_ind(vals[i], vals[j])\n",
    "        if t_res[1] >.05:\n",
    "            stars=\"\"\n",
    "        elif t_res[1] < .001:\n",
    "            stars = \"{:.0e}\".format(t_res[1]) \n",
    "        else:\n",
    "            stars = str(np.round(t_res[1], 3))\n",
    "        \n",
    "        print(stars+\",\",end=\"\")\n",
    "    print()"
   ]
  },
  {
   "cell_type": "code",
   "execution_count": 19,
   "metadata": {},
   "outputs": [
    {
     "name": "stderr",
     "output_type": "stream",
     "text": [
      "/homes/gws/nbbwang/anaconda3/envs/py36-test2/lib/python3.7/site-packages/ipykernel_launcher.py:9: SettingWithCopyWarning: \n",
      "A value is trying to be set on a copy of a slice from a DataFrame.\n",
      "Try using .loc[row_indexer,col_indexer] = value instead\n",
      "\n",
      "See the caveats in the documentation: http://pandas.pydata.org/pandas-docs/stable/indexing.html#indexing-view-versus-copy\n",
      "  if __name__ == '__main__':\n",
      "/homes/gws/nbbwang/anaconda3/envs/py36-test2/lib/python3.7/site-packages/ipykernel_launcher.py:7: SettingWithCopyWarning: \n",
      "A value is trying to be set on a copy of a slice from a DataFrame.\n",
      "Try using .loc[row_indexer,col_indexer] = value instead\n",
      "\n",
      "See the caveats in the documentation: http://pandas.pydata.org/pandas-docs/stable/indexing.html#indexing-view-versus-copy\n",
      "  import sys\n"
     ]
    }
   ],
   "source": [
    "sourcedata_cols = [\"apoe_4\",\"age_groups\"]\n",
    "\n",
    "sourcedata = dfs[\"MTL\"][sourcedata_cols]\n",
    "\n",
    "for mod in mods:\n",
    "    if mod==\"MTL\":\n",
    "        sourcedata[\"MD-AD_predicted_neuropath_score\"] = dfs[mod][\"AVG\"]\n",
    "    else:\n",
    "        sourcedata[mod+\"_predicted_neuropath_score\"] = dfs[mod][\"AVG\"]\n",
    "    \n",
    "# sourcedata.to_csv(\"sourcedata/2c_ext_val_human_brain_APOE.csv\", index=False)\n",
    "    "
   ]
  },
  {
   "cell_type": "markdown",
   "metadata": {},
   "source": [
    "# mouse"
   ]
  },
  {
   "cell_type": "code",
   "execution_count": 20,
   "metadata": {},
   "outputs": [],
   "source": [
    "t_stat = {}\n",
    "t_ps= {}\n",
    "dfs = {}\n",
    "for mod in mods:\n",
    "    df = pd.read_csv(path_to_preds + \"%s/Mouse.csv\"%mod)\n",
    "    \n",
    "    df[\"AD\"] = df[\"strain\"].apply(lambda x: x if x==\"WILD\" else \"AD\")\n",
    "    df[\"time\"] = df[\"age\"].apply(lambda x: int(x[:-6] ))\n",
    "    df[\"AD-region\"] = df[\"AD\"].values+\"_\"+df[\"region\"].values\n",
    "    df[\"strain-region\"] = df[\"strain\"].values+\"_\"+df[\"region\"].values\n",
    "\n",
    "\n",
    "    dfs[mod] = df\n",
    "    t_stat[mod] = {}\n",
    "    t_ps[mod] = {}\n",
    "\n",
    "    for yvar in ['CERAD', 'BRAAK', 'PLAQUES', 'TANGLES',\n",
    "           'ABETA_IHC', 'TAU_IHC', 'AB_RELATED', 'TAU_RELATED', 'AVG']:\n",
    "\n",
    "        t_stat[mod][yvar] = {}\n",
    "        t_ps[mod][yvar] = {}\n",
    "\n",
    "        t,p = scipy.stats.ttest_ind(df[df[\"AD\"]==1][yvar].values,  df[df[\"AD\"]==0][yvar].values)\n",
    "        t_stat[mod][yvar][\"all\"] = t\n",
    "        t_ps[mod][yvar][\"all\"] = p"
   ]
  },
  {
   "cell_type": "code",
   "execution_count": 21,
   "metadata": {},
   "outputs": [],
   "source": [
    "for mod in mods:\n",
    "    t_stat[mod] = {}\n",
    "    t_ps[mod]= {}\n",
    "    \n",
    "    df = dfs[mod]\n",
    "\n",
    "    for yvar in ['CERAD', 'BRAAK', 'PLAQUES', 'TANGLES',\n",
    "           'ABETA_IHC', 'TAU_IHC', 'AB_RELATED', 'TAU_RELATED', 'AVG']:\n",
    "\n",
    "        t_stat[mod][yvar] = {}\n",
    "        t_ps[mod][yvar] = {}\n",
    "\n",
    "        t,p = scipy.stats.ttest_ind(df[df[\"AD\"]==\"AD\"][yvar].values, df[df[\"AD\"]==\"WILD\"][yvar].values)\n",
    "        t_stat[mod][yvar][\"all\"] = t\n",
    "        t_ps[mod][yvar][\"all\"] = p\n",
    "\n",
    "\n",
    "        for strain in np.setdiff1d(np.unique(df[\"strain\"]), \"WILD\"):\n",
    "            subdf = df[((df[\"strain\"] == strain) | (df[\"strain\"] == \"WILD\"))]\n",
    "            \n",
    "            t,p = scipy.stats.ttest_ind(subdf[subdf[\"AD\"]==\"AD\"][yvar].values, subdf[subdf[\"AD\"]==\"WILD\"][yvar].values)\n",
    "            t_stat[mod][yvar][strain] = t\n",
    "            t_ps[mod][yvar][strain] = p\n",
    "\n",
    "\n",
    "            \n",
    "             "
   ]
  },
  {
   "cell_type": "code",
   "execution_count": 22,
   "metadata": {},
   "outputs": [
    {
     "name": "stdout",
     "output_type": "stream",
     "text": [
      "Linear: t=-0.185, p=0.8539\n",
      "MLP_baselines: t=1.641, p=0.1061\n",
      "MTL: t=1.620, p=0.1104\n"
     ]
    }
   ],
   "source": [
    "# TEMP: compare het and ho for bar chart alts\n",
    "for mod in mods:\n",
    "    df = dfs[mod]\n",
    "    for yvar in ['AVG']:\n",
    "        \n",
    "        t,p = scipy.stats.ttest_ind(df[df[\"strain\"]==\"HO_TASTPM\"][yvar].values, df[df[\"strain\"]==\"HET_TASTPM\"][yvar].values)\n",
    "\n",
    "        print(\"%s: t=%.3f, p=%.4f\"%(mod, t, p))\n",
    "\n"
   ]
  },
  {
   "cell_type": "code",
   "execution_count": 23,
   "metadata": {},
   "outputs": [
    {
     "name": "stdout",
     "output_type": "stream",
     "text": [
      "all [-1.1234966242953592, 0.8828844789377394, 1.4876032181562002]\n",
      "all [0.26244009213187547, 0.37825371777889993, 0.13827454912557352]\n",
      "\n",
      "HET_TASTPM [-2.4615917362932698, 0.8795127472949958, 1.3940458300666003]\n",
      "HET_TASTPM [0.015445114584021827, 0.38111285818517193, 0.16621918342803385]\n",
      "\n",
      "HO_TASTPM [-2.5873495421658173, 3.0081255295358615, 3.475728461147189]\n",
      "HO_TASTPM [0.011052913788944312, 0.003297150704073026, 0.0007445000719959395]\n",
      "\n",
      "TAS10 [-1.6609196221898537, 0.7807404339047133, 1.1423011097255444]\n",
      "TAS10 [0.09986191516681056, 0.43679946298253647, 0.2560565752558853]\n",
      "\n",
      "TAU [1.3516708297839994, -1.1750994737519747, -0.7087379089856878]\n",
      "TAU [0.17941323370797502, 0.24263829299735817, 0.4800728068271499]\n",
      "\n",
      "TPM [1.2597330962709217, -0.43858369880213016, -0.25150026791702684]\n",
      "TPM [0.21058531103286476, 0.6618729500764007, 0.8019236422156037]\n",
      "\n"
     ]
    },
    {
     "data": {
      "image/png": "[encoded data removed]",
      "text/plain": [
       "<Figure size 1080x288 with 6 Axes>"
      ]
     },
     "metadata": {
      "needs_background": "light"
     },
     "output_type": "display_data"
    }
   ],
   "source": [
    "for yvar in ['AVG']:\n",
    "    \n",
    "    f,axs = plt.subplots(1,len(list(np.unique(df[\"strain\"]))), figsize=(15,4))\n",
    "    \n",
    "    low_lim = np.min([[t_stat[mod][yvar][dset] for mod in [\"Linear\", \"MLP_baselines\", \"MTL\"]] for dset in t_ps[\"Linear\"][\"CERAD\"].keys()])\n",
    "    high_lim = np.max([[t_stat[mod][yvar][dset] for mod in [\"Linear\", \"MLP_baselines\", \"MTL\"]] for dset in t_ps[\"Linear\"][\"CERAD\"].keys()])\n",
    "\n",
    "    \n",
    "    for i, dset in enumerate(t_ps[\"Linear\"][\"CERAD\"].keys()):\n",
    "        Ys = [t_stat[mod][yvar][dset] for mod in [\"Linear\", \"MLP_baselines\", \"MTL\"]]\n",
    "                  \n",
    "        lin,mlp,mtl= axs[i].bar(mods, Ys, align='center', alpha=1, ecolor='black')\n",
    "        \n",
    "        print(dset, [t_stat[mod][yvar][dset] for mod in [\"Linear\", \"MLP_baselines\", \"MTL\"]])\n",
    "        print(dset, [t_ps[mod][yvar][dset] for mod in [\"Linear\", \"MLP_baselines\", \"MTL\"]])\n",
    "        print()\n",
    "\n",
    "        axs[i].set_ylim(0,high_lim+1)\n",
    "\n",
    "        lin.set_facecolor(cmaplist[4])\n",
    "        mlp.set_facecolor(cmaplist[0])\n",
    "        mtl.set_facecolor(cmaplist[6])\n",
    "        \n",
    "        axs[i].set_xticks([])\n",
    "\n",
    "        annots = [ \"***\" if x > -np.log10(.001) else (\"**\" if x > -np.log10(.01) else \\\n",
    "                (\"*\" if x > -np.log10(.05) else \"\")) for x in \\\n",
    "                [-np.log10(t_ps[mod][yvar][dset]) for mod in [\"Linear\", \"MLP_baselines\", \"MTL\"]]]\n",
    "        for j, txt in enumerate(annots):\n",
    "            ann_x = j\n",
    "            ann_y = (Ys[j]+.5) if Ys[j]>0 else  (Ys[j]-.5) \n",
    "            axs[i].text(ann_x,ann_y, txt, color='black', horizontalalignment =\"center\", fontsize=20)\n",
    "        axs[i].set_ylim(low_lim-1,high_lim+1)\n",
    "\n",
    "        \n",
    "        axs[i].spines['right'].set_visible(False)\n",
    "        axs[i].spines['top'].set_visible(False)\n",
    "        axs[i].spines['bottom'].set_visible(False)\n",
    "\n",
    "        axs[i].locator_params(nbins=5, axis='y')\n",
    "        axs[i].set_title(\"%s vs WILD\"%dset)\n",
    "\n",
    "        \n",
    "    plt.tight_layout()"
   ]
  },
  {
   "cell_type": "code",
   "execution_count": 24,
   "metadata": {
    "scrolled": true
   },
   "outputs": [],
   "source": [
    "for mod in mods:\n",
    "    dfs[mod][\"model\"] = mod"
   ]
  },
  {
   "cell_type": "markdown",
   "metadata": {},
   "source": [
    "### Compare methods:"
   ]
  },
  {
   "cell_type": "code",
   "execution_count": 25,
   "metadata": {},
   "outputs": [
    {
     "data": {
      "image/png": "[encoded data removed]",
      "text/plain": [
       "<Figure size 504x576 with 1 Axes>"
      ]
     },
     "metadata": {
      "needs_background": "light"
     },
     "output_type": "display_data"
    }
   ],
   "source": [
    "alldfs = pd.concat(dfs.values())\n",
    "strains_to_plot =  [\"WILD\",\"HET_TASTPM\", \"HO_TASTPM\"]\n",
    "alldfs = alldfs[np.in1d(alldfs[\"strain\"],strains_to_plot)]\n",
    "\n",
    "\n",
    "f, ax = plt.subplots(1,1,figsize=(7,8))\n",
    "\n",
    "g=sns.catplot(x=\"model\", y=\"AVG\", hue=\"strain\",aspect=1.2,kind=\"box\", data=alldfs, \n",
    "              hue_order=[\"WILD\",\"HET_TASTPM\", \"HO_TASTPM\"],ax=ax,\n",
    "              palette=[cmaplist[0], cmaplist[13],  cmaplist[12]],saturation=1);\n",
    "\n",
    "\n",
    "ax.set_facecolor('None')\n",
    "ax.spines['right'].set_visible(False)\n",
    "ax.spines['top'].set_visible(False)\n",
    "ax.spines['bottom'].set_visible(False)\n",
    "\n",
    "ax.get_legend().remove()\n",
    "plt.close(2)\n"
   ]
  },
  {
   "cell_type": "markdown",
   "metadata": {},
   "source": [
    "### MD-AD: split by age"
   ]
  },
  {
   "cell_type": "code",
   "execution_count": 658,
   "metadata": {},
   "outputs": [
    {
     "data": {
      "image/png": "[encoded data removed]",
      "text/plain": [
       "<Figure size 648x576 with 1 Axes>"
      ]
     },
     "metadata": {
      "needs_background": "light"
     },
     "output_type": "display_data"
    }
   ],
   "source": [
    "f, ax = plt.subplots(1,1,figsize=(9,8))\n",
    "\n",
    "g=sns.catplot(x=\"time\", y=\"AVG\", hue=\"strain\",aspect=1.5,kind=\"box\", data=dfs[\"MTL\"], \n",
    "              hue_order=[\"WILD\",\"HET_TASTPM\", \"HO_TASTPM\"], ax=ax,\n",
    "              palette=[cmaplist[0], cmaplist[13],  cmaplist[12]],saturation=1);\n",
    "\n",
    "ax.set_facecolor('None')\n",
    "ax.spines['right'].set_visible(False)\n",
    "ax.spines['top'].set_visible(False)\n",
    "ax.spines['bottom'].set_visible(False)\n",
    "\n",
    "ax.get_legend().remove()\n",
    "plt.close(2)\n"
   ]
  },
  {
   "cell_type": "code",
   "execution_count": 26,
   "metadata": {},
   "outputs": [],
   "source": [
    "groups = []\n",
    "vals = []\n",
    "for sname, s_df in dfs[\"MTL\"].groupby(\"strain\"):\n",
    "    if sname not in [\"WILD\", \"HET_TASTPM\", \"HO_TASTPM\"]:\n",
    "        continue\n",
    "    for aname, a_df in s_df.groupby(\"time\"):\n",
    "        aname=str(aname)\n",
    "        groups.append(sname+\"-\"+aname)\n",
    "        vals.append(a_df[\"AVG\"].values)"
   ]
  },
  {
   "cell_type": "code",
   "execution_count": 27,
   "metadata": {},
   "outputs": [],
   "source": [
    "group_ordering = ['WILD-2',\n",
    " 'HET_TASTPM-2',\n",
    " 'HO_TASTPM-2',\n",
    " 'WILD-4',\n",
    " 'HET_TASTPM-4',\n",
    " 'HO_TASTPM-4',\n",
    " 'WILD-8',\n",
    " 'HET_TASTPM-8',\n",
    " 'HO_TASTPM-8',\n",
    " 'WILD-18',\n",
    " 'HET_TASTPM-18',\n",
    " 'HO_TASTPM-18']"
   ]
  },
  {
   "cell_type": "code",
   "execution_count": 28,
   "metadata": {},
   "outputs": [
    {
     "name": "stdout",
     "output_type": "stream",
     "text": [
      "WILD-2 (22),,,,*,**,***,**,***,***,***,***,***,\n",
      "HET_TASTPM-2 (8),,,,*,*,***,**,***,***,***,***,***,\n",
      "HO_TASTPM-2 (8),,,,,,,,,*,,*,**,\n",
      "WILD-4 (20),*,*,,,,,,,**,,**,***,\n",
      "HET_TASTPM-4 (8),**,*,,,,,,,,,,,\n",
      "HO_TASTPM-4 (8),***,***,,,,,,,,,,*,\n",
      "WILD-8 (20),**,**,,,,,,,*,,*,**,\n",
      "HET_TASTPM-8 (8),***,***,,,,,,,,,,***,\n",
      "HO_TASTPM-8 (8),***,***,*,**,,,*,,,,,,\n",
      "WILD-18 (14),***,***,,,,,,,,,,*,\n",
      "HET_TASTPM-18 (8),***,***,*,**,,,*,,,,,,\n",
      "HO_TASTPM-18 (6),***,***,**,***,,*,**,***,,*,,,\n"
     ]
    }
   ],
   "source": [
    "for _, g_name in enumerate(group_ordering):\n",
    "    i = groups.index(g_name)\n",
    "\n",
    "    print(g_name+\" (%i),\"%len(vals[i]), end=\"\")\n",
    "    for _, g2_name in enumerate(group_ordering):\n",
    "        j = groups.index(g2_name)\n",
    "        t_res = scipy.stats.ttest_ind(vals[i], vals[j])\n",
    "        stars = \"\"\n",
    "        if t_res[1] < .05:\n",
    "            stars += \"*\"\n",
    "        if t_res[1] < .01:\n",
    "            stars += \"*\"\n",
    "        if t_res[1] < .001:\n",
    "            stars += \"*\"\n",
    "            \n",
    "        print(stars+\",\",end=\"\")\n",
    "    print()"
   ]
  },
  {
   "cell_type": "code",
   "execution_count": 29,
   "metadata": {
    "scrolled": true
   },
   "outputs": [
    {
     "name": "stdout",
     "output_type": "stream",
     "text": [
      "WILD-2 (22),,,,0.021,0.009,2e-04,0.002,2e-04,1e-06,2e-05,2e-06,1e-08,\n",
      "HET_TASTPM-2 (8),,,,0.028,0.029,7e-04,0.005,9e-05,4e-05,3e-04,4e-05,9e-08,\n",
      "HO_TASTPM-2 (8),,,,,,,,,0.015,,0.016,0.002,\n",
      "WILD-4 (20),0.021,0.028,,,,,,,0.007,,0.008,6e-04,\n",
      "HET_TASTPM-4 (8),0.009,0.029,,,,,,,,,,,\n",
      "HO_TASTPM-4 (8),2e-04,7e-04,,,,,,,,,,0.015,\n",
      "WILD-8 (20),0.002,0.005,,,,,,,0.02,,0.025,0.002,\n",
      "HET_TASTPM-8 (8),2e-04,9e-05,,,,,,,,,,4e-04,\n",
      "HO_TASTPM-8 (8),1e-06,4e-05,0.015,0.007,,,0.02,,,,,,\n",
      "WILD-18 (14),2e-05,3e-04,,,,,,,,,,0.018,\n",
      "HET_TASTPM-18 (8),2e-06,4e-05,0.016,0.008,,,0.025,,,,,,\n",
      "HO_TASTPM-18 (6),1e-08,9e-08,0.002,6e-04,,0.015,0.002,4e-04,,0.018,,,\n"
     ]
    }
   ],
   "source": [
    "for _, g_name in enumerate(group_ordering):\n",
    "    i = groups.index(g_name)\n",
    "\n",
    "    print(g_name+\" (%i),\"%len(vals[i]), end=\"\")\n",
    "    for _, g2_name in enumerate(group_ordering):\n",
    "        j = groups.index(g2_name)\n",
    "        t_res = scipy.stats.ttest_ind(vals[i], vals[j])\n",
    "        if t_res[1] >.05:\n",
    "            stars=\"\"\n",
    "        elif t_res[1] < .001:\n",
    "            stars = \"{:.0e}\".format(t_res[1]) \n",
    "        else:\n",
    "            stars = str(np.round(t_res[1], 3))\n",
    "        \n",
    "        print(stars+\",\",end=\"\")\n",
    "    print()"
   ]
  },
  {
   "cell_type": "code",
   "execution_count": 30,
   "metadata": {},
   "outputs": [
    {
     "name": "stderr",
     "output_type": "stream",
     "text": [
      "/homes/gws/nbbwang/anaconda3/envs/py36-test2/lib/python3.7/site-packages/ipykernel_launcher.py:10: SettingWithCopyWarning: \n",
      "A value is trying to be set on a copy of a slice from a DataFrame.\n",
      "Try using .loc[row_indexer,col_indexer] = value instead\n",
      "\n",
      "See the caveats in the documentation: http://pandas.pydata.org/pandas-docs/stable/indexing.html#indexing-view-versus-copy\n",
      "  # Remove the CWD from sys.path while we load stuff.\n",
      "/homes/gws/nbbwang/anaconda3/envs/py36-test2/lib/python3.7/site-packages/ipykernel_launcher.py:8: SettingWithCopyWarning: \n",
      "A value is trying to be set on a copy of a slice from a DataFrame.\n",
      "Try using .loc[row_indexer,col_indexer] = value instead\n",
      "\n",
      "See the caveats in the documentation: http://pandas.pydata.org/pandas-docs/stable/indexing.html#indexing-view-versus-copy\n",
      "  \n"
     ]
    }
   ],
   "source": [
    "sourcedata_cols = [\"strain\", \"age\", \"region\"]\n",
    "\n",
    "sourcedata = dfs[\"MTL\"][sourcedata_cols]\n",
    "\n",
    "\n",
    "for mod in mods:\n",
    "    if mod==\"MTL\":\n",
    "        sourcedata[\"MD-AD_predicted_neuropath_score\"] = dfs[mod][\"AVG\"]\n",
    "    else:\n",
    "        sourcedata[mod+\"_predicted_neuropath_score\"] = dfs[mod][\"AVG\"]\n",
    "    \n",
    "# sourcedata.to_csv(\"sourcedata/2d_ext_val_mouse.csv\", index=False)"
   ]
  },
  {
   "cell_type": "markdown",
   "metadata": {},
   "source": [
    "## Blood"
   ]
  },
  {
   "cell_type": "code",
   "execution_count": 31,
   "metadata": {},
   "outputs": [],
   "source": [
    "source_list = ['Blood_GSE63060', 'Blood_GSE63061', \"all\"]\n",
    "\n",
    "t_stat = {}\n",
    "t_ps= {}\n",
    "dfs = {}\n",
    "for mod in mods:\n",
    "    df = pd.read_csv(path_to_preds + \"%s/Blood.csv\"%mod)\n",
    "    df[\"model\"] = mod\n",
    "    dfs[mod] = df\n",
    "\n",
    "    \n",
    "    t_stat[mod] = {}\n",
    "    t_ps[mod] = {}\n",
    "            \n",
    "    for source in source_list:\n",
    "        t_stat[mod][source] = {}\n",
    "        t_ps[mod][source] = {}\n",
    "        \n",
    "        if source==\"all\":\n",
    "            subdf = df\n",
    "        else:\n",
    "            subdf = df[df[\"source\"]==source]\n",
    "            \n",
    "                \n",
    "        \n",
    "        for yvar in ['CERAD', 'BRAAK', 'PLAQUES', 'TANGLES',\n",
    "               'ABETA_IHC', 'TAU_IHC', 'AB_RELATED', 'TAU_RELATED', 'AVG']:\n",
    "\n",
    "            t_stat[mod][source][yvar] = {}\n",
    "            t_ps[mod][source][yvar] = {}\n",
    "                \n",
    "            for cogstat in [\"MCI\", \"AD\"]:\n",
    "                t,p = scipy.stats.ttest_ind(subdf[subdf[\"status\"]==cogstat][yvar].values, subdf[subdf[\"status\"]==\"CTL\"][yvar].values)\n",
    "                t_stat[mod][source][yvar][cogstat] = t\n",
    "                t_ps[mod][source][yvar][cogstat] = p\n"
   ]
  },
  {
   "cell_type": "code",
   "execution_count": 32,
   "metadata": {},
   "outputs": [
    {
     "name": "stdout",
     "output_type": "stream",
     "text": [
      "Blood_GSE63060 MCI [-0.8271804039826145, 5.826285311498588, 7.141969216045332]\n",
      "Blood_GSE63060 MCI [0.40921803139203683, 2.5257817898119676e-08, 2.1326534592962598e-11]\n",
      "\n",
      "Blood_GSE63060 AD [0.09376092012060908, 4.800248450985506, 5.130663006549931]\n",
      "Blood_GSE63060 AD [0.925375086850185, 2.7466691619584925e-06, 5.843631419908855e-07]\n",
      "\n",
      "Blood_GSE63061 MCI [1.3965259777810883, 4.00516442605161, 3.6636043786162222]\n",
      "Blood_GSE63061 MCI [0.1638409777567218, 8.259141061723464e-05, 0.000305785953406276]\n",
      "\n",
      "Blood_GSE63061 AD [0.5758522146112754, 4.131223951910157, 3.390285547100494]\n",
      "Blood_GSE63061 AD [0.565192961347948, 4.8119691430873634e-05, 0.0008021344976961184]\n",
      "\n",
      "all MCI [0.552017003530774, 6.832594570105625, 7.344085594943115]\n",
      "all MCI [0.5812268557747664, 2.9015382995795833e-11, 1.0660455622870506e-12]\n",
      "\n",
      "all AD [0.5541776001766875, 6.231916978428108, 5.8673311499724585]\n",
      "all AD [0.5796955461420974, 9.528357444363248e-10, 7.889767788923976e-09]\n",
      "\n"
     ]
    },
    {
     "data": {
      "image/png": "[encoded data removed]",
      "text/plain": [
       "<Figure size 360x216 with 2 Axes>"
      ]
     },
     "metadata": {
      "needs_background": "light"
     },
     "output_type": "display_data"
    },
    {
     "data": {
      "image/png": "[encoded data removed]",
      "text/plain": [
       "<Figure size 360x216 with 2 Axes>"
      ]
     },
     "metadata": {
      "needs_background": "light"
     },
     "output_type": "display_data"
    },
    {
     "data": {
      "image/png": "[encoded data removed]",
      "text/plain": [
       "<Figure size 360x216 with 2 Axes>"
      ]
     },
     "metadata": {
      "needs_background": "light"
     },
     "output_type": "display_data"
    }
   ],
   "source": [
    "for source in source_list:\n",
    "\n",
    "    for yvar in ['AVG']:\n",
    "\n",
    "        f,axs = plt.subplots(1,2, figsize=(5,3), sharey=True)\n",
    "\n",
    "        low_lim = np.min([[t_stat[mod][source][yvar][cogstat] for mod in [\"Linear\", \"MLP_baselines\", \"MTL\"]] for dset in t_ps[\"Linear\"][source][\"CERAD\"].keys()])\n",
    "        high_lim = np.max([[t_stat[mod][source][yvar][cogstat] for mod in [\"Linear\", \"MLP_baselines\", \"MTL\"]] for dset in t_ps[\"Linear\"][source][\"CERAD\"].keys()])\n",
    "\n",
    "\n",
    "        for i, cogstat in enumerate(t_ps[\"Linear\"][source][\"CERAD\"].keys()):\n",
    "            Ys = [t_stat[mod][source][yvar][cogstat] for mod in [\"Linear\", \"MLP_baselines\", \"MTL\"]]\n",
    "\n",
    "            lin,mlp,mtl= axs[i].bar(mods, Ys, align='center', alpha=1, ecolor='black')\n",
    "            \n",
    "            print(source, cogstat,[t_stat[mod][source][yvar][cogstat] for mod in [\"Linear\", \"MLP_baselines\", \"MTL\"]])\n",
    "            print(source, cogstat,[t_ps[mod][source][yvar][cogstat] for mod in [\"Linear\", \"MLP_baselines\", \"MTL\"]])\n",
    "            print()\n",
    "\n",
    "\n",
    "            lin.set_facecolor(cmaplist[4])\n",
    "            mlp.set_facecolor(cmaplist[0])\n",
    "            mtl.set_facecolor(cmaplist[6])\n",
    "\n",
    "            axs[i].set_xticks([])\n",
    "\n",
    "            annots = [ \"***\" if x > -np.log10(.001) else (\"**\" if x > -np.log10(.01) else \\\n",
    "                    (\"*\" if x > -np.log10(.05) else \"\")) for x in \\\n",
    "                    [-np.log10(t_ps[mod][source][yvar][cogstat]) for mod in [\"Linear\", \"MLP_baselines\", \"MTL\"]]]\n",
    "            for j, txt in enumerate(annots):\n",
    "                ann_x = j\n",
    "                ann_y = (Ys[j]+.5) if Ys[j]>0 else  (Ys[j]-.5) \n",
    "                axs[i].text(ann_x,ann_y, txt, color='black', horizontalalignment =\"center\", fontsize=20)\n",
    "            axs[i].set_ylim(low_lim-1,high_lim+3)\n",
    "\n",
    "\n",
    "            axs[i].spines['right'].set_visible(False)\n",
    "            axs[i].spines['top'].set_visible(False)\n",
    "            axs[i].spines['bottom'].set_visible(False)\n",
    "\n",
    "            axs[i].locator_params(nbins=5, axis='y')\n",
    "    \n",
    "        f.suptitle(source)\n",
    "#         plt.tight_layout()"
   ]
  },
  {
   "cell_type": "code",
   "execution_count": 33,
   "metadata": {},
   "outputs": [
    {
     "name": "stdout",
     "output_type": "stream",
     "text": [
      "Linear: t=-0.056, p=0.9556\n",
      "MLP_baselines: t=-0.902, p=0.3673\n",
      "MTL: t=-1.794, p=0.0734\n"
     ]
    }
   ],
   "source": [
    "# TEMP: compare het and ho for bar chart alts\n",
    "for mod in mods:\n",
    "    df = dfs[mod]\n",
    "    for yvar in ['AVG']:\n",
    "        \n",
    "        t,p = scipy.stats.ttest_ind(df[df[\"status\"]==\"AD\"][yvar].values, df[df[\"status\"]==\"MCI\"][yvar].values)\n",
    "\n",
    "        print(\"%s: t=%.3f, p=%.4f\"%(mod, t, p))\n",
    "\n"
   ]
  },
  {
   "cell_type": "markdown",
   "metadata": {},
   "source": [
    "### Compare methods:"
   ]
  },
  {
   "cell_type": "code",
   "execution_count": 34,
   "metadata": {},
   "outputs": [
    {
     "data": {
      "image/png": "[encoded data removed]",
      "text/plain": [
       "<Figure size 576x432 with 1 Axes>"
      ]
     },
     "metadata": {
      "needs_background": "light"
     },
     "output_type": "display_data"
    }
   ],
   "source": [
    "alldfs = pd.concat(dfs.values())\n",
    "\n",
    "\n",
    "f, ax = plt.subplots(1,1,figsize=(8,6))\n",
    "\n",
    "g=sns.catplot(x=\"model\", y=\"AVG\", hue=\"status\",aspect=1.2,kind=\"box\", data=alldfs, \n",
    "              hue_order=[\"CTL\",\"MCI\", \"AD\"],ax=ax,\n",
    "              palette=[cmaplist[0], cmaplist[13],  cmaplist[12]],saturation=1);\n",
    "\n",
    "\n",
    "ax.set_facecolor('None')\n",
    "ax.spines['right'].set_visible(False)\n",
    "ax.spines['top'].set_visible(False)\n",
    "ax.spines['bottom'].set_visible(False)\n",
    "\n",
    "ax.get_legend().remove()\n",
    "plt.close(2)\n"
   ]
  },
  {
   "cell_type": "markdown",
   "metadata": {},
   "source": [
    "### MD-AD: split by age:"
   ]
  },
  {
   "cell_type": "code",
   "execution_count": 36,
   "metadata": {
    "scrolled": true
   },
   "outputs": [
    {
     "data": {
      "image/png": "[encoded data removed]",
      "text/plain": [
       "<Figure size 576x432 with 1 Axes>"
      ]
     },
     "metadata": {
      "needs_background": "light"
     },
     "output_type": "display_data"
    },
    {
     "data": {
      "image/png": "[encoded data removed]",
      "text/plain": [
       "<Figure size 594.375x360 with 1 Axes>"
      ]
     },
     "metadata": {
      "needs_background": "light"
     },
     "output_type": "display_data"
    }
   ],
   "source": [
    "yvar=\"AVG\"    \n",
    "\n",
    "agevar = \"age_groups2\"\n",
    "agelist = [\"<74\", \"[74-80)\", \"80+\"]\n",
    "\n",
    "\n",
    "\n",
    "f, ax = plt.subplots(1,1,figsize=(8,6))\n",
    "\n",
    "g=sns.catplot(x=agevar, y=yvar, hue=\"status\",aspect=1.5,kind=\"box\",\n",
    "        data=dfs[\"MTL\"], order = agelist, hue_order=[\"CTL\",\"MCI\", \"AD\"], ax=ax,\n",
    "              palette=[cmaplist[0], cmaplist[13],  cmaplist[12]],saturation=1, col=\"model\")\n",
    "\n",
    "\n",
    "ax.set_facecolor('None')\n",
    "ax.spines['right'].set_visible(False)\n",
    "ax.spines['top'].set_visible(False)\n",
    "\n",
    "ax.get_legend().remove()"
   ]
  },
  {
   "cell_type": "code",
   "execution_count": 37,
   "metadata": {},
   "outputs": [
    {
     "name": "stdout",
     "output_type": "stream",
     "text": [
      "Linear\n",
      "CTL-<74 (113),,*,,,,,,,,\n",
      "MCI-<74 (64),*,,*,*,**,,*,**,*,\n",
      "AD-<74 (89),,*,,,,,,,,\n",
      "CTL-[74-80) (82),,*,,,,,,,,\n",
      "MCI-[74-80) (63),,**,,,,,,,,\n",
      "AD-[74-80) (90),,,,,,,,,,\n",
      "CTL-80+ (43),,*,,,,,,,,\n",
      "MCI-80+ (62),,**,,,,,,,,\n",
      "AD-80+ (105),,*,,,,,,,,\n",
      "\n",
      "\n",
      "\n",
      "MLP_baselines\n",
      "CTL-<74 (113),,***,***,,***,***,,***,***,\n",
      "MCI-<74 (64),***,,,***,,,**,,,\n",
      "AD-<74 (89),***,,,***,,,**,,,\n",
      "CTL-[74-80) (82),,***,***,,***,*,,**,**,\n",
      "MCI-[74-80) (63),***,,,***,,,**,,,\n",
      "AD-[74-80) (90),***,,,*,,,,,,\n",
      "CTL-80+ (43),,**,**,,**,,,,,\n",
      "MCI-80+ (62),***,,,**,,,,,,\n",
      "AD-80+ (105),***,,,**,,,,,,\n",
      "\n",
      "\n",
      "\n",
      "MTL\n",
      "CTL-<74 (113),,***,***,,***,***,,***,***,\n",
      "MCI-<74 (64),***,,,***,,*,**,,,\n",
      "AD-<74 (89),***,,,***,,,*,,,\n",
      "CTL-[74-80) (82),,***,***,,***,**,,**,**,\n",
      "MCI-[74-80) (63),***,,,***,,,**,,,\n",
      "AD-[74-80) (90),***,*,,**,,,,,,\n",
      "CTL-80+ (43),,**,*,,**,,,,,\n",
      "MCI-80+ (62),***,,,**,,,,,,\n",
      "AD-80+ (105),***,,,**,,,,,,\n",
      "\n",
      "\n",
      "\n"
     ]
    }
   ],
   "source": [
    "\n",
    "for key in dfs.keys():\n",
    "    df = dfs[key]\n",
    "    print(key)\n",
    "\n",
    "    groups = []\n",
    "    vals = []\n",
    "    df[\"status+age\"] = df[\"status\"]+\"-\"+df[agevar]\n",
    "    statuses = [\"CTL\", \"MCI\", \"AD\"]\n",
    "    ages = agelist\n",
    "    \n",
    "    for a in ages:\n",
    "        for s in statuses:\n",
    "            g = \"%s-%s\"%(s,a)\n",
    "            groups.append(g)\n",
    "            vals.append(df[df[\"status+age\"]==g][\"AVG\"].values)\n",
    "    \n",
    "    \n",
    "    groups = np.array(groups)\n",
    "    vals = np.array(vals)\n",
    "\n",
    "    for i, g_name in enumerate(groups):\n",
    "        print(g_name+\" (%i),\"%len(vals[i]), end=\"\")\n",
    "        for j, g2_name in enumerate(groups):\n",
    "            t_res = scipy.stats.ttest_ind(vals[i], vals[j])\n",
    "            stars = \"\"\n",
    "            if t_res[1] < .05:\n",
    "                stars += \"*\"\n",
    "            if t_res[1] < .01:\n",
    "                stars += \"*\"\n",
    "            if t_res[1] < .001:\n",
    "                stars += \"*\"\n",
    "\n",
    "            print(stars+\",\",end=\"\")\n",
    "        print()\n",
    "        \n",
    "    print(\"\\n\\n\")"
   ]
  },
  {
   "cell_type": "code",
   "execution_count": 38,
   "metadata": {},
   "outputs": [
    {
     "name": "stdout",
     "output_type": "stream",
     "text": [
      "Linear\n",
      "CTL-<74 (113),,0.022,,,,,,,,\n",
      "MCI-<74 (64),0.022,,0.012,0.017,0.005,,0.016,0.002,0.035,\n",
      "AD-<74 (89),,0.012,,,,,,,,\n",
      "CTL-[74-80) (82),,0.017,,,,,,,,\n",
      "MCI-[74-80) (63),,0.005,,,,,,,,\n",
      "AD-[74-80) (90),,,,,,,,,,\n",
      "CTL-80+ (43),,0.016,,,,,,,,\n",
      "MCI-80+ (62),,0.002,,,,,,,,\n",
      "AD-80+ (105),,0.035,,,,,,,,\n",
      "\n",
      "\n",
      "\n",
      "MLP_baselines\n",
      "CTL-<74 (113),,6e-08,1e-08,,1e-07,6e-05,,3e-05,2e-06,\n",
      "MCI-<74 (64),6e-08,,,2e-04,,,0.007,,,\n",
      "AD-<74 (89),1e-08,,,1e-04,,,0.007,,,\n",
      "CTL-[74-80) (82),,2e-04,1e-04,,2e-04,0.026,,0.01,0.004,\n",
      "MCI-[74-80) (63),1e-07,,,2e-04,,,0.008,,,\n",
      "AD-[74-80) (90),6e-05,,,0.026,,,,,,\n",
      "CTL-80+ (43),,0.007,0.007,,0.008,,,,,\n",
      "MCI-80+ (62),3e-05,,,0.01,,,,,,\n",
      "AD-80+ (105),2e-06,,,0.004,,,,,,\n",
      "\n",
      "\n",
      "\n",
      "MTL\n",
      "CTL-<74 (113),,1e-08,5e-07,,8e-08,7e-05,,3e-05,1e-05,\n",
      "MCI-<74 (64),1e-08,,,7e-06,,0.042,0.003,,,\n",
      "AD-<74 (89),5e-07,,,3e-04,,,0.029,,,\n",
      "CTL-[74-80) (82),,7e-06,3e-04,,3e-05,0.01,,0.003,0.004,\n",
      "MCI-[74-80) (63),8e-08,,,3e-05,,,0.007,,,\n",
      "AD-[74-80) (90),7e-05,0.042,,0.01,,,,,,\n",
      "CTL-80+ (43),,0.003,0.029,,0.007,,,,,\n",
      "MCI-80+ (62),3e-05,,,0.003,,,,,,\n",
      "AD-80+ (105),1e-05,,,0.004,,,,,,\n",
      "\n",
      "\n",
      "\n"
     ]
    }
   ],
   "source": [
    "\n",
    "for key in dfs.keys():\n",
    "    df = dfs[key]\n",
    "    print(key)\n",
    "\n",
    "    groups = []\n",
    "    vals = []\n",
    "    df[\"status+age\"] = df[\"status\"]+\"-\"+df[agevar]\n",
    "    statuses = [\"CTL\", \"MCI\", \"AD\"]\n",
    "    ages = agelist\n",
    "    \n",
    "    for a in ages:\n",
    "        for s in statuses:\n",
    "            g = \"%s-%s\"%(s,a)\n",
    "            groups.append(g)\n",
    "            vals.append(df[df[\"status+age\"]==g][\"AVG\"].values)\n",
    "    \n",
    "    \n",
    "    groups = np.array(groups)\n",
    "    vals = np.array(vals)\n",
    "\n",
    "    for i, g_name in enumerate(groups):\n",
    "        print(g_name+\" (%i),\"%len(vals[i]), end=\"\")\n",
    "        for j, g2_name in enumerate(groups):\n",
    "            t_res = scipy.stats.ttest_ind(vals[i], vals[j])\n",
    "            if t_res[1] >.05:\n",
    "                stars=\"\"\n",
    "            elif t_res[1] < .001:\n",
    "                stars = \"{:.0e}\".format(t_res[1]) \n",
    "            else:\n",
    "                stars = str(np.round(t_res[1], 3))\n",
    "\n",
    "            print(stars+\",\",end=\"\")\n",
    "        print()\n",
    "    print(\"\\n\\n\")\n",
    "    \n",
    "    \n"
   ]
  },
  {
   "cell_type": "code",
   "execution_count": 39,
   "metadata": {},
   "outputs": [
    {
     "name": "stderr",
     "output_type": "stream",
     "text": [
      "/homes/gws/nbbwang/anaconda3/envs/py36-test2/lib/python3.7/site-packages/ipykernel_launcher.py:9: SettingWithCopyWarning: \n",
      "A value is trying to be set on a copy of a slice from a DataFrame.\n",
      "Try using .loc[row_indexer,col_indexer] = value instead\n",
      "\n",
      "See the caveats in the documentation: http://pandas.pydata.org/pandas-docs/stable/indexing.html#indexing-view-versus-copy\n",
      "  if __name__ == '__main__':\n",
      "/homes/gws/nbbwang/anaconda3/envs/py36-test2/lib/python3.7/site-packages/ipykernel_launcher.py:7: SettingWithCopyWarning: \n",
      "A value is trying to be set on a copy of a slice from a DataFrame.\n",
      "Try using .loc[row_indexer,col_indexer] = value instead\n",
      "\n",
      "See the caveats in the documentation: http://pandas.pydata.org/pandas-docs/stable/indexing.html#indexing-view-versus-copy\n",
      "  import sys\n",
      "/homes/gws/nbbwang/anaconda3/envs/py36-test2/lib/python3.7/site-packages/pandas/core/frame.py:4025: SettingWithCopyWarning: \n",
      "A value is trying to be set on a copy of a slice from a DataFrame\n",
      "\n",
      "See the caveats in the documentation: http://pandas.pydata.org/pandas-docs/stable/indexing.html#indexing-view-versus-copy\n",
      "  return super(DataFrame, self).rename(**kwargs)\n"
     ]
    }
   ],
   "source": [
    "sourcedata_cols = [\"status\", \"age_groups2\"]\n",
    "sourcedata = dfs[\"MTL\"][sourcedata_cols]\n",
    "\n",
    "\n",
    "for mod in mods:\n",
    "    if mod==\"MTL\":\n",
    "        sourcedata[\"MD-AD_predicted_neuropath_score\"] = dfs[mod][\"AVG\"]\n",
    "    else:\n",
    "        sourcedata[mod+\"_predicted_neuropath_score\"] = dfs[mod][\"AVG\"]\n",
    "    \n",
    "sourcedata.rename(columns={\"status\":\"cognitive status\", \"age_groups2\":\"age_groups\"}, inplace=True)\n",
    "# sourcedata.to_csv(\"sourcedata/7ab_ext_val_human_blood.csv\", index=False)"
   ]
  }
 ],
 "metadata": {
  "kernelspec": {
   "display_name": "Python [conda env:py36-test2]",
   "language": "python",
   "name": "conda-env-py36-test2-py"
  },
  "language_info": {
   "codemirror_mode": {
    "name": "ipython",
    "version": 3
   },
   "file_extension": ".py",
   "mimetype": "text/x-python",
   "name": "python",
   "nbconvert_exporter": "python",
   "pygments_lexer": "ipython3",
   "version": "3.7.5"
  }
 },
 "nbformat": 4,
 "nbformat_minor": 2
}
