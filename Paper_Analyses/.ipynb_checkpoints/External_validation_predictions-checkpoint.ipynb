{
 "cells": [
  {
   "cell_type": "code",
   "execution_count": 1,
   "metadata": {},
   "outputs": [],
   "source": [
    "import gc\n",
    "import h5py\n",
    "import numpy as np\n",
    "import pandas as pd\n",
    "import scipy\n",
    "import datetime \n",
    "import h5py\n",
    "import sys\n",
    "import pickle\n",
    "import os\n",
    "from scipy import stats \n",
    "import seaborn as sns\n",
    "\n",
    "from matplotlib import pyplot as plt\n",
    "%matplotlib inline"
   ]
  },
  {
   "cell_type": "code",
   "execution_count": 2,
   "metadata": {},
   "outputs": [],
   "source": [
    "cmap=plt.cm.tab20\n",
    "cmaplist = [cmap(i) for i in range(cmap.N)]\n"
   ]
  },
  {
   "cell_type": "code",
   "execution_count": 3,
   "metadata": {},
   "outputs": [],
   "source": [
    "mods = [\"Linear\", \"MLP_baselines\", \"MTL\"]\n",
    "phens = [\"CERAD\", \"BRAAK\", \"PLAQUES\", \"TANGLES\", \"ABETA_IHC\", \"TAU_IHC\"]\n",
    "path_to_preds = \"../../md-ad_public_repo_data/ExternalValidation/Model_Predictions/\""
   ]
  },
  {
   "cell_type": "markdown",
   "metadata": {},
   "source": [
    "### Human"
   ]
  },
  {
   "cell_type": "code",
   "execution_count": 4,
   "metadata": {},
   "outputs": [],
   "source": [
    "t_stat = {}\n",
    "t_ps= {}\n",
    "dfs = {}\n",
    "for mod in mods:\n",
    "    df = pd.read_csv(path_to_preds + \"%s/all_human.csv\"%mod)\n",
    "    dfs[mod] = df\n",
    "    t_stat[mod] = {}\n",
    "    t_ps[mod] = {}\n",
    "\n",
    "    for yvar in ['CERAD', 'BRAAK', 'PLAQUES', 'TANGLES',\n",
    "           'ABETA_IHC', 'TAU_IHC', 'AB_RELATED', 'TAU_RELATED', 'AVG']:\n",
    "\n",
    "        t_stat[mod][yvar] = {}\n",
    "        t_ps[mod][yvar] = {}\n",
    "\n",
    "        t,p = scipy.stats.ttest_ind(df[df[\"AD\"]==1][yvar].values,  df[df[\"AD\"]==0][yvar].values)\n",
    "        t_stat[mod][yvar][\"all\"] = t\n",
    "        t_ps[mod][yvar][\"all\"] = p\n",
    "      \n",
    "    \n",
    "        for study in np.unique(df[\"study\"]):\n",
    "            subdf = df[df[\"study\"]==study]\n",
    "            t,p = scipy.stats.ttest_ind(subdf[subdf[\"AD\"]==1][yvar].values, subdf[subdf[\"AD\"]==0][yvar].values)\n",
    "            t_stat[mod][yvar][study] = t\n",
    "            t_ps[mod][yvar][study] = p"
   ]
  },
  {
   "cell_type": "code",
   "execution_count": 5,
   "metadata": {},
   "outputs": [
    {
     "data": {
      "image/png": "[encoded data removed]",
      "text/plain": [
       "<Figure size 864x288 with 4 Axes>"
      ]
     },
     "metadata": {
      "needs_background": "light"
     },
     "output_type": "display_data"
    }
   ],
   "source": [
    "dsets_list = ['amp-ad_msbb', 'MayoRNASeq', \"HBTRC_GEO\", \"all\"]\n",
    "# for yvar in ['CERAD', 'BRAAK', 'PLAQUES', 'TANGLES',\n",
    "#        'ABETA_IHC', 'TAU_IHC', 'AB_RELATED', 'TAU_RELATED', 'AVG']:\n",
    "for yvar in ['AVG']:\n",
    "    f,axs = plt.subplots(1,4, figsize=(12,4))\n",
    "    \n",
    "    lim = np.max([[t_stat[mod][yvar][dset] for mod in [\"Linear\", \"MLP_baselines\", \"MTL\"]] for dset in dsets_list])\n",
    "    \n",
    "    for i, dset in enumerate(dsets_list):\n",
    "\n",
    "        lin,mlp,mtl= axs[i].bar(mods, [t_stat[mod][yvar][dset] for mod in [\"Linear\", \"MLP_baselines\", \"MTL\"]], \n",
    "                                align='center', alpha=1, ecolor='black')\n",
    "               \n",
    "        lin.set_facecolor(cmaplist[4])\n",
    "        mlp.set_facecolor(cmaplist[0])\n",
    "        mtl.set_facecolor(cmaplist[6])\n",
    "\n",
    "        axs[i].set_xticks(mods)\n",
    "        axs[i].set_xticklabels(\"\")\n",
    "\n",
    "        axs[i].set_title(dset)\n",
    "        \n",
    "        axs[i].spines['right'].set_visible(False)\n",
    "        axs[i].spines['top'].set_visible(False)\n",
    "        axs[i].set_ylim(0,lim)\n",
    "    plt.suptitle(yvar)\n",
    "        \n",
    "    plt.tight_layout()\n"
   ]
  },
  {
   "cell_type": "code",
   "execution_count": 6,
   "metadata": {},
   "outputs": [],
   "source": [
    "for mod in mods:\n",
    "    dfs[mod][\"model\"] = mod\n"
   ]
  },
  {
   "cell_type": "code",
   "execution_count": 7,
   "metadata": {
    "scrolled": true
   },
   "outputs": [
    {
     "data": {
      "text/plain": [
       "Text(0.5, 1, 'MTL')"
      ]
     },
     "execution_count": 7,
     "metadata": {},
     "output_type": "execute_result"
    },
    {
     "data": {
      "image/png": "[encoded data removed]",
      "text/plain": [
       "<Figure size 432x360 with 1 Axes>"
      ]
     },
     "metadata": {
      "needs_background": "light"
     },
     "output_type": "display_data"
    }
   ],
   "source": [
    "xorder = np.array([\"<75\",\"[75-85)\", \"85+\"])\n",
    "yvar = 'AVG'\n",
    "\n",
    "g=sns.catplot(x=\"age_groups\", y=yvar, hue=\"AD\",col=\"model\",aspect=1.2, order=xorder,\n",
    "            kind=\"box\",ci=\"sd\", data= dfs[\"MTL\"], hue_order=[0,1], palette=[cmaplist[0], cmaplist[12]], legend=False, saturation=1);\n",
    "\n",
    "plt.title(mod)\n"
   ]
  },
  {
   "cell_type": "code",
   "execution_count": 8,
   "metadata": {},
   "outputs": [],
   "source": [
    "groups = []\n",
    "vals = []\n",
    "for sname, s_df in dfs[\"MTL\"].groupby(\"AD\"):\n",
    "    stxt = \"AD\" if sname==1 else \"Control\"\n",
    "    for aname, a_df in s_df.groupby(\"age_groups\"):\n",
    "        groups.append(str(sname)+\"-\"+aname)\n",
    "        vals.append(a_df[\"AVG\"].values)"
   ]
  },
  {
   "cell_type": "code",
   "execution_count": 9,
   "metadata": {},
   "outputs": [],
   "source": [
    "group_ordering = ['0.0-<75', '1.0-<75', '0.0-[75-85)', '1.0-[75-85)', '0.0-85+','1.0-85+']"
   ]
  },
  {
   "cell_type": "code",
   "execution_count": 10,
   "metadata": {
    "scrolled": true
   },
   "outputs": [
    {
     "name": "stdout",
     "output_type": "stream",
     "text": [
      "0.0-<75 (179),,***,**,***,***,***,\n",
      "1.0-<75 (95),***,,***,*,***,,\n",
      "0.0-[75-85) (134),**,***,,***,,***,\n",
      "1.0-[75-85) (243),***,*,***,,***,*,\n",
      "0.0-85+ (337),***,***,,***,,***,\n",
      "1.0-85+ (554),***,,***,*,***,,\n"
     ]
    }
   ],
   "source": [
    "for _, g_name in enumerate(group_ordering):\n",
    "    i = groups.index(g_name)\n",
    "\n",
    "    print(g_name+\" (%i),\"%len(vals[i]), end=\"\")\n",
    "    for _, g2_name in enumerate(group_ordering):\n",
    "        j = groups.index(g2_name)\n",
    "        t_res = stats.ttest_ind(vals[i], vals[j])\n",
    "        stars = \"\"\n",
    "        if t_res[1] < .05:\n",
    "            stars += \"*\"\n",
    "        if t_res[1] < .01:\n",
    "            stars += \"*\"\n",
    "        if t_res[1] < .001:\n",
    "            stars += \"*\"\n",
    "            \n",
    "        print(stars+\",\",end=\"\")\n",
    "    print()"
   ]
  },
  {
   "cell_type": "markdown",
   "metadata": {},
   "source": [
    "# mouse"
   ]
  },
  {
   "cell_type": "code",
   "execution_count": 30,
   "metadata": {},
   "outputs": [],
   "source": [
    "t_stat = {}\n",
    "t_ps= {}\n",
    "dfs = {}\n",
    "for mod in mods:\n",
    "    df = pd.read_csv(path_to_preds + \"%s/Mouse.csv\"%mod)\n",
    "    \n",
    "    df[\"AD\"] = df[\"strain\"].apply(lambda x: x if x==\"WILD\" else \"AD\")\n",
    "    df[\"time\"] = df[\"age\"].apply(lambda x: int(x[:-6] ))\n",
    "    df[\"AD-region\"] = df[\"AD\"].values+\"_\"+df[\"region\"].values\n",
    "    df[\"strain-region\"] = df[\"strain\"].values+\"_\"+df[\"region\"].values\n",
    "\n",
    "\n",
    "    dfs[mod] = df\n",
    "    t_stat[mod] = {}\n",
    "    t_ps[mod] = {}\n",
    "\n",
    "    for yvar in ['CERAD', 'BRAAK', 'PLAQUES', 'TANGLES',\n",
    "           'ABETA_IHC', 'TAU_IHC', 'AB_RELATED', 'TAU_RELATED', 'AVG']:\n",
    "\n",
    "        t_stat[mod][yvar] = {}\n",
    "        t_ps[mod][yvar] = {}\n",
    "\n",
    "        t,p = scipy.stats.ttest_ind(df[df[\"AD\"]==1][yvar].values,  df[df[\"AD\"]==0][yvar].values)\n",
    "        t_stat[mod][yvar][\"all\"] = t\n",
    "        t_ps[mod][yvar][\"all\"] = p"
   ]
  },
  {
   "cell_type": "code",
   "execution_count": 31,
   "metadata": {},
   "outputs": [],
   "source": [
    "for mod in mods:\n",
    "    t_stat[mod] = {}\n",
    "    t_ps[mod]= {}\n",
    "    \n",
    "    df = dfs[mod]\n",
    "\n",
    "    for yvar in ['CERAD', 'BRAAK', 'PLAQUES', 'TANGLES',\n",
    "           'ABETA_IHC', 'TAU_IHC', 'AB_RELATED', 'TAU_RELATED', 'AVG']:\n",
    "\n",
    "        t_stat[mod][yvar] = {}\n",
    "        t_ps[mod][yvar] = {}\n",
    "\n",
    "        t,p = scipy.stats.ttest_ind(df[df[\"AD\"]==\"AD\"][yvar].values, df[df[\"AD\"]==\"WILD\"][yvar].values)\n",
    "        t_stat[mod][yvar][\"all\"] = t\n",
    "        t_ps[mod][yvar][\"all\"] = p\n",
    "\n",
    "\n",
    "        for strain in np.setdiff1d(np.unique(df[\"strain\"]), \"WILD\"):\n",
    "            subdf = df[((df[\"strain\"] == strain) | (df[\"strain\"] == \"WILD\"))]\n",
    "            \n",
    "            t,p = scipy.stats.ttest_ind(subdf[subdf[\"AD\"]==\"AD\"][yvar].values, subdf[subdf[\"AD\"]==\"WILD\"][yvar].values)\n",
    "            t_stat[mod][yvar][strain] = t\n",
    "            t_ps[mod][yvar][strain] = p\n",
    "\n",
    "\n",
    "            \n",
    "             "
   ]
  },
  {
   "cell_type": "code",
   "execution_count": 32,
   "metadata": {},
   "outputs": [
    {
     "data": {
      "image/png": "[encoded data removed]",
      "text/plain": [
       "<Figure size 1080x216 with 6 Axes>"
      ]
     },
     "metadata": {
      "needs_background": "light"
     },
     "output_type": "display_data"
    }
   ],
   "source": [
    "for yvar in ['AVG']:\n",
    "    \n",
    "    f,axs = plt.subplots(1,len(list(np.unique(df[\"strain\"]))), figsize=(15,3))\n",
    "    \n",
    "    low_lim = np.min([[t_stat[mod][yvar][dset] for mod in [\"Linear\", \"MLP_baselines\", \"MTL\"]] for dset in t_ps[\"Linear\"][\"CERAD\"].keys()])\n",
    "    high_lim = np.max([[t_stat[mod][yvar][dset] for mod in [\"Linear\", \"MLP_baselines\", \"MTL\"]] for dset in t_ps[\"Linear\"][\"CERAD\"].keys()])\n",
    "\n",
    "    \n",
    "    for i, dset in enumerate(t_ps[\"Linear\"][\"CERAD\"].keys()):\n",
    "        Ys = [t_stat[mod][yvar][dset] for mod in [\"Linear\", \"MLP_baselines\", \"MTL\"]]\n",
    "                  \n",
    "        lin,mlp,mtl= axs[i].bar(mods, Ys, align='center', alpha=1, ecolor='black')\n",
    "\n",
    "        axs[i].set_ylim(0,high_lim+1)\n",
    "\n",
    "        lin.set_facecolor(cmaplist[4])\n",
    "        mlp.set_facecolor(cmaplist[0])\n",
    "        mtl.set_facecolor(cmaplist[6])\n",
    "        \n",
    "        axs[i].set_xticks([])\n",
    "\n",
    "        annots = [ \"***\" if x > -np.log10(.001) else (\"**\" if x > -np.log10(.01) else \\\n",
    "                (\"*\" if x > -np.log10(.05) else \"\")) for x in \\\n",
    "                [-np.log10(t_ps[mod][yvar][dset]) for mod in [\"Linear\", \"MLP_baselines\", \"MTL\"]]]\n",
    "        for j, txt in enumerate(annots):\n",
    "            ann_x = j\n",
    "            ann_y = (Ys[j]+.5) if Ys[j]>0 else  (Ys[j]-.5) \n",
    "            axs[i].text(ann_x,ann_y, txt, color='black', horizontalalignment =\"center\", fontsize=20)\n",
    "        axs[i].set_ylim(low_lim-1,high_lim+1)\n",
    "\n",
    "        \n",
    "        axs[i].spines['right'].set_visible(False)\n",
    "        axs[i].spines['top'].set_visible(False)\n",
    "        axs[i].spines['bottom'].set_visible(False)\n",
    "\n",
    "        axs[i].locator_params(nbins=5, axis='y')\n",
    "        axs[i].set_title(\"%s vs WILD\"%dset)\n",
    "\n",
    "        \n",
    "    plt.tight_layout()"
   ]
  },
  {
   "cell_type": "code",
   "execution_count": 14,
   "metadata": {
    "scrolled": true
   },
   "outputs": [],
   "source": [
    "for mod in mods:\n",
    "    dfs[mod][\"model\"] = mod"
   ]
  },
  {
   "cell_type": "code",
   "execution_count": 15,
   "metadata": {},
   "outputs": [
    {
     "data": {
      "image/png": "[encoded data removed]",
      "text/plain": [
       "<Figure size 640.5x360 with 1 Axes>"
      ]
     },
     "metadata": {
      "needs_background": "light"
     },
     "output_type": "display_data"
    }
   ],
   "source": [
    "g=sns.catplot(x=\"time\", y=\"AVG\", hue=\"strain\",aspect=1.5,kind=\"box\", data=dfs[\"MTL\"], \n",
    "              hue_order=[\"WILD\",\"HET_TASTPM\", \"HO_TASTPM\"],\n",
    "              palette=[cmaplist[0], cmaplist[13],  cmaplist[12]],saturation=1);"
   ]
  },
  {
   "cell_type": "code",
   "execution_count": 16,
   "metadata": {},
   "outputs": [],
   "source": [
    "groups = []\n",
    "vals = []\n",
    "for sname, s_df in dfs[\"MTL\"].groupby(\"strain\"):\n",
    "    if sname not in [\"WILD\", \"HET_TASTPM\", \"HO_TASTPM\"]:\n",
    "        continue\n",
    "    for aname, a_df in s_df.groupby(\"time\"):\n",
    "        aname=str(aname)\n",
    "        groups.append(sname+\"-\"+aname)\n",
    "        vals.append(a_df[\"AVG\"].values)"
   ]
  },
  {
   "cell_type": "code",
   "execution_count": 17,
   "metadata": {},
   "outputs": [],
   "source": [
    "group_ordering = ['WILD-2',\n",
    " 'HET_TASTPM-2',\n",
    " 'HO_TASTPM-2',\n",
    " 'WILD-4',\n",
    " 'HET_TASTPM-4',\n",
    " 'HO_TASTPM-4',\n",
    " 'WILD-8',\n",
    " 'HET_TASTPM-8',\n",
    " 'HO_TASTPM-8',\n",
    " 'WILD-18',\n",
    " 'HET_TASTPM-18',\n",
    " 'HO_TASTPM-18']"
   ]
  },
  {
   "cell_type": "code",
   "execution_count": 18,
   "metadata": {},
   "outputs": [
    {
     "name": "stdout",
     "output_type": "stream",
     "text": [
      "WILD-2 (22),,,,*,**,***,**,***,***,***,***,***,\n",
      "HET_TASTPM-2 (8),,,,*,*,***,**,***,***,***,***,***,\n",
      "HO_TASTPM-2 (8),,,,,,,,,*,,*,**,\n",
      "WILD-4 (20),*,*,,,,,,,**,,**,***,\n",
      "HET_TASTPM-4 (8),**,*,,,,,,,,,,,\n",
      "HO_TASTPM-4 (8),***,***,,,,,,,,,,*,\n",
      "WILD-8 (20),**,**,,,,,,,*,,*,**,\n",
      "HET_TASTPM-8 (8),***,***,,,,,,,,,,***,\n",
      "HO_TASTPM-8 (8),***,***,*,**,,,*,,,,,,\n",
      "WILD-18 (14),***,***,,,,,,,,,,*,\n",
      "HET_TASTPM-18 (8),***,***,*,**,,,*,,,,,,\n",
      "HO_TASTPM-18 (6),***,***,**,***,,*,**,***,,*,,,\n"
     ]
    }
   ],
   "source": [
    "for _, g_name in enumerate(group_ordering):\n",
    "    i = groups.index(g_name)\n",
    "\n",
    "    print(g_name+\" (%i),\"%len(vals[i]), end=\"\")\n",
    "    for _, g2_name in enumerate(group_ordering):\n",
    "        j = groups.index(g2_name)\n",
    "        t_res = stats.ttest_ind(vals[i], vals[j])\n",
    "        stars = \"\"\n",
    "        if t_res[1] < .05:\n",
    "            stars += \"*\"\n",
    "        if t_res[1] < .01:\n",
    "            stars += \"*\"\n",
    "        if t_res[1] < .001:\n",
    "            stars += \"*\"\n",
    "            \n",
    "        print(stars+\",\",end=\"\")\n",
    "    print()"
   ]
  },
  {
   "cell_type": "markdown",
   "metadata": {},
   "source": [
    "## Blood"
   ]
  },
  {
   "cell_type": "code",
   "execution_count": 25,
   "metadata": {},
   "outputs": [],
   "source": [
    "source_list = ['Blood_GSE63060', 'Blood_GSE63061', \"all\"]\n",
    "\n",
    "t_stat = {}\n",
    "t_ps= {}\n",
    "dfs = {}\n",
    "for mod in mods:\n",
    "    df = pd.read_csv(path_to_preds + \"%s/Blood.csv\"%mod)\n",
    "    df[\"model\"] = mod\n",
    "    dfs[mod] = df\n",
    "\n",
    "    \n",
    "    t_stat[mod] = {}\n",
    "    t_ps[mod] = {}\n",
    "            \n",
    "    for source in source_list:\n",
    "        t_stat[mod][source] = {}\n",
    "        t_ps[mod][source] = {}\n",
    "        \n",
    "        if source==\"all\":\n",
    "            subdf = df\n",
    "        else:\n",
    "            subdf = df[df[\"source\"]==source]\n",
    "            \n",
    "                \n",
    "        \n",
    "        for yvar in ['CERAD', 'BRAAK', 'PLAQUES', 'TANGLES',\n",
    "               'ABETA_IHC', 'TAU_IHC', 'AB_RELATED', 'TAU_RELATED', 'AVG']:\n",
    "\n",
    "            t_stat[mod][source][yvar] = {}\n",
    "            t_ps[mod][source][yvar] = {}\n",
    "                \n",
    "            for cogstat in [\"MCI\", \"AD\"]:\n",
    "                t,p = scipy.stats.ttest_ind(subdf[subdf[\"status\"]==cogstat][yvar].values, subdf[subdf[\"status\"]==\"CTL\"][yvar].values)\n",
    "                t_stat[mod][source][yvar][cogstat] = t\n",
    "                t_ps[mod][source][yvar][cogstat] = p\n"
   ]
  },
  {
   "cell_type": "code",
   "execution_count": 26,
   "metadata": {},
   "outputs": [
    {
     "data": {
      "image/png": "[encoded data removed]",
      "text/plain": [
       "<Figure size 360x216 with 2 Axes>"
      ]
     },
     "metadata": {
      "needs_background": "light"
     },
     "output_type": "display_data"
    },
    {
     "data": {
      "image/png": "[encoded data removed]",
      "text/plain": [
       "<Figure size 360x216 with 2 Axes>"
      ]
     },
     "metadata": {
      "needs_background": "light"
     },
     "output_type": "display_data"
    },
    {
     "data": {
      "image/png": "[encoded data removed]",
      "text/plain": [
       "<Figure size 360x216 with 2 Axes>"
      ]
     },
     "metadata": {
      "needs_background": "light"
     },
     "output_type": "display_data"
    }
   ],
   "source": [
    "for source in source_list:\n",
    "\n",
    "    for yvar in ['AVG']:\n",
    "\n",
    "        f,axs = plt.subplots(1,2, figsize=(5,3), sharey=True)\n",
    "\n",
    "        low_lim = np.min([[t_stat[mod][source][yvar][cogstat] for mod in [\"Linear\", \"MLP_baselines\", \"MTL\"]] for dset in t_ps[\"Linear\"][source][\"CERAD\"].keys()])\n",
    "        high_lim = np.max([[t_stat[mod][source][yvar][cogstat] for mod in [\"Linear\", \"MLP_baselines\", \"MTL\"]] for dset in t_ps[\"Linear\"][source][\"CERAD\"].keys()])\n",
    "\n",
    "\n",
    "        for i, cogstat in enumerate(t_ps[\"Linear\"][source][\"CERAD\"].keys()):\n",
    "            Ys = [t_stat[mod][source][yvar][cogstat] for mod in [\"Linear\", \"MLP_baselines\", \"MTL\"]]\n",
    "\n",
    "            lin,mlp,mtl= axs[i].bar(mods, Ys, align='center', alpha=1, ecolor='black')\n",
    "\n",
    "\n",
    "            lin.set_facecolor(cmaplist[4])\n",
    "            mlp.set_facecolor(cmaplist[0])\n",
    "            mtl.set_facecolor(cmaplist[6])\n",
    "\n",
    "            axs[i].set_xticks([])\n",
    "\n",
    "            annots = [ \"***\" if x > -np.log10(.001) else (\"**\" if x > -np.log10(.01) else \\\n",
    "                    (\"*\" if x > -np.log10(.05) else \"\")) for x in \\\n",
    "                    [-np.log10(t_ps[mod][source][yvar][cogstat]) for mod in [\"Linear\", \"MLP_baselines\", \"MTL\"]]]\n",
    "            for j, txt in enumerate(annots):\n",
    "                ann_x = j\n",
    "                ann_y = (Ys[j]+.5) if Ys[j]>0 else  (Ys[j]-.5) \n",
    "                axs[i].text(ann_x,ann_y, txt, color='black', horizontalalignment =\"center\", fontsize=20)\n",
    "            axs[i].set_ylim(low_lim-1,high_lim+3)\n",
    "\n",
    "\n",
    "            axs[i].spines['right'].set_visible(False)\n",
    "            axs[i].spines['top'].set_visible(False)\n",
    "            axs[i].spines['bottom'].set_visible(False)\n",
    "\n",
    "            axs[i].locator_params(nbins=5, axis='y')\n",
    "    \n",
    "        f.suptitle(source)\n",
    "#         plt.tight_layout()"
   ]
  },
  {
   "cell_type": "code",
   "execution_count": 27,
   "metadata": {
    "scrolled": true
   },
   "outputs": [
    {
     "data": {
      "image/png": "[encoded data removed]",
      "text/plain": [
       "<Figure size 594.375x360 with 1 Axes>"
      ]
     },
     "metadata": {
      "needs_background": "light"
     },
     "output_type": "display_data"
    }
   ],
   "source": [
    "yvar=\"AVG\"    \n",
    "\n",
    "agevar = \"age_groups2\"\n",
    "agelist = [\"<74\", \"[74-80)\", \"80+\"]\n",
    "\n",
    "g=sns.catplot(x=agevar, y=yvar, hue=\"status\",aspect=1.5,kind=\"box\",\n",
    "        data=dfs[\"MTL\"], order = agelist, hue_order=[\"CTL\",\"MCI\", \"AD\"], \n",
    "              palette=[cmaplist[0], cmaplist[13],  cmaplist[12]],saturation=1, col=\"model\");\n"
   ]
  },
  {
   "cell_type": "code",
   "execution_count": 28,
   "metadata": {},
   "outputs": [
    {
     "name": "stdout",
     "output_type": "stream",
     "text": [
      "Linear\n",
      "CTL-<74 (113),,*,,,,,,,,\n",
      "MCI-<74 (64),*,,*,*,**,,*,**,*,\n",
      "AD-<74 (89),,*,,,,,,,,\n",
      "CTL-[74-80) (82),,*,,,,,,,,\n",
      "MCI-[74-80) (63),,**,,,,,,,,\n",
      "AD-[74-80) (90),,,,,,,,,,\n",
      "CTL-80+ (43),,*,,,,,,,,\n",
      "MCI-80+ (62),,**,,,,,,,,\n",
      "AD-80+ (105),,*,,,,,,,,\n",
      "\n",
      "\n",
      "\n",
      "MLP_baselines\n",
      "CTL-<74 (113),,***,***,,***,***,,***,***,\n",
      "MCI-<74 (64),***,,,***,,,**,,,\n",
      "AD-<74 (89),***,,,***,,,**,,,\n",
      "CTL-[74-80) (82),,***,***,,***,*,,**,**,\n",
      "MCI-[74-80) (63),***,,,***,,,**,,,\n",
      "AD-[74-80) (90),***,,,*,,,,,,\n",
      "CTL-80+ (43),,**,**,,**,,,,,\n",
      "MCI-80+ (62),***,,,**,,,,,,\n",
      "AD-80+ (105),***,,,**,,,,,,\n",
      "\n",
      "\n",
      "\n",
      "MTL\n",
      "CTL-<74 (113),,***,***,,***,***,,***,***,\n",
      "MCI-<74 (64),***,,,***,,*,**,,,\n",
      "AD-<74 (89),***,,,***,,,*,,,\n",
      "CTL-[74-80) (82),,***,***,,***,**,,**,**,\n",
      "MCI-[74-80) (63),***,,,***,,,**,,,\n",
      "AD-[74-80) (90),***,*,,**,,,,,,\n",
      "CTL-80+ (43),,**,*,,**,,,,,\n",
      "MCI-80+ (62),***,,,**,,,,,,\n",
      "AD-80+ (105),***,,,**,,,,,,\n",
      "\n",
      "\n",
      "\n"
     ]
    }
   ],
   "source": [
    "\n",
    "for key in dfs.keys():\n",
    "    df = dfs[key]\n",
    "    print(key)\n",
    "\n",
    "    groups = []\n",
    "    vals = []\n",
    "    df[\"status+age\"] = df[\"status\"]+\"-\"+df[agevar]\n",
    "    statuses = [\"CTL\", \"MCI\", \"AD\"]\n",
    "    ages = agelist\n",
    "    \n",
    "    for a in ages:\n",
    "        for s in statuses:\n",
    "            g = \"%s-%s\"%(s,a)\n",
    "            groups.append(g)\n",
    "            vals.append(df[df[\"status+age\"]==g][\"AVG\"].values)\n",
    "    \n",
    "    \n",
    "    groups = np.array(groups)\n",
    "    vals = np.array(vals)\n",
    "\n",
    "    for i, g_name in enumerate(groups):\n",
    "        print(g_name+\" (%i),\"%len(vals[i]), end=\"\")\n",
    "        for j, g2_name in enumerate(groups):\n",
    "            t_res = stats.ttest_ind(vals[i], vals[j])\n",
    "            stars = \"\"\n",
    "            if t_res[1] < .05:\n",
    "                stars += \"*\"\n",
    "            if t_res[1] < .01:\n",
    "                stars += \"*\"\n",
    "            if t_res[1] < .001:\n",
    "                stars += \"*\"\n",
    "\n",
    "            print(stars+\",\",end=\"\")\n",
    "        print()\n",
    "        \n",
    "    print(\"\\n\\n\")"
   ]
  },
  {
   "cell_type": "code",
   "execution_count": null,
   "metadata": {},
   "outputs": [],
   "source": []
  }
 ],
 "metadata": {
  "kernelspec": {
   "display_name": "Python [conda env:py36-test2]",
   "language": "python",
   "name": "conda-env-py36-test2-py"
  },
  "language_info": {
   "codemirror_mode": {
    "name": "ipython",
    "version": 3
   },
   "file_extension": ".py",
   "mimetype": "text/x-python",
   "name": "python",
   "nbconvert_exporter": "python",
   "pygments_lexer": "ipython3",
   "version": "3.7.5"
  }
 },
 "nbformat": 4,
 "nbformat_minor": 2
}
