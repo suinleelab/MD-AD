{
 "cells": [
  {
   "cell_type": "code",
   "execution_count": 1,
   "metadata": {},
   "outputs": [
    {
     "name": "stderr",
     "output_type": "stream",
     "text": [
      "Using TensorFlow backend.\n"
     ]
    }
   ],
   "source": [
    "import gc\n",
    "import h5py\n",
    "import numpy as np\n",
    "import pandas as pd\n",
    "import tensorflow as tf\n",
    "from keras.layers import Input, Dense, Dropout\n",
    "from keras import optimizers, regularizers, losses\n",
    "import os\n",
    "import statsmodels.api as sm\n",
    "from scipy import stats\n",
    "import copy\n",
    "import matplotlib\n",
    "import pickle\n",
    "import random\n",
    "from matplotlib import pyplot as plt\n",
    "import matplotlib as mpl\n",
    "import re\n",
    "from statsmodels.stats import multitest\n",
    "\n",
    "%matplotlib inline\n",
    "import seaborn as sns\n",
    "\n",
    "from functools import reduce\n",
    "mpl.rcParams['font.family'] = 'Times New Roman'\n",
    "\n",
    "import plotting_functions\n",
    "from geneset_plotting_functions import get_geneset_cats"
   ]
  },
  {
   "cell_type": "code",
   "execution_count": 3,
   "metadata": {},
   "outputs": [],
   "source": [
    "path_to_gs_data = \"../../DATA/geneset_data/\"\n",
    "path_to_final_genes = \"../../Pipeline_Outputs_Submitted/gene_rankings/\"\n",
    "path_to_ge_data = \"../../DATA/MTL_data/\"\n",
    "path_to_gws = \"../../Pipeline_Outputs_Submitted/gene_rankings/MTL/gene_scores_for_samples.txt\"\n",
    "path_to_cleaned_phenotypes = \"../../DATA/MTL_data/merged_phenotypes.csv\"\n",
    "saved_interactions_path = \"../../Pipeline_Outputs_Submitted/gene_rankings/\""
   ]
  },
  {
   "cell_type": "code",
   "execution_count": 4,
   "metadata": {},
   "outputs": [],
   "source": [
    "tab20cmap=plt.cm.tab20\n",
    "cmaplist = [tab20cmap(i) for i in range(tab20cmap.N)]\n",
    "\n",
    "SIG = .05\n",
    "# set to true if computing IG interaction values for the first time \n",
    "compute_new=False\n",
    "phenotypes = [\"CERAD\",\"PLAQUES\",\"ABETA_IHC\",\"BRAAK\",\"TANGLES\", \"TAU_IHC\"]"
   ]
  },
  {
   "cell_type": "markdown",
   "metadata": {},
   "source": [
    "### Load data"
   ]
  },
  {
   "cell_type": "code",
   "execution_count": 5,
   "metadata": {},
   "outputs": [
    {
     "name": "stdout",
     "output_type": "stream",
     "text": [
      "['ge', 'gene_symbols', 'labels', 'labels_names']\n",
      "['PCA_components_', 'ge_transformed', 'gene_symbols', 'labels', 'labels_names']\n"
     ]
    }
   ],
   "source": [
    "with h5py.File(path_to_ge_data + \"ACT_MSBBRNA_ROSMAP.h5\", 'r') as hf:\n",
    "    print(list(hf.keys()))\n",
    "    ge = hf[\"ge\"][:]\n",
    "    gene_symbols = hf[\"gene_symbols\"][:].astype(str)\n",
    "\n",
    "IG_samples = np.loadtxt(path_to_gws)\n",
    "\n",
    "\n",
    "num_components=500\n",
    "with h5py.File(path_to_ge_data + \"ACT_MSBBRNA_ROSMAP_PCA.h5\", 'r') as hf:\n",
    "    print(list(hf.keys()))\n",
    "    Y = hf[\"labels\"][:]\n",
    "    labels_names= hf[\"labels_names\"][:].astype(str)\n",
    "\n",
    "labels_df = pd.DataFrame(Y, columns=labels_names.astype(str), dtype=\"str\")"
   ]
  },
  {
   "cell_type": "code",
   "execution_count": 6,
   "metadata": {
    "scrolled": true
   },
   "outputs": [],
   "source": [
    "merged_phenotypes = pd.read_csv(path_to_cleaned_phenotypes)\n",
    "    \n",
    "for var in phenotypes:\n",
    "    merged_phenotypes[\"%s_percentile\"%var] = labels_df[\"%s\"%var].astype(float).rank()/len(labels_df)\n",
    "    \n",
    "merged_phenotypes[\"neuropath_score\"] = np.nanmean(merged_phenotypes[[\"%s_percentile\"%var for var in phenotypes]],axis=1)"
   ]
  },
  {
   "cell_type": "code",
   "execution_count": 7,
   "metadata": {},
   "outputs": [],
   "source": [
    "CONSENSUS_SCORES = pd.read_csv(path_to_final_genes + \"MTL/all-related.rnk\", sep=\"\\t\", header=None, names=[\"gene\", \"score\"]).sort_values(\"score\", ascending=False).reset_index(drop=True)\n",
    "CONSENSUS_SCORES[\"abs_score\"] = CONSENSUS_SCORES[\"score\"].apply(lambda x: (x-.5)*2 if x>=.5 else (.5-x)*2)\n",
    "SORTED_MDAD_GENES = CONSENSUS_SCORES.sort_values(\"abs_score\",ascending=False)[\"gene\"].values"
   ]
  },
  {
   "cell_type": "code",
   "execution_count": 8,
   "metadata": {},
   "outputs": [],
   "source": [
    "def calculate_interaction_main_effect_phen(x1,x2,y):\n",
    "    TEMP = np.column_stack([x1, x2, x1*x2])\n",
    "    TEMP2 = sm.add_constant(TEMP)\n",
    "    est = sm.OLS(y, TEMP2)\n",
    "    est2 = est.fit()\n",
    "    #main effect for x1\n",
    "    main_effect_phen_pval = est2.pvalues[2]\n",
    "    main_effect_phen_coeff = est2.params[2]\n",
    "    \n",
    "    interaction_pval = est2.pvalues[3]\n",
    "    interaction_coeff = est2.params[3]\n",
    "    return interaction_coeff, interaction_pval, main_effect_phen_coeff, main_effect_phen_pval"
   ]
  },
  {
   "cell_type": "markdown",
   "metadata": {},
   "source": [
    "### COMPUTING INTERACTIONS"
   ]
  },
  {
   "cell_type": "code",
   "execution_count": 9,
   "metadata": {},
   "outputs": [],
   "source": [
    "to_check_cats = [\"sex_m\", \"sex_m_permuted\"]\n",
    "interaction_phen = \"sex_m\"\n",
    "\n",
    "def get_shuffle_phen(df, phen):\n",
    "    labels = copy.copy(df[phen].values)\n",
    "    np.random.shuffle(labels)\n",
    "    df[phen+\"_permuted\"] = labels\n",
    "    \n",
    "get_shuffle_phen(merged_phenotypes, \"sex_m\")"
   ]
  },
  {
   "cell_type": "code",
   "execution_count": 10,
   "metadata": {},
   "outputs": [],
   "source": [
    "interaction_coefs = {}\n",
    "interaction_pvals = {}\n",
    "main_effect_phen_coefs =  {}\n",
    "main_effect_phen_pvals = {}\n",
    "\n",
    "for i,phen in enumerate(to_check_cats):\n",
    "#     print(phen)\n",
    "    if compute_new:\n",
    "        interaction_coefs[phen] = np.zeros(len(gene_symbols))\n",
    "        interaction_pvals[phen] = np.ones(len(gene_symbols))\n",
    "        main_effect_phen_coefs[phen] = np.zeros(len(gene_symbols))\n",
    "        main_effect_phen_pvals[phen] = np.ones(len(gene_symbols))\n",
    "\n",
    "        to_check_idx = np.where(~np.isnan(merged_phenotypes[phen].values))[0]\n",
    "\n",
    "        for j,g in enumerate(gene_symbols):\n",
    "            if j %1000==0:\n",
    "                print(j)\n",
    "            interaction_coefs[phen][j], interaction_pvals[phen][j], main_effect_phen_coefs[phen][j], main_effect_phen_pvals[phen][j] = calculate_interaction_main_effect_phen(ge[to_check_idx][:,j], merged_phenotypes[phen].values[to_check_idx], IG_samples[to_check_idx][:,j])\n",
    "\n",
    "        np.savetxt(saved_interactions_path+\"interaction_coefs_%s.txt\"%phen, interaction_coefs[phen])\n",
    "        np.savetxt(saved_interactions_path+\"interaction_pvals_%s.txt\"%phen, interaction_pvals[phen])\n",
    "    else:\n",
    "        interaction_coefs[phen] = np.loadtxt(saved_interactions_path+\"interaction_coefs_%s.txt\"%phen)\n",
    "        interaction_pvals[phen] = np.loadtxt(saved_interactions_path+\"interaction_pvals_%s.txt\"%phen)"
   ]
  },
  {
   "cell_type": "code",
   "execution_count": 11,
   "metadata": {},
   "outputs": [],
   "source": [
    "fdr_interaction_pvals = {}\n",
    "for key in interaction_pvals.keys():\n",
    "    fdr_interaction_pvals[key] = multitest.fdrcorrection(interaction_pvals[key], alpha=SIG, method='indep', is_sorted=False)[1]"
   ]
  },
  {
   "cell_type": "code",
   "execution_count": 12,
   "metadata": {},
   "outputs": [
    {
     "data": {
      "text/plain": [
       "Text(0.5, 0.98, 'Distribution of sex-interaction p-values across genes')"
      ]
     },
     "execution_count": 12,
     "metadata": {},
     "output_type": "execute_result"
    },
    {
     "name": "stderr",
     "output_type": "stream",
     "text": [
      "findfont: Font family ['Times New Roman'] not found. Falling back to DejaVu Sans.\n",
      "findfont: Font family ['Times New Roman'] not found. Falling back to DejaVu Sans.\n"
     ]
    },
    {
     "data": {
      "image/png": "[encoded data removed]",
      "text/plain": [
       "<Figure size 1440x360 with 2 Axes>"
      ]
     },
     "metadata": {
      "needs_background": "light"
     },
     "output_type": "display_data"
    }
   ],
   "source": [
    "fig,ax = plt.subplots(1,2,figsize=(20,5))\n",
    "\n",
    "\n",
    "ax[0].hist(-np.log10(interaction_pvals[\"sex_m\"]), bins=100,alpha=.5)\n",
    "ax[0].hist(-np.log10(interaction_pvals[\"sex_m_permuted\"]), bins=100, alpha=.5)\n",
    "ax[0].legend([\"sex\",\"age\",\"permuted sex labels\"])\n",
    "ax[0].set_xlabel(\"-log10(p-values) for interaction\")\n",
    "ax[0].set_ylabel(\"# of genes\")\n",
    "ax[0].set_title(\"Uncorrected p-values\")\n",
    "\n",
    "ax[1].hist(-np.log10(fdr_interaction_pvals[\"sex_m\"]), bins=100,alpha=.5, log=True)\n",
    "ax[1].hist(-np.log10(fdr_interaction_pvals[\"sex_m_permuted\"]), bins=100, alpha=.5, log=True)\n",
    "ax[1].legend([\"sex\", \"permuted sex labels\"])\n",
    "ax[1].set_xlabel(\"-log10(p-values) for interaction\")\n",
    "ax[1].set_ylabel(\"# of genes\")\n",
    "ax[1].set_title(\"FDR-corrected\")\n",
    "\n",
    "fig.suptitle(\"Distribution of sex-interaction p-values across genes\")\n"
   ]
  },
  {
   "cell_type": "markdown",
   "metadata": {},
   "source": [
    "### GENE SET ENRICHMENT"
   ]
  },
  {
   "cell_type": "code",
   "execution_count": 13,
   "metadata": {},
   "outputs": [],
   "source": [
    "gene_symbols = np.loadtxt(path_to_gs_data + \"genesymbols.txt\", dtype=\"str\")\n",
    "\n",
    "\n",
    "gmt_locations = {\"REACTOME\": path_to_gs_data + 'c2.all.v7.0.symbols_JustR.gmt',\n",
    "                \"KEGG\": path_to_gs_data + 'c2.all.v7.0.symbols_JustK.gmt',\n",
    "                \"HALLMARK\": path_to_gs_data+ 'h.all.v7.0.symbols.gmt'}\n",
    "for gset in [\"mathys_celltypes\", \"sara_modules\", \"ben_modules\", \"mathys_microglia\", \"patrick_microglia\", \"olah_microglia\"]:\n",
    "    gmt_locations[gset] = path_to_gs_data + \"%s/processed/gene_set.gmt\"%gset\n",
    "    \n",
    "gset=\"REACTOME\"\n",
    "gmt, category_to_geneset, geneset_to_category = get_geneset_cats(gset, path_to_gs_data, gmt_locations)\n",
    "cmapper = {}\n",
    "\n",
    "category_genes = {}\n",
    "for category in category_to_geneset.keys():\n",
    "    genes_in_cat = np.array([])\n",
    "    genesets = category_to_geneset[category]\n",
    "    for geneset in genesets:\n",
    "        if geneset in gmt[\"names\"].values:\n",
    "            genes_in_cat = np.append(genes_in_cat, gmt[gmt[\"names\"]==geneset][\"genes\"].values[0])\n",
    "    category_genes[category] = np.unique(genes_in_cat)"
   ]
  },
  {
   "cell_type": "code",
   "execution_count": null,
   "metadata": {
    "scrolled": true
   },
   "outputs": [
    {
     "name": "stdout",
     "output_type": "stream",
     "text": [
      "14591\n"
     ]
    }
   ],
   "source": [
    "FISHER_S = {}\n",
    "FISHER_P = {}\n",
    "topxs = [len(gene_symbols),100]\n",
    "\n",
    "for topx in topxs:\n",
    "    print(topx)\n",
    "\n",
    "    Fisher_test_stats = np.zeros(len(list(category_genes.keys())))\n",
    "    Fisher_pvals = np.ones(len(list(category_genes.keys())))\n",
    "\n",
    "    interaction_genes = gene_symbols[np.where(fdr_interaction_pvals[interaction_phen]<SIG)[0]]\n",
    "    interaction_genes = np.intersect1d(interaction_genes, SORTED_MDAD_GENES[:topx+1])\n",
    "\n",
    "    for j,gset_cat in enumerate(list(category_genes.keys())):\n",
    "        gset_genes = category_genes[gset_cat]\n",
    "\n",
    "        fisher_matrix = np.zeros([2,2])\n",
    "        fisher_matrix[0,0] = len(np.intersect1d(interaction_genes, gset_genes))\n",
    "        fisher_matrix[0,1] = len(np.intersect1d(interaction_genes, np.setdiff1d(gene_symbols.astype(str), gset_genes)))\n",
    "        fisher_matrix[1,0] = len(np.intersect1d(gset_genes, np.setdiff1d(gene_symbols.astype(str), interaction_genes)))\n",
    "        fisher_matrix[1,1] = len(np.setdiff1d(gene_symbols.astype(str), np.union1d(interaction_genes, gset_genes)))\n",
    "\n",
    "        Fisher_test_stats[j], Fisher_pvals[j] = stats.fisher_exact(fisher_matrix)\n",
    "    \n",
    "    FISHER_S[topx] = Fisher_test_stats\n",
    "    FISHER_P[topx] = Fisher_pvals"
   ]
  },
  {
   "cell_type": "code",
   "execution_count": null,
   "metadata": {},
   "outputs": [],
   "source": [
    "interaction_genes = gene_symbols[np.where(fdr_interaction_pvals[interaction_phen]<SIG)[0]]"
   ]
  },
  {
   "cell_type": "code",
   "execution_count": null,
   "metadata": {},
   "outputs": [],
   "source": [
    "if gset == \"mathys_microglia\":\n",
    "    set_from_last_figure = [\"Cluster 3 (early)\", \"Cluster 7 (early)\", \"Cluster 6 (late)\"]\n",
    "elif gset == \"REACTOME\":\n",
    "    set_from_last_figure =  ['REACTOME_METABOLISM_OF_RNA',\n",
    "     'Metabolism',\n",
    "     'Immune System',\n",
    "     'REACTOME_CELL_CELL_COMMUNICATION',\n",
    "     'REACTOME_CELLULAR_RESPONSES_TO_EXTERNAL_STIMULI',\n",
    "     'Metabolism of proteins',\n",
    "     'Signal Transduction',\n",
    "     'REACTOME_TRANSPORT_OF_SMALL_MOLECULES',\n",
    "     'REACTOME_HEMOSTASIS',\n",
    "     'REACTOME_GENE_EXPRESSION_TRANSCRIPTION',\n",
    "     'REACTOME_DEVELOPMENTAL_BIOLOGY',\n",
    "     'REACTOME_DISEASE',\n",
    "     'REACTOME_MUSCLE_CONTRACTION',\n",
    "     'REACTOME_CHROMATIN_ORGANIZATION']\n",
    "elif gset == \"KEGG\":\n",
    "    set_from_last_figure = ['Immune disease',\n",
    "     'Immune system',\n",
    "     'Carbohydrate metabolism',\n",
    "     'Translation',\n",
    "      'Cell motility',\n",
    "     'Cardiovascular disease',\n",
    "      'Signaling molecules and interaction',\n",
    "     'Cancer: specific types',\n",
    "     'Signal transduction',\n",
    "     'Cell growth and death',\n",
    "    'Cellular community - eukaryotes']\n",
    "else:\n",
    "    set_from_last_figure = []\n",
    "\n",
    "for i,elt in enumerate(set_from_last_figure):\n",
    "    cmapper[elt] = cmaplist[i]\n",
    "\n",
    "# if there's not a  lot of categories, add them to the color dict and we can display more    \n",
    "if len(category_genes.keys()) < 10:\n",
    "    for cat in category_genes.keys():\n",
    "        if cat not in cmapper.keys():\n",
    "            cmapper[cat]= cmaplist[len(cmapper.keys())]\n"
   ]
  },
  {
   "cell_type": "code",
   "execution_count": null,
   "metadata": {},
   "outputs": [],
   "source": [
    "fig,ax = plt.subplots(1,2,figsize=(10,10), sharey=\"row\")\n",
    "\n",
    "\n",
    "for plt_i, topx in enumerate(topxs):\n",
    "    \n",
    "    gs_sigs = FISHER_P[topx]\n",
    "    numsig_allgenes = np.sum(gs_sigs < SIG)\n",
    "    sig_all_genes = np.argsort(gs_sigs)[:numsig_allgenes]\n",
    "\n",
    "    xlabs = [\"\"]\n",
    "    for loc,i in enumerate(sig_all_genes):\n",
    "        cat = list(category_genes.keys())[i]\n",
    "\n",
    "        if cat in cmapper.keys():\n",
    "            color_to_plot = cmapper[cat]\n",
    "        else:\n",
    "            c_idx = len(cmapper.keys())\n",
    "            cmapper[cat] = cmaplist[c_idx]\n",
    "            color_to_plot = cmapper[cat]        \n",
    "\n",
    "        ax[plt_i].bar(loc, -np.log10(gs_sigs[i]), color=color_to_plot)\n",
    "        xlabs.append(cat)\n",
    "    \n",
    "    ax[plt_i].plot(np.arange(-.5,len(sig_all_genes)+.5), [-np.log10(SIG)]*(len(sig_all_genes)+1), color=\"#aaaaaa\", linestyle=\"--\")\n",
    "\n",
    "    ax[plt_i].spines['right'].set_visible(False)\n",
    "    ax[plt_i].spines['top'].set_visible(False)\n",
    "    ax[plt_i].set_facecolor('None')\n",
    "    # ax.set_ylim(0,3)\n"
   ]
  },
  {
   "cell_type": "code",
   "execution_count": null,
   "metadata": {},
   "outputs": [],
   "source": [
    "toplot_lim =100\n",
    "\n",
    "fig,axes = plt.subplots(2,figsize=(30,8), sharey=\"row\", sharex=\"col\", \n",
    "                        gridspec_kw ={\"height_ratios\":[8,6]})\n",
    "\n",
    "gene_idxs_for_plot = [list(gene_symbols).index(x) for x in SORTED_MDAD_GENES[:toplot_lim]]\n",
    "\n",
    "# --------------------- gene geneset heatmap ----------------------------------#\n",
    "for col_idx,key in enumerate(cmapper):\n",
    "    to_plot_genes_in_cat = np.intersect1d(SORTED_MDAD_GENES[:toplot_lim],np.intersect1d(gene_symbols,category_genes[key]))\n",
    "    gene_idxs = np.array([list(SORTED_MDAD_GENES[:toplot_lim]).index(x) for x in to_plot_genes_in_cat])\n",
    "\n",
    "    if len(gene_idxs)>0:\n",
    "        for j in gene_idxs:\n",
    "            if fdr_interaction_pvals[interaction_phen][gene_idxs_for_plot][j] < SIG:\n",
    "                axes[1].scatter(j+.5, len(cmapper)-col_idx, color = cmapper[key], marker=\"s\", s=200)\n",
    "            else:\n",
    "                axes[1].scatter(j+.5, len(cmapper)-col_idx, color = cmapper[key], marker=\"x\", s=200)\n",
    "                \n",
    "for x in range(0, toplot_lim, 25):\n",
    "    axes[1].axvline(x, alpha=.3, color=\"gray\")    \n",
    "    \n",
    "#--------------------- gene - interaction value bar chart ----------------------#\n",
    "    \n",
    "axes[0].bar(np.arange(toplot_lim), -np.log10(fdr_interaction_pvals[interaction_phen][gene_idxs_for_plot]), align='edge', width=.8,color=\"#cccccc\")\n",
    "axes[0].plot([0,toplot_lim], [-np.log10(SIG)]*2, color=\"#aaaaaa\", linestyle=\"--\")\n",
    "axes[0].set_xlim(0,toplot_lim)\n",
    "\n",
    "#-------------------- formatting -----------------------------------------------#\n",
    "\n",
    "axes[1].spines['top'].set_visible(False)\n",
    "axes[1].spines['left'].set_visible(False)\n",
    "axes[1].set_facecolor('None')\n",
    "\n",
    "axes[0].spines['right'].set_visible(False)\n",
    "axes[0].spines['bottom'].set_visible(False)\n",
    "axes[0].spines['top'].set_visible(False)\n",
    "axes[0].set_facecolor('None')\n",
    "\n",
    "    \n",
    "fig.tight_layout()\n"
   ]
  },
  {
   "cell_type": "code",
   "execution_count": null,
   "metadata": {},
   "outputs": [],
   "source": [
    "from matplotlib.lines import Line2D\n",
    "custom_lines = [Line2D([0], [0], color=c, lw=8) for c in list(cmapper.values())]\n",
    "ax = plt.subplot()  #create the axes \n",
    "ax.set_axis_off()  #turn off the axis \n",
    "num_cols = int(np.ceil((len(cmapper.keys()) + 1)/10))\n",
    "num_cols = 1\n",
    "\n",
    "ax.legend(custom_lines,  list(cmapper.keys()), frameon=False, ncol=num_cols)\n",
    "plt.show() "
   ]
  },
  {
   "cell_type": "code",
   "execution_count": null,
   "metadata": {},
   "outputs": [],
   "source": [
    "# PRINT LABELS\n",
    "# for elt in list(cmapper.keys()):\n",
    "#     print(elt)"
   ]
  },
  {
   "cell_type": "markdown",
   "metadata": {},
   "source": [
    "### Showing top interacting genes"
   ]
  },
  {
   "cell_type": "code",
   "execution_count": null,
   "metadata": {},
   "outputs": [],
   "source": [
    "top_gene_idxs = [list(gene_symbols).index(x) for x in SORTED_MDAD_GENES[:100]]\n",
    "top_interaction_idxs = np.array(top_gene_idxs)[np.argsort(fdr_interaction_pvals[interaction_phen][top_gene_idxs])[:6]]\n",
    "genes_to_check = gene_symbols[top_interaction_idxs]"
   ]
  },
  {
   "cell_type": "code",
   "execution_count": null,
   "metadata": {},
   "outputs": [],
   "source": [
    "def gene_member_mx_cmapper(gene_list, category_genes, cmaplist, preset_colormap=None):\n",
    "    gene_list = gene_symbols[top_interaction_idxs]\n",
    "    cat_hits_df = pd.DataFrame(pd.DataFrame(0, columns=category_genes.keys(), index=gene_list))\n",
    "\n",
    "    for cat in category_genes.keys():\n",
    "        gs = category_genes[cat]\n",
    "        for id_hit in np.where(np.in1d(gene_list,gs))[0]:\n",
    "            cat_hits_df.at[gene_list[id_hit], cat]=1\n",
    "\n",
    "    non_zero_cols = cat_hits_df.columns[cat_hits_df.sum(axis=0) > 0]\n",
    "    \n",
    "    if preset_colormap:\n",
    "        gsea_cats = list(preset_colormap.keys())\n",
    "    else:\n",
    "        gsea_cats = np.array([]) \n",
    "        \n",
    "    cat_hits_df = (cat_hits_df>0).astype(int)\n",
    "    non_gsea_cats = np.setdiff1d(non_zero_cols, gsea_cats)\n",
    "    non_gsea_sorted_cats = cat_hits_df[non_gsea_cats].sum(axis=0).sort_values().index\n",
    "    cols_appearing_in_plot = np.append(gsea_cats,non_gsea_sorted_cats)[::-1]\n",
    "    cat_hits_df_toplot=cat_hits_df[cols_appearing_in_plot]\n",
    "\n",
    "    \n",
    "    ### ADD TO OLD COLORMAPPER OR CREATE NEW COLORMAPPER\n",
    "    if preset_colormap:\n",
    "        new_color_mapper = copy.copy(preset_colormap)\n",
    "        set_colors_from_before = list(new_color_mapper.keys())\n",
    "    else:\n",
    "        new_color_mapper = {}\n",
    "        set_colors_from_before = np.array([])\n",
    "    \n",
    "    missed_top_cats = np.setdiff1d(cols_appearing_in_plot[::-1], set_colors_from_before, assume_unique=True)[::-1]\n",
    "\n",
    "    num_to_add =len(cmaplist) - len(set_colors_from_before)\n",
    "    for i,group in enumerate(missed_top_cats[:num_to_add-1]):\n",
    "        new_color_mapper[group] = cmaplist[i+len(set_colors_from_before)]\n",
    "    for group in missed_top_cats[num_to_add-1:]:\n",
    "        new_color_mapper[group] = cmaplist[-1]\n",
    "\n",
    "    return cat_hits_df_toplot, new_color_mapper"
   ]
  },
  {
   "cell_type": "code",
   "execution_count": null,
   "metadata": {},
   "outputs": [],
   "source": [
    "cat_hits_df_toplot,new_cmapper  =  gene_member_mx_cmapper(genes_to_check, category_genes,cmaplist, cmapper)"
   ]
  },
  {
   "cell_type": "code",
   "execution_count": null,
   "metadata": {},
   "outputs": [],
   "source": [
    "\n",
    "fig,axes = plt.subplots(3,figsize=(5,5), sharey=\"row\", sharex=\"col\", gridspec_kw ={\"height_ratios\":[2, 2,2]})\n",
    "\n",
    "a = axes[0]\n",
    "b = axes[1]\n",
    "c = axes[2]\n",
    "temp_plot_xax = np.arange(len(top_interaction_idxs))\n",
    "\n",
    "# --------------------- gene geneset heatmap ----------------------------------#\n",
    "col_plot_id = 0\n",
    "for col_idx,key in enumerate(cmapper):\n",
    "#     print(key)\n",
    "    to_plot_genes_in_cat = np.intersect1d(gene_symbols[top_interaction_idxs],np.intersect1d(gene_symbols,category_genes[key]))\n",
    "    gene_idxs = np.array([list(gene_symbols[top_interaction_idxs]).index(x) for x in to_plot_genes_in_cat])\n",
    "    if len(gene_idxs)>0:\n",
    "        for j in gene_idxs:\n",
    "            c.scatter(j, len(cmapper)-col_plot_id, color = cmapper[key], marker=\"s\", s=100)\n",
    "        col_plot_id += 1\n",
    "\n",
    "#-------------------- gene - interaction signs --------------------------------#\n",
    "a.bar(np.arange(len(temp_plot_xax)), interaction_coefs[interaction_phen][top_interaction_idxs], align='center', width=.8,color=\"#cccccc\")\n",
    "a.plot([-.5,len(temp_plot_xax)-.5], [0]*2, color=\"black\", linewidth=.8)\n",
    "\n",
    "\n",
    "#--------------------- gene - interaction value bar chart ----------------------#\n",
    "    \n",
    "b.bar(np.arange(len(temp_plot_xax)), -np.log10(fdr_interaction_pvals[interaction_phen][top_interaction_idxs]), align='center', width=.8,color=\"#cccccc\")\n",
    "b.plot([-.5,len(temp_plot_xax)-.5], [-np.log10(SIG)]*2, color=\"#aaaaaa\", linestyle=\"--\")\n",
    "b.set_xlim(-.5,len(temp_plot_xax)-.5)\n",
    "\n",
    "#-------------------- formatting -----------------------------------------------#\n",
    "\n",
    "a.spines['right'].set_visible(False)\n",
    "a.spines['top'].set_visible(False)\n",
    "a.spines['bottom'].set_visible(False)\n",
    "a.set_facecolor('None')\n",
    "\n",
    "b.spines['right'].set_visible(False)\n",
    "b.spines['top'].set_visible(False)\n",
    "b.set_facecolor('None')\n",
    "\n",
    "c.axis(\"off\")\n",
    "c.set_facecolor('None')\n",
    "\n",
    "    \n",
    "fig.tight_layout()\n"
   ]
  },
  {
   "cell_type": "code",
   "execution_count": null,
   "metadata": {
    "scrolled": false
   },
   "outputs": [],
   "source": [
    "to_check = \"sex_m\"\n",
    "plot_residuals=False\n",
    "\n",
    "\n",
    "if to_check==\"pathway expression\":\n",
    "    pathway_expression = np.mean(ge[:,np.where(np.in1d(gene_symbols,category_genes[p]))[0]],axis=1)\n",
    "    # make it mean=.5, std=.5\n",
    "    pathway_expression = stats.zscore(pathway_expression)/2 + .5\n",
    "    continuous_cmap = matplotlib.colors.LinearSegmentedColormap.from_list(\"\", [cmaplist[0],cmaplist[1],cmaplist[7],cmaplist[6]])\n",
    "    c = np.array([continuous_cmap(x) for x in pathway_expression])\n",
    "    categorical =False\n",
    "elif len(merged_phenotypes[to_check].unique())<=20:\n",
    "    color0,color1 = plotting_functions.get_colors_legends(np.array([0,1]), \"Set1\", 1)[0]\n",
    "    c, legend_patches = plotting_functions.get_colors_legends(np.array(merged_phenotypes[to_check]), \"Set1\", 1)\n",
    "    categorical = True\n",
    "else:\n",
    "    continuous_cmap = matplotlib.colors.LinearSegmentedColormap.from_list(\"\", [cmaplist[0],cmaplist[1],cmaplist[7],cmaplist[6]])\n",
    "    normed_vals = (merged_phenotypes[to_check] -  merged_phenotypes[to_check].min())/(merged_phenotypes[to_check].max()-merged_phenotypes[to_check].min())\n",
    "    normed_vals = stats.zscore(merged_phenotypes[to_check])/2 + .5\n",
    "    c = np.array([continuous_cmap(x) for x in normed_vals])\n",
    "    categorical =False\n",
    "\n",
    "\n",
    "num_cols = min(5,len(genes_to_check))\n",
    "num_rows = int(np.ceil(len(genes_to_check)/num_cols))\n",
    "\n",
    "\n",
    "if categorical:\n",
    "    from matplotlib.lines import Line2D\n",
    "    leg_ax = plt.subplot()  #create the axes \n",
    "    leg_ax.set_axis_off()  #turn off the axis \n",
    "    leg_ax.legend(handles=legend_patches, bbox_to_anchor=(1.1, 1.05));\n",
    "\n",
    "#####################################\n",
    "\n",
    "num_cols = min(3,len(genes_to_check))\n",
    "num_rows = int(np.ceil(len(genes_to_check)/num_cols))\n",
    "\n",
    "f,ax = plt.subplots(num_rows, num_cols, figsize=(15,10))\n",
    "\n",
    "for i,g in enumerate(genes_to_check):\n",
    "\n",
    "    row=int(i/num_cols)\n",
    "    col=int(i%num_cols)\n",
    "\n",
    "    g_id = np.where(gene_symbols == g)[0][0]\n",
    "\n",
    "    sub_id = np.arange(len(IG_samples))\n",
    "    sub_id = copy.deepcopy(sub_id)\n",
    "\n",
    "    random.shuffle(sub_id)\n",
    "\n",
    "    if to_check==\"pathway_expression\":\n",
    "        TEMP = np.column_stack([ge[:,g_id], pathway_expression, ge[:,g_id]*pathway_expression])\n",
    "    else:\n",
    "        TEMP = np.column_stack([ge[:,g_id], np.array(merged_phenotypes[to_check]), ge[:,g_id]*np.array(merged_phenotypes[to_check])])\n",
    "    y = IG_samples[:, g_id]\n",
    "    TEMP2 = sm.add_constant(TEMP)\n",
    "    est = sm.OLS(y, TEMP2)\n",
    "    est2 = est.fit()\n",
    "    interaction_pval = est2.pvalues[3]\n",
    "    interaction_coeff = est2.params[3]\n",
    "\n",
    "\n",
    "    if plot_residuals:\n",
    "        mod = linear_model.LinearRegression()\n",
    "        mod.fit(ge[sub_id][:,g_id].reshape(-1,1), IG_samples[sub_id][:,g_id])\n",
    "        residuals = mod.predict(ge[sub_id][:,g_id].reshape(-1,1)) - IG_samples[sub_id][:,g_id]            \n",
    "        ax[row,col].scatter(ge[sub_id][:,g_id], residuals, alpha=.3, c=a)\n",
    "        ax[row,col].set_ylim(residuals.min(), residuals.max())\n",
    "    else:\n",
    "        ax[row,col].scatter(ge[sub_id][:,g_id], IG_samples[sub_id][:,g_id], alpha=.3, c=c[sub_id])\n",
    "        ax[row,col].set_ylim(IG_samples[sub_id][:,g_id].min(), IG_samples[sub_id][:,g_id].max())\n",
    "\n",
    "    xs = np.arange(100)/100\n",
    "\n",
    "    ax[row,col].plot(xs,est2.predict(np.vstack([np.ones(100), xs, np.zeros(100), 0*xs]).T), c=\"white\", linewidth=3)\n",
    "    ax[row,col].plot(xs,est2.predict(np.vstack([np.ones(100), xs, np.ones(100), xs]).T), c=\"white\", linewidth=3)\n",
    "\n",
    "    ax[row,col].plot(xs,est2.predict(np.vstack([np.ones(100), xs, np.zeros(100), 0*xs]).T), c=color0)\n",
    "    ax[row,col].plot(xs,est2.predict(np.vstack([np.ones(100), xs, np.ones(100), xs]).T), c=color1)\n",
    "\n",
    "    \n",
    "    ax[row,col].set_facecolor('None')    \n",
    "    ax[row,col].spines['right'].set_visible(False)\n",
    "    ax[row,col].spines['top'].set_visible(False)\n",
    "    ax[row,col].set_title(\"%s \\n(coef: %f, \\npval: %f )\"%(g, interaction_coeff, interaction_pval))\n",
    "    ax[row,col].set_ylim(max(-.00005, np.min(IG_samples[:,g_id])-.00001) , min(.00033, np.max(IG_samples[:,g_id])+.00001))\n",
    "    ax[row,col].set_xlim(max(-.2, np.min(ge[:,g_id])-.00001) , min(1.2, np.max(ge[:,g_id])+.00001))\n",
    "\n",
    "f.suptitle(to_check)\n",
    "f.tight_layout()\n",
    "# if plot_residuals:\n",
    "#     plt.savefig(\"%s%s_residuals.png\"%(savepath, \"~\".join(p.split(\"/\"))))\n",
    "# else:\n",
    "#     plt.savefig(\"%s%s.png\"%(savepath, \"~\".join(p.split(\"/\"))))"
   ]
  }
 ],
 "metadata": {
  "kernelspec": {
   "display_name": "Python [conda env:py36-test2]",
   "language": "python",
   "name": "conda-env-py36-test2-py"
  },
  "language_info": {
   "codemirror_mode": {
    "name": "ipython",
    "version": 3
   },
   "file_extension": ".py",
   "mimetype": "text/x-python",
   "name": "python",
   "nbconvert_exporter": "python",
   "pygments_lexer": "ipython3",
   "version": "3.7.5"
  }
 },
 "nbformat": 4,
 "nbformat_minor": 2
}
