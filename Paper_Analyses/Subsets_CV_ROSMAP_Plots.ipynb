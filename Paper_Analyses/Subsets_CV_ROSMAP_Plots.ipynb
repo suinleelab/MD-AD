{
 "cells": [
  {
   "cell_type": "code",
   "execution_count": 1,
   "metadata": {},
   "outputs": [
    {
     "name": "stderr",
     "output_type": "stream",
     "text": [
      "/home/nbbwang/anaconda3/lib/python3.6/site-packages/h5py/__init__.py:34: FutureWarning: Conversion of the second argument of issubdtype from `float` to `np.floating` is deprecated. In future, it will be treated as `np.float64 == np.dtype(float).type`.\n",
      "  from ._conv import register_converters as _register_converters\n"
     ]
    }
   ],
   "source": [
    "# PACKAGES\n",
    "import matplotlib.pyplot as plt\n",
    "import matplotlib.patches as mpatches\n",
    "import itertools\n",
    "import numpy as np\n",
    "import ast\n",
    "import os\n",
    "import h5py\n",
    "import scipy\n",
    "import pandas as pd\n",
    "\n",
    "from sklearn import metrics\n",
    "from scipy import stats as ss\n",
    "import matplotlib as mpl\n",
    "\n",
    "%matplotlib inline\n",
    "from scipy import stats\n",
    "\n",
    "import seaborn as  sns\n",
    "import pickle\n",
    "from itertools import chain, combinations"
   ]
  },
  {
   "cell_type": "code",
   "execution_count": 2,
   "metadata": {
    "collapsed": true
   },
   "outputs": [],
   "source": [
    "path_to_ROSMAP_subsets_CV_results = \"../../Pipeline_Outputs_Submitted/origGE/results/MTL/ROSMAP_CV_subsets_results.csv\""
   ]
  },
  {
   "cell_type": "code",
   "execution_count": 3,
   "metadata": {
    "collapsed": true
   },
   "outputs": [],
   "source": [
    "cmap=plt.cm.tab20\n",
    "cmaplist = [cmap(i) for i in range(cmap.N)]\n",
    "light_phenotype_colors = {\"CERAD\": cmaplist[3], \"PLAQUES\": cmaplist[7],  \"ABETA_IHC\": cmaplist[11], \n",
    "                    \"BRAAK\": cmaplist[5], \"TANGLES\": cmaplist[1], \"TAU_IHC\": cmaplist[9]}\n",
    "\n",
    "phenotype_colors = {\"CERAD\": cmaplist[2], \"PLAQUES\": cmaplist[6],  \"ABETA_IHC\": cmaplist[10], \n",
    "                    \"BRAAK\": cmaplist[4], \"TANGLES\": cmaplist[0], \"TAU_IHC\": cmaplist[8]}"
   ]
  },
  {
   "cell_type": "code",
   "execution_count": 4,
   "metadata": {
    "collapsed": true
   },
   "outputs": [],
   "source": [
    "# df= pickle.load(open(path_to_ROSMAP_subsets_CV_results, \"rb\" ) )\n",
    "df= pd.read_csv(path_to_ROSMAP_subsets_CV_results)\n",
    "df = df.drop(\"Fold\",axis=1).replace(0, np.nan)"
   ]
  },
  {
   "cell_type": "code",
   "execution_count": 5,
   "metadata": {
    "collapsed": true
   },
   "outputs": [],
   "source": [
    "dset_avail = {\"A\": np.array([\"CERAD\", \"ABETA_IHC\", \"BRAAK\", \"TAU_IHC\"]), \n",
    "             \"M\": np.array([\"CERAD\", \"PLAQUES\", \"BRAAK\"]),\n",
    "             \"R\": np.array([\"CERAD\", \"PLAQUES\",  \"ABETA_IHC\", \"BRAAK\", \"TANGLES\", \"TAU_IHC\"])}"
   ]
  },
  {
   "cell_type": "code",
   "execution_count": 6,
   "metadata": {
    "collapsed": true
   },
   "outputs": [],
   "source": [
    "# M should actually be 879, but its the same as A+R, so i changed it for plotting purposes\n",
    "dset_sizes = {\"A\": 337, \"M\": 870, \"R\": 550}"
   ]
  },
  {
   "cell_type": "code",
   "execution_count": 7,
   "metadata": {
    "collapsed": true
   },
   "outputs": [],
   "source": [
    "\n",
    "def powerset(iterable):\n",
    "    s = list(iterable)\n",
    "    return list(chain.from_iterable(combinations(s, r) for r in range(len(s)+1)))[1:]\n",
    "\n",
    "\n",
    "subset_sizes = {}\n",
    "subset_variables = {}\n",
    "\n",
    "for subset in list(powerset(dset_sizes.keys())):\n",
    "    subset_name = \"\".join(subset)\n",
    "    subset_variables[subset_name] = np.array([])\n",
    "    subset_sizes[subset_name] = 0\n",
    "    for elt in subset:\n",
    "        subset_variables[subset_name] = np.union1d(subset_variables[subset_name], dset_avail[elt])\n",
    "        subset_sizes[subset_name] += dset_sizes[elt]\n",
    "\n",
    "    "
   ]
  },
  {
   "cell_type": "code",
   "execution_count": 8,
   "metadata": {
    "collapsed": true
   },
   "outputs": [],
   "source": [
    "grouped_means = df.groupby(['Phenotype', \"Subset\"]).mean()\n",
    "means = pd.DataFrame(grouped_means.to_records(), columns=[\"Phenotype\", \"Subset\", \"Val\"])\n",
    "\n",
    "grouped_sems = df.groupby(['Phenotype', 'Subset']).sem()\n",
    "sems = pd.DataFrame(grouped_sems.to_records(), columns=[\"Phenotype\", \"Subset\", \"Val\"])"
   ]
  },
  {
   "cell_type": "code",
   "execution_count": 9,
   "metadata": {
    "collapsed": true
   },
   "outputs": [],
   "source": [
    "means[\"Sizes\"] = means[\"Subset\"].apply(lambda x: subset_sizes[x])\n",
    "means[\"Colors\"] = means[\"Phenotype\"].apply(lambda x: phenotype_colors[x])\n",
    "means[\"Light_Colors\"] = means[\"Phenotype\"].apply(lambda x: light_phenotype_colors[x])\n",
    "\n",
    "means[\"Shape\"] = means[\"Subset\"].apply(lambda x: \"D\" if \"R\" in x else \"o\")"
   ]
  },
  {
   "cell_type": "code",
   "execution_count": 10,
   "metadata": {
    "collapsed": true
   },
   "outputs": [],
   "source": [
    "means_1 = means[means[\"Phenotype\"].isin([\"CERAD\", \"PLAQUES\", \"ABETA_IHC\"])]\n",
    "means_2 = means[means[\"Phenotype\"].isin([\"BRAAK\", \"TANGLES\", \"TAU_IHC\"])]"
   ]
  },
  {
   "cell_type": "code",
   "execution_count": 11,
   "metadata": {},
   "outputs": [
    {
     "name": "stderr",
     "output_type": "stream",
     "text": [
      "/home/nbbwang/anaconda3/lib/python3.6/site-packages/ipykernel_launcher.py:9: SettingWithCopyWarning: \n",
      "A value is trying to be set on a copy of a slice from a DataFrame.\n",
      "Try using .loc[row_indexer,col_indexer] = value instead\n",
      "\n",
      "See the caveats in the documentation: http://pandas.pydata.org/pandas-docs/stable/indexing.html#indexing-view-versus-copy\n",
      "  if __name__ == '__main__':\n",
      "/home/nbbwang/anaconda3/lib/python3.6/site-packages/pandas/core/indexing.py:543: SettingWithCopyWarning: \n",
      "A value is trying to be set on a copy of a slice from a DataFrame.\n",
      "Try using .loc[row_indexer,col_indexer] = value instead\n",
      "\n",
      "See the caveats in the documentation: http://pandas.pydata.org/pandas-docs/stable/indexing.html#indexing-view-versus-copy\n",
      "  self.obj[item] = s\n",
      "/home/nbbwang/anaconda3/lib/python3.6/site-packages/ipykernel_launcher.py:13: SettingWithCopyWarning: \n",
      "A value is trying to be set on a copy of a slice from a DataFrame.\n",
      "Try using .loc[row_indexer,col_indexer] = value instead\n",
      "\n",
      "See the caveats in the documentation: http://pandas.pydata.org/pandas-docs/stable/indexing.html#indexing-view-versus-copy\n",
      "  del sys.path[0]\n",
      "/home/nbbwang/anaconda3/lib/python3.6/site-packages/ipykernel_launcher.py:18: SettingWithCopyWarning: \n",
      "A value is trying to be set on a copy of a slice from a DataFrame.\n",
      "Try using .loc[row_indexer,col_indexer] = value instead\n",
      "\n",
      "See the caveats in the documentation: http://pandas.pydata.org/pandas-docs/stable/indexing.html#indexing-view-versus-copy\n",
      "/home/nbbwang/anaconda3/lib/python3.6/site-packages/ipykernel_launcher.py:19: SettingWithCopyWarning: \n",
      "A value is trying to be set on a copy of a slice from a DataFrame.\n",
      "Try using .loc[row_indexer,col_indexer] = value instead\n",
      "\n",
      "See the caveats in the documentation: http://pandas.pydata.org/pandas-docs/stable/indexing.html#indexing-view-versus-copy\n"
     ]
    }
   ],
   "source": [
    "def get_num_labels(row):\n",
    "    dsets_w_phen = np.array([k for k in dset_avail.keys() if row[\"Phenotype\"] in dset_avail[k]])\n",
    "    training_dsets_w_phen = np.intersect1d(list(row[\"Subset\"]), dsets_w_phen)\n",
    "    num_labels = 0\n",
    "    for dset in training_dsets_w_phen:\n",
    "        num_labels += dset_sizes[dset]\n",
    "    return num_labels\n",
    "\n",
    "means_1[\"num_labels\"] = 0\n",
    "for i,row in means_1.iterrows():\n",
    "    means_1.loc[i, \"num_labels\"] = get_num_labels(row)\n",
    "\n",
    "means_2[\"num_labels\"] = 0 \n",
    "for i,row in means_2.iterrows():\n",
    "    means_2.loc[i, \"num_labels\"] = get_num_labels(row)\n",
    "\n",
    "    \n",
    "means_1[\"Light_Colors\"] = \"#cccccc\"\n",
    "means_2[\"Light_Colors\"] = \"#cccccc\""
   ]
  },
  {
   "cell_type": "code",
   "execution_count": 12,
   "metadata": {
    "scrolled": true
   },
   "outputs": [
    {
     "data": {
      "image/png": "[encoded data removed]",
      "text/plain": [
       "<Figure size 360x720 with 2 Axes>"
      ]
     },
     "metadata": {
      "needs_background": "light"
     },
     "output_type": "display_data"
    }
   ],
   "source": [
    "f,axs = plt.subplots(2,1, figsize=(5,10), sharey=True)\n",
    "for ax_id,toplot in enumerate([means_1, means_2]):\n",
    "\n",
    "    for x in toplot[\"Sizes\"].unique():\n",
    "        axs[ax_id].axvline(x, alpha=.3, color=\"gray\")\n",
    "        \n",
    "    for i,subdf in toplot.groupby([\"Phenotype\", \"Shape\"]):\n",
    "        temp = subdf.sort_values(\"Sizes\")\n",
    "        temp = temp.dropna()\n",
    "        if subdf[\"Shape\"].values[0] == \"o\":\n",
    "            ls = \"--\"\n",
    "        else: \n",
    "            ls = \"-\"\n",
    "            \n",
    "        if len(temp)>0:\n",
    "            axs[ax_id].plot(temp[\"Sizes\"], temp[\"Val\"], c=temp[\"Colors\"].values[0], alpha=.3, ls=ls)\n",
    "    \n",
    "    for markertype in toplot[\"Shape\"].unique():\n",
    "        subdf = toplot[toplot[\"Shape\"]==markertype]\n",
    "        axs[ax_id].scatter(subdf[\"Sizes\"], subdf[\"Val\"], c=subdf[\"Light_Colors\"], marker=markertype, s=subdf[\"Sizes\"]/5, alpha=.9)#, edgecolors=subdf[\"Colors\"])\n",
    "        axs[ax_id].scatter(subdf[\"Sizes\"], subdf[\"Val\"], c=subdf[\"Colors\"], marker=markertype, s=subdf[\"num_labels\"]/5, alpha=.9)\n",
    "\n",
    "    axs[ax_id].spines['right'].set_visible(False)\n",
    "    axs[ax_id].spines['top'].set_visible(False)\n",
    "    axs[ax_id].xaxis.set_major_locator(plt.MaxNLocator(4))\n",
    "    axs[ax_id].set_facecolor(\"None\")\n",
    "\n"
   ]
  }
 ],
 "metadata": {
  "kernelspec": {
   "display_name": "Python 3",
   "language": "python",
   "name": "python3"
  },
  "language_info": {
   "codemirror_mode": {
    "name": "ipython",
    "version": 3
   },
   "file_extension": ".py",
   "mimetype": "text/x-python",
   "name": "python",
   "nbconvert_exporter": "python",
   "pygments_lexer": "ipython3",
   "version": "3.6.6"
  }
 },
 "nbformat": 4,
 "nbformat_minor": 2
}
