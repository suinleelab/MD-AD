{
 "cells": [
  {
   "cell_type": "code",
   "execution_count": 1,
   "metadata": {},
   "outputs": [],
   "source": [
    "import h5py\n",
    "import numpy as np\n",
    "from matplotlib import pyplot as plt\n",
    "import pickle\n",
    "import matplotlib.patches as mpatches\n",
    "import pandas as pd\n",
    "import matplotlib\n",
    "import matplotlib as mpl\n",
    "from sklearn.manifold import TSNE\n",
    "from sklearn.decomposition import PCA\n",
    "from sklearn.cluster import KMeans\n",
    "import os\n",
    "import seaborn as sns\n",
    "import scipy\n",
    "from matplotlib import cm\n",
    "import copy\n",
    "%matplotlib inline\n",
    "from scipy import stats\n",
    "import sys\n",
    "import plotting_functions\n",
    "from tsne_plotting_functions import plot_continuous_tsne, plot_categorical_tsne\n"
   ]
  },
  {
   "cell_type": "markdown",
   "metadata": {},
   "source": [
    "### dementia/cognition (attempting to harmonize across datasets)"
   ]
  },
  {
   "cell_type": "markdown",
   "metadata": {},
   "source": [
    "#### ROSMAP:\n",
    "\n",
    "cogdx: value coding\n",
    "- 1 -  NCI, No cognitive impairment (No impaired domains)\n",
    "- 2 -  MCI, Mild cognitive impairment (One impaired domain) and NO other cause of CI\n",
    "- 3 - MCI, Mild cognitive impairment (One impaired domain) AND another cause of CI\n",
    "- 4 -  AD, Alzheimer’s disease and NO other cause of CI *(NINCDS PROB AD)*\n",
    "- 5 -  AD, Alzheimer’s disease AND another cause of CI *(NINCDS POSS AD)*\n",
    "- 6 -  Other dementia. Other primary cause of dementia\n",
    "\n",
    "#### MSBB:\n",
    " Based on CDR classification, subjects are grouped as no cognitive deficits (CDR = 0), questionable dementia (CDR = 0.5), mild dementia (CDR = 1.0), moderate dementia (CDR = 2.0), and severe to terminal dementia (CDR = 3.0–5.0).\n"
   ]
  },
  {
   "cell_type": "code",
   "execution_count": 2,
   "metadata": {},
   "outputs": [],
   "source": [
    "# MSBB:\n",
    "def convert_MSBB_to_cognition_groups(val):\n",
    "    if val < 1:\n",
    "        return \"No dementia\"\n",
    "    elif val == 1:\n",
    "        return \"Mild impairment\"\n",
    "    elif val >= 2:\n",
    "        return \"Dementia\"\n",
    "    else:\n",
    "        return pd.null\n",
    "    \n",
    "sample_to_individual = pd.read_csv(\"/projects/leelab2/data/AD_DATA/Nicasia/raw/MSBB/Metadata/OUTDATED/msbb_rnaseq_covariates_OUTDATED.csv\")\n",
    "individual_to_CDR = pd.read_csv(\"/projects/leelab2/data/AD_DATA/Nicasia/raw/MSBB/Metadata/OUTDATED/msbb_clinical_OUTDATED.csv\")\n",
    "sample_to_CDR = sample_to_individual.merge(individual_to_CDR, on=\"individualIdentifier\")\n",
    "sample_to_CDR[\"sample_name\"] = sample_to_CDR[\"barcode\"]\n",
    "sample_to_CDR[\"cognition_groups\"] = sample_to_CDR[\"CDR\"].apply(convert_MSBB_to_cognition_groups)\n",
    "MSBB_sample_to_CDR = sample_to_CDR[[\"sample_name\", \"CDR\", \"cognition_groups\"]].drop_duplicates()\n",
    "MSBB_sample_to_CDR[\"sample_name\"] = MSBB_sample_to_CDR[\"sample_name\"].astype(str)"
   ]
  },
  {
   "cell_type": "code",
   "execution_count": 4,
   "metadata": {},
   "outputs": [],
   "source": [
    "# ACT:\n",
    "\n",
    "sample_to_donor = pd.read_csv(\"/projects/leelab2/data/AD_DATA/Nicasia/raw/ACT/columns-samples.csv\")\n",
    "donor_to_nincds_diagnosis = pd.read_csv(\"/projects/leelab2/data/AD_DATA/Nicasia/raw/ACT/DonorInformation.csv\")\n",
    "\n",
    "sample_to_nincds = donor_to_nincds_diagnosis.merge(sample_to_donor, on=\"donor_id\")\n",
    "sample_to_nincds[\"sample_name\"] = sample_to_nincds[\"rnaseq_profile_id\"].astype(str)\n",
    "sample_to_nincds[\"nincds_arda_diagnosis\"] = sample_to_nincds[\"nincds_arda_diagnosis\"].apply(lambda x: x.replace(\",\",\"-\"))\n",
    "ACT_sample_to_nincds = sample_to_nincds[[\"sample_name\", \"nincds_arda_diagnosis\"]]\n",
    "\n",
    "\n",
    "# # ROSMAP:\n",
    "def convert_rosmap_cogdx_to_nincds(val):\n",
    "    if val in [1,2,3]:\n",
    "        return \"No dementia\"\n",
    "    elif val == 4:\n",
    "        return \"Probable Alzheimer's Disease\"\n",
    "    elif val == 5:\n",
    "        return \"Possible Alzheimer's Disease\"\n",
    "    elif val == 6:\n",
    "        return \"Dementia- type unknown\"\n",
    "    else:\n",
    "        return pd.null\n",
    "    \n",
    "def convert_rosmap_cogdx_to_cognition_groups(val):\n",
    "    if val == 1:\n",
    "        return \"No dementia\"\n",
    "    elif val in [2,3]:\n",
    "        return \"Mild impairment\"\n",
    "    elif val > 3:\n",
    "        return \"Dementia\"\n",
    "    else:\n",
    "        return pd.null\n",
    "    \n",
    "    \n",
    "\n",
    "sample_to_nincds = pd.read_csv(\"/projects/leelab2/data/AD_DATA/Nicasia/processed/samples_covars_all/ROSMAP_GE1.tsv\", sep=\"\\t\")\n",
    "sample_to_nincds[\"nincds_arda_diagnosis\"] = sample_to_nincds[\"cogdx\"].apply(convert_rosmap_cogdx_to_nincds)\n",
    "sample_to_nincds[\"cognition_groups\"] = sample_to_nincds[\"cogdx\"].apply(convert_rosmap_cogdx_to_cognition_groups)\n",
    "\n",
    "ROSMAP_sample_to_nincds = sample_to_nincds[[\"sample_name\", \"nincds_arda_diagnosis\", \"cognition_groups\"]].drop_duplicates()\n",
    "ROSMAP_sample_to_nincds[\"sample_name\"] = ROSMAP_sample_to_nincds[\"sample_name\"].astype(str)\n",
    "\n",
    "sample_to_nincds = pd.concat([ACT_sample_to_nincds, ROSMAP_sample_to_nincds], sort=True)"
   ]
  },
  {
   "cell_type": "markdown",
   "metadata": {},
   "source": [
    "# Load data"
   ]
  },
  {
   "cell_type": "code",
   "execution_count": 5,
   "metadata": {},
   "outputs": [],
   "source": [
    "phenotypes = [\"CERAD\", \"BRAAK\", \"PLAQUES\", \"TANGLES\", \"ABETA_IHC\", \"TAU_IHC\"]\n",
    "\n",
    "# # normed:\n",
    "path_to_MDAD_labels = \"../../DATA/MTL_data/labels.csv\"\n",
    "MDAD_labels = pd.read_csv(path_to_MDAD_labels)\n",
    "\n",
    "# merged covars:\n",
    "merged_covars = pd.read_csv('../../DATA/MTL_data/merged_phenotypes_w_apoe.csv')"
   ]
  },
  {
   "cell_type": "code",
   "execution_count": 6,
   "metadata": {},
   "outputs": [],
   "source": [
    "merged_covars[\"apoe_4\"] = merged_covars[\"apoe\"].apply(lambda x: np.nan if pd.isnull(x) else int(\"4\" in str(x)))"
   ]
  },
  {
   "cell_type": "code",
   "execution_count": 7,
   "metadata": {},
   "outputs": [],
   "source": [
    "tmp = sample_to_nincds.merge(MSBB_sample_to_CDR, how=\"outer\", on=[\"sample_name\", \"cognition_groups\"])"
   ]
  },
  {
   "cell_type": "code",
   "execution_count": 8,
   "metadata": {},
   "outputs": [],
   "source": [
    "merged_covars = merged_covars.merge(tmp,on=\"sample_name\", how=\"left\")"
   ]
  },
  {
   "cell_type": "markdown",
   "metadata": {},
   "source": [
    "### Available variables:\n",
    "\n",
    "- Mayo:   Diagnosis, Tissue, Gender, AgeAtDeath, ApoE, PMI, RIN\n",
    "- HBTRC:   region (different files), disease, age, gender, pmi, ph, rin\n",
    "- MSBB array:  region (different files), PMI, pH, Sex, Race, Age, CDR (Braak\tNP1\tPLQ_Mn\tNPrSum\tNTrSum)\n",
    "- ACT:  structure_acronym, gender, race, white, education, autopsyage, anydementia, anyad????, apoe_raw, \n",
    "- ROSMAP: cogdx, age_death, educ, msex, race, spanish, apoe_genotype, ad_reagan, \n",
    "- MSBB RNA: BrodmannArea, RIN, PMI, RACE, AOD, CDR, SEX, NP.1"
   ]
  },
  {
   "cell_type": "code",
   "execution_count": 9,
   "metadata": {},
   "outputs": [],
   "source": [
    "def compare_continuous(var, dset, dset_to_compare):\n",
    "    if var in phenotypes:\n",
    "        df1 = MDAD_labels[MDAD_labels[\"filename\"]==dset]\n",
    "        df2 = MDAD_labels[MDAD_labels[\"filename\"]==dset_to_compare]\n",
    "    else:\n",
    "        df1 = merged_covars[merged_covars[\"filename\"]==dset]\n",
    "        df2 = merged_covars[merged_covars[\"filename\"]==dset_to_compare]\n",
    "\n",
    "   \n",
    "    vals1 = df1[var].dropna().values.astype(float)\n",
    "    vals2 = df2[var].dropna().values.astype(float)\n",
    "    \n",
    "    annot = dset_to_compare[0]\n",
    "    if len(vals1)>0 and len(vals2)>0:\n",
    "        t,p = stats.ttest_ind(vals1,vals2)\n",
    "        p_stars = annot*3 if p<.001 else annot*2 if p <.01 else annot if p < .05 else \"\"\n",
    "    else:\n",
    "        p_stars = \"\"\n",
    "    \n",
    "    return(p_stars)\n",
    "\n",
    "\n",
    "\n",
    "def compare_categorical(var, dset, dset_to_compare):\n",
    "\n",
    "    df1 = merged_covars[merged_covars[\"filename\"]==dset]\n",
    "    df2 = merged_covars[merged_covars[\"filename\"]==dset_to_compare]\n",
    "\n",
    "    vals1 = df1[var]\n",
    "    vals2 = df2[var]\n",
    "    unique_vals = np.unique(np.hstack([vals1.dropna().values, vals2.dropna().values]))\n",
    "    \n",
    "    if len(vals1.dropna().values)==0 or len(vals2.dropna().values)==0:\n",
    "        return(\"\")\n",
    "\n",
    "    annot = dset_to_compare[0]\n",
    "    \n",
    "    \n",
    "     # create dictionary of counts for observed values of feature\n",
    "    valcounts1 = {}\n",
    "    for i,v in enumerate(vals1.value_counts().index):\n",
    "        valcounts1[v] = vals1.value_counts().values[i]\n",
    "    valcounts2 = {}\n",
    "    for i,v in enumerate(vals2.value_counts().index):\n",
    "        valcounts2[v] = vals2.value_counts().values[i]\n",
    "\n",
    "    for v in unique_vals:\n",
    "        if v not in valcounts1.keys():\n",
    "            valcounts1[v]=0\n",
    "        if v not in valcounts2.keys():\n",
    "            valcounts2[v]=0            \n",
    "\n",
    "    #get union of all values seen (just in case one of the groups has some 0s for some values)\n",
    "    all_vals = np.union1d(list(valcounts1.keys()), list(valcounts2.keys()))\n",
    "\n",
    "    # generate contingency table (shape: values observed x groups)\n",
    "    contingency_table = np.array([[valcounts1[elt], valcounts2[elt]] for elt in all_vals])\n",
    "\n",
    "    chi2_stat, p, dof, ex = stats.chi2_contingency(contingency_table)\n",
    "    p_stars = annot*3 if p<.001 else annot*2 if p <.01 else annot if p < .05 else \"\"\n",
    "    \n",
    "    return p_stars"
   ]
  },
  {
   "cell_type": "code",
   "execution_count": 10,
   "metadata": {},
   "outputs": [],
   "source": [
    "vars_to_show = {\n",
    "    \"BINARY\":[\"dementia\", \"sex_m\", \"race_w\", \"apoe_4\"],\n",
    "    \"CATEGORICAL\":[\"addx_to_death_cats\", \"region\", \"apoe\", \"nincds_arda_diagnosis\", \"cognition_groups\"],\n",
    "    \"CONTINUOUS\":[\"RIN\", \"PMI_hours\", \"age_censored\", \"edu\"],\n",
    "    \"MD-AD_PHENOTYPE\": phenotypes\n",
    "}"
   ]
  },
  {
   "cell_type": "code",
   "execution_count": 11,
   "metadata": {},
   "outputs": [
    {
     "name": "stdout",
     "output_type": "stream",
     "text": [
      "\n",
      "dementia,48.19 MMM  ,59.27 AAA RRR ,42.80  MMM ,\n",
      "sex_m,62.31 MMM RRR ,36.63 AAA  ,37.08 AAA  ,\n",
      "race_w,97.63 MMM  ,80.09 AAA RRR ,98.52  MMM ,\n",
      "apoe_4,21.47 MM  ,32.03 AA R ,24.91  M ,\n",
      "\n",
      "addx_to_death_cats,(0.0/1.0/2.0/3.0) 60.8/12.8/16.0/10.4   ,()    ,(0.0/1.0/2.0/3.0) 56.1/16.1/17.2/10.7   ,\n",
      "region,(FWM/HIP/PCx/TCx) 24.6/24.9/24.0/26.4 MMM RRR ,(BM10/BM22/BM36/BM44) 27.8/25.8/22.8/23.7 AAA RRR ,(DLPFC) 100.0 AAA MMM ,\n",
      "apoe,(23.0/24.0/33.0/34.0/44.0) 8.0/1.3/70.5/18.9/1.3 MMM R ,(22.0/23.0/24.0/33.0/34.0/44.0) 1.2/11.7/0.7/55.0/29.2/2.1 AAA RR ,(22.0/23.0/24.0/33.0/34.0/44.0) 0.9/13.1/2.2/61.1/21.8/0.9 A MM ,\n",
      "nincds_arda_diagnosis,(Dementia- type unknown/No dementia/Possible Alzheimer's Disease/Probable Alzheimer's Disease) 9.5/51.3/20.5/18.7  RRR ,()    ,(Dementia- type unknown/No dementia/Possible Alzheimer's Disease/Probable Alzheimer's Disease) 2.2/57.2/5.0/35.6 AAA  ,\n",
      "cognition_groups,()    ,(Dementia/Mild impairment/No dementia) 59.3/11.3/29.5  RRR ,(Dementia/Mild impairment/No dementia) 42.8/25.5/31.7  MMM ,\n",
      "\n",
      "RIN,6.35 +- 1.07 MMM  ,6.84 +- 1.47 AAA  ,nan +- nan   ,\n",
      "PMI_hours,nan +- nan   ,7.10 +- 5.33   ,7.16 +- 4.84   ,\n",
      "age_censored,86.97 +- 4.08 MMM  ,83.30 +- 7.52 AAA RRR ,86.55 +- 4.61  MMM ,\n",
      "edu,"
     ]
    },
    {
     "name": "stderr",
     "output_type": "stream",
     "text": [
      "/homes/gws/nbbwang/anaconda3/envs/py36-test2/lib/python3.7/site-packages/ipykernel_launcher.py:24: RuntimeWarning: Mean of empty slice\n",
      "/homes/gws/nbbwang/anaconda3/envs/py36-test2/lib/python3.7/site-packages/numpy/lib/nanfunctions.py:1666: RuntimeWarning: Degrees of freedom <= 0 for slice.\n",
      "  keepdims=keepdims)\n"
     ]
    },
    {
     "name": "stdout",
     "output_type": "stream",
     "text": [
      "14.31 +- 3.13  RRR ,nan +- nan   ,16.51 +- 3.49 AAA  ,\n",
      "\n",
      "CERAD,1.49 +- 1.08 (0.00-3.00) M  ,1.66 +- 1.28 (0.00-3.00) A  ,1.61 +- 1.16 (0.00-3.00)   ,\n",
      "BRAAK,3.45 +- 1.67 (0.00-6.00)   ,3.68 +- 1.86 (0.00-6.00)   ,3.37 +- 1.28 (0.00-6.00)   ,\n",
      "PLAQUES,NA,8.05 +- 8.79 (0.00-42.00)   ,0.73 +- 0.79 (0.00-4.96)   ,\n",
      "TANGLES,NA,NA,0.55 +- 0.73 (0.00-6.17)   ,\n",
      "ABETA_IHC,0.02 +- 0.02 (0.00-0.09)   ,NA,4.72 +- 5.21 (0.00-26.31)   ,\n",
      "TAU_IHC,0.02 +- 0.03 (0.00-0.11)  RRR ,NA,1.44 +- 5.68 (0.00-89.87) AAA  ,\n"
     ]
    }
   ],
   "source": [
    "for vartype in vars_to_show.keys():\n",
    "\n",
    "    for var in vars_to_show[vartype]:\n",
    "        print()\n",
    "        print(var, end=\",\")\n",
    "        for dset, df in merged_covars.groupby(\"filename\"):\n",
    "            phens_df = pd.read_csv(\"../../DATA/MTL_data/samples_neuropath_prenorm/%s\"%dset, delimiter=\"\\t\")\n",
    "\n",
    "            if vartype==\"BINARY\":\n",
    "                print(\"%.2f\"%(np.mean(df[var])*100), end = ' ')\n",
    "                for other_dset in np.setdiff1d(np.unique(merged_covars[\"filename\"]), dset):\n",
    "                    print(compare_categorical(var, dset, other_dset), end=' ')\n",
    "                print(\"\",end=\",\")\n",
    "\n",
    "            elif vartype==\"CATEGORICAL\":\n",
    "                vals,counts=np.unique(df[var].dropna(), return_counts=True)\n",
    "                print(\"(%s) %s\"%(\"/\".join(vals.astype(str)), \n",
    "                                    \"/\".join(np.round(counts/(np.sum(counts))*100,1).astype(str))),  end = ' ')\n",
    "                \n",
    "                for other_dset in np.setdiff1d(np.unique(merged_covars[\"filename\"]), dset):\n",
    "                    print(compare_categorical(var, dset, other_dset), end=' ')\n",
    "                print(\"\",end=\",\")\n",
    "            elif vartype==\"CONTINUOUS\":\n",
    "                print(\"%.2f +- %.2f\"%(np.nanmean(df[var]), np.nanstd(df[var])), end = ' ')\n",
    "                \n",
    "                for other_dset in np.setdiff1d(np.unique(merged_covars[\"filename\"]), dset):\n",
    "                    print(compare_continuous(var, dset, other_dset), end=' ')\n",
    "                print(\"\",end=\",\")\n",
    "    #         elif vartype==\"DUMMIES\":\n",
    "    #             print(\"%s %.2f +- %.2f\"%(var, np.nanmean(df[var]), np.nanstd(df[var])))\n",
    "            elif vartype==\"MD-AD_PHENOTYPE\":\n",
    "                if var in phens_df.columns:\n",
    "                    print(\"%.2f +- %.2f (%.2f-%.2f)\"%(np.nanmean(phens_df[var]), np.nanstd(phens_df[var]),\n",
    "                                            np.nanmin(phens_df[var]), np.nanmax(phens_df[var])), end = ' ')\n",
    "                    for other_dset in np.setdiff1d(np.unique(merged_covars[\"filename\"]), dset):\n",
    "                        print(compare_continuous(var, dset, other_dset), end=' ')\n",
    "                    print(\"\",end=\",\")\n",
    "                else:\n",
    "                    print(\"NA\", end = ',')\n",
    "    print()\n"
   ]
  },
  {
   "cell_type": "code",
   "execution_count": null,
   "metadata": {},
   "outputs": [],
   "source": []
  }
 ],
 "metadata": {
  "kernelspec": {
   "display_name": "Python [conda env:py36-test2]",
   "language": "python",
   "name": "conda-env-py36-test2-py"
  },
  "language_info": {
   "codemirror_mode": {
    "name": "ipython",
    "version": 3
   },
   "file_extension": ".py",
   "mimetype": "text/x-python",
   "name": "python",
   "nbconvert_exporter": "python",
   "pygments_lexer": "ipython3",
   "version": "3.7.5"
  }
 },
 "nbformat": 4,
 "nbformat_minor": 2
}
