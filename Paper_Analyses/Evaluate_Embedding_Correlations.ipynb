{
 "cells": [
  {
   "cell_type": "code",
   "execution_count": 1,
   "metadata": {},
   "outputs": [
    {
     "name": "stderr",
     "output_type": "stream",
     "text": [
      "/home/nbbwang/anaconda3/lib/python3.6/site-packages/h5py/__init__.py:34: FutureWarning: Conversion of the second argument of issubdtype from `float` to `np.floating` is deprecated. In future, it will be treated as `np.float64 == np.dtype(float).type`.\n",
      "  from ._conv import register_converters as _register_converters\n"
     ]
    }
   ],
   "source": [
    "import h5py\n",
    "import numpy as np\n",
    "import pandas as pd\n",
    "import statsmodels.api as sm\n",
    "from scipy import stats\n",
    "import pickle\n",
    "import matplotlib.pyplot as plt\n",
    "import seaborn as sns\n",
    "import os\n",
    "%matplotlib inline"
   ]
  },
  {
   "cell_type": "code",
   "execution_count": 2,
   "metadata": {
    "collapsed": true
   },
   "outputs": [],
   "source": [
    "cmap=plt.cm.tab20\n",
    "cmaplist = [cmap(i) for i in range(cmap.N)]"
   ]
  },
  {
   "cell_type": "code",
   "execution_count": 3,
   "metadata": {},
   "outputs": [
    {
     "data": {
      "text/plain": [
       "'/media/big/nbbwang/Pipeline_Outputs_Submitted/CV/'"
      ]
     },
     "execution_count": 3,
     "metadata": {},
     "output_type": "execute_result"
    }
   ],
   "source": [
    "\"/media/big/nbbwang/Pipeline_Outputs_Submitted/CV/\""
   ]
  },
  {
   "cell_type": "code",
   "execution_count": 4,
   "metadata": {
    "collapsed": true
   },
   "outputs": [],
   "source": [
    "SPECIFIC_FOLDER = \"origGE\"\n",
    "\n",
    "# SHOW PAPER SUBMISSION \n",
    "transformation_folder_train = '/media/big/nbbwang/Pipeline_Outputs_Submitted/%s/last_shared_layer_transformations_TRAIN/'%(SPECIFIC_FOLDER)\n",
    "transformation_folder_test = '/media/big/nbbwang/Pipeline_Outputs_Submitted/%s/last_shared_layer_transformations/'%(SPECIFIC_FOLDER)\n",
    "\n",
    "#SHOW FROM NEW TRAINING\n",
    "transformation_folder_train = '../../md-ad_public_repo_data/Modeling/%s/last_shared_layer_transformations_TRAIN/'%(SPECIFIC_FOLDER)\n",
    "transformation_folder_test = '../../md-ad_public_repo_data/Modeling/%s/last_shared_layer_transformations/'%(SPECIFIC_FOLDER)\n",
    "\n",
    "\n",
    "\n",
    "path_to_gs_data = \"/media/big/nbbwang/AD_Project/analyses/MTL_variable_tasks/geneset_data/\"\n",
    "## Cycle servers:\n",
    "# path_to_gs_data = \"/homes/gws/nbbwang/AD_project/NEW_FULL_PIPELINE/fgsea/data/\"\n",
    "\n",
    "gmt_locations = {\"REACTOME\": path_to_gs_data + 'c2.all.v7.0.symbols_JustR.gmt',\n",
    "                \"KEGG\": path_to_gs_data + 'c2.all.v7.0.symbols_JustK.gmt',\n",
    "                \"HALLMARK\": path_to_gs_data + 'h.all.v7.0.symbols.gmt'}\n",
    "for gset in [\"mathys_celltypes\", \"sara_modules\", \"ben_modules\", \"mathys_microglia\", \"zhang_modules\"]:\n",
    "    gmt_locations[gset] = '%s%s/processed/gene_set.gmt'%(path_to_gs_data,gset)\n",
    "    \n",
    "##### DATA ######\n",
    "path_to_cv_indices = \"../../md-ad_public_repo_data/DATA/MTL_data/CV_INDICES/\"\n",
    "merged_phenotypes_df= pd.read_csv(\"../../md-ad_public_repo_data/DATA/MTL_data/merged_phenotypes.csv\")\n",
    "\n",
    "\n",
    "path_to_final_models_chosen = \"../../Pipeline_Outputs_Submitted/origGE/final_models_chosen/\"\n",
    "MTL_FINAL_MODELS = pickle.load(open(path_to_final_models_chosen + \"MTL/folds.p\", \"rb\" ) )\n",
    "MLP_BASELINES_FINAL_MODELS = pickle.load(open(path_to_final_models_chosen + \"MLP_baselines/folds.p\", \"rb\" ) )\n",
    "\n",
    "path_to_data_PCAsplit =  \"../../md-ad_public_repo_data/DATA/MTL_data/ACT_MSBBRNA_ROSMAP_PCASplit/\"\n",
    "path_to_MDAD_data =   \"../../md-ad_public_repo_data/DATA/MTL_data/ACT_MSBBRNA_ROSMAP.h5\"\n",
    "\n"
   ]
  },
  {
   "cell_type": "code",
   "execution_count": 5,
   "metadata": {},
   "outputs": [
    {
     "name": "stdout",
     "output_type": "stream",
     "text": [
      "['ge', 'gene_symbols', 'labels', 'labels_names']\n"
     ]
    }
   ],
   "source": [
    "with h5py.File(path_to_MDAD_data, 'r') as hf:\n",
    "    all_ge = hf[\"ge\"][:]\n",
    "    print(list(hf.keys()))"
   ]
  },
  {
   "cell_type": "code",
   "execution_count": 6,
   "metadata": {
    "collapsed": true
   },
   "outputs": [],
   "source": [
    "scaling_factor = {\"BRAAK\": 5, \"CERAD\": 3, \"PLAQUES\": 1, \"TANGLES\": 1, \"ABETA_IHC\":1, \"TAU_IHC\":1}"
   ]
  },
  {
   "cell_type": "code",
   "execution_count": 7,
   "metadata": {
    "collapsed": true
   },
   "outputs": [],
   "source": [
    "def generate_geneset_embeddings(ge_df, gmt_file):\n",
    "    gmt = pd.read_csv(gmt_file, header=None)\n",
    "    gmt[\"names\"] = gmt[0].apply(lambda x: x.split(\"\\t\")[0])\n",
    "    gmt[\"genes\"] = gmt[0].apply(lambda x: x.split(\"\\t\")[2:])\n",
    "    \n",
    "    \n",
    "    ge_gset_df = pd.DataFrame(index=ge_df.index)\n",
    "    \n",
    "    for gset_i,row in gmt.iterrows():\n",
    "        name = row[\"names\"]\n",
    "        genes_in_gs = np.intersect1d(np.array(row[\"genes\"]), gene_symbols)\n",
    "        ge_gset_df[name] = np.mean(ge_df[genes_in_gs],axis=1)\n",
    "        \n",
    "    return(ge_gset_df)"
   ]
  },
  {
   "cell_type": "markdown",
   "metadata": {},
   "source": [
    "\n",
    "# Training phenotypes"
   ]
  },
  {
   "cell_type": "code",
   "execution_count": 8,
   "metadata": {
    "collapsed": true
   },
   "outputs": [],
   "source": [
    "methods = [\"MD-AD\"] + [\"BRAAK\", \"CERAD\", \"PLAQUES\", \"TANGLES\", \"ABETA_IHC\", \"TAU_IHC\"] + [\"PCA\", \"KMeans\"] +[\"ben_modules\", \"sara_modules\", \"zhang_modules\"]\n",
    "metrics = [\"CERAD\", \"PLAQUES\",  \"ABETA_IHC\", \"BRAAK\",  \"TANGLES\", \"TAU_IHC\"]"
   ]
  },
  {
   "cell_type": "code",
   "execution_count": 9,
   "metadata": {},
   "outputs": [
    {
     "name": "stdout",
     "output_type": "stream",
     "text": [
      "MD-AD\n"
     ]
    },
    {
     "name": "stderr",
     "output_type": "stream",
     "text": [
      "/home/nbbwang/anaconda3/lib/python3.6/site-packages/scipy/stats/stats.py:3003: RuntimeWarning: invalid value encountered in double_scalars\n",
      "  r = r_num / r_den\n"
     ]
    },
    {
     "name": "stdout",
     "output_type": "stream",
     "text": [
      "BRAAK\n",
      "CERAD\n",
      "PLAQUES\n",
      "TANGLES\n",
      "ABETA_IHC\n",
      "TAU_IHC\n",
      "PCA\n",
      "KMeans\n",
      "ben_modules\n",
      "sara_modules\n",
      "zhang_modules\n"
     ]
    }
   ],
   "source": [
    "\n",
    "\n",
    "CORRECTED_PVALS = {}\n",
    "CORRCOEFFS = {}\n",
    "MIN_PVALS = {}\n",
    "\n",
    "for transformation in methods:\n",
    "    print(transformation)\n",
    "    CORRECTED_PVALS[transformation] = {}\n",
    "    CORRCOEFFS[transformation] = {}\n",
    "    MIN_PVALS[transformation] = {}\n",
    "\n",
    "    for fold in range(25, 30):\n",
    "\n",
    "        CORRECTED_PVALS[transformation][fold] = {}\n",
    "        CORRCOEFFS[transformation][fold] = {}\n",
    "        MIN_PVALS[transformation][fold] = {}\n",
    "\n",
    "\n",
    "        \n",
    "        if transformation in [\"ben_modules\", \"sara_modules\", \"zhang_modules\"]:\n",
    "            train_indices = np.loadtxt(path_to_cv_indices + \"%i/train_indices.txt\"%fold, dtype=int)\n",
    "            test_indices = np.loadtxt(path_to_cv_indices + \"%i/valid_indices.txt\"%fold, dtype=int)\n",
    "            labels_names = np.loadtxt(path_to_cv_indices + \"%i/labels_names.txt\"%fold, dtype=str)\n",
    "            train_labels = np.loadtxt(path_to_cv_indices + \"%i/train_labels.txt\"%fold, dtype=str)\n",
    "            labels = np.loadtxt(path_to_cv_indices + \"%i/valid_labels.txt\"%fold, dtype=str)\n",
    "            gene_symbols = np.loadtxt(path_to_cv_indices + \"%i/gene_symbols.txt\"%fold,dtype=str)\n",
    "            ge_train = all_ge[train_indices]\n",
    "            ge_valid = all_ge[test_indices]\n",
    "\n",
    "    \n",
    "            train_outputs = generate_geneset_embeddings(pd.DataFrame(ge_train, columns=gene_symbols), gmt_locations[transformation]).values\n",
    "            outputs = generate_geneset_embeddings(pd.DataFrame(ge_valid, columns=gene_symbols), gmt_locations[transformation]).values\n",
    "\n",
    "        else:\n",
    "\n",
    "            if transformation==\"MD-AD\":\n",
    "                transformed_path_train = '%sMTL/%s/%i.h5'%(transformation_folder_train, MTL_FINAL_MODELS[fold], fold)\n",
    "                transformed_path_test = '%sMTL/%s/%i.h5'%(transformation_folder_test, MTL_FINAL_MODELS[fold], fold)\n",
    "            elif transformation in [\"PCA\", \"KMeans\"]:\n",
    "                transformed_path_train = '%sunsupervised_methods/%s/%i.h5'%(transformation_folder_train, transformation, fold)\n",
    "                transformed_path_test = '%sunsupervised_methods/%s/%i.h5'%(transformation_folder_test, transformation, fold)\n",
    "            else:\n",
    "                fname = MLP_BASELINES_FINAL_MODELS[fold][transformation]            \n",
    "                transformed_path_train = '%sMLP_baselines/%s/%s/%i.h5'%(transformation_folder_train, fname, transformation, fold)\n",
    "                transformed_path_test = '%sMLP_baselines/%s/%s/%i.h5'%(transformation_folder_test, fname, transformation, fold)\n",
    "\n",
    "            with h5py.File(transformed_path_train, 'r') as hf:\n",
    "                train_outputs = hf[\"outputs\"][:]\n",
    "                train_labels =hf[\"labels\"][:]\n",
    "\n",
    "            with h5py.File(transformed_path_test, 'r') as hf:\n",
    "                outputs = hf[\"outputs\"][:]\n",
    "                labels =hf[\"labels\"][:]\n",
    "                labels_names =hf[\"labels_names\"][:].astype(str)\n",
    "\n",
    "        train_labels_df = pd.DataFrame(train_labels, columns=labels_names)\n",
    "        labels_df = pd.DataFrame(labels, columns=labels_names)\n",
    "        non_triv_idx = np.where(np.sum(np.abs(outputs),axis=0) > 0)[0]\n",
    "        \n",
    "        \n",
    "        for phenotype in metrics:\n",
    "            train_label_vals = train_labels_df[phenotype].values.astype(float)/scaling_factor[phenotype]\n",
    "            train_non_nan_idx = np.where(~np.isnan(train_label_vals))[0]\n",
    "            \n",
    "            label_vals = labels_df[phenotype].values.astype(float)/scaling_factor[phenotype]\n",
    "            non_nan_idx = np.where(~np.isnan(label_vals))[0]\n",
    "\n",
    "            \n",
    "            train_pvals_uncorrected = []\n",
    "            for feat in non_triv_idx:\n",
    "                corrcoeff, p = stats.pearsonr(train_outputs[train_non_nan_idx,feat], train_label_vals[train_non_nan_idx])\n",
    "                train_pvals_uncorrected.append(p)\n",
    "\n",
    "            \n",
    "            corrcoeffs = []\n",
    "            pvals_uncorrected = []\n",
    "            for feat in non_triv_idx:\n",
    "                corrcoeff, p = stats.pearsonr(outputs[non_nan_idx,feat], label_vals[non_nan_idx])\n",
    "                corrcoeffs.append(corrcoeff)\n",
    "                pvals_uncorrected.append(p)\n",
    "            corrected = sm.stats.multipletests(pvals_uncorrected, alpha=0.05, method='fdr_bh', is_sorted=False, returnsorted=False)[1]\n",
    "\n",
    "\n",
    "            CORRECTED_PVALS[transformation][fold][phenotype] =corrected\n",
    "            CORRCOEFFS[transformation][fold][phenotype] =corrcoeffs\n",
    "            MIN_PVALS[transformation][fold][phenotype] = corrected[np.argmin(train_pvals_uncorrected)]"
   ]
  },
  {
   "cell_type": "code",
   "execution_count": 10,
   "metadata": {
    "collapsed": true
   },
   "outputs": [],
   "source": [
    "MIN_PVALS_mean_over_5folds_neglog10 = {}\n",
    "MIN_PVALS_stderr_over_5folds_neglog10 = {}\n",
    "for method in MIN_PVALS.keys():\n",
    "    MIN_PVALS_mean_over_5folds_neglog10[method] = {}\n",
    "    MIN_PVALS_stderr_over_5folds_neglog10[method] = {}\n",
    "\n",
    "    for metric in metrics:\n",
    "        MIN_PVALS_mean_over_5folds_neglog10[method][metric] = np.mean(-np.log10([MIN_PVALS[method][fold][metric] for fold in range(25,30)]))\n",
    "        MIN_PVALS_stderr_over_5folds_neglog10[method][metric] = stats.sem(-np.log10([MIN_PVALS[method][fold][metric] for fold in range(25,30)]))\n",
    "        \n",
    "        \n",
    "MIN_PVALS_groups = {}\n",
    "for method in MIN_PVALS.keys():\n",
    "    MIN_PVALS_groups[method] = {}\n",
    "    for phen in MIN_PVALS[method][25].keys():\n",
    "        MIN_PVALS_groups[method][phen] = []\n",
    "        for fold in range(25,30):\n",
    "            MIN_PVALS_groups[method][phen].append(MIN_PVALS[method][fold][phen])"
   ]
  },
  {
   "cell_type": "code",
   "execution_count": 11,
   "metadata": {
    "scrolled": true
   },
   "outputs": [
    {
     "name": "stdout",
     "output_type": "stream",
     "text": [
      "METRIC: CERAD\n"
     ]
    },
    {
     "data": {
      "image/png": "[encoded data removed]",
      "text/plain": [
       "<Figure size 576x288 with 1 Axes>"
      ]
     },
     "metadata": {
      "needs_background": "light"
     },
     "output_type": "display_data"
    },
    {
     "name": "stdout",
     "output_type": "stream",
     "text": [
      "METRIC: PLAQUES\n"
     ]
    },
    {
     "data": {
      "image/png": "[encoded data removed]",
      "text/plain": [
       "<Figure size 576x288 with 1 Axes>"
      ]
     },
     "metadata": {
      "needs_background": "light"
     },
     "output_type": "display_data"
    },
    {
     "name": "stdout",
     "output_type": "stream",
     "text": [
      "METRIC: ABETA_IHC\n"
     ]
    },
    {
     "data": {
      "image/png": "[encoded data removed]",
      "text/plain": [
       "<Figure size 576x288 with 1 Axes>"
      ]
     },
     "metadata": {
      "needs_background": "light"
     },
     "output_type": "display_data"
    },
    {
     "name": "stdout",
     "output_type": "stream",
     "text": [
      "METRIC: BRAAK\n"
     ]
    },
    {
     "data": {
      "image/png": "[encoded data removed]",
      "text/plain": [
       "<Figure size 576x288 with 1 Axes>"
      ]
     },
     "metadata": {
      "needs_background": "light"
     },
     "output_type": "display_data"
    },
    {
     "name": "stdout",
     "output_type": "stream",
     "text": [
      "METRIC: TANGLES\n"
     ]
    },
    {
     "data": {
      "image/png": "[encoded data removed]",
      "text/plain": [
       "<Figure size 576x288 with 1 Axes>"
      ]
     },
     "metadata": {
      "needs_background": "light"
     },
     "output_type": "display_data"
    },
    {
     "name": "stdout",
     "output_type": "stream",
     "text": [
      "METRIC: TAU_IHC\n"
     ]
    },
    {
     "data": {
      "image/png": "[encoded data removed]",
      "text/plain": [
       "<Figure size 576x288 with 1 Axes>"
      ]
     },
     "metadata": {
      "needs_background": "light"
     },
     "output_type": "display_data"
    }
   ],
   "source": [
    "methods_groups = [[\"KMeans\", \"PCA\"],[\"zhang_modules\", \"sara_modules\", \"ben_modules\"],[\"CERAD\", \"PLAQUES\", \"ABETA_IHC\", \"BRAAK\", \"TANGLES\", \"TAU_IHC\"], [\"MD-AD\"]]\n",
    "color_key = [cmaplist[4], cmaplist[2], cmaplist[0], cmaplist[6]]\n",
    "\n",
    "most_items = np.max([len(x) for x in methods_groups])\n",
    "\n",
    "\n",
    "for metric in metrics:\n",
    "\n",
    "    print(\"METRIC:\", metric)\n",
    "    heights = []\n",
    "    widths = []\n",
    "    stderrs = []\n",
    "    names = []\n",
    "    y_pos= [0]\n",
    "    colors = []\n",
    "    most_recent = 0\n",
    "    for group_id, methods in enumerate(methods_groups):        \n",
    "\n",
    "        for _,method in enumerate(methods):                \n",
    "            heights.append(MIN_PVALS_mean_over_5folds_neglog10[method][metric])\n",
    "            stderrs.append(MIN_PVALS_stderr_over_5folds_neglog10[method][metric])\n",
    "            names.append(method)\n",
    "        \n",
    "            if method == metric:\n",
    "                colors.append(cmaplist[1])\n",
    "            else:\n",
    "                colors.append(color_key[group_id])\n",
    "            \n",
    "    widths=[2]*len(np.hstack(methods_groups))\n",
    "    y_pos=[0]+list(np.cumsum(widths))\n",
    "\n",
    "    # P-value annotations\n",
    "    annots = []\n",
    "    for method in np.hstack(methods_groups):\n",
    "        t,p = stats.ttest_rel(-1*np.log10(MIN_PVALS_groups[\"MD-AD\"][metric]), -1*np.log10(MIN_PVALS_groups[method][metric]))\n",
    "        annots.append(\"***\" if p < .001 else \"**\" if p < .01 else \"*\" if p < .05 else \"\")\n",
    "\n",
    "\n",
    "    \n",
    "    f, ax = plt.subplots(1,1,figsize=(8,4))\n",
    "\n",
    "    # Create bars\n",
    "    plt.bar(y_pos[:-1], heights, width =np.array(widths)*.9, yerr = stderrs, align=\"edge\", color=colors, capsize=3)\n",
    "\n",
    "    for i, txt in enumerate(annots):\n",
    "        ann_x = y_pos[i]+widths[i]/2\n",
    "        ann_y = heights[i] + stderrs[i] + max(np.array(heights) + np.array(stderrs))/100\n",
    "        ax.text(ann_x,ann_y, txt, color='black', horizontalalignment =\"center\",fontweight=\"bold\", fontsize=20)\n",
    "    \n",
    "    \n",
    "    # Create names on the x-axis\n",
    "    plt.xticks(y_pos[:-1], \"\")\n",
    "\n",
    "    plt.hlines(-np.log10(.05), 0, most_items*len(methods_groups), color=\"gray\", linestyle=\"--\")\n",
    "    plt.grid(False)\n",
    "    \n",
    "    # Show graphic\n",
    "    ax.spines['right'].set_visible(False)\n",
    "    ax.spines['top'].set_visible(False)\n",
    "    \n",
    "\n",
    "    ax.set_facecolor(\"None\")\n",
    "    ax.yaxis.set_major_locator(plt.MaxNLocator(4, integer=True))\n",
    "    ax.tick_params(top=False, bottom=False, left=True, right=False, labelleft=True, labelbottom=True, color=\"#000000\")\n",
    "    plt.show()    "
   ]
  },
  {
   "cell_type": "markdown",
   "metadata": {},
   "source": [
    "# Other phenotypes"
   ]
  },
  {
   "cell_type": "code",
   "execution_count": 12,
   "metadata": {
    "collapsed": true
   },
   "outputs": [],
   "source": [
    "def get_merged_fold(labels, labels_names, merged_phens_df):\n",
    "    labels_df = pd.DataFrame(labels, columns=labels_names)\n",
    "    merged_df = pd.DataFrame(labels_df[[\"sample_name\", \"filename\"]].values.astype(str), columns=[\"sample_name\",\"filename\"])\n",
    "    merged_df = merged_df.merge(merged_phenotypes_df, on=[\"sample_name\", \"filename\"], how=\"left\")\n",
    "    return merged_df"
   ]
  },
  {
   "cell_type": "code",
   "execution_count": 13,
   "metadata": {
    "collapsed": true
   },
   "outputs": [],
   "source": [
    "methods = [\"MD-AD\"] + [\"BRAAK\", \"CERAD\", \"PLAQUES\", \"TANGLES\", \"ABETA_IHC\", \"TAU_IHC\"] + [\"PCA\", \"KMeans\"] + [\"ben_modules\", \"sara_modules\", \"zhang_modules\"]\n",
    "metrics = ['dementia',  'addx_to_death_cats','controlled_cogn_global_last']"
   ]
  },
  {
   "cell_type": "code",
   "execution_count": 14,
   "metadata": {
    "scrolled": true
   },
   "outputs": [
    {
     "name": "stdout",
     "output_type": "stream",
     "text": [
      "MD-AD\n"
     ]
    },
    {
     "name": "stderr",
     "output_type": "stream",
     "text": [
      "/home/nbbwang/anaconda3/lib/python3.6/site-packages/scipy/stats/stats.py:3003: RuntimeWarning: invalid value encountered in double_scalars\n",
      "  r = r_num / r_den\n"
     ]
    },
    {
     "name": "stdout",
     "output_type": "stream",
     "text": [
      "BRAAK\n",
      "CERAD\n",
      "PLAQUES\n",
      "TANGLES\n",
      "ABETA_IHC\n",
      "TAU_IHC\n",
      "PCA\n",
      "KMeans\n",
      "ben_modules\n",
      "sara_modules\n",
      "zhang_modules\n"
     ]
    }
   ],
   "source": [
    "\n",
    "CORRECTED_PVALS = {}\n",
    "CORRCOEFFS = {}\n",
    "MIN_PVALS = {}\n",
    "\n",
    "for transformation in methods:\n",
    "    print(transformation)\n",
    "    CORRECTED_PVALS[transformation] = {}\n",
    "    CORRCOEFFS[transformation] = {}\n",
    "    MIN_PVALS[transformation] = {}\n",
    "\n",
    "    for fold in range(25, 30):\n",
    "\n",
    "        CORRECTED_PVALS[transformation][fold] = {}\n",
    "        CORRCOEFFS[transformation][fold] = {}\n",
    "        MIN_PVALS[transformation][fold] = {}\n",
    "\n",
    "        \n",
    "        \n",
    "        if transformation in [\"ben_modules\", \"sara_modules\", \"zhang_modules\"]:\n",
    "            train_indices = np.loadtxt(path_to_cv_indices + \"%i/train_indices.txt\"%fold, dtype=int)\n",
    "            test_indices = np.loadtxt(path_to_cv_indices + \"%i/valid_indices.txt\"%fold, dtype=int)\n",
    "            labels_names = np.loadtxt(path_to_cv_indices + \"%i/labels_names.txt\"%fold, dtype=str)\n",
    "            train_labels = np.loadtxt(path_to_cv_indices + \"%i/train_labels.txt\"%fold, dtype=str)\n",
    "            labels = np.loadtxt(path_to_cv_indices + \"%i/valid_labels.txt\"%fold, dtype=str)\n",
    "            gene_symbols = np.loadtxt(path_to_cv_indices + \"%i/gene_symbols.txt\"%fold,dtype=str)\n",
    "            ge_train = all_ge[train_indices]\n",
    "            ge_valid = all_ge[test_indices]\n",
    "\n",
    "\n",
    "            train_outputs = generate_geneset_embeddings(pd.DataFrame(ge_train, columns=gene_symbols), gmt_locations[transformation]).values\n",
    "            outputs = generate_geneset_embeddings(pd.DataFrame(ge_valid, columns=gene_symbols), gmt_locations[transformation]).values\n",
    "\n",
    "        else:\n",
    "\n",
    "            if transformation==\"MD-AD\":\n",
    "                transformed_path_train = '%sMTL/%s/%i.h5'%(transformation_folder_train, MTL_FINAL_MODELS[fold], fold)\n",
    "                transformed_path_test = '%sMTL/%s/%i.h5'%(transformation_folder_test, MTL_FINAL_MODELS[fold], fold)\n",
    "            elif transformation in [\"PCA\", \"KMeans\"]:\n",
    "                transformed_path_train = '%sunsupervised_methods/%s/%i.h5'%(transformation_folder_train, transformation, fold)\n",
    "                transformed_path_test = '%sunsupervised_methods/%s/%i.h5'%(transformation_folder_test, transformation, fold)\n",
    "            else:\n",
    "                fname = MLP_BASELINES_FINAL_MODELS[fold][transformation]            \n",
    "                transformed_path_train = '%sMLP_baselines/%s/%s/%i.h5'%(transformation_folder_train, fname, transformation, fold)\n",
    "                transformed_path_test = '%sMLP_baselines/%s/%s/%i.h5'%(transformation_folder_test, fname, transformation, fold)\n",
    "\n",
    "            with h5py.File(transformed_path_train, 'r') as hf:\n",
    "                train_outputs = hf[\"outputs\"][:]\n",
    "                train_labels =hf[\"labels\"][:]\n",
    "\n",
    "            with h5py.File(transformed_path_test, 'r') as hf:\n",
    "                outputs = hf[\"outputs\"][:]\n",
    "                labels =hf[\"labels\"][:]\n",
    "                labels_names =hf[\"labels_names\"][:].astype(str)\n",
    "        \n",
    "        train_merged_phenotypes = get_merged_fold(labels, labels_names, merged_phenotypes_df)\n",
    "        train_merged_phenotypes = train_merged_phenotypes.replace(\"90+\", \"90\")\n",
    "\n",
    "        merged_phenotypes = get_merged_fold(labels, labels_names, merged_phenotypes_df)\n",
    "        merged_phenotypes = merged_phenotypes.replace(\"90+\", \"90\")\n",
    "\n",
    "\n",
    "        train_labels_df = pd.DataFrame(train_labels, columns=labels_names)\n",
    "    \n",
    "        labels_df = pd.DataFrame(labels, columns=labels_names)\n",
    "        non_triv_idx = np.where(np.sum(np.abs(outputs),axis=0) > 0)[0]\n",
    "\n",
    "        for metric in metrics:\n",
    "            train_label_vals = train_merged_phenotypes[metric].values.astype(float)\n",
    "            train_non_nan_idx = np.where(~np.isnan(train_label_vals))[0]\n",
    "            \n",
    "            label_vals = merged_phenotypes[metric].values.astype(float)\n",
    "            non_nan_idx = np.where(~np.isnan(label_vals))[0]\n",
    "#             print(non_nan_idx.shape)\n",
    "\n",
    "\n",
    "            train_pvals_uncorrected = []\n",
    "            for feat in non_triv_idx:\n",
    "                corrcoeff, p = stats.pearsonr(train_outputs[train_non_nan_idx,feat], train_label_vals[train_non_nan_idx])\n",
    "                train_pvals_uncorrected.append(p)\n",
    "\n",
    "\n",
    "            corrcoeffs = []\n",
    "            pvals_uncorrected = []\n",
    "            for feat in non_triv_idx:\n",
    "                corrcoeff, p = stats.pearsonr(outputs[non_nan_idx,feat], label_vals[non_nan_idx])\n",
    "                corrcoeffs.append(corrcoeff)\n",
    "                pvals_uncorrected.append(p)\n",
    "            corrected = sm.stats.multipletests(pvals_uncorrected, alpha=0.05, method='fdr_bh', is_sorted=False, returnsorted=False)[1]\n",
    "\n",
    "\n",
    "            CORRECTED_PVALS[transformation][fold][metric] =corrected\n",
    "            CORRCOEFFS[transformation][fold][metric] =corrcoeffs\n",
    "#             MIN_PVALS[MLP_phenotype][fold][metric] = corrected[np.argmin(train_pvals_uncorrected)]\n",
    "            MIN_PVALS[transformation][fold][metric] = np.min(corrected)"
   ]
  },
  {
   "cell_type": "code",
   "execution_count": 15,
   "metadata": {
    "collapsed": true
   },
   "outputs": [],
   "source": [
    "MIN_PVALS_mean_over_5folds_neglog10 = {}\n",
    "MIN_PVALS_stderr_over_5folds_neglog10 = {}\n",
    "for method in MIN_PVALS.keys():\n",
    "    MIN_PVALS_mean_over_5folds_neglog10[method] = {}\n",
    "    MIN_PVALS_stderr_over_5folds_neglog10[method] = {}\n",
    "\n",
    "    for metric in metrics:\n",
    "        MIN_PVALS_mean_over_5folds_neglog10[method][metric] = np.mean(-np.log10([MIN_PVALS[method][fold][metric] for fold in range(25,30)]))\n",
    "        MIN_PVALS_stderr_over_5folds_neglog10[method][metric] = stats.sem(-np.log10([MIN_PVALS[method][fold][metric] for fold in range(25,30)]))\n",
    "        \n",
    "MIN_PVALS_groups = {}\n",
    "for method in MIN_PVALS.keys():\n",
    "    MIN_PVALS_groups[method] = {}\n",
    "    for phen in MIN_PVALS[method][25].keys():\n",
    "        MIN_PVALS_groups[method][phen] = []\n",
    "        for fold in range(25,30):\n",
    "            MIN_PVALS_groups[method][phen].append(MIN_PVALS[method][fold][phen])"
   ]
  },
  {
   "cell_type": "code",
   "execution_count": 16,
   "metadata": {
    "scrolled": true
   },
   "outputs": [
    {
     "name": "stdout",
     "output_type": "stream",
     "text": [
      "METRIC: dementia\n"
     ]
    },
    {
     "data": {
      "image/png": "[encoded data removed]",
      "text/plain": [
       "<Figure size 576x288 with 1 Axes>"
      ]
     },
     "metadata": {
      "needs_background": "light"
     },
     "output_type": "display_data"
    },
    {
     "name": "stdout",
     "output_type": "stream",
     "text": [
      "METRIC: addx_to_death_cats\n"
     ]
    },
    {
     "data": {
      "image/png": "[encoded data removed]",
      "text/plain": [
       "<Figure size 576x288 with 1 Axes>"
      ]
     },
     "metadata": {
      "needs_background": "light"
     },
     "output_type": "display_data"
    },
    {
     "name": "stdout",
     "output_type": "stream",
     "text": [
      "METRIC: controlled_cogn_global_last\n"
     ]
    },
    {
     "data": {
      "image/png": "[encoded data removed]",
      "text/plain": [
       "<Figure size 576x288 with 1 Axes>"
      ]
     },
     "metadata": {
      "needs_background": "light"
     },
     "output_type": "display_data"
    }
   ],
   "source": [
    "most_items = np.max([len(x) for x in methods_groups])\n",
    "\n",
    "\n",
    "methods_groups = [[\"KMeans\", \"PCA\"],[\"ben_modules\", \"sara_modules\", \"zhang_modules\"],[\"CERAD\", \"PLAQUES\", \"ABETA_IHC\", \"BRAAK\", \"TANGLES\", \"TAU_IHC\"], [\"MD-AD\"]]\n",
    "\n",
    "\n",
    "cmap=plt.cm.tab20\n",
    "cmaplist = [cmap(i) for i in range(cmap.N)]\n",
    "color_key = [cmaplist[4], cmaplist[2], cmaplist[0], cmaplist[6]]\n",
    "for metric in metrics:\n",
    "\n",
    "    print(\"METRIC:\", metric)\n",
    "    heights = []\n",
    "    widths = []\n",
    "    stderrs = []\n",
    "    names = []\n",
    "    y_pos= [0]\n",
    "    colors = []\n",
    "    most_recent = 0\n",
    "    for group_id, methods in enumerate(methods_groups):\n",
    "        for method in methods:        \n",
    "        \n",
    "            heights.append(MIN_PVALS_mean_over_5folds_neglog10[method][metric])\n",
    "            stderrs.append(MIN_PVALS_stderr_over_5folds_neglog10[method][metric])\n",
    "            names.append(method)\n",
    "        \n",
    "            colors.append(color_key[group_id])\n",
    "            \n",
    "    widths=[2]*len(np.hstack(methods_groups))\n",
    "\n",
    "    y_pos=[0]+list(np.cumsum(widths))\n",
    "    # generate annotations  \n",
    "    annots = []\n",
    "    for method in np.hstack(methods_groups):\n",
    "        t,p = stats.ttest_rel(-1*np.log10(MIN_PVALS_groups[\"MD-AD\"][metric]), -1*np.log10(MIN_PVALS_groups[method][metric]))       \n",
    "        annots.append(\"***\" if p < .001 else \"**\" if p < .01 else \"*\" if p < .05 else \"\")\n",
    "\n",
    "    \n",
    "    \n",
    "    \n",
    "    f, ax = plt.subplots(1,1,figsize=(8,4))\n",
    "\n",
    "#     plt.title(metric, fontsize=20)\n",
    "    # Create bars\n",
    "    plt.bar(y_pos[:-1], heights, width =np.array(widths)*.9, yerr = stderrs, align=\"edge\", color=colors, capsize=3)\n",
    "\n",
    "    for i, txt in enumerate(annots):\n",
    "        ann_x = y_pos[i]+widths[i]/2\n",
    "        ann_y = heights[i] + stderrs[i] + max(np.array(heights) + np.array(stderrs))/100\n",
    "        ax.text(ann_x,ann_y, txt, color='black', horizontalalignment =\"center\",fontweight=\"bold\", fontsize=20)\n",
    "    \n",
    "    \n",
    "    # Create names on the x-axis\n",
    "    plt.xticks(y_pos[:-1], \"\")\n",
    "    \n",
    "    plt.hlines(-np.log10(.05), 0, most_items*len(methods_groups), color=\"gray\", linestyle=\"--\")\n",
    "\n",
    "\n",
    "    plt.grid(False)\n",
    "    # Show graphic\n",
    "    ax.spines['right'].set_visible(False)\n",
    "    ax.spines['top'].set_visible(False)\n",
    "    ax.set_facecolor(\"None\")\n",
    "\n",
    "    ax.yaxis.set_major_locator(plt.MaxNLocator(4, integer=True))\n",
    "\n",
    "    ax.tick_params(top=False, bottom=False, left=True, right=False, labelleft=True, labelbottom=True, color=\"#000000\")\n",
    "\n",
    "    # Save the figure and show\n",
    "    plt.tight_layout()\n",
    "    plt.show()"
   ]
  }
 ],
 "metadata": {
  "kernelspec": {
   "display_name": "Python 3",
   "language": "python",
   "name": "python3"
  },
  "language_info": {
   "codemirror_mode": {
    "name": "ipython",
    "version": 3
   },
   "file_extension": ".py",
   "mimetype": "text/x-python",
   "name": "python",
   "nbconvert_exporter": "python",
   "pygments_lexer": "ipython3",
   "version": "3.6.6"
  }
 },
 "nbformat": 4,
 "nbformat_minor": 2
}
