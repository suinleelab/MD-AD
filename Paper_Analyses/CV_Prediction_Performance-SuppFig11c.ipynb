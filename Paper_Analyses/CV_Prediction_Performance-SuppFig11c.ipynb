{
 "cells": [
  {
   "cell_type": "markdown",
   "metadata": {},
   "source": [
    "### Experiments associated with Supp Figure 11c\n",
    "New CV splits by individiual rather than by sample. Generates 11c and also compares performance for new (selected from CV for these splits) vs old hyperparameters (selected for main method - splitting by sample)"
   ]
  },
  {
   "cell_type": "code",
   "execution_count": 21,
   "metadata": {
    "collapsed": true
   },
   "outputs": [],
   "source": [
    "# PACKAGES\n",
    "import matplotlib.pyplot as plt\n",
    "import numpy as np\n",
    "import os\n",
    "import h5py\n",
    "import pandas as pd\n",
    "from scipy import stats\n",
    "import matplotlib as mpl\n",
    "%matplotlib inline\n",
    "mpl.rcParams['font.size']=20"
   ]
  },
  {
   "cell_type": "code",
   "execution_count": 22,
   "metadata": {
    "collapsed": true
   },
   "outputs": [],
   "source": [
    "def str_to_param_dict(string):\n",
    "    d = {}\n",
    "    _,_,_,_,_,d[\"k_reg\"],d[\"learning_rate\"],_,d[\"grad_clip_norm\"],_ = string.split(\"_\")\n",
    "    return d"
   ]
  },
  {
   "cell_type": "code",
   "execution_count": 49,
   "metadata": {
    "collapsed": true
   },
   "outputs": [],
   "source": [
    "path_to_results = \"../../Pipeline_Outputs_Submitted/origGE_rev/\"\n",
    "# path_to_results = \"/media/big/nbbwang/AD_Project/analyses/MTL_variable_tasks/6vars-continuous/resid_01_GE_PmiRin/\"\n",
    "\n",
    "dtype = \"ACT_MSBBRNA_ROSMAP_PCASplit\"\n",
    "metric = \"loss\"\n",
    "\n",
    "blue_plot =(0.12156862745098039, 0.4666666666666667, 0.7058823529411765, 1.0)\n",
    "green_plot= (0.17254901960784313, 0.6274509803921569, 0.17254901960784313, 1.0)\n",
    "red_plot= (0.8392156862745098, 0.15294117647058825, 0.1568627450980392, 1.0)"
   ]
  },
  {
   "cell_type": "code",
   "execution_count": 50,
   "metadata": {
    "collapsed": true
   },
   "outputs": [],
   "source": [
    "def get_CV_test_res_as_df(path_to_log_files):\n",
    "    firstfile = os.listdir(path_to_log_files)[0]\n",
    "    cols = pd.read_csv(path_to_log_files + firstfile).columns\n",
    "    \n",
    "    # save average performance of each CV fold for a given train/test split\n",
    "    training_averages = []\n",
    "    for i in range(5):\n",
    "        all_vals = np.array([pd.read_csv(path_to_log_files + \"%d.log\"%((i*5)+j)).values for j in range(5)])\n",
    "        training_averages.append(pd.DataFrame(np.nanmean(all_vals,axis=0), columns=cols))\n",
    "    # save average performance across all CV folds for each train/test split \n",
    "    # (this could be used to select the hyperparameters for the final model but not for model evaluation purposes!)\n",
    "    training_overall_averages = pd.DataFrame(np.nanmean(np.array([training_averages[i].values for i in range(5)]),axis=0), columns=cols)\n",
    "\n",
    "    # save test performance measures\n",
    "    test_runs = []\n",
    "    for cur_idx in range(25,30):\n",
    "        test_runs.append(pd.read_csv(path_to_log_files + \"%d.log\"%cur_idx))\n",
    "    test_overall_averages = pd.DataFrame(np.nanmean(np.array([test_runs[i].values for i in range(5)]),axis=0), columns=cols)\n",
    "\n",
    "    return training_averages, training_overall_averages, test_runs, test_overall_averages\n",
    "\n",
    "\n",
    "def get_CV_test_error(path_to_results_folder, datatype, var, metric, MTL=True):\n",
    "    \n",
    "    hy_names = []\n",
    "    tr_valid_vals_folds = []\n",
    "    \n",
    "    # loop through all hyperparameter combos\n",
    "    files = os.listdir(path_to_results_folder + datatype)\n",
    "    for fname in files:\n",
    "        if MTL:\n",
    "            cur_metric = var + \"_out_\" + metric\n",
    "            path_to_log_files = path_to_results_folder + datatype+ \"/\"+fname+\"/\"\n",
    "        else:\n",
    "            cur_metric = metric\n",
    "            path_to_log_files = path_to_results_folder + datatype+ \"/\"+fname+\"/\" + variable + \"/\"\n",
    "\n",
    "        # get training performances \n",
    "        tr_runs, tr_av, test_runs, test_av = get_CV_test_res_as_df(path_to_log_files)\n",
    "        \n",
    "        hy_names.append(fname) \n",
    "        # for each train/test split, get average average CV score for the current set of hyperparameters\n",
    "        tr_valid_vals_folds.append(np.array([tr_av_fold[\"val_\" + cur_metric].values[-1] for tr_av_fold in tr_runs]))\n",
    "\n",
    "\n",
    "    \n",
    "    best_cases_test_performances = []\n",
    "    best_case_test_performance_eps = []\n",
    "    best_cases_parameters = []\n",
    "\n",
    "    # get hyperparameter setting with lowest loss for each test fold \n",
    "    best_params_per_outerfold = np.argmin(np.array(tr_valid_vals_folds), axis=0)\n",
    "\n",
    "    # loop through the five final test performances we get for each train/test split \n",
    "    for i, bestidx in enumerate(best_params_per_outerfold):\n",
    "\n",
    "        if MTL:\n",
    "            best_path = path_to_results_folder + datatype+ \"/\"+hy_names[bestidx]+\"/\"\n",
    "        else:\n",
    "            best_path = path_to_results_folder + datatype+ \"/\"+hy_names[bestidx]+\"/\" + variable + \"/\"\n",
    "           \n",
    "        tr_runs, tr_av, test_runs, test_av = get_CV_test_res_as_df(best_path)\n",
    "\n",
    "        best_cases_test_performances.append(test_runs[i][\"val_\" + cur_metric].values[-1])\n",
    "        best_case_test_performance_eps.append(np.argmin(test_runs[i][\"val_\" + cur_metric]))\n",
    "        best_cases_parameters.append(hy_names[bestidx])\n",
    "\n",
    "    return best_cases_test_performances,best_case_test_performance_eps,best_cases_parameters\n",
    "\n",
    "\n",
    "\n",
    "def get_percent_error_reduction(performance_dict, orig, new, pathology):\n",
    "    return (performance_dict[orig][pathology] - performance_dict[new][pathology])/performance_dict[orig][pathology]"
   ]
  },
  {
   "cell_type": "markdown",
   "metadata": {},
   "source": [
    "## Store val and test set variances for MSE scaling"
   ]
  },
  {
   "cell_type": "code",
   "execution_count": 51,
   "metadata": {
    "collapsed": true
   },
   "outputs": [],
   "source": [
    "ALL_VARIANCES = {}\n",
    "TOTAL_VARIANCES = {}\n",
    "\n",
    "\n",
    "for variable in [\"CERAD\", \"BRAAK\", \"PLAQUES\", \"TANGLES\", \"ABETA_IHC\", \"TAU_IHC\"]:\n",
    "\n",
    "    vars_by_split = []\n",
    "    all_vals = np.array([])\n",
    "    for fold_idx in range(30):\n",
    "        path_to_preds_folder = path_to_results + \"predictions/MTL/\" + dtype + \"/\" \n",
    "        folder = os.listdir(path_to_preds_folder)[0]\n",
    "\n",
    "        with h5py.File(path_to_preds_folder  + folder+\"/\" + \"%d.h5\"%fold_idx, 'r') as hf:\n",
    "            true_plaques = hf[\"y_true\"][variable][:]\n",
    "        \n",
    "        all_vals = np.append(all_vals, true_plaques)\n",
    "        vars_by_split.append(np.nanvar(true_plaques))    \n",
    "    variances = np.array(vars_by_split)\n",
    "    ALL_VARIANCES[variable] = variances\n",
    "    \n",
    "    TOTAL_VARIANCES[variable] = np.nanvar(all_vals)\n",
    "    \n",
    "saved_vars = pd.DataFrame.from_dict(ALL_VARIANCES)"
   ]
  },
  {
   "cell_type": "markdown",
   "metadata": {},
   "source": [
    "## create dict of test set performances for each model class"
   ]
  },
  {
   "cell_type": "code",
   "execution_count": 52,
   "metadata": {
    "scrolled": false
   },
   "outputs": [
    {
     "name": "stderr",
     "output_type": "stream",
     "text": [
      "/home/nbbwang/anaconda3/lib/python3.6/site-packages/numpy/core/fromnumeric.py:52: FutureWarning: 'argmin' is deprecated, use 'idxmin' instead. The behavior of 'argmin'\n",
      "will be corrected to return the positional minimum in the future.\n",
      "Use 'series.values.argmin' to get the position of the minimum now.\n",
      "  return getattr(obj, method)(*args, **kwds)\n"
     ]
    },
    {
     "name": "stdout",
     "output_type": "stream",
     "text": [
      "MTL CERAD [0.0894504148534864, 0.08361444193436655, 0.08883239448828212, 0.09937915753302627, 0.09479514023082124]\n",
      "MTL BRAAK [0.04638621310175162, 0.048525638900004164, 0.044420587614515415, 0.04564367530232701, 0.04588626604527235]\n",
      "MTL PLAQUES [0.03415932613070945, 0.0343422022496545, 0.042208906447272855, 0.042917997477440864, 0.04078483560846912]\n",
      "MTL TANGLES [0.030849376252215163, 0.04310977579497862, 0.053214205200073576, 0.02653085238231325, 0.048746546161257565]\n",
      "MTL TAU_IHC [0.029862501780360894, 0.03269396560959691, 0.04272804600331343, 0.035046904965724296, 0.02768781286431476]\n",
      "MTL ABETA_IHC [0.039613660196201834, 0.053812894948519936, 0.046617795244953734, 0.06323937978075203, 0.055774262381924525]\n",
      "MLP_baselines CERAD [0.10173603931539936, 0.09114950696049734, 0.09767333982186127, 0.10231168663868023, 0.1103694240252177]\n",
      "MLP_baselines BRAAK [0.045804715380399375, 0.04906358987601951, 0.05011612381049469, 0.047771848769411034, 0.05773318331274721]\n",
      "MLP_baselines PLAQUES [0.041632788601652745, 0.03675451968948162, 0.03924400586698015, 0.04416590320289801, 0.04773896115107669]\n",
      "MLP_baselines TANGLES [0.04051575942607651, 0.048217204594334886, 0.0591303347215309, 0.03924468648750023, 0.05418829133527146]\n",
      "MLP_baselines TAU_IHC [0.03739758491262859, 0.03836863586505832, 0.03894254499204499, 0.04002345349983047, 0.04584524652778378]\n",
      "MLP_baselines ABETA_IHC [0.0489440954546308, 0.06275885899789459, 0.05435324728615203, 0.07122812783293551, 0.06459411378535959]\n",
      "Linear_baselines CERAD [0.10118508068790212, 0.09635875681631786, 0.10067251269931847, 0.10353827414066433, 0.09766577101416056]\n",
      "Linear_baselines BRAAK [0.048403965668720114, 0.052497882222713434, 0.052908271109148614, 0.048564429639438016, 0.05463203953372108]\n",
      "Linear_baselines PLAQUES [0.0436119994295663, 0.037704016517869435, 0.04564000066306632, 0.041018204066340484, 0.042924780605567835]\n",
      "Linear_baselines TANGLES [0.06708753438481288, 0.053739850430987605, 0.08575648964661578, 0.03724268211478461, 0.0617995073294474]\n",
      "Linear_baselines TAU_IHC [0.04467067443418496, 0.04406572493919453, 0.05195149520443658, 0.053366935426920815, 0.04394996016182833]\n",
      "Linear_baselines ABETA_IHC [0.05618813762452169, 0.0606274294212114, 0.05500092170080223, 0.07134936044419278, 0.06478225605355369]\n"
     ]
    }
   ],
   "source": [
    "PERFORMANCE_VALS = {}\n",
    "PERFORMANCE_VALS_list = {}\n",
    "PERFORMANCE_SEMS = {}\n",
    "best_hys = {}\n",
    "df_contents=[]\n",
    "\n",
    "for experiment in [\"MTL\", \"MLP_baselines\", 'Linear_baselines']:\n",
    "\n",
    "    PERFORMANCE_VALS[experiment] = {}\n",
    "    PERFORMANCE_VALS_list[experiment] = {}\n",
    "    PERFORMANCE_SEMS[experiment] = {}\n",
    "    best_hys[experiment] = {}\n",
    "\n",
    "    path_to_results_folder = path_to_results + \"results/\" + experiment + \"/\"\n",
    "    path_to_preds_folder = path_to_results + \"predictions/\" + experiment + \"/\"\n",
    "\n",
    "\n",
    "    for variable in [\"CERAD\", \"BRAAK\", \"PLAQUES\", \"TANGLES\", \"TAU_IHC\", \"ABETA_IHC\"]:\n",
    "\n",
    "        # get test results for each fold\n",
    "        best_hy_test, best_hy_ep, best_hy = get_CV_test_error(path_to_results_folder,\\\n",
    "                dtype, variable, metric, MTL=(experiment==\"MTL\"))\n",
    "\n",
    "        print(experiment, variable, best_hy_test)\n",
    "        # get scaled average + std error for test performance\n",
    "        mean_performance = np.round(np.nanmean(best_hy_test/ALL_VARIANCES[variable][25:]), 5)\n",
    "        sem_performance = stats.sem(np.array(best_hy_test)/np.array(ALL_VARIANCES[variable][25:]), nan_policy=\"omit\")\n",
    "        \n",
    "        best_hys[experiment][variable] = best_hy\n",
    "        PERFORMANCE_VALS[experiment][variable] = mean_performance\n",
    "        PERFORMANCE_VALS_list[experiment][variable] = best_hy_test/ALL_VARIANCES[variable][25:]\n",
    "\n",
    "        PERFORMANCE_SEMS[experiment][variable] = sem_performance\n",
    "    \n",
    "        for i,x in enumerate(best_hy):\n",
    "            df_contents.append([experiment, variable, i] + list(str_to_param_dict(x).values()))\n",
    "            \n",
    "selected_hyperparams = pd.DataFrame(df_contents, columns=[\"experiment\", \"variable\", \"run\"]+list(str_to_param_dict(x).keys()))\n",
    "selected_hyperparams.to_csv(\"selected_hyperparameters_supfig11c.csv\", index=False)"
   ]
  },
  {
   "cell_type": "code",
   "execution_count": 53,
   "metadata": {
    "collapsed": true
   },
   "outputs": [],
   "source": [
    "# put results into format for easily generating figures \n",
    "\n",
    "experiments = [\"Linear_baselines\", \"MLP_baselines\", \"MTL\"]\n",
    "\n",
    "VALUES = {}\n",
    "STD_ERRS = {}\n",
    "METRICS = {}\n",
    "\n",
    "for pathology in [\"CERAD\", \"BRAAK\", \"PLAQUES\", \"TANGLES\", \"TAU_IHC\", \"ABETA_IHC\"]:\n",
    "    VALUES[pathology] = []\n",
    "    STD_ERRS[pathology] = []\n",
    "    METRICS[pathology] = 'Mean Squared Error (scaled)'\n",
    "    for experiment in experiments:\n",
    "        VALUES[pathology].append(PERFORMANCE_VALS[experiment][pathology])\n",
    "        STD_ERRS[pathology].append(PERFORMANCE_SEMS[experiment][pathology])"
   ]
  },
  {
   "cell_type": "markdown",
   "metadata": {},
   "source": [
    "# generate paper figures"
   ]
  },
  {
   "cell_type": "code",
   "execution_count": 54,
   "metadata": {
    "scrolled": false
   },
   "outputs": [
    {
     "data": {
      "image/png": "[encoded data removed]",
      "text/plain": [
       "<Figure size 288x360 with 1 Axes>"
      ]
     },
     "metadata": {
      "needs_background": "light"
     },
     "output_type": "display_data"
    },
    {
     "data": {
      "image/png": "[encoded data removed]",
      "text/plain": [
       "<Figure size 288x360 with 1 Axes>"
      ]
     },
     "metadata": {
      "needs_background": "light"
     },
     "output_type": "display_data"
    },
    {
     "data": {
      "image/png": "[encoded data removed]",
      "text/plain": [
       "<Figure size 288x360 with 1 Axes>"
      ]
     },
     "metadata": {
      "needs_background": "light"
     },
     "output_type": "display_data"
    },
    {
     "data": {
      "image/png": "[encoded data removed]",
      "text/plain": [
       "<Figure size 288x360 with 1 Axes>"
      ]
     },
     "metadata": {
      "needs_background": "light"
     },
     "output_type": "display_data"
    },
    {
     "data": {
      "image/png": "[encoded data removed]",
      "text/plain": [
       "<Figure size 288x360 with 1 Axes>"
      ]
     },
     "metadata": {
      "needs_background": "light"
     },
     "output_type": "display_data"
    },
    {
     "data": {
      "image/png": "[encoded data removed]",
      "text/plain": [
       "<Figure size 288x360 with 1 Axes>"
      ]
     },
     "metadata": {
      "needs_background": "light"
     },
     "output_type": "display_data"
    }
   ],
   "source": [
    "methods = ['Linear \\nBaseline', 'MLP \\nBaseline', 'MD-AD']\n",
    "barcolor = plt.cm.Reds(.6)\n",
    "\n",
    "\n",
    "x_pos = np.arange(len(methods))\n",
    "\n",
    "# can use this code to try to generate upper limits for graph automatically\n",
    "ylims = {}\n",
    "for key in VALUES.keys():\n",
    "\n",
    "    VAL_plus_STD = np.array(VALUES[key]) + np.array(STD_ERRS[key])\n",
    "    upperlim = np.round(np.max(VAL_plus_STD), 1) \n",
    "    if key == \"ABETA_IHC\":\n",
    "        upperlim += .05\n",
    "    ylims[key] = (.4, upperlim)\n",
    "    \n",
    "# manually picked these upper limits for graph to make the figures look nice & clean\n",
    "ylims = {\"ABETA_IHC\": 1.2, \"TAU_IHC\": 1.1, \"PLAQUES\": .7, \"TANGLES\": 1.5, \"CERAD\": .7, \"BRAAK\": .7}\n",
    "\n",
    "\n",
    "# for PMI RIN resid\n",
    "#ylims = {\"ABETA_IHC\": 1.2, \"TAU_IHC\": 1.2, \"PLAQUES\": .8, \"TANGLES\": 1.8, \"CERAD\": .8, \"BRAAK\": .8}\n",
    "\n",
    "\n",
    "for key in VALUES.keys():\n",
    "    \n",
    "    # generate annotations to test for significance between MTL and baselines \n",
    "    annots = []\n",
    "    for exp in [\"Linear_baselines\", \"MLP_baselines\"]:\n",
    "        t,p = stats.ttest_rel(PERFORMANCE_VALS_list[\"MTL\"][key], PERFORMANCE_VALS_list[exp][key])\n",
    "        if p/2 < .001:\n",
    "            annots.append(\"***\")\n",
    "        elif p/2 < .01:\n",
    "            annots.append(\"**\")\n",
    "        elif p/2 < .05:\n",
    "            annots.append(\"*\")\n",
    "        else:\n",
    "            annots.append(\"\")\n",
    "\n",
    "    \n",
    "    fig, ax = plt.subplots(figsize=(4,5))\n",
    "    lin,mlp, mtl= ax.bar(x_pos, VALUES[key], yerr=STD_ERRS[key], align='center', alpha=1,  ecolor='black',\n",
    "                         color=[green_plot, blue_plot, red_plot],error_kw=dict(lw=2, capsize=5, capthick=2))\n",
    "\n",
    "    for i, txt in enumerate(annots):\n",
    "        ann_x = x_pos[i]\n",
    "        ann_y = VALUES[key][i] + STD_ERRS[key][i] + np.max(VALUES[key][i] + STD_ERRS[key][i])/100\n",
    "        ax.text(ann_x,ann_y, txt, color='black', horizontalalignment =\"center\",fontweight=\"bold\", fontsize=25)\n",
    "    \n",
    "    for b in [lin,mlp,mtl]:\n",
    "        b.set_edgecolor(\"None\")\n",
    "            \n",
    "    \n",
    "    ax.set_xticks(x_pos)\n",
    "    ax.set_xticklabels(\"\")\n",
    "    ax.set_ylim(.4,ylims[key])\n",
    "\n",
    "\n",
    "\n",
    "    ax.spines['right'].set_visible(False)\n",
    "    ax.spines['top'].set_visible(False)\n",
    "    if key in [\"BRAAK\", \"CERAD\", \"PLAQUES\"]:\n",
    "        ax.yaxis.set_major_locator(plt.MaxNLocator(3))\n",
    "    else:\n",
    "        ax.yaxis.set_major_locator(plt.MaxNLocator(4))\n",
    "\n",
    "    ax.set_facecolor('None')\n",
    "    ax.set_title(key)\n",
    "    plt.tight_layout()\n"
   ]
  },
  {
   "cell_type": "markdown",
   "metadata": {
    "collapsed": true
   },
   "source": [
    "# calculating improvement percents:\n",
    "This is for the paper, if we want to say \"'MD-AD' provides a X percent reduction in error over the linear/mlp metod\""
   ]
  },
  {
   "cell_type": "code",
   "execution_count": 55,
   "metadata": {},
   "outputs": [
    {
     "name": "stdout",
     "output_type": "stream",
     "text": [
      "0.09308746984892732\n",
      "0.07778674085902905\n",
      "0.07181143256650142\n",
      "0.16820577860568342\n",
      "0.14407924358397114\n",
      "0.18685107947414462\n"
     ]
    }
   ],
   "source": [
    "for p in [\"CERAD\", \"BRAAK\", \"PLAQUES\", \"TANGLES\", \"ABETA_IHC\", \"TAU_IHC\"]:\n",
    "    print(get_percent_error_reduction(PERFORMANCE_VALS, \"MLP_baselines\", \"MTL\", p))"
   ]
  },
  {
   "cell_type": "code",
   "execution_count": 56,
   "metadata": {},
   "outputs": [
    {
     "name": "stdout",
     "output_type": "stream",
     "text": [
      "0.08543903727055953\n",
      "0.10096454765764178\n",
      "0.0754435417012104\n",
      "0.34632664979560046\n",
      "0.16348511200050286\n",
      "0.30113314447592066\n"
     ]
    }
   ],
   "source": [
    "for p in [\"CERAD\", \"BRAAK\", \"PLAQUES\", \"TANGLES\", \"ABETA_IHC\", \"TAU_IHC\"]:\n",
    "    print(get_percent_error_reduction(PERFORMANCE_VALS, \"Linear_baselines\", \"MTL\", p))"
   ]
  },
  {
   "cell_type": "code",
   "execution_count": 57,
   "metadata": {
    "collapsed": true
   },
   "outputs": [],
   "source": [
    "sourcedata = []\n",
    "for exp in experiments:\n",
    "    tmp = pd.DataFrame.from_dict(PERFORMANCE_VALS_list[exp])\n",
    "    tmp[\"model\"] = exp\n",
    "    tmp[\"test_set\"] = tmp.index+1\n",
    "    sourcedata.append(tmp)\n",
    "    \n",
    "sourcedata = pd.concat(sourcedata)"
   ]
  },
  {
   "cell_type": "markdown",
   "metadata": {},
   "source": [
    "### Final revision editorial request: overlay points instead of using error bars:"
   ]
  },
  {
   "cell_type": "code",
   "execution_count": 58,
   "metadata": {
    "collapsed": true
   },
   "outputs": [],
   "source": [
    "import seaborn as sns\n",
    "\n",
    "cmap=plt.cm.tab20\n",
    "cmaplist = [cmap(i) for i in range(cmap.N)]\n",
    "\n",
    "model_order = [\"Linear_baselines\", \"MLP_baselines\", \"MTL\"]\n",
    "colors_dict_light = {\"Linear_baselines\": cmaplist[5], \"MLP_baselines\": cmaplist[1], \"MTL\": cmaplist[7]}\n",
    "colors_dict_dark = {\"Linear_baselines\": cmaplist[4], \"MLP_baselines\": cmaplist[0], \"MTL\": cmaplist[6]}"
   ]
  },
  {
   "cell_type": "code",
   "execution_count": 59,
   "metadata": {},
   "outputs": [
    {
     "data": {
      "image/png": "[encoded data removed]",
      "text/plain": [
       "<Figure size 288x432 with 1 Axes>"
      ]
     },
     "metadata": {
      "needs_background": "light"
     },
     "output_type": "display_data"
    },
    {
     "name": "stdout",
     "output_type": "stream",
     "text": [
      "CERAD,*,**\n",
      "CERAD,0.017140500730293523,0.009372446731851652\n",
      "['Linear_baselines', 'MLP_baselines']\n"
     ]
    },
    {
     "data": {
      "image/png": "[encoded data removed]",
      "text/plain": [
       "<Figure size 288x432 with 1 Axes>"
      ]
     },
     "metadata": {
      "needs_background": "light"
     },
     "output_type": "display_data"
    },
    {
     "name": "stdout",
     "output_type": "stream",
     "text": [
      "BRAAK,*,\n",
      "BRAAK,0.019929012897387677,0.14695488784424265\n",
      "['Linear_baselines', 'MLP_baselines']\n"
     ]
    },
    {
     "data": {
      "image/png": "[encoded data removed]",
      "text/plain": [
       "<Figure size 288x432 with 1 Axes>"
      ]
     },
     "metadata": {
      "needs_background": "light"
     },
     "output_type": "display_data"
    },
    {
     "name": "stdout",
     "output_type": "stream",
     "text": [
      "PLAQUES,,\n",
      "PLAQUES,0.14518656678051206,0.18889368876023938\n",
      "['Linear_baselines', 'MLP_baselines']\n"
     ]
    },
    {
     "data": {
      "image/png": "[encoded data removed]",
      "text/plain": [
       "<Figure size 288x432 with 1 Axes>"
      ]
     },
     "metadata": {
      "needs_background": "light"
     },
     "output_type": "display_data"
    },
    {
     "name": "stdout",
     "output_type": "stream",
     "text": [
      "TANGLES,*,*\n",
      "TANGLES,0.016081048320838644,0.027287644818262614\n",
      "['Linear_baselines', 'MLP_baselines']\n"
     ]
    },
    {
     "data": {
      "image/png": "[encoded data removed]",
      "text/plain": [
       "<Figure size 288x432 with 1 Axes>"
      ]
     },
     "metadata": {
      "needs_background": "light"
     },
     "output_type": "display_data"
    },
    {
     "name": "stdout",
     "output_type": "stream",
     "text": [
      "ABETA_IHC,*,***\n",
      "ABETA_IHC,0.013681720241166212,0.00048087130988321437\n",
      "['Linear_baselines', 'MLP_baselines']\n"
     ]
    },
    {
     "data": {
      "image/png": "[encoded data removed]",
      "text/plain": [
       "<Figure size 288x432 with 1 Axes>"
      ]
     },
     "metadata": {
      "needs_background": "light"
     },
     "output_type": "display_data"
    },
    {
     "name": "stdout",
     "output_type": "stream",
     "text": [
      "TAU_IHC,**,\n",
      "TAU_IHC,0.001809778803399073,0.12472103251794914\n",
      "['Linear_baselines', 'MLP_baselines']\n"
     ]
    }
   ],
   "source": [
    "\n",
    "for yvar in [\"CERAD\", \"BRAAK\", \"PLAQUES\", \"TANGLES\", \"ABETA_IHC\", \"TAU_IHC\"]:\n",
    "\n",
    "    f, ax = plt.subplots(1,1,figsize=(4,6))\n",
    "\n",
    "\n",
    "    g=sns.barplot(x=\"model\", y=yvar, hue=\"model\",\n",
    "                   data=sourcedata, \n",
    "                  hue_order=model_order,\n",
    "                  palette=colors_dict_dark, ax=ax, ci=None, alpha=1, dodge=False, saturation=1);\n",
    "    \n",
    "    g=sns.catplot(x=\"model\", y=yvar, hue=\"model\",aspect=1,\n",
    "                  kind=\"swarm\", data=sourcedata, \n",
    "                  hue_order=model_order,\n",
    "                  palette=colors_dict_light,\n",
    "                  ax=ax, s=10);\n",
    "\n",
    "    ax.get_legend().remove()\n",
    "\n",
    "\n",
    "\n",
    "    ax.grid(False)\n",
    "    # Show graphic\n",
    "    ax.spines['right'].set_visible(False)\n",
    "    ax.spines['top'].set_visible(False)\n",
    "\n",
    "    ax.set_facecolor(\"None\")\n",
    "\n",
    "    ax.yaxis.set_major_locator(plt.MaxNLocator(4))\n",
    "\n",
    "    ax.tick_params(top=False, bottom=False, left=True, right=False, labelleft=True, labelbottom=True, color=\"#000000\")\n",
    "    \n",
    "    ax.set_ylim(.4)\n",
    "    ax.set_xticklabels(\"\")\n",
    "    ax.axes.get_xaxis().set_visible(False)\n",
    "    \n",
    "    plt.close(2)\n",
    "    plt.close(3)\n",
    "    plt.show()\n",
    "    \n",
    "#     annots = []\n",
    "#     for mod in model_order[:-1]:\n",
    "#         t,p = stats.ttest_rel(-1*np.log10(sourcedata[sourcedata[\"model\"]==\"MTL\"][yvar]), \n",
    "#                               -1*np.log10(sourcedata[sourcedata[\"model\"]==mod][yvar]))\n",
    "#         annots.append(\"***\" if p < .001 else \"**\" if p < .01 else \"*\" if p < .05 else \"\")\n",
    "#     print(yvar+ \",\" + \",\".join(annots))\n",
    "#     print(model_order[:-1])\n",
    "\n",
    "    annots = []\n",
    "    pvals = []\n",
    "\n",
    "    for mod in model_order[:-1]:\n",
    "        t,p = stats.ttest_rel(-1*np.log10(sourcedata[sourcedata[\"model\"]==\"MTL\"][yvar]), \n",
    "                              -1*np.log10(sourcedata[sourcedata[\"model\"]==mod][yvar]))\n",
    "        pvals.append(p)\n",
    "        annots.append(\"***\" if p < .001 else \"**\" if p < .01 else \"*\" if p < .05 else \"\")\n",
    "    print(yvar+ \",\" + \",\".join(annots))\n",
    "    print(yvar+\",\" + \",\".join([str(x) for x in pvals]))\n",
    "    print(model_order[:-1])"
   ]
  },
  {
   "cell_type": "markdown",
   "metadata": {},
   "source": [
    "## Save final selected hyperparameters to table:"
   ]
  },
  {
   "cell_type": "code",
   "execution_count": 60,
   "metadata": {
    "collapsed": true
   },
   "outputs": [],
   "source": [
    "import pickle\n",
    "import seaborn as sns\n"
   ]
  },
  {
   "cell_type": "code",
   "execution_count": 61,
   "metadata": {
    "collapsed": true
   },
   "outputs": [],
   "source": [
    "df_contents=[]\n",
    "\n",
    "for mod in [\"MTL\",\"MLP_baselines\",\"Linear_baselines\"]:\n",
    "    with open(\"../../Pipeline_Outputs_Submitted/origGE/final_models_chosen_NCREV/%s/final.p\"%mod, \"rb\") as f:\n",
    "        selected = pickle.load(f)\n",
    "        \n",
    "    if mod==\"MTL\":\n",
    "        df_contents.append([\"MD-AD\"] + list(str_to_param_dict(selected).values()))\n",
    "    else:\n",
    "        for phen in selected.keys():\n",
    "            df_contents.append([\"%s for %s\"%(mod, phen)] + list(str_to_param_dict(selected[phen]).values()))"
   ]
  },
  {
   "cell_type": "markdown",
   "metadata": {},
   "source": [
    "### If selected hyperparameters differ between old and new splits, compare how different the performance is between old and new hyperparameters"
   ]
  },
  {
   "cell_type": "code",
   "execution_count": 62,
   "metadata": {
    "collapsed": true
   },
   "outputs": [],
   "source": [
    "with open(\"../../Pipeline_Outputs_Submitted/origGE_rev/final_models_chosen/MTL/final.p\", \"rb\") as f:\n",
    "    new = pickle.load(f)"
   ]
  },
  {
   "cell_type": "code",
   "execution_count": 63,
   "metadata": {
    "collapsed": true
   },
   "outputs": [],
   "source": [
    "with open(\"../../Pipeline_Outputs_Submitted/origGE/final_models_chosen/MTL/final.p\", \"rb\") as f:\n",
    "    old = pickle.load(f)"
   ]
  },
  {
   "cell_type": "code",
   "execution_count": 64,
   "metadata": {
    "collapsed": true
   },
   "outputs": [],
   "source": [
    "CV_save_path = \"../../Pipeline_Outputs_Submitted/origGE_rev/\"\n",
    "phenotypes = [\"CERAD\", \"PLAQUES\", \"ABETA_IHC\", \"BRAAK\", \"TANGLES\",  \"TAU_IHC\"]\n",
    "split_pca_dataset =\"ACT_MSBBRNA_ROSMAP_PCASplit\"\n",
    "from scipy import stats as ss\n",
    "\n",
    "path_to_results_folder = \"%sresults/\"%CV_save_path\n",
    "path_to_preds_folder = \"%spredictions/\"%CV_save_path\n",
    "\n",
    "\n",
    "#### Compute test set variances\n",
    "\n",
    "variances = {}\n",
    "\n",
    "tmp_fname = os.listdir(path_to_preds_folder + \"MTL/ACT_MSBBRNA_ROSMAP_PCASplit/\")[0]\n",
    "for variable in phenotypes:\n",
    "    vars_by_split = []\n",
    "    for fold_idx in range(25,30):\n",
    "        path_to_preds = path_to_preds_folder + \"MTL/%s/%s/%d.h5\"%(split_pca_dataset, tmp_fname, fold_idx)\n",
    "        with h5py.File(path_to_preds, 'r') as hf:\n",
    "            true_vals = hf[\"y_true\"][variable][:]\n",
    "\n",
    "        vars_by_split.append(np.nanvar(true_vals))    \n",
    "    variances[variable] = np.array(vars_by_split)\n",
    "    \n",
    "\n",
    "def MTL_get_CV_test_res_as_df(path_to_log_files):\n",
    "    \n",
    "    firstfile = os.listdir(path_to_log_files)[0]\n",
    "    cols = pd.read_csv(path_to_log_files + firstfile).columns\n",
    "\n",
    "    test_runs = []\n",
    "    for i in range(5):\n",
    "        # the first 25 files are CV folds\n",
    "        cur_idx = 25+i\n",
    "        test_runs.append(pd.read_csv(path_to_log_files + \"%d.log\"%cur_idx))\n",
    "\n",
    "    test_overall_averages = pd.DataFrame(np.nanmean(np.array([test_runs[i].values for i in range(5)]),axis=0), columns=cols)\n",
    "    return test_runs, test_overall_averages\n",
    "\n",
    "\n",
    "\n",
    "performances = {}\n",
    "for var in phenotypes:\n",
    "    performances[var] = {}\n",
    "\n",
    "    for fname in  os.listdir(path_to_results_folder + \"MTL/\" + split_pca_dataset):\n",
    "        test_runs, test_overall_avergaes = MTL_get_CV_test_res_as_df(path_to_results_folder + \"MTL/\" + split_pca_dataset + \"/\" + fname + \"/\")\n",
    "        performances[var][fname] = []\n",
    "\n",
    "        for foldidx in range(5):\n",
    "            # we want the min loss, and we scale by variance\n",
    "            test_var = variances[var][foldidx]\n",
    "            performances[var][fname].append(np.min(test_runs[foldidx][\"val_%s_out_loss\"%var])/test_var)\n",
    "            \n",
    "            \n",
    "fnames =  os.listdir(path_to_results_folder + \"MTL/\" + split_pca_dataset)\n",
    "num_hy = len(fnames)\n"
   ]
  },
  {
   "cell_type": "code",
   "execution_count": 16,
   "metadata": {},
   "outputs": [
    {
     "name": "stdout",
     "output_type": "stream",
     "text": [
      "Ttest_relResult(statistic=-0.05943410394639046, pvalue=0.9554571956799487)\n",
      "Ttest_relResult(statistic=1.7072407837618728, pvalue=0.16296655584182684)\n",
      "Ttest_relResult(statistic=-0.6433948585384494, pvalue=0.5549984870393636)\n",
      "Ttest_relResult(statistic=2.614613776029872, pvalue=0.059132720030537045)\n",
      "Ttest_relResult(statistic=0.1277518949261482, pvalue=0.9045104674434724)\n",
      "Ttest_relResult(statistic=0.12983580403072945, pvalue=0.9029636226432279)\n"
     ]
    }
   ],
   "source": [
    "for p in phenotypes:\n",
    "    print(stats.ttest_rel(performances[p][old], performances[p][new]))\n"
   ]
  },
  {
   "cell_type": "code",
   "execution_count": 17,
   "metadata": {
    "collapsed": true
   },
   "outputs": [],
   "source": [
    "tmp = []\n",
    "for p in phenotypes:\n",
    "    for f in performances[p].keys():\n",
    "        for i,elt in enumerate(performances[p][f]):\n",
    "            tmp.append([p,f,i,elt])"
   ]
  },
  {
   "cell_type": "code",
   "execution_count": 18,
   "metadata": {
    "collapsed": true
   },
   "outputs": [],
   "source": [
    "performance_df = pd.DataFrame(np.array(tmp), columns=[\"phenotype\", \"fname\", \"fold\", \"performance\"])\n",
    "performance_df[\"shortname\"] = performance_df[\"fname\"].apply(lambda x: \"new\" if x==new else \"old\" if x==old else fnames.index(x))\n"
   ]
  },
  {
   "cell_type": "code",
   "execution_count": 19,
   "metadata": {
    "collapsed": true
   },
   "outputs": [],
   "source": [
    "performance_df[\"performance\"] = performance_df[\"performance\"].astype(float)\n",
    "performance_df = performance_df[performance_df[\"fname\"].isin([old, new])]"
   ]
  },
  {
   "cell_type": "code",
   "execution_count": 20,
   "metadata": {},
   "outputs": [
    {
     "data": {
      "image/png": "[encoded data removed]",
      "text/plain": [
       "<Figure size 907.2x504 with 6 Axes>"
      ]
     },
     "metadata": {},
     "output_type": "display_data"
    }
   ],
   "source": [
    "sns.set(font_scale=.9)  # crazy big\n",
    "sns.set_style(\"ticks\")\n",
    "g = sns.catplot(y=\"performance\", x=\"shortname\", data=performance_df, col=\"phenotype\", kind=\"bar\", height=7, aspect=.3, col_order = phenotypes)"
   ]
  }
 ],
 "metadata": {
  "kernelspec": {
   "display_name": "Python 3",
   "language": "python",
   "name": "python3"
  },
  "language_info": {
   "codemirror_mode": {
    "name": "ipython",
    "version": 3
   },
   "file_extension": ".py",
   "mimetype": "text/x-python",
   "name": "python",
   "nbconvert_exporter": "python",
   "pygments_lexer": "ipython3",
   "version": "3.6.6"
  }
 },
 "nbformat": 4,
 "nbformat_minor": 2
}
