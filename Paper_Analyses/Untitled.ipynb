{
 "cells": [
  {
   "cell_type": "code",
   "execution_count": 1,
   "metadata": {},
   "outputs": [],
   "source": [
    "import h5py\n",
    "import numpy as np\n",
    "from matplotlib import pyplot as plt\n",
    "import pickle\n",
    "import matplotlib.patches as mpatches\n",
    "import pandas as pd\n",
    "import matplotlib\n",
    "import matplotlib as mpl\n",
    "from sklearn.manifold import TSNE\n",
    "from sklearn.decomposition import PCA\n",
    "from sklearn.cluster import KMeans\n",
    "import os\n",
    "import seaborn as sns\n",
    "import scipy\n",
    "from matplotlib import cm\n",
    "import copy\n",
    "%matplotlib inline\n",
    "\n",
    "import sys\n",
    "import plotting_functions\n",
    "from tsne_plotting_functions import plot_continuous_tsne, plot_categorical_tsne\n"
   ]
  },
  {
   "cell_type": "code",
   "execution_count": 4,
   "metadata": {},
   "outputs": [],
   "source": [
    "\n",
    "# tsne internal\n",
    "phen_df = pd.read_csv(\"/homes/gws/nbbwang/AD_project/NEW_FULL_PIPELINE/temp_gpu_storage/tSNE_embeddings_shareable/phenotype_labels.csv\", index_col=0)\n",
    "\n",
    "\n",
    "#interaction analyses:\n",
    "path_to_cleaned_phenotypes = \"/homes/gws/nbbwang/AD_project/NEW_FULL_PIPELINE/temp_gpu_storage/tSNE_embeddings_shareable/phenotypes_for_clustermaps.p\""
   ]
  },
  {
   "cell_type": "code",
   "execution_count": 5,
   "metadata": {},
   "outputs": [],
   "source": [
    "with open(path_to_cleaned_phenotypes, \"rb\") as f:\n",
    "    merged_phenotypes, resilient_idx, resistant_idx, AD_idx, all_idx = pickle.load(f)"
   ]
  },
  {
   "cell_type": "code",
   "execution_count": 11,
   "metadata": {},
   "outputs": [],
   "source": [
    "merged_phenotypes.to_csv(\"/homes/gws/nbbwang/AD_project/NEW_FULL_PIPELINE/temp_gpu_storage/tSNE_embeddings_shareable/merged_phenotypes.csv\",index=False)"
   ]
  },
  {
   "cell_type": "code",
   "execution_count": 15,
   "metadata": {},
   "outputs": [
    {
     "data": {
      "text/plain": [
       "Index(['sample_name', 'filename', 'dementia', 'consistent_resilience_anydem',\n",
       "       'resilience_anydem', 'resilience_cog', 'addx_to_death_cats', 'cog_exf',\n",
       "       'cog_lan', 'cog_mem', 'cog_vsp', 'controlled_cogn_global_last',\n",
       "       'resilience_score', 'RIN', 'age_censored', 'edu', 'race_w', 'sex_m',\n",
       "       'PMI_hours', 'region_BM10_x', 'region_BM22_x', 'region_BM36_x',\n",
       "       'region_BM44_x', 'region_FWM_x', 'region_HIP_x', 'region_PCx_x',\n",
       "       'region_TCx_x', 'region_x', 'region_BM10_y', 'region_BM22_y',\n",
       "       'region_BM36_y', 'region_BM44_y', 'region_FWM_y', 'region_HIP_y',\n",
       "       'region_PCx_y', 'region_TCx_y', 'region_y', 'region_BM10',\n",
       "       'region_BM22', 'region_BM36', 'region_BM44', 'region_DLPFC',\n",
       "       'region_FWM', 'region_HIP', 'region_PCx', 'region_TCx', 'region'],\n",
       "      dtype='object')"
      ]
     },
     "execution_count": 15,
     "metadata": {},
     "output_type": "execute_result"
    }
   ],
   "source": [
    "merged_phenotypes.columns"
   ]
  },
  {
   "cell_type": "code",
   "execution_count": 13,
   "metadata": {},
   "outputs": [
    {
     "data": {
      "text/plain": [
       "Index(['sample_name', 'filename', 'AD', 'BRAAK', 'CERAD', 'PLAQUES', 'TANGLES',\n",
       "       'ABETA_IHC', 'TAU_IHC', 'ABETA_HISTELIDE', 'TAU_HISTELIDE',\n",
       "       'Unnamed: 0.1', 'dementia', 'addx_to_death_cats',\n",
       "       'controlled_cogn_ep_last', 'controlled_cogn_global_last',\n",
       "       'controlled_cogn_po_last', 'controlled_cogn_ps_last',\n",
       "       'controlled_cogn_se_last', 'controlled_cogn_wo_last', 'age_censored',\n",
       "       'edu', 'race_w', 'sex_m', 'region', 'apoe_genotype',\n",
       "       'hypertension_ever', 'cancer_ever', 'diabetes_sr_rx_ever',\n",
       "       'headinjrloc_ever', 'lostcons_ever', 'med_con_sum_ever', 'thyroid_ever',\n",
       "       'chf_ever', 'claudication_ever', 'heart_ever', 'stroke_ever',\n",
       "       'vasc_3dis_sum', 'vasc_risks_sum', 'alcohol_g_bl', 'smoking',\n",
       "       'resilience_categories'],\n",
       "      dtype='object')"
      ]
     },
     "execution_count": 13,
     "metadata": {},
     "output_type": "execute_result"
    }
   ],
   "source": [
    "phen_df.columns"
   ]
  },
  {
   "cell_type": "code",
   "execution_count": null,
   "metadata": {},
   "outputs": [],
   "source": []
  },
  {
   "cell_type": "code",
   "execution_count": 9,
   "metadata": {},
   "outputs": [
    {
     "data": {
      "text/plain": [
       "['expr_IG_plots',\n",
       " 'interaction_pvals_sex_m.txt',\n",
       " 'tsne_plots.ipynb',\n",
       " 'integrate_phenotype_labels.ipynb',\n",
       " 'temp_cols_linkage.txt',\n",
       " 'g_by_gset_expr_IG_interactions',\n",
       " 'interaction_coefs_sex_m.txt',\n",
       " '__pycache__',\n",
       " 'clustermap_figs',\n",
       " 'phenotypes_for_clustermaps.p',\n",
       " 'hi.csv',\n",
       " 'plotting_functions.py',\n",
       " 'MESSY_imputed_variables_correlations.ipynb',\n",
       " 'refactoring_phenotype_processing_PAPER2019_last_shared_layer_clustering_NEW-CURRENT.ipynb',\n",
       " 'IG_interactions.ipynb',\n",
       " 'Figures',\n",
       " 'TEMP_FIGURES',\n",
       " 'biomart_genesymbols.txt',\n",
       " 'phenotype_labels.csv',\n",
       " 'interaction_pvals_sex_m_permuted.txt',\n",
       " 'clustermap_figs_IG',\n",
       " 'refactoring_PAPER2019_last_shared_layer_clustering_simple_residGE-NEW-CURRENT.ipynb',\n",
       " 'Braak_trajectory.ipynb',\n",
       " '.ipynb_checkpoints',\n",
       " 'CLEANED_IG_interactions-Copy1.ipynb',\n",
       " 'figures',\n",
       " 'IG_samples_clustermap.ipynb',\n",
       " 'interaction_coefs_sex_m_permuted.txt',\n",
       " 'expr_IG_plots_mic1']"
      ]
     },
     "execution_count": 9,
     "metadata": {},
     "output_type": "execute_result"
    }
   ],
   "source": [
    "os.listdir(\"/homes/gws/nbbwang/AD_project/MTL_variable_tasks/MTL_\")"
   ]
  },
  {
   "cell_type": "code",
   "execution_count": 20,
   "metadata": {},
   "outputs": [],
   "source": [
    "path_to_ROSMAP_subsets_CV_results = \"/homes/gws/nbbwang/md-ad_public_repo_data/Modeling/ROSMAP_CV_subsets_results.p\"\n",
    "\n",
    "df= pickle.load(open(path_to_ROSMAP_subsets_CV_results, \"rb\" ) )\n"
   ]
  },
  {
   "cell_type": "code",
   "execution_count": 21,
   "metadata": {},
   "outputs": [],
   "source": [
    "df.to_csv(\"/homes/gws/nbbwang/md-ad_public_repo_data/Modeling/ROSMAP_CV_subsets_results.csv\", index=False)"
   ]
  },
  {
   "cell_type": "code",
   "execution_count": null,
   "metadata": {},
   "outputs": [],
   "source": []
  }
 ],
 "metadata": {
  "kernelspec": {
   "display_name": "Python [conda env:py36-test2]",
   "language": "python",
   "name": "conda-env-py36-test2-py"
  },
  "language_info": {
   "codemirror_mode": {
    "name": "ipython",
    "version": 3
   },
   "file_extension": ".py",
   "mimetype": "text/x-python",
   "name": "python",
   "nbconvert_exporter": "python",
   "pygments_lexer": "ipython3",
   "version": "3.7.5"
  }
 },
 "nbformat": 4,
 "nbformat_minor": 2
}
