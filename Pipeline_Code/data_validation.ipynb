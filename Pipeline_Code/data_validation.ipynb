{
 "cells": [
  {
   "cell_type": "code",
   "execution_count": 6,
   "metadata": {},
   "outputs": [],
   "source": [
    "import h5py\n",
    "import pandas as pd\n",
    "import numpy as np\n",
    "\n",
    "from configs import * \n",
    "import os\n",
    "from itertools import chain, combinations\n",
    "\n",
    "\n",
    "import importlib\n",
    "import data_validation_experiments\n",
    "\n"
   ]
  },
  {
   "cell_type": "code",
   "execution_count": 19,
   "metadata": {},
   "outputs": [],
   "source": [
    "test_set_vars_path = \"/media/big/nbbwang/AD_Project/analyses/MTL_variable_tasks/test_set_variances.csv\"\n",
    "\n",
    "\n",
    "with h5py.File(\"%s%s/%s.h5\"%(path_to_MDAD_data_folders, SPECIFIC_FOLDER, full_pca_dataset)) as hf:\n",
    "    labels_names = hf[\"labels_names\"][:]\n",
    "    labels = hf[\"labels\"][:]\n",
    "    labels_df = pd.DataFrame(labels, columns=labels_names.astype(str))\n"
   ]
  },
  {
   "cell_type": "code",
   "execution_count": 20,
   "metadata": {
    "collapsed": true
   },
   "outputs": [],
   "source": [
    "\n",
    "def powerset(seq):\n",
    "    \"\"\"\n",
    "    Returns all the subsets of this set. This is a generator.\n",
    "    \"\"\"\n",
    "    if len(seq) <= 1:\n",
    "        yield seq\n",
    "        yield []\n",
    "    else:\n",
    "        for item in powerset(seq[1:]):\n",
    "            yield [seq[0]]+item\n",
    "            yield item"
   ]
  },
  {
   "cell_type": "code",
   "execution_count": 21,
   "metadata": {
    "collapsed": true
   },
   "outputs": [],
   "source": [
    "train_datasets = [\"ACT.tsv\", \"MSBB_RNA.tsv\", \"ROSMAP_GE1.tsv\"]\n",
    "test_datasets = [\"ROSMAP_GE1.tsv\"]\n",
    "\n",
    "def short_subset_name(subset):\n",
    "    short_names = {\"ACT.tsv\": \"A\", \"ROSMAP_GE1.tsv\": \"R\", \"MSBB_RNA.tsv\": \"M\"}\n",
    "    short_name = \"\"\n",
    "    for item in subset:\n",
    "        short_name += short_names[item]\n",
    "    return short_name"
   ]
  },
  {
   "cell_type": "code",
   "execution_count": 22,
   "metadata": {
    "collapsed": true
   },
   "outputs": [],
   "source": [
    "folds = range(25, 30)\n",
    "subsets = powerset(train_datasets)"
   ]
  },
  {
   "cell_type": "code",
   "execution_count": null,
   "metadata": {
    "collapsed": true
   },
   "outputs": [],
   "source": []
  },
  {
   "cell_type": "code",
   "execution_count": 8,
   "metadata": {
    "jupyter": {
     "outputs_hidden": true
    }
   },
   "outputs": [
    {
     "name": "stdout",
     "output_type": "stream",
     "text": [
      "25\n",
      "CERAD\n"
     ]
    },
    {
     "name": "stderr",
     "output_type": "stream",
     "text": [
      "WARNING: Logging before flag parsing goes to stderr.\n",
      "W0319 11:26:18.842026 140616015603520 deprecation_wrapper.py:119] From /homes/gws/ewein/ad_replication/processed/combined_files/Code/models.py:13: The name tf.is_finite is deprecated. Please use tf.math.is_finite instead.\n",
      "\n",
      "W0319 11:26:18.858362 140616015603520 deprecation.py:323] From /homes/gws/ewein/.local/lib/python3.6/site-packages/tensorflow/python/ops/array_ops.py:1354: add_dispatch_support.<locals>.wrapper (from tensorflow.python.ops.array_ops) is deprecated and will be removed in a future version.\n",
      "Instructions for updating:\n",
      "Use tf.where in 2.0, which has the same broadcast rule as np.where\n",
      "W0319 11:26:19.174818 140616015603520 deprecation_wrapper.py:119] From /homes/gws/ewein/.local/lib/python3.6/site-packages/keras/backend/tensorflow_backend.py:422: The name tf.global_variables is deprecated. Please use tf.compat.v1.global_variables instead.\n",
      "\n"
     ]
    },
    {
     "name": "stdout",
     "output_type": "stream",
     "text": [
      "PLAQUES\n",
      "ABETA_IHC\n",
      "BRAAK\n",
      "TANGLES\n",
      "TAU_IHC\n",
      "26\n",
      "CERAD\n",
      "PLAQUES\n",
      "ABETA_IHC\n",
      "BRAAK\n",
      "TANGLES\n",
      "TAU_IHC\n",
      "27\n",
      "CERAD\n",
      "PLAQUES\n",
      "ABETA_IHC\n",
      "BRAAK\n",
      "TANGLES\n",
      "TAU_IHC\n",
      "28\n",
      "CERAD\n",
      "PLAQUES\n",
      "ABETA_IHC\n",
      "BRAAK\n",
      "TANGLES\n",
      "TAU_IHC\n",
      "29\n",
      "CERAD\n",
      "PLAQUES\n",
      "ABETA_IHC\n",
      "BRAAK\n",
      "TANGLES\n",
      "TAU_IHC\n"
     ]
    }
   ],
   "source": [
    "from models import linear_baseline\n",
    "\n",
    "variances = pd.read_csv(test_set_vars_path)\n",
    "results_for_fold = {}\n",
    "\n",
    "linear_results_df = pd.DataFrame(columns=['Val', 'Phenotype', 'Fold', 'Subset'])\n",
    "\n",
    "for fold in folds:\n",
    "    print(fold)\n",
    "    for phenotype in [\"CERAD\", \"PLAQUES\", \"ABETA_IHC\", \"BRAAK\", \"TANGLES\", \"TAU_IHC\"]:\n",
    "        print(phenotype)\n",
    "        for subset in powerset(train_datasets):\n",
    "            if not subset:\n",
    "                continue\n",
    "            importlib.reload(data_validation_experiments)\n",
    "            test = data_validation_experiments.DataValidationExperiment(fold, subset, test_datasets)\n",
    "            X_train, X_valid, y_train, y_valid = test.load_data_for_fold(fold)\n",
    "            \n",
    "            indices_to_keep = np.where(np.isfinite(y_train[phenotype]))\n",
    "            X_train = X_train[indices_to_keep]\n",
    "            y_train[phenotype] = y_train[phenotype][indices_to_keep]\n",
    "            if X_train.shape[0] > 0:\n",
    "                \n",
    "                indices_to_keep = np.where(np.isfinite(y_valid[phenotype]))\n",
    "                X_valid = X_valid[indices_to_keep]\n",
    "                y_valid[phenotype] = y_valid[phenotype][indices_to_keep]\n",
    "                \n",
    "                model = linear_baseline(\n",
    "                    X_train, \n",
    "                    {\n",
    "                        \"learning_rate\": 0.0001,\n",
    "                        \"k_reg\": 0.001,\n",
    "                        \"grad_clip_norm\": 0.1\n",
    "                    })\n",
    "                model.fit(x={'main_input': X_train},\n",
    "                                y={'out': y_train[phenotype]}, \n",
    "                      validation_data = ({'main_input': X_valid}, \n",
    "                                         {'out' :y_valid[phenotype]}),                                     \n",
    "                      verbose=0,epochs=200, batch_size=20)\n",
    "\n",
    "                predictions = model.predict(X_valid)\n",
    "                mse = ((predictions - y_valid[phenotype])**2).mean()\n",
    "                mse /= variances.iloc[fold][phenotype]\n",
    "            else:\n",
    "                mse = 0\n",
    "            #set_trace()\n",
    "            linear_results_df = linear_results_df.append({\n",
    "                \"Val\": mse, \"Phenotype\": phenotype, \"Fold\": fold, \"Subset\": short_subset_name(subset)\n",
    "            }, ignore_index=True)\n",
    "                "
   ]
  },
  {
   "cell_type": "code",
   "execution_count": 10,
   "metadata": {
    "collapsed": true
   },
   "outputs": [],
   "source": [
    "mean_linear_results_df = linear_results_df.groupby(['Phenotype', \"Subset\"]).mean()"
   ]
  },
  {
   "cell_type": "code",
   "execution_count": 43,
   "metadata": {
    "collapsed": true
   },
   "outputs": [],
   "source": [
    "sem_linear_results_df = linear_results_df.groupby(['Phenotype', 'Subset']).sem().drop('Fold', axis=1)"
   ]
  },
  {
   "cell_type": "code",
   "execution_count": 48,
   "metadata": {},
   "outputs": [
    {
     "name": "stdout",
     "output_type": "stream",
     "text": [
      "              Val\n",
      "Subset           \n",
      "A        8.442552\n",
      "M        0.000000\n",
      "R        1.612100\n",
      "AM      14.907694\n",
      "AR       1.373224\n",
      "MR       1.546417\n",
      "AMR      1.368964\n",
      "             Val\n",
      "Subset          \n",
      "A       2.658150\n",
      "M       0.000000\n",
      "R       0.058730\n",
      "AM      1.954539\n",
      "AR      0.046713\n",
      "MR      0.083097\n",
      "AMR     0.044104\n",
      "              Val\n",
      "Subset           \n",
      "A       10.560341\n",
      "M        7.326908\n",
      "R        1.989243\n",
      "AM       5.791362\n",
      "AR       1.084137\n",
      "MR       1.070370\n",
      "AMR      1.032321\n",
      "             Val\n",
      "Subset          \n",
      "A       2.126719\n",
      "M       1.384412\n",
      "R       0.100238\n",
      "AM      1.024040\n",
      "AR      0.061083\n",
      "MR      0.037400\n",
      "AMR     0.038567\n",
      "             Val\n",
      "Subset          \n",
      "A       3.829335\n",
      "M       3.427278\n",
      "R       1.425281\n",
      "AM      4.303371\n",
      "AR      1.212725\n",
      "MR      1.305731\n",
      "AMR     1.232760\n",
      "             Val\n",
      "Subset          \n",
      "A       0.858662\n",
      "M       0.235643\n",
      "R       0.032887\n",
      "AM      1.126316\n",
      "AR      0.032415\n",
      "MR      0.031223\n",
      "AMR     0.023950\n",
      "             Val\n",
      "Subset          \n",
      "A       0.000000\n",
      "M       7.019916\n",
      "R       1.685602\n",
      "AM      5.232134\n",
      "AR      1.800691\n",
      "MR      1.456753\n",
      "AMR     1.456205\n",
      "             Val\n",
      "Subset          \n",
      "A       0.000000\n",
      "M       1.440703\n",
      "R       0.072693\n",
      "AM      1.107234\n",
      "AR      0.056675\n",
      "MR      0.035796\n",
      "AMR     0.043869\n",
      "             Val\n",
      "Subset          \n",
      "A       0.000000\n",
      "M       0.000000\n",
      "R       1.720814\n",
      "AM      0.000000\n",
      "AR      1.730471\n",
      "MR      1.840710\n",
      "AMR     1.699108\n",
      "             Val\n",
      "Subset          \n",
      "A       0.000000\n",
      "M       0.000000\n",
      "R       0.075919\n",
      "AM      0.000000\n",
      "AR      0.081780\n",
      "MR      0.092345\n",
      "AMR     0.058257\n",
      "              Val\n",
      "Subset           \n",
      "A       13.587819\n",
      "M        0.000000\n",
      "R        1.180355\n",
      "AM      11.373487\n",
      "AR       1.041980\n",
      "MR       1.272076\n",
      "AMR      1.042645\n",
      "             Val\n",
      "Subset          \n",
      "A       2.283603\n",
      "M       0.000000\n",
      "R       0.057466\n",
      "AM      1.578417\n",
      "AR      0.066246\n",
      "MR      0.154442\n",
      "AMR     0.066925\n"
     ]
    },
    {
     "data": {
      "image/png": "[encoded data removed]",
      "text/plain": [
       "<Figure size 720x360 with 6 Axes>"
      ]
     },
     "metadata": {
      "needs_background": "light"
     },
     "output_type": "display_data"
    }
   ],
   "source": [
    "import matplotlib.pyplot as plt\n",
    "from IPython.core.debugger import set_trace\n",
    "\n",
    "import matplotlib\n",
    "\n",
    "cmap = matplotlib.cm.get_cmap('tab20')\n",
    "baseline_color = cmap(18)\n",
    "\n",
    "phenotypes = [\"ABETA_IHC\", \"BRAAK\", \"CERAD\", \"PLAQUES\", \"TANGLES\", \"TAU_IHC\"]\n",
    "\n",
    "dataset_size_rank = {\n",
    "    \"A\": 337,\n",
    "    \"M\": 879,\n",
    "    \"R\": 542,\n",
    "    \"AM\": 337+879,\n",
    "    \"AR\": 337+542+1, #AR has same size as M (add 1 here to force it displayed after M)\n",
    "    \"MR\": 879+542,\n",
    "    \"AMR\": 337+879+542\n",
    "}\n",
    "\n",
    "keys_in_size_order = [\n",
    "    \"A\", \"M\", \"R\", \"AM\", \"AR\", \"MR\", \"AMR\"\n",
    "]\n",
    "\n",
    "nrows = 2\n",
    "ncols = 3\n",
    "fig, axes = plt.subplots(nrows = nrows, ncols = ncols, figsize=(10,5))\n",
    "\n",
    "for i, phenotype in enumerate(phenotypes):\n",
    "    col = i % ncols\n",
    "    row = i // ncols \n",
    "    \n",
    "    vals = mean_linear_results_df.loc[phenotype]\n",
    "    vals = vals.reindex(dataset_size_rank.keys())\n",
    "    \n",
    "    sems = sem_linear_results_df.loc[phenotype]\n",
    "    sems = sems.reindex(dataset_size_rank.keys())\n",
    "    \n",
    "    ax = axes[row, col]\n",
    "    \n",
    "    ax.bar(dataset_size_rank.keys(), vals.values.squeeze(), color=baseline_color, yerr=sems['Val'])\n",
    "    ax.set_xticklabels(dataset_size_rank.keys(), rotation=45)\n",
    "    ax.set_ylabel(\"MSE\")\n",
    "    ax.set_ylim(bottom=0.4)\n",
    "    ax.set_title(\"{}\".format(phenotype))\n",
    "    \n",
    "fig.suptitle(\"Performance on ROSMAP for Different Training Datasets\")\n",
    "fig.tight_layout()\n",
    "fig.subplots_adjust(top=0.88)\n",
    "plt.show()"
   ]
  },
  {
   "cell_type": "code",
   "execution_count": null,
   "metadata": {
    "collapsed": true
   },
   "outputs": [],
   "source": []
  },
  {
   "cell_type": "code",
   "execution_count": 15,
   "metadata": {
    "collapsed": true
   },
   "outputs": [],
   "source": [
    "datasets_to_phenotypes = {\n",
    "    \"A\": [\"ABETA_IHC\", \"TAU_IHC\", \"CERAD\", \"BRAAK\"],\n",
    "    \"R\": [\"ABETA_IHC\", \"BRAAK\", \"CERAD\", \"PLAQUES\", \"TANGLES\", \"TAU_IHC\"],\n",
    "    \"M\": [\"PLAQUES\", \"CERAD\", \"BRAAK\"]\n",
    "}\n",
    "\n",
    "def phenotype_in_subset(phenotype, subset):\n",
    "    for dataset in subset:\n",
    "        if phenotype in datasets_to_phenotypes[dataset]:\n",
    "            return True\n",
    "    return False"
   ]
  },
  {
   "cell_type": "code",
   "execution_count": 17,
   "metadata": {},
   "outputs": [
    {
     "name": "stdout",
     "output_type": "stream",
     "text": [
      "25\n",
      "CERAD\n",
      "PLAQUES\n",
      "ABETA_IHC\n",
      "BRAAK\n",
      "TANGLES\n",
      "TAU_IHC\n",
      "26\n",
      "CERAD\n",
      "PLAQUES\n",
      "ABETA_IHC\n",
      "BRAAK\n",
      "TANGLES\n",
      "TAU_IHC\n",
      "27\n",
      "CERAD\n",
      "PLAQUES\n",
      "ABETA_IHC\n",
      "BRAAK\n",
      "TANGLES\n",
      "TAU_IHC\n",
      "28\n",
      "CERAD\n",
      "PLAQUES\n",
      "ABETA_IHC\n",
      "BRAAK\n",
      "TANGLES\n",
      "TAU_IHC\n",
      "29\n",
      "CERAD\n",
      "PLAQUES\n",
      "ABETA_IHC\n",
      "BRAAK\n",
      "TANGLES\n",
      "TAU_IHC\n"
     ]
    }
   ],
   "source": [
    "import pandas as pd\n",
    "variances = pd.read_csv(\"test_set_variances.csv\")\n",
    "subset_to_results = {}\n",
    "folds = range(25, 30)\n",
    "\n",
    "def get_final_results(subset, fold_idx):\n",
    "    subset_results = pd.read_csv(\n",
    "        \"/homes/gws/ewein/ad_replication/processed/combined_files/Code/MODEL_OUTPUTS/results/md-ad_data_validation/ACT_MSBBRNA_ROSMAP_PCASplit/\" + str(subset) + \"/\" + str(fold_idx) + \".log\"\n",
    "    )\n",
    "    filter_cols = [col for col in subset_results if col.startswith(\"val\")]\n",
    "    subset_results = subset_results[filter_cols]\n",
    "    final_subset_results = subset_results.iloc[199]\n",
    "    return final_subset_results\n",
    "\n",
    "subsets = powerset(train_datasets)\n",
    "mlp_results_df = pd.DataFrame(columns=['Val', 'Phenotype', 'Fold', 'Subset'])\n",
    "\n",
    "for fold in folds:\n",
    "    print(fold)\n",
    "    for phenotype in [\"CERAD\", \"PLAQUES\", \"ABETA_IHC\", \"BRAAK\", \"TANGLES\", \"TAU_IHC\"]:\n",
    "        print(phenotype)\n",
    "        for subset in powerset(train_datasets):\n",
    "            if not subset:\n",
    "                continue\n",
    "            final_subset_results_for_fold = get_final_results(subset, fold)\n",
    "            val = final_subset_results_for_fold[\"val_{}_out_loss\".format(phenotype)] / variances.iloc[fold][phenotype] if phenotype_in_subset(phenotype, short_subset_name(subset)) else 0\n",
    "            \n",
    "            mlp_results_df = mlp_results_df.append({\n",
    "                \"Val\": val,\n",
    "                \"Phenotype\": phenotype,\n",
    "                \"Fold\": fold,\n",
    "                \"Subset\": short_subset_name(subset)\n",
    "            }, ignore_index=True)"
   ]
  },
  {
   "cell_type": "code",
   "execution_count": 28,
   "metadata": {
    "collapsed": true
   },
   "outputs": [],
   "source": [
    "pickle.dump(mlp_results_df, open(\"md_ad_results_nicasia_corrected.p\", \"wb\"))"
   ]
  },
  {
   "cell_type": "code",
   "execution_count": 27,
   "metadata": {},
   "outputs": [
    {
     "data": {
      "image/png": "[encoded data removed]",
      "text/plain": [
       "<Figure size 720x360 with 6 Axes>"
      ]
     },
     "metadata": {
      "needs_background": "light"
     },
     "output_type": "display_data"
    }
   ],
   "source": [
    "from scipy.stats import sem\n",
    "\n",
    "import matplotlib.pyplot as plt\n",
    "\n",
    "phenotypes = [\"ABETA_IHC\", \"BRAAK\", \"CERAD\", \"PLAQUES\", \"TANGLES\", \"TAU_IHC\"]\n",
    "nrows = 2\n",
    "ncols = 3\n",
    "fig, axes = plt.subplots(nrows = nrows, ncols = ncols, figsize=(10,5))\n",
    "\n",
    "dataset_size_rank = {\n",
    "    \"A\": 337,\n",
    "    \"M\": 879,\n",
    "    \"R\": 542,\n",
    "    \"AM\": 337+879,\n",
    "    \"AR\": 337+542+1, #AR has same size as M (add 1 here to force it displayed after M)\n",
    "    \"MR\": 879+542,\n",
    "    \"AMR\": 337+879+542\n",
    "}\n",
    "\n",
    "for i, phenotype in enumerate(phenotypes):\n",
    "    col = i % ncols\n",
    "    row = i // ncols \n",
    "    \n",
    "    vals = [value[\"val_{}_out_loss\".format(phenotype)].mean() if phenotype_in_subset(phenotype, key) else 0 for (key, value) in subset_to_results.items()]\n",
    "    stderrs = [sem(value[\"val_{}_out_loss\".format(phenotype)]) if phenotype_in_subset(phenotype, key) else 0 for (key, value) in subset_to_results.items()]\n",
    "    keys = [key for key in subset_to_results.keys()]\n",
    "    \n",
    "    ax = axes[row, col]\n",
    "    \n",
    "    sorted_keys_and_vals = sorted(\n",
    "        zip(keys, vals, stderrs), key=lambda x: dataset_size_rank[x[0]]\n",
    "    )\n",
    "    sorted_keys = [key_and_val[0] for key_and_val in sorted_keys_and_vals]\n",
    "    sorted_vals = [key_and_val[1] for key_and_val in sorted_keys_and_vals]\n",
    "    sorted_stderrs = [key_and_val[2] for key_and_val in sorted_keys_and_vals]\n",
    "\n",
    "    ax.bar(sorted_keys, sorted_vals, yerr=sorted_stderrs)\n",
    "    ax.set_xticklabels(sorted_keys, rotation=45)\n",
    "    ax.set_ylabel(\"MSE\")\n",
    "    ax.set_ylim(bottom=0.4)\n",
    "    ax.set_title(\"{}\".format(phenotype))\n",
    "fig.suptitle(\"Performance on ROSMAP for Different Training Datasets\")\n",
    "fig.tight_layout()\n",
    "fig.subplots_adjust(top=0.88)\n",
    "plt.show()"
   ]
  }
 ],
 "metadata": {
  "kernelspec": {
   "display_name": "Python 3",
   "language": "python",
   "name": "python3"
  }
 },
 "nbformat": 4,
 "nbformat_minor": 4
}
