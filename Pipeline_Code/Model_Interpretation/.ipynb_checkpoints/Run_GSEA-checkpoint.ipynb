{
 "cells": [
  {
   "cell_type": "code",
   "execution_count": 2,
   "metadata": {},
   "outputs": [],
   "source": [
    "import pickle\n",
    "import numpy as np\n",
    "import pandas as pd\n",
    "import os\n",
    "import gseapy\n",
    "\n",
    "import sys\n",
    "path_to_configs = \"../\"\n",
    "sys.path.append(path_to_configs)\n",
    "from configs import * "
   ]
  },
  {
   "cell_type": "code",
   "execution_count": 3,
   "metadata": {},
   "outputs": [],
   "source": [
    "path_to_gene_ranks = path_to_configs + path_to_gene_rankings \n",
    "gseapy_save_path = path_to_configs + \"../../Pipeline_Outputs_Submitted/10k_gseapy_results/final_genes/\"\n",
    "path_to_gs_data = path_to_configs + path_to_geneset_data"
   ]
  },
  {
   "cell_type": "code",
   "execution_count": 4,
   "metadata": {},
   "outputs": [],
   "source": [
    "gmt_locations = {\"REACTOME\": path_to_gs_data + 'c2.all.v7.0.symbols_JustR.gmt',\n",
    "                \"KEGG\": path_to_gs_data + 'c2.all.v7.0.symbols_JustK.gmt',\n",
    "                \"HALLMARK\": path_to_gs_data + 'h.all.v7.0.symbols.gmt'}\n",
    "for gset in [\"mathys_celltypes\", \"sara_modules\", \"ben_modules\", \"olah_microglia\"]:\n",
    "    gmt_locations[gset] = path_to_gs_data + \"%s/processed/gene_set.gmt\"%gset"
   ]
  },
  {
   "cell_type": "code",
   "execution_count": 5,
   "metadata": {},
   "outputs": [],
   "source": [
    "rank_types_to_check = ['all-related']\n",
    "models = [\"MTL\", \"Correlations\"]\n",
    "gene_sets = ['KEGG',\n",
    " 'REACTOME',\n",
    " 'mathys_celltypes']"
   ]
  },
  {
   "cell_type": "code",
   "execution_count": 6,
   "metadata": {},
   "outputs": [],
   "source": [
    "for model in models:\n",
    "    for rank_type in rank_types_to_check:\n",
    "        for gset in gene_sets:\n",
    "            path_to_rank_file = \"%s%s/%s.rnk\"%(path_to_gene_ranks, model, rank_type)\n",
    "            outdir = gseapy_save_path + \"%s/%s/%s\"%(model,gset,rank_type)\n",
    "            print(outdir)\n",
    "            gseapy.prerank(rnk=path_to_rank_file, gene_sets=gmt_locations[gset], min_size=1,max_size=14591,\n",
    "                           outdir=outdir, permutation_num=10000,verbose=True, processes=8, no_plot=True)"
   ]
  }
 ],
 "metadata": {
  "kernelspec": {
   "display_name": "Python [conda env:root] *",
   "language": "python",
   "name": "conda-root-py"
  },
  "language_info": {
   "codemirror_mode": {
    "name": "ipython",
    "version": 3
   },
   "file_extension": ".py",
   "mimetype": "text/x-python",
   "name": "python",
   "nbconvert_exporter": "python",
   "pygments_lexer": "ipython3",
   "version": "3.7.4"
  }
 },
 "nbformat": 4,
 "nbformat_minor": 2
}
