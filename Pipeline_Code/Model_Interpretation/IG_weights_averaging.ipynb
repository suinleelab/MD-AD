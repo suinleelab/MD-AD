{
 "cells": [
  {
   "cell_type": "markdown",
   "metadata": {},
   "source": [
    "### Two kinds of averaging in this notebook:\n",
    "##### 1. Averaging over samples, so for each run, we have average gene scores for each phenotype \n",
    "(#runs x #samples x #genes x #phenotypes) --> (#runs x #genes x #phenotypes)\n",
    "\n",
    "##### 2. Averaging over runs and phenotypes, so for each sample, we have a gene importance score\n",
    "(#runs x #samples x #genes x #phenotypes) --> (#samples x #genes)\n"
   ]
  },
  {
   "cell_type": "markdown",
   "metadata": {},
   "source": [
    "## 1. Average over samples for each run:"
   ]
  },
  {
   "cell_type": "code",
   "execution_count": 1,
   "metadata": {},
   "outputs": [
    {
     "name": "stderr",
     "output_type": "stream",
     "text": [
      "/home/nbbwang/anaconda3/lib/python3.6/site-packages/h5py/__init__.py:34: FutureWarning: Conversion of the second argument of issubdtype from `float` to `np.floating` is deprecated. In future, it will be treated as `np.float64 == np.dtype(float).type`.\n",
      "  from ._conv import register_converters as _register_converters\n"
     ]
    }
   ],
   "source": [
    "import gc\n",
    "import h5py\n",
    "import numpy as np\n",
    "import pandas as pd\n",
    "\n",
    "\n",
    "import scipy\n",
    "from scipy import stats \n",
    "import datetime \n",
    "\n",
    "import h5py\n",
    "\n",
    "import sys\n",
    "\n",
    "import pickle\n",
    "\n",
    "from functools import reduce\n",
    "\n",
    "import os\n",
    "\n",
    "from matplotlib import pyplot as plt\n",
    "%matplotlib inline\n",
    "\n",
    "\n",
    "path_to_configs = \"../\"\n",
    "sys.path.append(path_to_configs)\n",
    "from configs import * "
   ]
  },
  {
   "cell_type": "code",
   "execution_count": 2,
   "metadata": {
    "collapsed": true
   },
   "outputs": [],
   "source": [
    "phenotypes = [\"CERAD\", \"BRAAK\", \"PLAQUES\", \"TANGLES\", \"ABETA_IHC\", \"TAU_IHC\"]"
   ]
  },
  {
   "cell_type": "markdown",
   "metadata": {},
   "source": [
    "#### Getting high and no pathology groups"
   ]
  },
  {
   "cell_type": "code",
   "execution_count": 3,
   "metadata": {},
   "outputs": [
    {
     "name": "stdout",
     "output_type": "stream",
     "text": [
      "High path: 392, Low path: 120\n"
     ]
    }
   ],
   "source": [
    "path_to_data = path_to_configs + path_to_MDAD_data_folders\n",
    "\n",
    "num_components=500\n",
    "with h5py.File(path_to_data + \"ACT_MSBBRNA_ROSMAP_PCA.h5\", 'r') as hf:\n",
    "    X = hf[\"ge_transformed\"][:,:num_components].astype(np.float64)      \n",
    "    Y = hf[\"labels\"][:]\n",
    "#     X = hf[\"X\"][:,:num_components].astype(np.float64)      \n",
    "#     Y = hf[\"Y\"][:]\n",
    "    PCA_components = hf[\"PCA_components_\"][:]\n",
    "    gene_symbols = hf[\"gene_symbols\"][:]\n",
    "    labels_names = hf[\"labels_names\"][:]\n",
    "    \n",
    "merged_phenotypes = pd.read_csv(path_to_data + \"merged_phenotypes.csv\")\n",
    "labels_df = pd.DataFrame(Y.astype(str), columns=labels_names.astype(str))\n",
    "labels_df = labels_df.merge(merged_phenotypes, how=\"left\", on=\"sample_name\")\n",
    "\n",
    "resilient_conditions = [np.where(labels_df[\"BRAAK\"].astype(float) == 5)[0],\\\n",
    " np.where(labels_df[\"CERAD\"].astype(float) > 2)[0], \n",
    " np.where(labels_df[\"dementia\"] == 0)[0]]\n",
    "resilient_idx = np.sort(list(reduce(set.intersection, [set(item) for item in resilient_conditions])))\n",
    "\n",
    "\n",
    "resistant_conditions = [np.where(labels_df[\"BRAAK\"].astype(float) <= 2)[0],\\\n",
    " np.where(labels_df[\"CERAD\"].astype(float) <= 2)[0],\\\n",
    " np.where(labels_df[\"dementia\"] == 0)[0],\\\n",
    " np.where(labels_df[\"age_censored\"].values.astype(float) > 85)[0]]\n",
    "resistant_idx = np.sort(list(reduce(set.intersection, [set(item) for item in resistant_conditions])))\n",
    "\n",
    "\n",
    "AD_conditions = [np.where(labels_df[\"BRAAK\"].astype(float) == 5)[0],\\\n",
    " np.where(labels_df[\"CERAD\"].astype(float) > 2)[0],\\\n",
    " np.where(labels_df[\"dementia\"] == 1)[0]]\n",
    "AD_idx = np.sort(list(reduce(set.intersection, [set(item) for item in AD_conditions])))\n",
    "\n",
    "\n",
    "all_idx = np.union1d(np.union1d(resistant_idx, resilient_idx), AD_idx)\n",
    "# all_idx = np.union1d(AD_idx, resilient_idx)\n",
    "# all_idx = resilient_idx\n",
    "\n",
    "color_labels = [\"r\" if x in AD_idx else(\"g\" if x in resilient_idx else \"b\") for x in all_idx]\n",
    "\n",
    "np.array([len(AD_idx) , len(resilient_idx) , len(resistant_idx)])/np.sum([len(AD_idx) , len(resilient_idx) , len(resistant_idx)])\n",
    "\n",
    "high_path_idx = np.union1d(resilient_idx, AD_idx)\n",
    "no_path_idx = resistant_idx\n",
    "print(\"High path: %i, Low path: %i\"%(len(high_path_idx), len(no_path_idx)))"
   ]
  },
  {
   "cell_type": "markdown",
   "metadata": {},
   "source": [
    "#### Averaged weights for high pathology (Braak 5or6, CERAD  3) * +1 , no pathology * -1\n",
    "Note: this is a weighted average where pathology gets a weight of 1, and no pathology gets a weight of -1 -- so this shows which genes have highly positive weights for AD but negative for control, and the opposite"
   ]
  },
  {
   "cell_type": "code",
   "execution_count": 13,
   "metadata": {
    "scrolled": true
   },
   "outputs": [],
   "source": [
    "method=\"MTL\"\n",
    "for rep in range(100): \n",
    "    for phenotype in phenotypes:\n",
    "        print(phenotype)\n",
    "\n",
    "        IG_path = \"%s%s/%s/%i/outputs/%s.h5\"%(path_to_configs + IG_save_path, SPECIFIC_FOLDER, method,rep, phenotype)\n",
    "        print(IG_path)\n",
    "\n",
    "\n",
    "        with h5py.File(IG_path, 'r') as hf:\n",
    "            gw  = hf[\"gene_weights\"][:][0]\n",
    "\n",
    "\n",
    "        ######## Averaged weights for high pathology (Braak 5or6, CERAD  3) * +1 , no pathology * -1\n",
    "\n",
    "        weighted_gw = np.vstack([gw[high_path_idx], -1*gw[no_path_idx]])\n",
    "        avged = np.mean(weighted_gw,axis=0)\n",
    "\n",
    "        savefolder_name = \"weighted_avg_high_vs_low_path\"\n",
    "        newsavepath = \"%s%s/AVERAGING/%s/%s/%i/outputs/\"%(path_to_configs+IG_save_path, SPECIFIC_FOLDER, savefolder_name, method, rep)\n",
    "        if not os.path.isdir(newsavepath):\n",
    "            os.makedirs(newsavepath)   \n",
    "\n",
    "        with h5py.File(newsavepath + \"%s.h5\"%phenotype, 'w') as hf:\n",
    "            hf.create_dataset(\"gene_weights\", data=avged) \n",
    "        print(\"saved to %s\"%(newsavepath + \"%s.h5\"%phenotype))\n"
   ]
  },
  {
   "cell_type": "markdown",
   "metadata": {},
   "source": [
    "# 2.  Getting consensus gene importance scores for each sample:"
   ]
  },
  {
   "cell_type": "code",
   "execution_count": 18,
   "metadata": {},
   "outputs": [],
   "source": [
    "phenotypes = [\"CERAD\", \"PLAQUES\", \"ABETA_IHC\", \"BRAAK\", \"TANGLES\", \"TAU_IHC\"]\n",
    "\n",
    "consensus_gws = np.zeros([len(phenotypes),len(X), len(gene_symbols)])\n",
    "    \n",
    "for run in range(100):\n",
    "    print(run)\n",
    "    for i,phen in enumerate(phenotypes):\n",
    "        path = \"origGE/MTL/%s/outputs/%s.h5\"%(path_to_configs + IG_save_path, run,phen)\n",
    "        with h5py.File(path, 'r') as hf:\n",
    "            gw = hf[\"gene_weights\"][:][0]\n",
    "        consensus_gws[i] += gw"
   ]
  },
  {
   "cell_type": "code",
   "execution_count": 19,
   "metadata": {},
   "outputs": [],
   "source": [
    "gene_scores_for_samples = np.mean(consensus_gws/100,axis=0)\n",
    "path_to_save_scores = path_to_configs + path_to_gene_rankings + \"MTL/\"\n",
    "\n",
    "np.savetxt(path_to_save_scores + \"gene_scores_for_samples.txt\", gene_scores_for_samples)"
   ]
  },
  {
   "cell_type": "code",
   "execution_count": 12,
   "metadata": {},
   "outputs": [
    {
     "data": {
      "text/plain": [
       "'../../../Pipeline_Outputs_Submitted/gene_rankings/MTL/gene_scores_for_samples.txt'"
      ]
     },
     "execution_count": 12,
     "metadata": {},
     "output_type": "execute_result"
    }
   ],
   "source": [
    "path_to_save_scores + \"gene_scores_for_samples.txt\""
   ]
  }
 ],
 "metadata": {
  "kernelspec": {
   "display_name": "Python 3",
   "language": "python",
   "name": "python3"
  },
  "language_info": {
   "codemirror_mode": {
    "name": "ipython",
    "version": 3
   },
   "file_extension": ".py",
   "mimetype": "text/x-python",
   "name": "python",
   "nbconvert_exporter": "python",
   "pygments_lexer": "ipython3",
   "version": "3.6.6"
  }
 },
 "nbformat": 4,
 "nbformat_minor": 2
}
