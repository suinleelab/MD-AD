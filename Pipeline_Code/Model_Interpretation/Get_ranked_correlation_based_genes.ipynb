{
 "cells": [
  {
   "cell_type": "markdown",
   "metadata": {},
   "source": [
    "# Correlation-based gene rankings\n",
    "We compute the correlation coeffients between each gene and each phenotype - we then average across all phenotypes."
   ]
  },
  {
   "cell_type": "code",
   "execution_count": 12,
   "metadata": {
    "scrolled": true
   },
   "outputs": [],
   "source": [
    "import gc\n",
    "import h5py\n",
    "import numpy as np\n",
    "import pandas as pd\n",
    "import os\n",
    "import statsmodels.api as sm\n",
    "from scipy import stats\n",
    "from scipy.stats import spearmanr, pearsonr, rankdata\n",
    "import matplotlib\n",
    "import pickle\n",
    "import sys\n",
    "\n",
    "from matplotlib import pyplot as plt\n",
    "import matplotlib as mpl\n",
    "\n",
    "%matplotlib inline\n",
    "import seaborn as sns\n",
    "\n",
    "from functools import reduce\n",
    "import numpy.ma as ma\n",
    "\n",
    "path_to_configs = \"../\"\n",
    "sys.path.append(path_to_configs)\n",
    "from configs import * "
   ]
  },
  {
   "cell_type": "code",
   "execution_count": 13,
   "metadata": {},
   "outputs": [
    {
     "name": "stdout",
     "output_type": "stream",
     "text": [
      "['ge', 'gene_symbols', 'labels', 'labels_names']\n"
     ]
    }
   ],
   "source": [
    "with h5py.File(path_to_configs + path_to_MDAD_data_folders + \"ACT_MSBBRNA_ROSMAP.h5\", 'r') as hf:\n",
    "    gene_symbols = hf[\"gene_symbols\"][:].astype(str)\n",
    "    ge = hf[\"ge\"][:]\n",
    "    Y = hf[\"labels\"][:]\n",
    "    labels_names= hf[\"labels_names\"][:].astype(str)\n",
    "    print(list(hf.keys()))\n",
    "    \n",
    "labels_df = pd.DataFrame(Y, columns=labels_names.astype(str), dtype=\"str\")\n",
    "\n",
    "path_to_save_scores = path_to_save_scores = path_to_configs + path_to_gene_rankings + \"Correlations/\"\n"
   ]
  },
  {
   "cell_type": "code",
   "execution_count": 14,
   "metadata": {
    "collapsed": true
   },
   "outputs": [],
   "source": [
    "phenotypes = [\"CERAD\", \"BRAAK\", \"PLAQUES\", \"TANGLES\", \"ABETA_IHC\", \"TAU_IHC\"]"
   ]
  },
  {
   "cell_type": "code",
   "execution_count": 15,
   "metadata": {},
   "outputs": [
    {
     "name": "stdout",
     "output_type": "stream",
     "text": [
      "CERAD\n",
      "BRAAK\n",
      "PLAQUES\n",
      "TANGLES\n",
      "ABETA_IHC\n",
      "TAU_IHC\n"
     ]
    }
   ],
   "source": [
    "rs_phen = {}\n",
    "ps_phen = {}\n",
    "for phenotype in phenotypes:\n",
    "    print(phenotype)\n",
    "    a=ma.masked_invalid(labels_df[phenotype].astype(float))\n",
    "    \n",
    "    rs = []\n",
    "    ps = []\n",
    "    for row in ge.T:\n",
    "    \n",
    "        b=ma.masked_invalid(row)\n",
    "\n",
    "        msk = (~a.mask & ~b.mask)\n",
    "\n",
    "        r,p = stats.pearsonr(a[msk],b[msk])\n",
    "        rs.append(r)\n",
    "        ps.append(p)\n",
    "        \n",
    "    rs_phen[phenotype]=rs\n",
    "    ps_phen[phenotype]=ps"
   ]
  },
  {
   "cell_type": "code",
   "execution_count": 16,
   "metadata": {
    "collapsed": true
   },
   "outputs": [],
   "source": [
    "phen_dict = {\"all\": ['CERAD','BRAAK','PLAQUES','TANGLES','ABETA_IHC','TAU_IHC'], \n",
    "             \"abeta\": ['CERAD','PLAQUES','ABETA_IHC'],\n",
    "            \"tau\": ['BRAAK','TANGLES','TAU_IHC']}\n"
   ]
  },
  {
   "cell_type": "code",
   "execution_count": 17,
   "metadata": {
    "collapsed": true
   },
   "outputs": [],
   "source": [
    "RANK_DF = pd.DataFrame.from_dict(rs_phen)\n",
    "RANK_DF[\"gene\"] = gene_symbols\n",
    "for phen in phenotypes:\n",
    "    RANK_DF[\"%s_percentiles\"%phen] = RANK_DF[phen].rank(pct=True)\n"
   ]
  },
  {
   "cell_type": "code",
   "execution_count": 18,
   "metadata": {
    "collapsed": true
   },
   "outputs": [],
   "source": [
    "for phen_group in phen_dict:\n",
    "    RANK_DF[\"%s-related_score\"%phen_group] = RANK_DF[[\"%s_percentiles\"%x for x in phen_dict[phen_group]]].mean(axis=1).rank(pct=True)\n",
    "    RANK_DF[\"%s-related_score\"%phen_group] = RANK_DF[\"%s-related_score\"%phen_group] - np.min(RANK_DF[\"%s-related_score\"%phen_group])"
   ]
  },
  {
   "cell_type": "code",
   "execution_count": 19,
   "metadata": {
    "collapsed": true
   },
   "outputs": [],
   "source": [
    "### SAVE rnk FILES (used for gseapy)\n",
    "### SAVE FINAL RANKINGS FOR EACH PHENOTYPE AND COMBINED ACROSS GROUPS\n",
    "if not os.path.isdir(path_to_save_scores):\n",
    "    os.makedirs(path_to_save_scores)\n",
    "\n",
    "for p_group in [\"all\", \"abeta\", \"tau\"]:\n",
    "    \n",
    "    scores_df = RANK_DF[[\"gene\",\"%s-related_score\"%p_group]].sort_values(\"%s-related_score\"%p_group, ascending=False)\n",
    "    scores_df = scores_df.reset_index(drop=True)\n",
    "    scores_df.to_csv(\"%s%s-related.rnk\"%(path_to_save_scores,p_group), sep=\"\\t\", header=False, index=False)"
   ]
  },
  {
   "cell_type": "code",
   "execution_count": 20,
   "metadata": {},
   "outputs": [
    {
     "name": "stdout",
     "output_type": "stream",
     "text": [
      "Saved rankings to ../../../Pipeline_Output_Submitted/gene_rankings/Correlations/\n"
     ]
    }
   ],
   "source": [
    "RANK_DF.to_csv(path_to_save_scores + \"ALL_CONSENSUS_SCORES.csv\")\n",
    "print(\"Saved rankings to %s\"%path_to_save_scores)"
   ]
  }
 ],
 "metadata": {
  "kernelspec": {
   "display_name": "Python 3",
   "language": "python",
   "name": "python3"
  },
  "language_info": {
   "codemirror_mode": {
    "name": "ipython",
    "version": 3
   },
   "file_extension": ".py",
   "mimetype": "text/x-python",
   "name": "python",
   "nbconvert_exporter": "python",
   "pygments_lexer": "ipython3",
   "version": "3.6.6"
  }
 },
 "nbformat": 4,
 "nbformat_minor": 2
}
