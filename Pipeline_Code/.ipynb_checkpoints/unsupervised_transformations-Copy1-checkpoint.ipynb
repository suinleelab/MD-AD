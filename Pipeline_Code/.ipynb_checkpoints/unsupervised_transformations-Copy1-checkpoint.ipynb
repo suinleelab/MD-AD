{
 "cells": [
  {
   "cell_type": "code",
   "execution_count": 3,
   "metadata": {
    "collapsed": true
   },
   "outputs": [],
   "source": [
    "import gc\n",
    "import h5py\n",
    "import numpy as np\n",
    "import pandas as pd\n",
    "\n",
    "import h5py\n",
    "\n",
    "import sys\n",
    "\n",
    "from sklearn.model_selection import ParameterGrid\n",
    "\n",
    "\n",
    "import os\n",
    "\n",
    "sys.path.append(\"/home/nbbwang/bigdrive/AD_Project/\")\n",
    "from IntegratedGradients import *\n",
    "\n",
    "from sklearn.decomposition import PCA\n",
    "from sklearn.cluster import KMeans"
   ]
  },
  {
   "cell_type": "code",
   "execution_count": 4,
   "metadata": {
    "collapsed": true
   },
   "outputs": [],
   "source": [
    "SPECIFIC_FOLDER = \"resid_01_GE_PmiRin\"\n",
    "SPECIFIC_FOLDER = \"NEW_resid_then_01\"\n",
    "SPECIFIC_FOLDER = \"origGE\"\n",
    "\n",
    "\n",
    "# SPECIFIC_FOLDER = \"resid_01_GELabels_PmiRin\"\n",
    "\n",
    "datatype = \"ACT_MSBBRNA_ROSMAP_PCASplit\"\n",
    "\n",
    "# path_to_split_data = \"../MTL_data/%s/\"%datatype\n",
    "path_to_split_data = \"../MTL_data/%s/ACT_MSBBRNA_ROSMAP_PCASplit/\"%SPECIFIC_FOLDER \n",
    "\n",
    "\n",
    "num_components = 500\n"
   ]
  },
  {
   "cell_type": "code",
   "execution_count": 5,
   "metadata": {
    "collapsed": true
   },
   "outputs": [],
   "source": [
    "def kmeans_centroids_for_test(X_test, cluster_labels):\n",
    "    n_clusters = len(np.unique(cluster_labels))\n",
    "    n,d = X_test.shape\n",
    "    \n",
    "    new_centroids = np.zeros([n_clusters,n])\n",
    "    for i in range(n_clusters):\n",
    "        new_centroids[i] = np.mean(X_test.T[np.where(cluster_labels ==i)], axis=0).reshape([1,-1])\n",
    "\n",
    "    return new_centroids"
   ]
  },
  {
   "cell_type": "markdown",
   "metadata": {},
   "source": [
    "# Train / Test folds"
   ]
  },
  {
   "cell_type": "code",
   "execution_count": 23,
   "metadata": {
    "scrolled": true
   },
   "outputs": [
    {
     "name": "stdout",
     "output_type": "stream",
     "text": [
      "last_shared_layer_transformations_TRAIN/origGE/unsupervised_methods/KMeans/25.h5\n",
      "(1419, 11) (1419, 100)\n",
      "last_shared_layer_transformations_TRAIN/origGE/unsupervised_methods/PCA/25.h5\n",
      "(1419, 11) (1419, 100)\n",
      "last_shared_layer_transformations_TRAIN/origGE/unsupervised_methods/KMeans/26.h5\n",
      "(1402, 11) (1402, 100)\n",
      "last_shared_layer_transformations_TRAIN/origGE/unsupervised_methods/PCA/26.h5\n",
      "(1402, 11) (1402, 100)\n",
      "last_shared_layer_transformations_TRAIN/origGE/unsupervised_methods/KMeans/27.h5\n",
      "(1400, 11) (1400, 100)\n",
      "last_shared_layer_transformations_TRAIN/origGE/unsupervised_methods/PCA/27.h5\n",
      "(1400, 11) (1400, 100)\n",
      "last_shared_layer_transformations_TRAIN/origGE/unsupervised_methods/KMeans/28.h5\n",
      "(1413, 11) (1413, 100)\n",
      "last_shared_layer_transformations_TRAIN/origGE/unsupervised_methods/PCA/28.h5\n",
      "(1413, 11) (1413, 100)\n",
      "last_shared_layer_transformations_TRAIN/origGE/unsupervised_methods/KMeans/29.h5\n",
      "(1398, 11) (1398, 100)\n",
      "last_shared_layer_transformations_TRAIN/origGE/unsupervised_methods/PCA/29.h5\n",
      "(1398, 11) (1398, 100)\n"
     ]
    }
   ],
   "source": [
    "mode = \"TEST\"\n",
    "# mode = \"TRAIN\"\n",
    "\n",
    "\n",
    "if mode ==\"TRAIN\":\n",
    "    path_to_new_files = \"last_shared_layer_transformations_TRAIN/%s/unsupervised_methods/\"%SPECIFIC_FOLDER\n",
    "else:\n",
    "    path_to_new_files = \"last_shared_layer_transformations/%s/unsupervised_methods/\"%SPECIFIC_FOLDER\n",
    "    \n",
    "for fold_idx in range(25,30):\n",
    "    \n",
    "    with h5py.File(path_to_split_data + str(fold_idx) + \".h5\", 'r') as hf:\n",
    "        if mode == \"TRAIN\":\n",
    "            X = hf[\"X_train_transformed\"][:,:num_components].astype(np.float64)\n",
    "            labels = hf[\"y_train\"][:]\n",
    "\n",
    "        else:\n",
    "            X = hf[\"X_valid_transformed\"][:,:num_components].astype(np.float64)\n",
    "            labels = hf[\"y_valid\"][:]\n",
    "            \n",
    "        X_train =  hf[\"X_train_transformed\"][:,:num_components].astype(np.float64)\n",
    "        gene_symbols = hf[\"gene_symbols\"][:]\n",
    "        labels_names = hf[\"labels_names\"][:]\n",
    "\n",
    "        \n",
    "    ####### PCA STUFF\n",
    "    \n",
    "    for transformation in [\"KMeans\", \"PCA\"]:\n",
    "        \n",
    "        num_components = 100\n",
    "\n",
    "        print(path_to_new_files+ \"%s/%i.h5\"%(transformation, fold_idx))\n",
    "        if not os.path.isdir(path_to_new_files + transformation + \"/\"):\n",
    "            os.makedirs(path_to_new_files + transformation + \"/\")\n",
    "\n",
    "        if transformation == \"KMeans\":\n",
    "            kmeans = KMeans(n_clusters=num_components).fit(X_train.T)\n",
    "            X_transformed = kmeans_centroids_for_test(X, kmeans.labels_).T\n",
    "    \n",
    "        elif transformation == \"PCA\":\n",
    "            pca = PCA(n_components = num_components)\n",
    "            pca.fit(X_train)\n",
    "            X_transformed = pca.transform(X)[:, :num_components]\n",
    "\n",
    "\n",
    "        print(labels.shape, X_transformed.shape)\n",
    "        with h5py.File(path_to_new_files + \"%s/%i.h5\"%(transformation, fold_idx), 'w') as hf:\n",
    "            hf.create_dataset(\"labels\", data=labels)\n",
    "            hf.create_dataset(\"outputs\", data=X_transformed)\n",
    "            hf.create_dataset(\"labels_names\", data=labels_names)"
   ]
  },
  {
   "cell_type": "markdown",
   "metadata": {
    "collapsed": true
   },
   "source": [
    "# Final model"
   ]
  },
  {
   "cell_type": "code",
   "execution_count": 14,
   "metadata": {
    "collapsed": true
   },
   "outputs": [],
   "source": [
    "SPECIFIC_FOLDER = \"origGE\"\n",
    "\n",
    "SPECIFIC_FOLDER = \"resid_01_GE_PmiRin\"\n",
    "SPECIFIC_FOLDER = \"NEW_resid_then_01\"\n",
    "\n",
    "path_to_data = \"../MTL_data/%s/ACT_MSBBRNA_ROSMAP_PCA.h5\"%SPECIFIC_FOLDER\n",
    "num_components=500\n",
    "with h5py.File(path_to_data, 'r') as hf:\n",
    "    X = hf[\"X\"][:,:num_components].astype(np.float64)      \n",
    "    Y = hf[\"Y\"][:]\n",
    "#     X = hf[\"ge_transformed\"][:,:num_components].astype(np.float64)      \n",
    "#     Y = hf[\"labels\"][:]\n",
    "    PCA_components = hf[\"PCA_components_\"][:]\n",
    "    gene_symbols = hf[\"gene_symbols\"][:]\n",
    "    labels_names = hf[\"labels_names\"][:]\n",
    "    \n"
   ]
  },
  {
   "cell_type": "code",
   "execution_count": 15,
   "metadata": {},
   "outputs": [
    {
     "name": "stdout",
     "output_type": "stream",
     "text": [
      "last_shared_layer_transformations_final/NEW_resid_then_01/unsupervised_methods/KMeans/final.h5\n",
      "(1758, 11) (1758, 100)\n",
      "last_shared_layer_transformations_final/NEW_resid_then_01/unsupervised_methods/PCA/final.h5\n",
      "(1758, 11) (1758, 100)\n"
     ]
    }
   ],
   "source": [
    "path_to_new_files = \"last_shared_layer_transformations_final/%s/unsupervised_methods/\"%SPECIFIC_FOLDER\n",
    "\n",
    "for transformation in [\"KMeans\", \"PCA\"]:\n",
    "    \n",
    "\n",
    "    num_components = 100\n",
    "\n",
    "    print(path_to_new_files+ \"%s/final.h5\"%(transformation))\n",
    "    if not os.path.isdir(path_to_new_files + transformation + \"/\"):\n",
    "        os.makedirs(path_to_new_files + transformation + \"/\")\n",
    "\n",
    "    if transformation == \"KMeans\":\n",
    "        kmeans = KMeans(n_clusters=num_components).fit(X.T)\n",
    "        X_transformed = kmeans_centroids_for_test(X, kmeans.labels_).T\n",
    "\n",
    "    elif transformation == \"PCA\":\n",
    "        pca = PCA(n_components = num_components)\n",
    "        pca.fit(X)\n",
    "        X_transformed = pca.transform(X)[:, :num_components]\n",
    "\n",
    "\n",
    "    print(Y.shape, X_transformed.shape)\n",
    "    with h5py.File(path_to_new_files + \"%s/final.h5\"%(transformation), 'w') as hf:\n",
    "        hf.create_dataset(\"labels\", data=Y)\n",
    "        hf.create_dataset(\"outputs\", data=X_transformed)\n",
    "        hf.create_dataset(\"labels_names\", data=labels_names)"
   ]
  },
  {
   "cell_type": "code",
   "execution_count": null,
   "metadata": {
    "collapsed": true
   },
   "outputs": [],
   "source": []
  }
 ],
 "metadata": {
  "kernelspec": {
   "display_name": "Python 3",
   "language": "python",
   "name": "python3"
  },
  "language_info": {
   "codemirror_mode": {
    "name": "ipython",
    "version": 3
   },
   "file_extension": ".py",
   "mimetype": "text/x-python",
   "name": "python",
   "nbconvert_exporter": "python",
   "pygments_lexer": "ipython3",
   "version": "3.6.6"
  }
 },
 "nbformat": 4,
 "nbformat_minor": 2
}
