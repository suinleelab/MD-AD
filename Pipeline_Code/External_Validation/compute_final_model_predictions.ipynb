{
 "cells": [
  {
   "cell_type": "markdown",
   "metadata": {},
   "source": [
    "# get predictions from final models"
   ]
  },
  {
   "cell_type": "code",
   "execution_count": 6,
   "metadata": {},
   "outputs": [],
   "source": [
    "import gc\n",
    "import h5py\n",
    "import numpy as np\n",
    "import pandas as pd\n",
    "import tensorflow as tf\n",
    "from keras.layers import Input, Dense, Dropout\n",
    "from keras import optimizers, regularizers, losses\n",
    "\n",
    "from keras.models import Model\n",
    "from keras import backend as K\n",
    "from keras.callbacks import CSVLogger\n",
    "from keras import metrics\n",
    "\n",
    "import scipy\n",
    "import datetime \n",
    "\n",
    "import h5py\n",
    "import keras\n",
    "\n",
    "import sys\n",
    "\n",
    "from sklearn.model_selection import ParameterGrid\n",
    "import pickle\n",
    "\n",
    "\n",
    "import os\n",
    "sys.path.append(\"/home/nbbwang/bigdrive/AD_Project/\")\n",
    "from IntegratedGradients import *"
   ]
  },
  {
   "cell_type": "code",
   "execution_count": 9,
   "metadata": {
    "collapsed": true
   },
   "outputs": [],
   "source": [
    "from matplotlib import pyplot as plt\n",
    "%matplotlib inline\n",
    "\n",
    "import matplotlib\n",
    "matplotlib.rcParams.update({'font.size': 18, 'font.family': \"Times New Roman\"})\n",
    "plt.rcParams[\"font.family\"] = \"Times\"\n",
    "\n",
    "\n",
    "import IntegratedGradients as IG\n",
    "import keras \n",
    "\n",
    "from scipy import stats \n",
    "\n",
    "\n",
    "path_to_configs = \"../\"\n",
    "sys.path.append(path_to_configs)\n",
    "from configs import *\n",
    "from models import *"
   ]
  },
  {
   "cell_type": "code",
   "execution_count": 12,
   "metadata": {},
   "outputs": [],
   "source": [
    "MTL_final_final_model = pickle.load(open(path_to_configs+path_to_final_chosen_models + \"MTL/final.p\", \"rb\" ) )\n",
    "baselines_final_final_model = pickle.load(open(path_to_configs+path_to_final_chosen_models + \"MLP_baselines/final.p\", \"rb\" ))\n",
    "phens = [\"CERAD\", \"BRAAK\", \"PLAQUES\", \"TANGLES\", \"ABETA_IHC\", \"TAU_IHC\"]"
   ]
  },
  {
   "cell_type": "code",
   "execution_count": 16,
   "metadata": {},
   "outputs": [],
   "source": [
    "path_to_ext_val_predictions = path_to_configs + path_to_ext_val_results"
   ]
  },
  {
   "cell_type": "code",
   "execution_count": 17,
   "metadata": {},
   "outputs": [
    {
     "name": "stdout",
     "output_type": "stream",
     "text": [
      "Saving consensus test predictions to ../../../Pipeline_Outputs_Submitted/External_Validation/predictions/amp-ad_msbb_mssm_affymetrixu133ab_parahippocampal gyrus_rspp-adj.tsv/MTL/200_relu_[500, 100]_[50, 10]_0.100000_0.001000_0.001000_[1, 1]_0.100000_20/\n",
      "Saving consensus predictions to ../../../Pipeline_Outputs_Submitted/External_Validation/predictions/amp-ad_msbb_mssm_affymetrixu133ab_parahippocampal gyrus_rspp-adj.tsv/MLP_baselines/\n",
      "Saving consensus test predictions to ../../../Pipeline_Outputs_Submitted/External_Validation/predictions/amp-ad_msbb_mssm_affymetrixu133ab_inferior temporal gyrus_rspp-adj.tsv/MTL/200_relu_[500, 100]_[50, 10]_0.100000_0.001000_0.001000_[1, 1]_0.100000_20/\n",
      "Saving consensus predictions to ../../../Pipeline_Outputs_Submitted/External_Validation/predictions/amp-ad_msbb_mssm_affymetrixu133ab_inferior temporal gyrus_rspp-adj.tsv/MLP_baselines/\n",
      "Saving consensus test predictions to ../../../Pipeline_Outputs_Submitted/External_Validation/predictions/amp-ad_msbb_mssm_affymetrixu133ab_putamen_rspp-adj.tsv/MTL/200_relu_[500, 100]_[50, 10]_0.100000_0.001000_0.001000_[1, 1]_0.100000_20/\n",
      "Saving consensus predictions to ../../../Pipeline_Outputs_Submitted/External_Validation/predictions/amp-ad_msbb_mssm_affymetrixu133ab_putamen_rspp-adj.tsv/MLP_baselines/\n",
      "Saving consensus test predictions to ../../../Pipeline_Outputs_Submitted/External_Validation/predictions/amp-ad_msbb_mssm_affymetrixu133ab_caudate nucleus_rspp-adj.tsv/MTL/200_relu_[500, 100]_[50, 10]_0.100000_0.001000_0.001000_[1, 1]_0.100000_20/\n",
      "Saving consensus predictions to ../../../Pipeline_Outputs_Submitted/External_Validation/predictions/amp-ad_msbb_mssm_affymetrixu133ab_caudate nucleus_rspp-adj.tsv/MLP_baselines/\n",
      "Saving consensus test predictions to ../../../Pipeline_Outputs_Submitted/External_Validation/predictions/Mayo_CER.tsv/MTL/200_relu_[500, 100]_[50, 10]_0.100000_0.001000_0.001000_[1, 1]_0.100000_20/\n",
      "Saving consensus predictions to ../../../Pipeline_Outputs_Submitted/External_Validation/predictions/Mayo_CER.tsv/MLP_baselines/\n",
      "Saving consensus test predictions to ../../../Pipeline_Outputs_Submitted/External_Validation/predictions/amp-ad_msbb_mssm_affymetrixu133ab_dorsolateral prefrontal cortex_rspp-adj.tsv/MTL/200_relu_[500, 100]_[50, 10]_0.100000_0.001000_0.001000_[1, 1]_0.100000_20/\n",
      "Saving consensus predictions to ../../../Pipeline_Outputs_Submitted/External_Validation/predictions/amp-ad_msbb_mssm_affymetrixu133ab_dorsolateral prefrontal cortex_rspp-adj.tsv/MLP_baselines/\n",
      "Saving consensus test predictions to ../../../Pipeline_Outputs_Submitted/External_Validation/predictions/amp-ad_msbb_mssm_affymetrixu133ab_precentral gyrus_rspp-adj.tsv/MTL/200_relu_[500, 100]_[50, 10]_0.100000_0.001000_0.001000_[1, 1]_0.100000_20/\n",
      "Saving consensus predictions to ../../../Pipeline_Outputs_Submitted/External_Validation/predictions/amp-ad_msbb_mssm_affymetrixu133ab_precentral gyrus_rspp-adj.tsv/MLP_baselines/\n",
      "Saving consensus test predictions to ../../../Pipeline_Outputs_Submitted/External_Validation/predictions/amp-ad_msbb_mssm_affymetrixu133ab_superior temporal gyrus_rspp-adj.tsv/MTL/200_relu_[500, 100]_[50, 10]_0.100000_0.001000_0.001000_[1, 1]_0.100000_20/\n",
      "Saving consensus predictions to ../../../Pipeline_Outputs_Submitted/External_Validation/predictions/amp-ad_msbb_mssm_affymetrixu133ab_superior temporal gyrus_rspp-adj.tsv/MLP_baselines/\n",
      "Saving consensus test predictions to ../../../Pipeline_Outputs_Submitted/External_Validation/predictions/amp-ad_msbb_mssm_affymetrixu133ab_inferior frontal gyrus_rspp-adj.tsv/MTL/200_relu_[500, 100]_[50, 10]_0.100000_0.001000_0.001000_[1, 1]_0.100000_20/\n",
      "Saving consensus predictions to ../../../Pipeline_Outputs_Submitted/External_Validation/predictions/amp-ad_msbb_mssm_affymetrixu133ab_inferior frontal gyrus_rspp-adj.tsv/MLP_baselines/\n",
      "Saving consensus test predictions to ../../../Pipeline_Outputs_Submitted/External_Validation/predictions/amp-ad_msbb_mssm_affymetrixu133ab_superior parietal lobule_rspp-adj.tsv/MTL/200_relu_[500, 100]_[50, 10]_0.100000_0.001000_0.001000_[1, 1]_0.100000_20/\n",
      "Saving consensus predictions to ../../../Pipeline_Outputs_Submitted/External_Validation/predictions/amp-ad_msbb_mssm_affymetrixu133ab_superior parietal lobule_rspp-adj.tsv/MLP_baselines/\n",
      "Saving consensus test predictions to ../../../Pipeline_Outputs_Submitted/External_Validation/predictions/HBTRC_GEO_CER.tsv/MTL/200_relu_[500, 100]_[50, 10]_0.100000_0.001000_0.001000_[1, 1]_0.100000_20/\n",
      "Saving consensus predictions to ../../../Pipeline_Outputs_Submitted/External_Validation/predictions/HBTRC_GEO_CER.tsv/MLP_baselines/\n",
      "Saving consensus test predictions to ../../../Pipeline_Outputs_Submitted/External_Validation/predictions/amp-ad_msbb_mssm_affymetrixu133plus2_amygdala_rspp-adj.tsv/MTL/200_relu_[500, 100]_[50, 10]_0.100000_0.001000_0.001000_[1, 1]_0.100000_20/\n",
      "Saving consensus predictions to ../../../Pipeline_Outputs_Submitted/External_Validation/predictions/amp-ad_msbb_mssm_affymetrixu133plus2_amygdala_rspp-adj.tsv/MLP_baselines/\n",
      "Saving consensus test predictions to ../../../Pipeline_Outputs_Submitted/External_Validation/predictions/amp-ad_msbb_mssm_affymetrixu133ab_prefrontal cortex_rspp-adj.tsv/MTL/200_relu_[500, 100]_[50, 10]_0.100000_0.001000_0.001000_[1, 1]_0.100000_20/\n",
      "Saving consensus predictions to ../../../Pipeline_Outputs_Submitted/External_Validation/predictions/amp-ad_msbb_mssm_affymetrixu133ab_prefrontal cortex_rspp-adj.tsv/MLP_baselines/\n",
      "Saving consensus test predictions to ../../../Pipeline_Outputs_Submitted/External_Validation/predictions/amp-ad_msbb_mssm_affymetrixu133ab_hippocampus_rspp-adj.tsv/MTL/200_relu_[500, 100]_[50, 10]_0.100000_0.001000_0.001000_[1, 1]_0.100000_20/\n",
      "Saving consensus predictions to ../../../Pipeline_Outputs_Submitted/External_Validation/predictions/amp-ad_msbb_mssm_affymetrixu133ab_hippocampus_rspp-adj.tsv/MLP_baselines/\n",
      "Saving consensus test predictions to ../../../Pipeline_Outputs_Submitted/External_Validation/predictions/amp-ad_msbb_mssm_affymetrixu133ab_temporal pole_rspp-adj.tsv/MTL/200_relu_[500, 100]_[50, 10]_0.100000_0.001000_0.001000_[1, 1]_0.100000_20/\n",
      "Saving consensus predictions to ../../../Pipeline_Outputs_Submitted/External_Validation/predictions/amp-ad_msbb_mssm_affymetrixu133ab_temporal pole_rspp-adj.tsv/MLP_baselines/\n",
      "Saving consensus test predictions to ../../../Pipeline_Outputs_Submitted/External_Validation/predictions/HBTRC_GEO_PFC.tsv/MTL/200_relu_[500, 100]_[50, 10]_0.100000_0.001000_0.001000_[1, 1]_0.100000_20/\n",
      "Saving consensus predictions to ../../../Pipeline_Outputs_Submitted/External_Validation/predictions/HBTRC_GEO_PFC.tsv/MLP_baselines/\n",
      "Saving consensus test predictions to ../../../Pipeline_Outputs_Submitted/External_Validation/predictions/Mayo_TCX.tsv/MTL/200_relu_[500, 100]_[50, 10]_0.100000_0.001000_0.001000_[1, 1]_0.100000_20/\n",
      "Saving consensus predictions to ../../../Pipeline_Outputs_Submitted/External_Validation/predictions/Mayo_TCX.tsv/MLP_baselines/\n",
      "Saving consensus test predictions to ../../../Pipeline_Outputs_Submitted/External_Validation/predictions/amp-ad_msbb_mssm_affymetrixu133plus2_nucleus accumbens_rspp-adj.tsv/MTL/200_relu_[500, 100]_[50, 10]_0.100000_0.001000_0.001000_[1, 1]_0.100000_20/\n",
      "Saving consensus predictions to ../../../Pipeline_Outputs_Submitted/External_Validation/predictions/amp-ad_msbb_mssm_affymetrixu133plus2_nucleus accumbens_rspp-adj.tsv/MLP_baselines/\n",
      "Saving consensus test predictions to ../../../Pipeline_Outputs_Submitted/External_Validation/predictions/amp-ad_msbb_mssm_affymetrixu133ab_occipital visual cortex_rspp-adj.tsv/MTL/200_relu_[500, 100]_[50, 10]_0.100000_0.001000_0.001000_[1, 1]_0.100000_20/\n",
      "Saving consensus predictions to ../../../Pipeline_Outputs_Submitted/External_Validation/predictions/amp-ad_msbb_mssm_affymetrixu133ab_occipital visual cortex_rspp-adj.tsv/MLP_baselines/\n",
      "Saving consensus test predictions to ../../../Pipeline_Outputs_Submitted/External_Validation/predictions/amp-ad_msbb_mssm_affymetrixu133ab_anterior cingulate_rspp-adj.tsv/MTL/200_relu_[500, 100]_[50, 10]_0.100000_0.001000_0.001000_[1, 1]_0.100000_20/\n",
      "Saving consensus predictions to ../../../Pipeline_Outputs_Submitted/External_Validation/predictions/amp-ad_msbb_mssm_affymetrixu133ab_anterior cingulate_rspp-adj.tsv/MLP_baselines/\n",
      "Saving consensus test predictions to ../../../Pipeline_Outputs_Submitted/External_Validation/predictions/amp-ad_msbb_mssm_affymetrixu133ab_posterior cingulate cortex_rspp-adj.tsv/MTL/200_relu_[500, 100]_[50, 10]_0.100000_0.001000_0.001000_[1, 1]_0.100000_20/\n"
     ]
    },
    {
     "name": "stdout",
     "output_type": "stream",
     "text": [
      "Saving consensus predictions to ../../../Pipeline_Outputs_Submitted/External_Validation/predictions/amp-ad_msbb_mssm_affymetrixu133ab_posterior cingulate cortex_rspp-adj.tsv/MLP_baselines/\n",
      "Saving consensus test predictions to ../../../Pipeline_Outputs_Submitted/External_Validation/predictions/HBTRC_GEO_VC.tsv/MTL/200_relu_[500, 100]_[50, 10]_0.100000_0.001000_0.001000_[1, 1]_0.100000_20/\n",
      "Saving consensus predictions to ../../../Pipeline_Outputs_Submitted/External_Validation/predictions/HBTRC_GEO_VC.tsv/MLP_baselines/\n",
      "Saving consensus test predictions to ../../../Pipeline_Outputs_Submitted/External_Validation/predictions/ROSMAP_GE2.tsv/MTL/200_relu_[500, 100]_[50, 10]_0.100000_0.001000_0.001000_[1, 1]_0.100000_20/\n",
      "Saving consensus predictions to ../../../Pipeline_Outputs_Submitted/External_Validation/predictions/ROSMAP_GE2.tsv/MLP_baselines/\n",
      "Saving consensus test predictions to ../../../Pipeline_Outputs_Submitted/External_Validation/predictions/HBTRC_synapse.tsv/MTL/200_relu_[500, 100]_[50, 10]_0.100000_0.001000_0.001000_[1, 1]_0.100000_20/\n",
      "Saving consensus predictions to ../../../Pipeline_Outputs_Submitted/External_Validation/predictions/HBTRC_synapse.tsv/MLP_baselines/\n",
      "Saving consensus test predictions to ../../../Pipeline_Outputs_Submitted/External_Validation/predictions/MayoRNASeq.tsv/MTL/200_relu_[500, 100]_[50, 10]_0.100000_0.001000_0.001000_[1, 1]_0.100000_20/\n",
      "Saving consensus predictions to ../../../Pipeline_Outputs_Submitted/External_Validation/predictions/MayoRNASeq.tsv/MLP_baselines/\n",
      "Saving consensus test predictions to ../../../Pipeline_Outputs_Submitted/External_Validation/predictions/amp-ad_msbb_mssm_affymetrixu133ab_frontal pole_rspp-adj.tsv/MTL/200_relu_[500, 100]_[50, 10]_0.100000_0.001000_0.001000_[1, 1]_0.100000_20/\n",
      "Saving consensus predictions to ../../../Pipeline_Outputs_Submitted/External_Validation/predictions/amp-ad_msbb_mssm_affymetrixu133ab_frontal pole_rspp-adj.tsv/MLP_baselines/\n",
      "Saving consensus test predictions to ../../../Pipeline_Outputs_Submitted/External_Validation/predictions/amp-ad_msbb_mssm_affymetrixu133ab_middle temporal gyrus_rspp-adj.tsv/MTL/200_relu_[500, 100]_[50, 10]_0.100000_0.001000_0.001000_[1, 1]_0.100000_20/\n",
      "Saving consensus predictions to ../../../Pipeline_Outputs_Submitted/External_Validation/predictions/amp-ad_msbb_mssm_affymetrixu133ab_middle temporal gyrus_rspp-adj.tsv/MLP_baselines/\n",
      "Saving consensus train predictions to ../../../Pipeline_Outputs_Submitted/External_Validation/predictions_intersection/Mouse/MTL/200_relu_[500, 100]_[50, 10]_0.100000_0.001000_0.001000_[1, 1]_0.100000_20/train/\n",
      "Saving consensus test predictions to ../../../Pipeline_Outputs_Submitted/External_Validation/predictions_intersection/Mouse/MTL/200_relu_[500, 100]_[50, 10]_0.100000_0.001000_0.001000_[1, 1]_0.100000_20/\n",
      "Saving consensus predictions to ../../../Pipeline_Outputs_Submitted/External_Validation/predictions_intersection/Mouse/MLP_baselines/\n",
      "Saving consensus train predictions to ../../../Pipeline_Outputs_Submitted/External_Validation/predictions_intersection/Blood_GSE63060/MTL/200_relu_[500, 100]_[50, 10]_0.100000_0.001000_0.001000_[1, 1]_0.100000_20/train/\n",
      "Saving consensus test predictions to ../../../Pipeline_Outputs_Submitted/External_Validation/predictions_intersection/Blood_GSE63060/MTL/200_relu_[500, 100]_[50, 10]_0.100000_0.001000_0.001000_[1, 1]_0.100000_20/\n",
      "Saving consensus predictions to ../../../Pipeline_Outputs_Submitted/External_Validation/predictions_intersection/Blood_GSE63060/MLP_baselines/\n",
      "Saving consensus train predictions to ../../../Pipeline_Outputs_Submitted/External_Validation/predictions_intersection/Blood_GSE63061/MTL/200_relu_[500, 100]_[50, 10]_0.100000_0.001000_0.001000_[1, 1]_0.100000_20/train/\n",
      "Saving consensus test predictions to ../../../Pipeline_Outputs_Submitted/External_Validation/predictions_intersection/Blood_GSE63061/MTL/200_relu_[500, 100]_[50, 10]_0.100000_0.001000_0.001000_[1, 1]_0.100000_20/\n",
      "Saving consensus predictions to ../../../Pipeline_Outputs_Submitted/External_Validation/predictions_intersection/Blood_GSE63061/MLP_baselines/\n"
     ]
    }
   ],
   "source": [
    "for dpath in [\"\", \"_intersection\"]:\n",
    "    for dset in os.listdir(\"%spredictions%s/\"%(path_to_ext_val_predictions, dpath)):\n",
    "        if dpath==\"_intersection\":\n",
    "            dsets_to_check = [\"train\",\"test\"]\n",
    "        else:\n",
    "            dsets_to_check = [\"test\"]\n",
    "\n",
    "            \n",
    "        ######### MD-AD AVERAGING ################\n",
    "        for dset_to_check in dsets_to_check:\n",
    "\n",
    "            all_pred_vals = []\n",
    "            if dset_to_check == \"train\":\n",
    "                path_to_preds = \"%spredictions%s/%s/MTL/%s/train/\"%(path_to_ext_val_predictions, dpath,dset, MTL_final_final_model)\n",
    "            else:\n",
    "                path_to_preds = \"%spredictions%s/%s/MTL/%s/\"%(path_to_ext_val_predictions, dpath,dset, MTL_final_final_model)\n",
    "            print(\"Saving consensus %s predictions to %s\"%(dset_to_check,path_to_preds))\n",
    "\n",
    "            for f in os.listdir(path_to_preds):\n",
    "                if os.path.isdir(path_to_preds + f):\n",
    "                    continue\n",
    "\n",
    "                pred_df = pd.read_csv(\"%s/%s\"%(path_to_preds,f), index_col=\"Unnamed: 0\")\n",
    "                all_pred_vals.append(pred_df.values)\n",
    "\n",
    "            final_preds = pd.DataFrame(np.mean(np.array(all_pred_vals),axis=0), columns=pred_df.columns)\n",
    "            if dset_to_check == \"train\":\n",
    "                final_preds.to_csv(\"%spredictions%s/%s/MTL/final_train.csv\"%(path_to_ext_val_predictions,dpath,dset))\n",
    "            else:\n",
    "                final_preds.to_csv(\"%spredictions%s/%s/MTL/final.csv\"%(path_to_ext_val_predictions, dpath,dset))\n",
    "                \n",
    "                \n",
    "        all_pred_vals = []\n",
    "\n",
    "        ############## MLP averaging #######################\n",
    "        path_to_preds = \"%spredictions%s/%s/MLP_baselines/\"%(path_to_ext_val_predictions, dpath,dset)\n",
    "        print(\"Saving consensus predictions to %s\"%path_to_preds)\n",
    "\n",
    "        for f in os.listdir(path_to_preds):\n",
    "            if f.split(\".\")[0] in [str(i) for i in range(100)]:\n",
    "                pred_df = pd.read_csv(\"%s/%s\"%(path_to_preds,f), index_col=\"Unnamed: 0\")\n",
    "                all_pred_vals.append(pred_df.values)\n",
    "\n",
    "        final_preds = pd.DataFrame(np.mean(np.array(all_pred_vals),axis=0), columns=pred_df.columns)\n",
    "        final_preds.to_csv(path_to_preds + \"final.csv\")"
   ]
  },
  {
   "cell_type": "code",
   "execution_count": null,
   "metadata": {
    "collapsed": true
   },
   "outputs": [],
   "source": []
  }
 ],
 "metadata": {
  "kernelspec": {
   "display_name": "Python 3",
   "language": "python",
   "name": "python3"
  },
  "language_info": {
   "codemirror_mode": {
    "name": "ipython",
    "version": 3
   },
   "file_extension": ".py",
   "mimetype": "text/x-python",
   "name": "python",
   "nbconvert_exporter": "python",
   "pygments_lexer": "ipython3",
   "version": "3.6.6"
  }
 },
 "nbformat": 4,
 "nbformat_minor": 2
}
