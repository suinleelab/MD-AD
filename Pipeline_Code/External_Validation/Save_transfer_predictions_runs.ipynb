{
 "cells": [
  {
   "cell_type": "markdown",
   "metadata": {},
   "source": [
    "### Get predictions from final models (same main final models used in the rest of the paper)"
   ]
  },
  {
   "cell_type": "code",
   "execution_count": 1,
   "metadata": {},
   "outputs": [
    {
     "name": "stderr",
     "output_type": "stream",
     "text": [
      "/home/nbbwang/anaconda3/lib/python3.6/site-packages/h5py/__init__.py:34: FutureWarning: Conversion of the second argument of issubdtype from `float` to `np.floating` is deprecated. In future, it will be treated as `np.float64 == np.dtype(float).type`.\n",
      "  from ._conv import register_converters as _register_converters\n",
      "Using TensorFlow backend.\n"
     ]
    }
   ],
   "source": [
    "import gc\n",
    "import h5py\n",
    "import numpy as np\n",
    "import pandas as pd\n",
    "import tensorflow as tf\n",
    "from keras.layers import Input, Dense, Dropout\n",
    "from keras import optimizers, regularizers, losses\n",
    "\n",
    "from keras.models import Model\n",
    "from keras import backend as K\n",
    "from keras.callbacks import CSVLogger\n",
    "from keras import metrics\n",
    "\n",
    "import scipy\n",
    "import datetime \n",
    "\n",
    "import h5py\n",
    "import keras\n",
    "\n",
    "import sys\n",
    "\n",
    "from sklearn.model_selection import ParameterGrid\n",
    "import pickle\n",
    "\n",
    "\n",
    "import os\n",
    "os.environ[\"CUDA_VISIBLE_DEVICES\"]=\"1\"\n",
    "\n",
    "K.tensorflow_backend._get_available_gpus()\n",
    "\n",
    "config = tf.ConfigProto()\n",
    "config.gpu_options.allow_growth=True\n",
    "sess = tf.Session(config=config)"
   ]
  },
  {
   "cell_type": "code",
   "execution_count": 2,
   "metadata": {
    "collapsed": true
   },
   "outputs": [],
   "source": [
    "path_to_configs = \"../\"\n",
    "sys.path.append(path_to_configs)\n",
    "from configs import *\n",
    "from models import *\n",
    "\n",
    "path_to_ext_val_predictions = path_to_configs + path_to_ext_val_results\n",
    "phens = [\"CERAD\",\"BRAAK\",\"PLAQUES\",\"TANGLES\",\"ABETA_IHC\",\"TAU_IHC\"]"
   ]
  },
  {
   "cell_type": "code",
   "execution_count": 3,
   "metadata": {
    "collapsed": true
   },
   "outputs": [],
   "source": [
    "MTL_final_final_model = pickle.load(open(path_to_configs+path_to_final_chosen_models + \"MTL/final.p\", \"rb\" ) )\n",
    "baselines_final_final_model = pickle.load(open(path_to_configs+path_to_final_chosen_models + \"MLP_baselines/final.p\", \"rb\" ) )\n",
    "\n",
    "path_to_final_models = path_to_configs+final_models_save_path+\"models/\"\n",
    "path_to_x_data = path_to_configs+path_to_ext_val_data_folder + \"processed/all_human/ge_pca/\"\n",
    "\n",
    "MTL_phenotype_output_mapping = {}"
   ]
  },
  {
   "cell_type": "markdown",
   "metadata": {},
   "source": [
    "### MTL"
   ]
  },
  {
   "cell_type": "code",
   "execution_count": 1,
   "metadata": {
    "collapsed": true
   },
   "outputs": [],
   "source": [
    "for f in os.listdir(path_to_x_data):\n",
    "    print(f)\n",
    "    X = np.loadtxt(path_to_x_data+f, delimiter=\"\\t\")\n",
    "    print(X.shape)\n",
    "    path_to_preds = \"%spredictions/%s/MTL/%s/\"%(path_to_ext_val_predictions, f, MTL_final_final_model)\n",
    "\n",
    "\n",
    "    for i in range(101):\n",
    "        print(i)\n",
    "\n",
    "        fname = MTL_final_final_model\n",
    "        path_to_model = path_to_final_models + \"MTL/ACT_MSBBRNA_ROSMAP_PCA/%s/%i/200.hdf5\"%(MTL_final_final_model,i)\n",
    "\n",
    "\n",
    "        MTL_model = keras.models.load_model(path_to_model, custom_objects={\"ordloss_cur_params\": ordloss(0), \\\n",
    "                    \"ignorenans_mse\": ignorenans_mse, \"cat_acc\": ignorenans_categorical_accuracy(0), \\\n",
    "                    \"ignorenans_scaled_mse\": ignorenans_scaled_mse})\n",
    "\n",
    "        preds = MTL_model.predict(X)\n",
    "\n",
    "        for j,layer in enumerate(MTL_model.layers[-len(phenotypes):]):\n",
    "            MTL_phenotype_output_mapping[layer.name[:-4]] = j\n",
    "\n",
    "        if not os.path.isdir(path_to_preds):\n",
    "            os.makedirs(path_to_preds)\n",
    "\n",
    "        pred_df = pd.DataFrame(np.hstack([preds[MTL_phenotype_output_mapping[phenotype]] for phenotype in phens]), columns=phens)\n",
    "        pred_df.to_csv(\"%s/%i.csv\"%(path_to_preds,i))\n",
    "\n",
    "        K.clear_session()\n",
    "        gc.collect()"
   ]
  },
  {
   "cell_type": "markdown",
   "metadata": {},
   "source": [
    "# MLPs"
   ]
  },
  {
   "cell_type": "code",
   "execution_count": 2,
   "metadata": {
    "collapsed": true
   },
   "outputs": [],
   "source": [
    "for f in os.listdir(path_to_x_data):\n",
    "    print(f)\n",
    "    X = np.loadtxt(path_to_x_data+f, delimiter=\"\\t\")\n",
    "    path_to_preds = \"%spredictions/%s/MLP_baselines/\"%(path_to_ext_val_predictions,f)\n",
    "\n",
    "\n",
    "    for i in range(10):\n",
    "        print(i)\n",
    "        preds = []\n",
    "        for p in phens:\n",
    "            path_to_model = path_to_final_models +  \"MLP_baselines/ACT_MSBBRNA_ROSMAP_PCA/%s/%s/%i/200.hdf5\"%(p, baselines_final_final_model[p], i)\n",
    "\n",
    "            mod = keras.models.load_model(path_to_model, custom_objects={\"ordloss_cur_params\": ordloss(0), \\\n",
    "                        \"ignorenans_mse\": ignorenans_mse, \"cat_acc\": ignorenans_categorical_accuracy(0), \\\n",
    "                        \"ignorenans_scaled_mse\": ignorenans_scaled_mse})\n",
    "\n",
    "            preds.append(mod.predict(X))\n",
    "\n",
    "\n",
    "\n",
    "        if not os.path.isdir(path_to_preds):\n",
    "            os.makedirs(path_to_preds)\n",
    "\n",
    "        pred_df = pd.DataFrame(np.hstack(preds), columns=phens)\n",
    "        pred_df.to_csv(\"%s/%i.csv\"%(path_to_preds,i))\n",
    "\n",
    "        K.clear_session()\n",
    "        gc.collect()"
   ]
  }
 ],
 "metadata": {
  "kernelspec": {
   "display_name": "Python 3",
   "language": "python",
   "name": "python3"
  },
  "language_info": {
   "codemirror_mode": {
    "name": "ipython",
    "version": 3
   },
   "file_extension": ".py",
   "mimetype": "text/x-python",
   "name": "python",
   "nbconvert_exporter": "python",
   "pygments_lexer": "ipython3",
   "version": "3.6.6"
  }
 },
 "nbformat": 4,
 "nbformat_minor": 2
}
