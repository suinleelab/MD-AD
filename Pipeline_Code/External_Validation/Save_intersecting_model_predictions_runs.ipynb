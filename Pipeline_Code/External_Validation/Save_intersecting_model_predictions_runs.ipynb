{
 "cells": [
  {
   "cell_type": "markdown",
   "metadata": {},
   "source": [
    "# get predictions from final models"
   ]
  },
  {
   "cell_type": "code",
   "execution_count": 1,
   "metadata": {},
   "outputs": [
    {
     "name": "stderr",
     "output_type": "stream",
     "text": [
      "/home/nbbwang/anaconda3/lib/python3.6/site-packages/h5py/__init__.py:34: FutureWarning: Conversion of the second argument of issubdtype from `float` to `np.floating` is deprecated. In future, it will be treated as `np.float64 == np.dtype(float).type`.\n",
      "  from ._conv import register_converters as _register_converters\n",
      "Using TensorFlow backend.\n"
     ]
    }
   ],
   "source": [
    "import gc\n",
    "import h5py\n",
    "import numpy as np\n",
    "import pandas as pd\n",
    "import tensorflow as tf\n",
    "from keras.layers import Input, Dense, Dropout\n",
    "from keras import optimizers, regularizers, losses\n",
    "from keras.models import Model\n",
    "from keras import backend as K\n",
    "from keras.callbacks import CSVLogger\n",
    "from keras import metrics\n",
    "import keras\n",
    "import sys\n",
    "import pickle\n",
    "import os\n",
    "os.environ[\"CUDA_VISIBLE_DEVICES\"]=\"0\"\n",
    "\n",
    "K.tensorflow_backend._get_available_gpus()\n",
    "\n",
    "config = tf.ConfigProto()\n",
    "config.gpu_options.allow_growth=True\n",
    "sess = tf.Session(config=config)\n",
    "\n",
    "path_to_configs = \"../\"\n",
    "sys.path.append(path_to_configs)\n",
    "from configs import *\n",
    "from models import *"
   ]
  },
  {
   "cell_type": "code",
   "execution_count": 3,
   "metadata": {
    "collapsed": true
   },
   "outputs": [],
   "source": [
    "dset = 'Blood_GSE63060'\n",
    "dpath = \"_intersection\"\n",
    "\n",
    "\n",
    "path_to_data = path_to_configs + path_to_ext_val_data_folder + \"processed_intersection/%s/\"%dset\n",
    "X_test = np.loadtxt(path_to_data + \"GE_PCA_test.txt\")\n",
    "X_train = np.loadtxt(path_to_data + \"GE_PCA_train.txt\")\n",
    "    \n",
    "    \n",
    "path_to_final_models_MTL = \"intersecting_gene_models/\""
   ]
  },
  {
   "cell_type": "code",
   "execution_count": 4,
   "metadata": {
    "collapsed": true
   },
   "outputs": [],
   "source": [
    "MTL_final_final_model = pickle.load(open(path_to_configs+path_to_final_models_chosen + \"MTL/final.p\", \"rb\" ) )\n",
    "\n",
    "baselines_final_final_model = pickle.load(open(path_to_configs+path_to_final_models_chosen + \"MLP_baselines/final.p\", \"rb\" ) )"
   ]
  },
  {
   "cell_type": "code",
   "execution_count": 5,
   "metadata": {
    "collapsed": true
   },
   "outputs": [],
   "source": [
    "MTL_phenotype_output_mapping = {}\n",
    "phens = [\"CERAD\", \"BRAAK\", \"PLAQUES\", \"TANGLES\", \"ABETA_IHC\", \"TAU_IHC\"]\n",
    "path_to_models = path_to_configs + path_to_ext_val_results + \"intersecting_gene_models/%s/\"%dset\n",
    "path_to_ext_val_predictions = path_to_configs + path_to_ext_val_results\n"
   ]
  },
  {
   "cell_type": "markdown",
   "metadata": {},
   "source": [
    "# MTL"
   ]
  },
  {
   "cell_type": "code",
   "execution_count": 1,
   "metadata": {},
   "outputs": [],
   "source": [
    "for i in range(100):\n",
    "    print(i)\n",
    "\n",
    "    fname = MTL_final_final_model\n",
    "    path_to_model = path_to_models + \"models/MTL/%s/%i/200.hdf5\"%(MTL_final_final_model, i)\n",
    "\n",
    "    MTL_model = keras.models.load_model(path_to_model, custom_objects={\"ordloss_cur_params\": ordloss(0), \\\n",
    "                \"ignorenans_mse\": ignorenans_mse, \"cat_acc\": ignorenans_categorical_accuracy(0), \\\n",
    "                \"ignorenans_scaled_mse\": ignorenans_scaled_mse})\n",
    "\n",
    "    train_preds = MTL_model.predict(X_train)\n",
    "    test_preds = MTL_model.predict(X_test)\n",
    "    \n",
    "    for j,layer in enumerate(MTL_model.layers[-len(phenotypes):]):\n",
    "        MTL_phenotype_output_mapping[layer.name[:-4]] = j\n",
    "\n",
    "    \n",
    "    path_to_train_preds = \"%spredictions%s/%s/MTL/%s/train/\"%(path_to_ext_val_predictions,dpath,dset, MTL_final_final_model)\n",
    "    path_to_test_preds = \"%spredictions%s/%s/MTL/%s/\"%(path_to_ext_val_predictions,dpath,dset, MTL_final_final_model)\n",
    "    \n",
    "    for path in [path_to_train_preds, path_to_test_preds]:\n",
    "        if not os.path.isdir(path):\n",
    "            os.makedirs(path)\n",
    "        \n",
    "    train_pred_df = pd.DataFrame(np.hstack([train_preds[MTL_phenotype_output_mapping[phenotype]] for phenotype in phens]), columns=phens)\n",
    "    train_pred_df.to_csv(\"%s/%i.csv\"%(path_to_train_preds,i))\n",
    "\n",
    "    test_pred_df = pd.DataFrame(np.hstack([test_preds[MTL_phenotype_output_mapping[phenotype]] for phenotype in phens]), columns=phens)\n",
    "    test_pred_df.to_csv(\"%s/%i.csv\"%(path_to_test_preds,i))\n",
    "    \n",
    "    K.clear_session()\n",
    "    gc.collect()"
   ]
  },
  {
   "cell_type": "markdown",
   "metadata": {
    "collapsed": true
   },
   "source": [
    "# MLP"
   ]
  },
  {
   "cell_type": "code",
   "execution_count": 2,
   "metadata": {
    "scrolled": true
   },
   "outputs": [],
   "source": [
    "\n",
    "\n",
    "for i in range(10):\n",
    "    print(i)\n",
    "    #train_preds = []\n",
    "    test_preds = []\n",
    "\n",
    "    for p in phens:\n",
    "        fname=baselines_final_final_model[p]\n",
    "        path_to_model = path_to_models + \"/models/MLP_baselines/%s/%s/%s/%i/200.hdf5\"%(dset,p,fname, i)\n",
    "        \n",
    "        MLP_model = keras.models.load_model(path_to_model, custom_objects={\"ordloss_cur_params\": ordloss(0), \\\n",
    "                    \"ignorenans_mse\": ignorenans_mse, \"cat_acc\": ignorenans_categorical_accuracy(0), \\\n",
    "                    \"ignorenans_scaled_mse\": ignorenans_scaled_mse})\n",
    "\n",
    "        #train_preds.append(MLP_model.predict(X_train))\n",
    "        test_preds.append(MLP_model.predict(X_test))\n",
    "\n",
    "        \n",
    "        \n",
    "        \n",
    "    #path_to_train_preds = \"%spredictions%s/%s/MLP_baselines/train/\"%(path_to_ext_val_predictions,dpath,dset)\n",
    "    path_to_test_preds = \"%spredictions%s/%s/MLP_baselines/\"%(path_to_ext_val_predictions,dpath,dset)\n",
    "    \n",
    "    for path in [path_to_test_preds]:\n",
    "        if not os.path.isdir(path):\n",
    "            os.makedirs(path)\n",
    "        \n",
    "    #train_pred_df = pd.DataFrame(np.hstack(train_preds), columns=phens)\n",
    "    test_pred_df = pd.DataFrame(np.hstack(test_preds), columns=phens)\n",
    "\n",
    "    #train_pred_df.to_csv(\"%s/%i.csv\"%(path_to_train_preds,i))\n",
    "    test_pred_df.to_csv(\"%s/%i.csv\"%(path_to_test_preds,i))\n",
    "    \n",
    "    K.clear_session()\n",
    "    gc.collect()"
   ]
  }
 ],
 "metadata": {
  "kernelspec": {
   "display_name": "Python 3",
   "language": "python",
   "name": "python3"
  },
  "language_info": {
   "codemirror_mode": {
    "name": "ipython",
    "version": 3
   },
   "file_extension": ".py",
   "mimetype": "text/x-python",
   "name": "python",
   "nbconvert_exporter": "python",
   "pygments_lexer": "ipython3",
   "version": "3.6.6"
  }
 },
 "nbformat": 4,
 "nbformat_minor": 2
}
