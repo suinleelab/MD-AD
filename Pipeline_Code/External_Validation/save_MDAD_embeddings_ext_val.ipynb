{
 "cells": [
  {
   "cell_type": "markdown",
   "metadata": {},
   "source": [
    "# get predictions from final models"
   ]
  },
  {
   "cell_type": "code",
   "execution_count": 1,
   "metadata": {},
   "outputs": [
    {
     "name": "stderr",
     "output_type": "stream",
     "text": [
      "/home/nbbwang/anaconda3/lib/python3.6/site-packages/h5py/__init__.py:34: FutureWarning: Conversion of the second argument of issubdtype from `float` to `np.floating` is deprecated. In future, it will be treated as `np.float64 == np.dtype(float).type`.\n",
      "  from ._conv import register_converters as _register_converters\n",
      "Using TensorFlow backend.\n"
     ]
    }
   ],
   "source": [
    "import gc\n",
    "import h5py\n",
    "import numpy as np\n",
    "import pandas as pd\n",
    "import tensorflow as tf\n",
    "from keras.layers import Input, Dense, Dropout\n",
    "from keras import optimizers, regularizers, losses\n",
    "from keras.models import Model\n",
    "from keras import backend as K\n",
    "from keras.callbacks import CSVLogger\n",
    "from keras import metrics\n",
    "import keras\n",
    "import sys\n",
    "import pickle\n",
    "import os\n",
    "os.environ[\"CUDA_VISIBLE_DEVICES\"]=\"1\"\n",
    "\n",
    "K.tensorflow_backend._get_available_gpus()\n",
    "\n",
    "config = tf.ConfigProto()\n",
    "config.gpu_options.allow_growth=True\n",
    "sess = tf.Session(config=config)\n",
    "\n",
    "path_to_configs = \"../\"\n",
    "sys.path.append(path_to_configs)\n",
    "from configs import *\n",
    "from models import *"
   ]
  },
  {
   "cell_type": "code",
   "execution_count": 4,
   "metadata": {
    "collapsed": true
   },
   "outputs": [],
   "source": [
    "MTL_final_final_model = pickle.load(open(path_to_configs+path_to_final_chosen_models + \"MTL/final.p\", \"rb\" ) )\n",
    "\n",
    "MTL_LAYER_IDX = 3\n",
    "\n",
    "dset_dpaths = [(\"all_human\", \"\"),(\"Mouse\", \"_intersection\"), (\"Blood_GSE63060\",\"_intersection\"), \n",
    "               (\"Blood_GSE63061\", \"_intersection\")]"
   ]
  },
  {
   "cell_type": "code",
   "execution_count": 20,
   "metadata": {
    "collapsed": true
   },
   "outputs": [],
   "source": [
    "def get_model_layers(model_file, num_layers):\n",
    "    \n",
    "    # note: need to define custom functions for model in order to load, but these don't actually get used\n",
    "    model = keras.models.load_model(model_file, custom_objects={\"ignorenans_mse\": ignorenans_mse})\n",
    "    \n",
    "    # define new model that cuts off the last several layers\n",
    "    newmodel = Model(inputs = model.input, outputs = model.layers[num_layers-1].output)\n",
    "    \n",
    "    # agian, need to specify these parameters, but they aren't used since we don't retrain the model\n",
    "    opt = optimizers.adam()  \n",
    "    newmodel.compile(optimizer=opt, loss= \"mse\")\n",
    "    \n",
    "    return newmodel"
   ]
  },
  {
   "cell_type": "markdown",
   "metadata": {},
   "source": [
    "### Save transformations from individual runs "
   ]
  },
  {
   "cell_type": "code",
   "execution_count": 32,
   "metadata": {
    "scrolled": false
   },
   "outputs": [
    {
     "name": "stdout",
     "output_type": "stream",
     "text": [
      "******SAVING EMBEDDINGS FOR all_human******\n",
      "---test Samples----\n",
      "0\n"
     ]
    },
    {
     "name": "stderr",
     "output_type": "stream",
     "text": [
      "/home/nbbwang/anaconda3/lib/python3.6/site-packages/tensorflow/python/ops/gradients_impl.py:96: UserWarning: Converting sparse IndexedSlices to a dense Tensor of unknown shape. This may consume a large amount of memory.\n",
      "  \"Converting sparse IndexedSlices to a dense Tensor of unknown shape. \"\n"
     ]
    },
    {
     "name": "stdout",
     "output_type": "stream",
     "text": [
      "---train Samples----\n",
      "this is just the normal md-ad medoid embedding!\n",
      "0\n",
      "******SAVING EMBEDDINGS FOR Mouse******\n",
      "---test Samples----\n",
      "0\n",
      "---train Samples----\n",
      "0\n",
      "******SAVING EMBEDDINGS FOR Blood_GSE63060******\n",
      "---test Samples----\n",
      "0\n",
      "---train Samples----\n",
      "0\n",
      "******SAVING EMBEDDINGS FOR Blood_GSE63061******\n",
      "---test Samples----\n",
      "0\n",
      "---train Samples----\n",
      "0\n"
     ]
    }
   ],
   "source": [
    "\n",
    "for dset,dpath in dset_dpaths:\n",
    "    print(\"******SAVING EMBEDDINGS FOR %s******\" %dset)\n",
    "    \n",
    "    for data_to_transform in [\"test\", \"train\"]:\n",
    "        print(\"---%s Samples----\"%data_to_transform)\n",
    "\n",
    "        if dpath == \"_intersection\":\n",
    "            reps = [0]\n",
    "\n",
    "            path_to_data = path_to_configs + path_to_ext_val_data_folder + \"processed_intersection/%s/\"%dset\n",
    "            if data_to_transform==\"train\":\n",
    "                Xs = [np.loadtxt(\"%sGE_PCA_train.txt\"%(path_to_data))]\n",
    "            else:\n",
    "                Xs =[np.loadtxt(\"%sGE_PCA_test.txt\"%(path_to_data))]\n",
    "\n",
    "            path_to_mods = path_to_configs + path_to_ext_val_results + \"intersecting_gene_models/%s/\"%dset\n",
    "\n",
    "        else:\n",
    "            reps = range(100)\n",
    "\n",
    "            if data_to_transform==\"train\":\n",
    "                print(\"this is just the normal md-ad medoid embedding!\")\n",
    "                with h5py.File(path_to_configs + path_to_MDAD_data_folders+\"ACT_MSBBRNA_ROSMAP_PCA.h5\", 'r') as hf:\n",
    "                    Xs =[ hf[\"ge_transformed\"][:,:num_components].astype(np.float64)]\n",
    "            else:\n",
    "                path_to_data = path_to_configs + path_to_ext_val_data_folder + \"processed/%s/\"%dset\n",
    "                if dset==\"all_human\":\n",
    "                    dset_subnames = os.listdir(path_to_data + \"ge_pca\")\n",
    "                    Xs = [np.loadtxt(\"%sge_pca/%s\"%(path_to_data, f)) for f in dset_subnames]\n",
    "                else:\n",
    "                    Xs = [np.loadtxt(\"%sGE_PCA.txt\"%(path_to_data))]\n",
    "\n",
    "            path_to_mods = path_to_configs + final_models_save_path\n",
    "\n",
    "\n",
    "\n",
    "\n",
    "        for rep in reps:\n",
    "\n",
    "            if rep%10==0: print(rep)\n",
    "                \n",
    "            if dpath == \"_intersection\":\n",
    "                path_to_model = path_to_mods + \"models/MTL/%s/%i/200.hdf5\"%(MTL_final_final_model,rep)\n",
    "\n",
    "            if dpath == \"\":\n",
    "                path_to_model = path_to_mods + \"models/MTL/%s/%s/%i/200.hdf5\"%(full_pca_dataset, MTL_final_final_model,rep)\n",
    "\n",
    "\n",
    "            mod_to_layer = get_model_layers(path_to_model, MTL_LAYER_IDX)\n",
    "\n",
    "            for j,X in enumerate(Xs):\n",
    "                X_transformed = mod_to_layer.predict(X)\n",
    "\n",
    "                if dset==\"all_human\" and data_to_transform==\"test\":\n",
    "                    savepath = \"model_transformations%s/%s/%s/MTL/%i/%s/\"%(dpath,dset,dset_subnames[j], HIDDEN_LAYER, data_to_transform)\n",
    "                else:\n",
    "                    savepath = \"model_transformations%s/%s/MTL/%i/%s/\"%(dpath,dset,HIDDEN_LAYER, data_to_transform)\n",
    "                savepath = path_to_ext_val_results + savepath\n",
    "                if not os.path.isdir(savepath):\n",
    "                    os.makedirs(savepath)\n",
    "                np.savetxt(\"%s%s.txt\"%(savepath, rep),X_transformed)\n"
   ]
  },
  {
   "cell_type": "markdown",
   "metadata": {},
   "source": [
    "### For MD-AD consensus model, get final values \n",
    "(For intersection-based models, we just use a single run)"
   ]
  },
  {
   "cell_type": "code",
   "execution_count": 36,
   "metadata": {
    "collapsed": true
   },
   "outputs": [],
   "source": [
    "medoid_assignments = pd.read_csv(path_to_configs + path_to_medoids_info)"
   ]
  },
  {
   "cell_type": "code",
   "execution_count": 61,
   "metadata": {
    "collapsed": true
   },
   "outputs": [],
   "source": [
    "def save_mdad_embedding(path_to_run_embeddings, medoid_assignments):\n",
    "    embedding = []\n",
    "    for i,row in medoid_assignments[1:].iterrows():\n",
    "        run_embedding = np.loadtxt(\"%s%s.txt\"%(path_to_run_embeddings, row[\"run\"]))\n",
    "        embedding.append(run_embedding[:,row[\"node_idx\"]])\n",
    "    embedding = np.vstack(embedding).T\n",
    "    \n",
    "    return(embedding)"
   ]
  },
  {
   "cell_type": "code",
   "execution_count": 64,
   "metadata": {
    "collapsed": true
   },
   "outputs": [],
   "source": [
    "for dset,dpath in dset_dpaths:\n",
    "    if dpath==\"\" and dset != \"all_human\":\n",
    "        savepath = \"model_transformations/%s/MTL/1/test/\"%(dset)\n",
    "        consensus_embedding = save_mdad_embedding(savepath, medoid_assignments)\n",
    "        np.savetxt(\"%sfinal.txt\"%(savepath),consensus_embedding)\n",
    "        \n",
    "    if dpath==\"\" and dset==\"all_human\":\n",
    "        for f in os.listdir(\"model_transformations/all_human/\"):\n",
    "            savepath = \"model_transformations/all_human/%s/MTL/1/\"%f\n",
    "            savepath = path_to_ext_val_results + savepath\n",
    "            for data_to_transform in [\"test\", \"train\"]:\n",
    "                consensus_embedding = save_mdad_embedding(savepath+data_to_transform+\"/\", medoid_assignments)\n",
    "                np.savetxt(\"%s%s/final.txt\"%(savepath, data_to_transform),consensus_embedding)"
   ]
  }
 ],
 "metadata": {
  "kernelspec": {
   "display_name": "Python 3",
   "language": "python",
   "name": "python3"
  },
  "language_info": {
   "codemirror_mode": {
    "name": "ipython",
    "version": 3
   },
   "file_extension": ".py",
   "mimetype": "text/x-python",
   "name": "python",
   "nbconvert_exporter": "python",
   "pygments_lexer": "ipython3",
   "version": "3.6.6"
  }
 },
 "nbformat": 4,
 "nbformat_minor": 2
}
