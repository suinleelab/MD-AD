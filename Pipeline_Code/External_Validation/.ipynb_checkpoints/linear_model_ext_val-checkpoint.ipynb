{
 "cells": [
  {
   "cell_type": "code",
   "execution_count": 1,
   "metadata": {},
   "outputs": [
    {
     "name": "stderr",
     "output_type": "stream",
     "text": [
      "/home/nbbwang/anaconda3/lib/python3.6/site-packages/h5py/__init__.py:34: FutureWarning: Conversion of the second argument of issubdtype from `float` to `np.floating` is deprecated. In future, it will be treated as `np.float64 == np.dtype(float).type`.\n",
      "  from ._conv import register_converters as _register_converters\n",
      "Using TensorFlow backend.\n"
     ]
    }
   ],
   "source": [
    "import os\n",
    "import pandas as pd\n",
    "import numpy as np\n",
    "from matplotlib import pyplot as plt\n",
    "import h5py\n",
    "import copy\n",
    "from sklearn.linear_model import LinearRegression\n",
    "from sklearn.decomposition import pca\n",
    "%matplotlib inline\n",
    "\n",
    "import sys\n",
    "path_to_configs = \"../\"\n",
    "sys.path.append(path_to_configs)\n",
    "from configs import *\n",
    "from models import *\n",
    "from experiment_helpers import *"
   ]
  },
  {
   "cell_type": "code",
   "execution_count": 4,
   "metadata": {},
   "outputs": [
    {
     "name": "stdout",
     "output_type": "stream",
     "text": [
      "['PCA_components_', 'ge_transformed', 'gene_symbols', 'labels', 'labels_names']\n"
     ]
    }
   ],
   "source": [
    "path_to_final_data = path_to_configs + path_to_MDAD_data_folders + full_pca_dataset + \".h5\"\n",
    "with h5py.File(path_to_final_data, 'r') as hf:\n",
    "    print(list(hf.keys()))\n",
    "    ge = hf[\"ge_transformed\"][:,:500]\n",
    "    gene_symbols =  hf[\"gene_symbols\"][:].astype(str)\n",
    "    labels = hf[\"labels\"][:]\n",
    "    labels_names = hf[\"labels_names\"][:]\n"
   ]
  },
  {
   "cell_type": "code",
   "execution_count": 5,
   "metadata": {
    "collapsed": true
   },
   "outputs": [],
   "source": [
    "phenotypes = [\"CERAD\", \"BRAAK\", \"PLAQUES\", \"TANGLES\", \"ABETA_IHC\", \"TAU_IHC\"]\n",
    "\n",
    "labs = pd.DataFrame(labels.astype(str), columns=labels_names.astype(str))\n",
    "\n",
    "for p in phenotypes:\n",
    "    labs[p] = labs[p].astype(float)\n",
    "    if p in [\"BRAAK\", \"CERAD\"]:\n",
    "        labs[p]=labs[p]/labs[p].max()"
   ]
  },
  {
   "cell_type": "markdown",
   "metadata": {},
   "source": [
    "### Direct application method:Train linear model on original dataset:"
   ]
  },
  {
   "cell_type": "code",
   "execution_count": 8,
   "metadata": {
    "collapsed": true
   },
   "outputs": [],
   "source": [
    "LINEAR_MODELS = {}\n",
    "for p in phenotypes:\n",
    "    \n",
    "    X = ge[np.where(~np.isnan(labs[p]))]\n",
    "    Y = labs[p][~np.isnan(labs[p])].values\n",
    "    LINEAR_MODELS[p] = LinearRegression()\n",
    "    LINEAR_MODELS[p].fit(X,Y)"
   ]
  },
  {
   "cell_type": "code",
   "execution_count": 9,
   "metadata": {
    "collapsed": true
   },
   "outputs": [],
   "source": [
    "path_to_processed = path_to_configs + path_to_ext_val_data_folder\n",
    "path_to_results = path_to_configs + path_to_ext_val_results"
   ]
  },
  {
   "cell_type": "code",
   "execution_count": 1,
   "metadata": {},
   "outputs": [],
   "source": [
    "for dset in os.listdir(\"%sprocessed/all_human/ge_pca/\"%path_to_processed):\n",
    "    X_test = np.loadtxt(\"%sprocessed/all_human/ge_pca/%s\"%(path_to_processed,dset))\n",
    "    \n",
    "    preds = pd.DataFrame()\n",
    "    for p in phenotypes:\n",
    "        preds[p] = LINEAR_MODELS[p].predict(X_test)\n",
    "    \n",
    "    if not os.path.isdir(\"%spredictions/%s/Linear\"%(path_to_results,dset)):\n",
    "        os.makedirs(\"%spredictions/%s/Linear\"%(path_to_results,dset))\n",
    "    preds.to_csv(\"%spredictions/%s/Linear/final.csv\"%(path_to_results, dset))"
   ]
  },
  {
   "cell_type": "markdown",
   "metadata": {},
   "source": [
    "# Intersection Method"
   ]
  },
  {
   "cell_type": "code",
   "execution_count": 11,
   "metadata": {},
   "outputs": [
    {
     "name": "stdout",
     "output_type": "stream",
     "text": [
      "../../../Pipeline_Outputs_Submitted/External_Validation/predictions_intersection/Mouse/Linear/final.csv\n",
      "../../../Pipeline_Outputs_Submitted/External_Validation/predictions_intersection/Blood_GSE63060/Linear/final.csv\n",
      "../../../Pipeline_Outputs_Submitted/External_Validation/predictions_intersection/Blood_GSE63061/Linear/final.csv\n"
     ]
    }
   ],
   "source": [
    "dpath = \"_intersection\"\n",
    "for dset in [\"Mouse\", \"Blood_GSE63060\", \"Blood_GSE63061\"]:\n",
    "\n",
    "    if dpath == \"_intersection\":\n",
    "\n",
    "        X = np.loadtxt(\"%sprocessed_intersection/%s/GE_PCA_train.txt\"%(path_to_processed, dset))\n",
    "\n",
    "        LINEAR_MODELS = {}\n",
    "        for p in phenotypes:\n",
    "\n",
    "            X = ge[np.where(~np.isnan(labs[p]))]\n",
    "            Y = labs[p][~np.isnan(labs[p])].values\n",
    "            LINEAR_MODELS[p] = LinearRegression()\n",
    "            LINEAR_MODELS[p].fit(X,Y)\n",
    "\n",
    "        X_test = np.loadtxt(\"%sprocessed%s/%s/GE_PCA_test.txt\"%(path_to_processed,dpath,dset))\n",
    "\n",
    "    else:\n",
    "\n",
    "        with h5py.File(path_to_final_data, 'r') as hf:\n",
    "            X = hf[\"ge_transformed\"][:,:500]\n",
    "\n",
    "        X_test = np.loadtxt(\"%sprocessed%s/%s/GE_PCA.txt\"%(path_to_processed,dpath,dset))\n",
    "\n",
    "\n",
    "    preds = []\n",
    "    for p in phenotypes:\n",
    "        model = LINEAR_MODELS[p]\n",
    "        preds.append(model.predict(X_test))\n",
    "\n",
    "\n",
    "    path_to_preds = \"%spredictions%s/%s/Linear/\"%(path_to_results,dpath,dset)\n",
    "\n",
    "    if not os.path.isdir(path_to_preds):\n",
    "        os.makedirs(path_to_preds)\n",
    "\n",
    "    pred_df = pd.DataFrame(np.vstack(preds).T, columns=phenotypes)\n",
    "    pred_df.to_csv(\"%sfinal.csv\"%(path_to_preds))\n",
    "    print(\"%sfinal.csv\"%(path_to_preds))\n"
   ]
  }
 ],
 "metadata": {
  "kernelspec": {
   "display_name": "Python 3",
   "language": "python",
   "name": "python3"
  },
  "language_info": {
   "codemirror_mode": {
    "name": "ipython",
    "version": 3
   },
   "file_extension": ".py",
   "mimetype": "text/x-python",
   "name": "python",
   "nbconvert_exporter": "python",
   "pygments_lexer": "ipython3",
   "version": "3.6.6"
  }
 },
 "nbformat": 4,
 "nbformat_minor": 2
}
