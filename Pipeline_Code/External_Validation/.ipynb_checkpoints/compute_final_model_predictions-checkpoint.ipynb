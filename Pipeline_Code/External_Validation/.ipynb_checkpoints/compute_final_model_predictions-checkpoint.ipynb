{
 "cells": [
  {
   "cell_type": "markdown",
   "metadata": {},
   "source": [
    "# get predictions from final models"
   ]
  },
  {
   "cell_type": "code",
   "execution_count": 2,
   "metadata": {},
   "outputs": [
    {
     "name": "stderr",
     "output_type": "stream",
     "text": [
      "/home/nbbwang/anaconda3/lib/python3.6/site-packages/h5py/__init__.py:34: FutureWarning: Conversion of the second argument of issubdtype from `float` to `np.floating` is deprecated. In future, it will be treated as `np.float64 == np.dtype(float).type`.\n",
      "  from ._conv import register_converters as _register_converters\n",
      "Using TensorFlow backend.\n"
     ]
    }
   ],
   "source": [
    "import gc\n",
    "import h5py\n",
    "import numpy as np\n",
    "import pandas as pd\n",
    "import tensorflow as tf\n",
    "from keras.layers import Input, Dense, Dropout\n",
    "from keras import optimizers, regularizers, losses\n",
    "\n",
    "from keras.models import Model\n",
    "from keras import backend as K\n",
    "from keras.callbacks import CSVLogger\n",
    "from keras import metrics\n",
    "\n",
    "import scipy\n",
    "import datetime \n",
    "\n",
    "import h5py\n",
    "import keras\n",
    "\n",
    "import sys\n",
    "\n",
    "from sklearn.model_selection import ParameterGrid\n",
    "import pickle\n",
    "\n",
    "\n",
    "import os\n",
    "sys.path.append(\"/home/nbbwang/bigdrive/AD_Project/\")\n",
    "from IntegratedGradients import *"
   ]
  },
  {
   "cell_type": "code",
   "execution_count": 3,
   "metadata": {},
   "outputs": [],
   "source": [
    "from matplotlib import pyplot as plt\n",
    "%matplotlib inline\n",
    "\n",
    "import matplotlib\n",
    "matplotlib.rcParams.update({'font.size': 18, 'font.family': \"Times New Roman\"})\n",
    "plt.rcParams[\"font.family\"] = \"Times\"\n",
    "\n",
    "\n",
    "import IntegratedGradients as IG\n",
    "import keras \n",
    "\n",
    "from scipy import stats \n",
    "\n",
    "\n",
    "path_to_configs = \"../\"\n",
    "sys.path.append(path_to_configs)\n",
    "from configs import *\n",
    "from models import *"
   ]
  },
  {
   "cell_type": "code",
   "execution_count": 16,
   "metadata": {
    "collapsed": true
   },
   "outputs": [],
   "source": [
    "dset = \"Blood_GSE63060\"\n",
    "dpath = \"_intersection\"\n",
    "dset_to_check = \"test\""
   ]
  },
  {
   "cell_type": "code",
   "execution_count": 17,
   "metadata": {
    "collapsed": true
   },
   "outputs": [],
   "source": [
    "hy_dict_list = list(ParameterGrid(hyperparams))\n",
    "MTL_final_final_model = pickle.load(open(path_to_configs+path_to_final_models_chosen + \"MTL/final.p\", \"rb\" ) )\n",
    "baselines_final_final_model = pickle.load(open(path_to_configs+path_to_final_models_chosen + \"MLP_baselines/final.p\", \"rb\" ))\n",
    "path_to_ext_val_predictions = path_to_configs + path_to_ext_val_results\n"
   ]
  },
  {
   "cell_type": "code",
   "execution_count": 18,
   "metadata": {
    "collapsed": true
   },
   "outputs": [],
   "source": [
    "phens = [\"CERAD\", \"BRAAK\", \"PLAQUES\", \"TANGLES\", \"ABETA_IHC\", \"TAU_IHC\"]\n"
   ]
  },
  {
   "cell_type": "markdown",
   "metadata": {
    "collapsed": true
   },
   "source": [
    "# MTL"
   ]
  },
  {
   "cell_type": "code",
   "execution_count": 19,
   "metadata": {},
   "outputs": [
    {
     "name": "stdout",
     "output_type": "stream",
     "text": [
      "../../../md-ad_public_repo_data/External_Validation/predictions_intersection/Blood_GSE63060/MTL/200_relu_[500, 100]_[50, 10]_0.100000_0.001000_0.001000_[1, 1]_0.100000_20/\n"
     ]
    }
   ],
   "source": [
    "\n",
    "all_pred_vals = []\n",
    "if dset_to_check == \"train\":\n",
    "    path_to_preds = \"%spredictions%s/%s/MTL/%s/train/\"%(path_to_ext_val_predictions, dpath,dset, MTL_final_final_model)\n",
    "else:\n",
    "    path_to_preds = \"%spredictions%s/%s/MTL/%s/\"%(path_to_ext_val_predictions, dpath,dset, MTL_final_final_model)\n",
    "print(path_to_preds)\n",
    "\n",
    "for f in os.listdir(path_to_preds):\n",
    "    if os.path.isdir(path_to_preds + f):\n",
    "        continue\n",
    "\n",
    "    pred_df = pd.read_csv(\"%s/%s\"%(path_to_preds,f), index_col=\"Unnamed: 0\")\n",
    "    all_pred_vals.append(pred_df.values)\n",
    "\n",
    "final_preds = pd.DataFrame(np.mean(np.array(all_pred_vals),axis=0), columns=pred_df.columns)\n",
    "if dset_to_check == \"train\":\n",
    "    final_preds.to_csv(\"%spredictions%s/%s/MTL/final_train.csv\"%(path_to_ext_val_predictions,dpath,dset))\n",
    "else:\n",
    "    final_preds.to_csv(\"%spredictions%s/%s/MTL/final.csv\"%(path_to_ext_val_predictions, dpath,dset))"
   ]
  },
  {
   "cell_type": "markdown",
   "metadata": {},
   "source": [
    "# MLP"
   ]
  },
  {
   "cell_type": "code",
   "execution_count": 21,
   "metadata": {},
   "outputs": [
    {
     "name": "stdout",
     "output_type": "stream",
     "text": [
      "../../../md-ad_public_repo_data/External_Validation/predictions_intersection/Blood_GSE63060/MLP_baselines/\n"
     ]
    }
   ],
   "source": [
    "all_pred_vals = []\n",
    "\n",
    "path_to_preds = \"%spredictions%s/%s/MLP_baselines/\"%(path_to_ext_val_predictions, dpath,dset)\n",
    "print(path_to_preds)\n",
    "\n",
    "for f in os.listdir(path_to_preds):\n",
    "    if f.split(\".\")[0] in [str(i) for i in range(100)]:\n",
    "        pred_df = pd.read_csv(\"%s/%s\"%(path_to_preds,f), index_col=\"Unnamed: 0\")\n",
    "        all_pred_vals.append(pred_df.values)\n",
    "\n",
    "final_preds = pd.DataFrame(np.mean(np.array(all_pred_vals),axis=0), columns=pred_df.columns)\n",
    "final_preds.to_csv(path_to_preds + \"final.csv\")"
   ]
  }
 ],
 "metadata": {
  "kernelspec": {
   "display_name": "Python 3",
   "language": "python",
   "name": "python3"
  },
  "language_info": {
   "codemirror_mode": {
    "name": "ipython",
    "version": 3
   },
   "file_extension": ".py",
   "mimetype": "text/x-python",
   "name": "python",
   "nbconvert_exporter": "python",
   "pygments_lexer": "ipython3",
   "version": "3.6.6"
  }
 },
 "nbformat": 4,
 "nbformat_minor": 2
}
