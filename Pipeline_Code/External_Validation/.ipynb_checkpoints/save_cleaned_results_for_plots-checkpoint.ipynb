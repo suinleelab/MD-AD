{
 "cells": [
  {
   "cell_type": "code",
   "execution_count": 1,
   "metadata": {},
   "outputs": [
    {
     "name": "stderr",
     "output_type": "stream",
     "text": [
      "/home/nbbwang/anaconda3/lib/python3.6/site-packages/h5py/__init__.py:34: FutureWarning: Conversion of the second argument of issubdtype from `float` to `np.floating` is deprecated. In future, it will be treated as `np.float64 == np.dtype(float).type`.\n",
      "  from ._conv import register_converters as _register_converters\n"
     ]
    }
   ],
   "source": [
    "import gc\n",
    "import h5py\n",
    "import numpy as np\n",
    "import pandas as pd\n",
    "import scipy\n",
    "import datetime \n",
    "import h5py\n",
    "import sys\n",
    "import pickle\n",
    "import os\n",
    "from scipy import stats \n",
    "import seaborn as sns\n",
    "\n",
    "from matplotlib import pyplot as plt\n",
    "%matplotlib inline\n",
    "\n",
    "path_to_configs = \"../\"\n",
    "sys.path.append(path_to_configs)\n",
    "from configs import *"
   ]
  },
  {
   "cell_type": "code",
   "execution_count": 2,
   "metadata": {
    "collapsed": true
   },
   "outputs": [],
   "source": [
    "mod = \"MTL\"\n",
    "mods = [\"Linear\",\"MLP_baselines\", \"MTL\"]\n",
    "phens = [\"CERAD\", \"BRAAK\", \"PLAQUES\", \"TANGLES\", \"ABETA_IHC\", \"TAU_IHC\"]\n",
    "\n",
    "\n",
    "path_to_ext_val_data = path_to_configs + path_to_ext_val_data_folder\n",
    "path_to_results = path_to_configs + path_to_ext_val_results"
   ]
  },
  {
   "cell_type": "markdown",
   "metadata": {},
   "source": [
    "### Human"
   ]
  },
  {
   "cell_type": "code",
   "execution_count": 3,
   "metadata": {},
   "outputs": [
    {
     "name": "stderr",
     "output_type": "stream",
     "text": [
      "/home/nbbwang/anaconda3/lib/python3.6/site-packages/ipykernel_launcher.py:49: FutureWarning: Sorting because non-concatenation axis is not aligned. A future version\n",
      "of pandas will change to not sort by default.\n",
      "\n",
      "To accept the future behavior, pass 'sort=False'.\n",
      "\n",
      "To retain the current behavior and silence the warning, pass 'sort=True'.\n",
      "\n"
     ]
    }
   ],
   "source": [
    "dpath = \"\"\n",
    "t_stat = {}\n",
    "t_ps= {}\n",
    "dfs = {}\n",
    "for mod in mods:\n",
    "    exclude_list = [\"Mouse\",'Mayo_CER.tsv', 'Mayo_TCX.tsv', 'HBTRC_synapse.tsv', 'HBTRC_GEO_CER.tsv', 'ROSMAP_GE2.tsv']\n",
    "\n",
    "    ge_list = []\n",
    "    df_list = []\n",
    "    embedding_list = []\n",
    "    \n",
    "    for dset in os.listdir(\"%spredictions%s/\"%(path_to_results,dpath)):\n",
    "\n",
    "        if dset not in exclude_list:\n",
    "\n",
    "            AD_labs = pd.read_csv(\"%sprocessed/all_human/all_human_labels/%s\"%(path_to_ext_val_data,dset), delimiter=\"\\t\")\n",
    "            covars = pd.read_csv(\"%sprocessed/all_human/all_human_covars/%s\"%(path_to_ext_val_data,dset), delimiter=\"\\t\", index_col=None)\n",
    "            processed_ge_data = np.loadtxt(\"%sprocessed/all_human/ge_pca/%s\"%(path_to_ext_val_data,dset))\n",
    "            AD_labs = AD_labs.merge(covars, how=\"left\", on=\"sample_name\")\n",
    "            preds = pd.read_csv(\"%spredictions%s/%s/%s/final.csv\"%(path_to_results, dpath,dset,mod), index_col=\"Unnamed: 0\")\n",
    "            combined_df = pd.concat([AD_labs,preds],axis=1)\n",
    "            combined_df[\"source\"]=dset\n",
    "            \n",
    "            # FITERS:\n",
    "            combined_df = combined_df[combined_df[\"age\"]>61]\n",
    "            combined_df[\"age_groups\"] = combined_df[\"age\"].apply(lambda x: \"<75\" if x < 75 else \\\n",
    "                                                                 (\"[75-85)\" if x < 85 else \"85+\"))\n",
    "            \n",
    "            if dset==\"MayoRNASeq.tsv\":\n",
    "                combined_df = combined_df[combined_df[\"sample_name\"].apply(lambda x: True if \"_CER\" not in x else False)]\n",
    "            \n",
    "            df_list.append(combined_df)\n",
    "            \n",
    "            kept_rows_idx = np.asarray(combined_df.index)\n",
    "            ge_list.append(processed_ge_data[kept_rows_idx])\n",
    "            \n",
    "            if mod==\"MTL\":\n",
    "                embedding = np.loadtxt(\"%smodel_transformations%s/all_human/%s/MTL/1/test/0.txt\"%(path_to_results, dpath,dset))\n",
    "                embedding_list.append(embedding[kept_rows_idx])\n",
    "            \n",
    "            \n",
    "    stacked_dfs = []\n",
    "    for df in df_list:\n",
    "        df[\"AB_RELATED\"] = np.mean(df[[\"ABETA_IHC\", \"PLAQUES\", \"CERAD\"]].rank(pct=True),axis=1)\n",
    "        df[\"TAU_RELATED\"] = np.mean(df[[\"TAU_IHC\", \"TANGLES\", \"BRAAK\"]].rank(pct=True),axis=1)\n",
    "        df[\"AVG\"] = np.mean(df[[\"AB_RELATED\", \"TAU_RELATED\"]].rank(pct=True),axis=1)\n",
    "        df[\"B_C\"] = np.mean(df[[\"BRAAK\", \"CERAD\"]].rank(pct=True),axis=1)\n",
    "        stacked_dfs.append(df)\n",
    "\n",
    "    df = pd.concat(stacked_dfs)\n",
    "    df[\"study\"] = [\"_\".join(x.split(\"_\")[:2]) for x in df[\"source\"]]\n",
    "\n",
    "    dfs[mod] = df\n",
    "    t_stat[mod] = {}\n",
    "    t_ps[mod] = {}\n",
    "\n",
    "    ge_pca_data = np.vstack(ge_list)\n",
    "    if mod==\"MTL\":\n",
    "        embeddings = np.vstack(embedding_list)"
   ]
  },
  {
   "cell_type": "code",
   "execution_count": 4,
   "metadata": {
    "collapsed": true
   },
   "outputs": [],
   "source": [
    "for mod in mods:    \n",
    "    if not os.path.isdir(\"%sCleaned/Model_Predictions/%s/\"%(path_to_results,mod)):\n",
    "        os.makedirs(\"%sCleaned/Model_Predictions/%s/\"%(path_to_results,mod))\n",
    "        \n",
    "    dfs[mod].to_csv(\"%sCleaned/Model_Predictions/%s/%s.csv\"%(path_to_results,mod,\"all_human\"))\n",
    "\n",
    "if not os.path.isdir(\"%sCleaned/test_embeddings/%s/\"%(path_to_results,mod)):\n",
    "    os.makedirs(\"%sCleaned/test_embeddings/%s/\"%(path_to_results,mod))\n",
    "np.savetxt(\"%sCleaned/test_embeddings/%s/all_human.csv\"%(path_to_results,mod),embeddings)\n"
   ]
  },
  {
   "cell_type": "markdown",
   "metadata": {},
   "source": [
    "## Mouse"
   ]
  },
  {
   "cell_type": "code",
   "execution_count": null,
   "metadata": {},
   "outputs": [],
   "source": [
    "dfs = {}\n",
    "\n",
    "dset = \"Mouse\"\n",
    "dpath = \"_intersection\"\n",
    "    \n",
    "for mod in mods:\n",
    "\n",
    "    if dpath == \"_intersection\":\n",
    "        labels = pd.read_csv(\"%sprocessed%s/%s/labels_test.csv\"%(path_to_ext_val_data,dpath,dset), index_col=\"Unnamed: 0\")\n",
    "    else:   \n",
    "        labels = pd.read_csv(\"%sprocessed%s/%s/labels.csv\"%(path_to_ext_val_data,dpath,dset), index_col=\"Unnamed: 0\")\n",
    "    final_preds = pd.read_csv(\"%spredictions%s/%s/%s/final.csv\"%(path_to_results,dpath,dset,mod), index_col=\"Unnamed: 0\")\n",
    "    phens = list(final_preds.columns)\n",
    "\n",
    "    df = pd.concat([labels,final_preds],axis=1)\n",
    "\n",
    "    df[\"AB_RELATED\"] = np.mean(df[[\"ABETA_IHC\", \"PLAQUES\", \"CERAD\"]].rank(pct=True),axis=1)\n",
    "    df[\"TAU_RELATED\"] = np.mean(df[[\"TAU_IHC\", \"TANGLES\", \"BRAAK\"]].rank(pct=True),axis=1)\n",
    "    df[\"AVG\"] = np.mean(df[[\"AB_RELATED\", \"TAU_RELATED\"]].rank(pct=True),axis=1)\n",
    "    df[\"B_C\"] = np.mean(df[[\"BRAAK\", \"CERAD\"]].rank(pct=True),axis=1)\n",
    "\n",
    "    df[\"AD\"] = df[\"strain\"].apply(lambda x: x if x==\"WILD\" else \"AD\")\n",
    "    df[\"time\"] = df[\"age\"].apply(lambda x: int(x[:-6] ))\n",
    "    df[\"AD-region\"] = df[\"AD\"].values+\"_\"+labels[\"region\"].values\n",
    "    df[\"strain-region\"] = df[\"strain\"].values+\"_\"+labels[\"region\"].values\n",
    "\n",
    "    dfs[mod] = df[df[\"region\"]!=\"Cerebellum\"]\n",
    "    dfs[mod][\"idx\"] = dfs[mod].index\n",
    "    \n",
    "    if mod==\"MTL\":\n",
    "        embedding = np.loadtxt(\"%smodel_transformations%s/%s/MTL/1/test/0.txt\"%(path_to_results, dpath,dset))\n",
    "        to_keep_idx = dfs[mod][\"idx\"].values\n",
    "        if not os.path.isdir(\"%sCleaned/test_embeddings/%s/\"%(path_to_results,mod)):\n",
    "            os.makedirs(\"%sCleaned/test_embeddings/%s/\"%(path_to_results,mod))\n",
    "        np.savetxt(\"%sCleaned/test_embeddings/%s/%s.csv\"%(path_to_results,mod,dset),embedding[to_keep_idx])"
   ]
  },
  {
   "cell_type": "code",
   "execution_count": null,
   "metadata": {
    "collapsed": true
   },
   "outputs": [],
   "source": [
    "for mod in mods:    \n",
    "    if not os.path.isdir(\"%sCleaned/Model_Predictions/%s/\"%(path_to_results,mod)):\n",
    "        os.makedirs(\"%sCleaned/Model_Predictions/%s/\"%(path_to_results,mod))\n",
    "        \n",
    "    dfs[mod].to_csv(\"%sCleaned/Model_Predictions/%s/%s.csv\"%(path_to_results,mod,dset))"
   ]
  },
  {
   "cell_type": "markdown",
   "metadata": {},
   "source": [
    "## Blood"
   ]
  },
  {
   "cell_type": "code",
   "execution_count": null,
   "metadata": {
    "collapsed": true
   },
   "outputs": [],
   "source": [
    "dpath = \"_intersection\"\n",
    "dfs = {}\n",
    "\n",
    "\n",
    "for mod in mods:\n",
    "    \n",
    "    df_prestacked = []\n",
    "  \n",
    "    for dset in ['Blood_GSE63060', 'Blood_GSE63061']:\n",
    "        if dpath == \"_intersection\":\n",
    "            labels = pd.read_csv(\"%sprocessed%s/%s/labels_test.csv\"%(path_to_ext_val_data,dpath,dset), index_col=\"Unnamed: 0\")\n",
    "        else:   \n",
    "            labels = pd.read_csv(\"%sprocessed%s/%s/labels.csv\"%(path_to_ext_val_data,dpath,dset), index_col=\"Unnamed: 0\")\n",
    "        final_preds = pd.read_csv(\"%spredictions%s/%s/%s/final.csv\"%(path_to_results,dpath,dset,mod), index_col=\"Unnamed: 0\")\n",
    "        phens = list(final_preds.columns)\n",
    "\n",
    "\n",
    "        df = pd.concat([labels,final_preds],axis=1)\n",
    "        df[\"status\"] = df[\"status\"].apply(lambda x: x.lstrip())\n",
    "        df = df[(df[\"status\"]==\"AD\") | (df[\"status\"]==\"MCI\") | (df[\"status\"]==\"CTL\")]\n",
    "        \n",
    "        df[\"AB_RELATED\"] = np.mean(df[[\"ABETA_IHC\", \"PLAQUES\", \"CERAD\"]].rank(pct=True),axis=1)\n",
    "        df[\"TAU_RELATED\"] = np.mean(df[[\"TAU_IHC\", \"TANGLES\", \"BRAAK\"]].rank(pct=True),axis=1)\n",
    "        df[\"AVG\"] = np.mean(df[[\"AB_RELATED\", \"TAU_RELATED\"]].rank(pct=True),axis=1)\n",
    "        df[\"B_C\"] = np.mean(df[[\"BRAAK\", \"CERAD\"]].rank(pct=True),axis=1)\n",
    "        \n",
    "        df[\"source\"] = dset\n",
    "        \n",
    "        df[\"age_groups1\"] = df[\"age\"].apply(lambda x: \"<75\" if x < 75 else \\\n",
    "                                                         (\"[75-85)\" if x < 85 else \\\n",
    "                                                         (\"85+\")))\n",
    "        \n",
    "        df[\"age_groups2\"] = df[\"age\"].apply(lambda x: \"<74\" if x < 74 else \\\n",
    "                                                         (\"[74-80)\" if x < 80 else \\\n",
    "                                                         (\"80+\")))\n",
    "        df_prestacked.append(df)\n",
    "        \n",
    "        \n",
    "               \n",
    "        if not os.path.isdir(\"%sCleaned/Model_Predictions/%s/\"%(path_to_results,mod)):\n",
    "            os.makedirs(\"%sCleaned/Model_Predictions/%s/\"%(path_to_results,mod))\n",
    "        df.to_csv(\"%sCleaned/Model_Predictions/%s/%s.csv\"%(path_to_results,mod,dset))\n",
    "\n",
    "        if mod==\"MTL\":\n",
    "            embedding = np.loadtxt(\"%smodel_transformations%s/%s/MTL/1/test/0.txt\"%(path_to_results, dpath,dset))\n",
    "            to_keep_index = np.asarray(df.index)\n",
    "            if not os.path.isdir(\"%sCleaned/test_embeddings/%s/\"%(path_to_results,mod)):\n",
    "                os.makedirs(\"%sCleaned/test_embeddings/%s/\"%(path_to_results,mod))\n",
    "            np.savetxt(\"%sCleaned/test_embeddings/%s/%s.csv\"%(path_to_results,mod,dset),embedding[to_keep_index])\n",
    "        \n",
    "    df_stacked = pd.concat(df_prestacked)\n",
    "    dfs[mod] = df_stacked\n"
   ]
  },
  {
   "cell_type": "code",
   "execution_count": null,
   "metadata": {
    "collapsed": true
   },
   "outputs": [],
   "source": [
    "for mod in mods:    \n",
    "    if not os.path.isdir(\"%s/Cleaned/Model_Predictions/%s/\"%(path_to_results,mod)):\n",
    "        os.makedirs(\"%s/Cleaned/Model_Predictions/%s/\"%(path_to_results,mod))\n",
    "        \n",
    "    dfs[mod].to_csv(\"%s/Cleaned/Model_Predictions/%s/%s.csv\"%(path_to_results,mod,\"Blood\"))\n",
    "    \n",
    "    "
   ]
  }
 ],
 "metadata": {
  "kernelspec": {
   "display_name": "Python 3",
   "language": "python",
   "name": "python3"
  },
  "language_info": {
   "codemirror_mode": {
    "name": "ipython",
    "version": 3
   },
   "file_extension": ".py",
   "mimetype": "text/x-python",
   "name": "python",
   "nbconvert_exporter": "python",
   "pygments_lexer": "ipython3",
   "version": "3.6.6"
  }
 },
 "nbformat": 4,
 "nbformat_minor": 2
}
