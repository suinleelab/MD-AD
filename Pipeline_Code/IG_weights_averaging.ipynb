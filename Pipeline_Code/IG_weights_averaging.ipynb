{
 "cells": [
  {
   "cell_type": "markdown",
   "metadata": {},
   "source": [
    "### reminder!\n",
    "Copy \"1\" folder over to /media/big/nbbwang/md-ad_public_repo_data/Modeling/final_model/origGE/model_transformations/MTL/1/\n",
    "\n",
    "Copy 'MLP' folder over to /media/big/nbbwang/md-ad_public_repo_data/Modeling/final_model/origGE/model_transformations/MLP\n",
    "\n",
    "move /media/big/nbbwang/md-ad_public_repo_data/Modeling/final_model/origGE/model_transformations/MLP\n",
    "over to pipeline output folder \n",
    "\n"
   ]
  },
  {
   "cell_type": "code",
   "execution_count": null,
   "metadata": {
    "collapsed": true
   },
   "outputs": [],
   "source": []
  },
  {
   "cell_type": "code",
   "execution_count": null,
   "metadata": {
    "collapsed": true
   },
   "outputs": [],
   "source": [
    "\"/media/big/nbbwang/AD_Project/analyses/MTL_variable_tasks/6vars-continuous/IG_weights_stacked/%s/%s/%i/outputs/%s.h5\"%(SPECIFIC_FOLDER,method,0,\"CERAD\"), 'r') as hf:\n"
   ]
  },
  {
   "cell_type": "markdown",
   "metadata": {},
   "source": [
    "### Averaging over samples: --- do we need this??? \n",
    "100x14591x1757x6 --> 100x14591x6\n",
    "\n",
    "### Averaging over samples and runs:\n",
    "100x14591x1757x6 --> 14591x6\n",
    "\n",
    "### Averaging over runs & phens --> scores for each sample:\n",
    "100x14591x1758x6 --> 1758x6\n"
   ]
  },
  {
   "cell_type": "code",
   "execution_count": null,
   "metadata": {
    "collapsed": true
   },
   "outputs": [],
   "source": []
  }
 ],
 "metadata": {
  "kernelspec": {
   "display_name": "Python 3",
   "language": "python",
   "name": "python3"
  },
  "language_info": {
   "codemirror_mode": {
    "name": "ipython",
    "version": 3
   },
   "file_extension": ".py",
   "mimetype": "text/x-python",
   "name": "python",
   "nbconvert_exporter": "python",
   "pygments_lexer": "ipython3",
   "version": "3.6.6"
  }
 },
 "nbformat": 4,
 "nbformat_minor": 2
}
