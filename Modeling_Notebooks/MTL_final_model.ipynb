{
 "cells": [
  {
   "cell_type": "code",
   "execution_count": 2,
   "metadata": {},
   "outputs": [
    {
     "data": {
      "text/plain": [
       "['/job:localhost/replica:0/task:0/device:GPU:0']"
      ]
     },
     "execution_count": 2,
     "metadata": {},
     "output_type": "execute_result"
    }
   ],
   "source": [
    "import gc\n",
    "import numpy as np\n",
    "import pandas as pd\n",
    "from keras import backend as K\n",
    "from keras.callbacks import CSVLogger, ModelCheckpoint, Callback\n",
    "from sklearn.model_selection import ParameterGrid\n",
    "import datetime\n",
    "import os\n",
    "import pickle\n",
    "\n",
    "from models import MDAD_model\n",
    "from experiment_helpers import load_final_PCA_data, save_MTL_predictions\n",
    "\n",
    "os.environ[\"CUDA_VISIBLE_DEVICES\"]=\"2\"\n",
    "K.tensorflow_backend._get_available_gpus()"
   ]
  },
  {
   "cell_type": "code",
   "execution_count": 3,
   "metadata": {},
   "outputs": [
    {
     "data": {
      "text/plain": [
       "8"
      ]
     },
     "execution_count": 3,
     "metadata": {},
     "output_type": "execute_result"
    }
   ],
   "source": [
    "hyperparams = {\"epochs\": [200], \\\n",
    "               \"nonlinearity\": [\"relu\"], \\\n",
    "               \"hidden_sizes_shared\": [[500,100]], \\\n",
    "               \"hidden_sizes_separate\": [[50,10]],\\\n",
    "               \"dropout\":  [.1],\\\n",
    "               \"k_reg\": [.00001,.001],\\\n",
    "#                 \"learning_rate\": [.001],\\\n",
    "            \"learning_rate\": [.0001,.001],\\\n",
    "               \"loss_weights\":  [[1, 1]],\\\n",
    "               \"grad_clip_norm\": [.01,.1],\\\n",
    "               \"batch_size\": [20]}\n",
    "hy_dict_list = list(ParameterGrid(hyperparams))\n",
    "len(hy_dict_list)"
   ]
  },
  {
   "cell_type": "code",
   "execution_count": 6,
   "metadata": {
    "scrolled": true
   },
   "outputs": [],
   "source": [
    "SPECIFIC_FOLDER = \"origGE\"\n",
    "\n",
    "dataset =\"ACT_MSBBRNA_ROSMAP_PCA\"\n",
    "\n",
    "path_to_all = \"../../md-ad_public_repo_data/Modeling/final_model/%s/\"%SPECIFIC_FOLDER\n",
    "path_to_results = path_to_all + \"results/MTL/\"\n",
    "path_to_models = path_to_all + \"models/MTL/\"\n",
    "     \n",
    "MTL_final_final_model = pickle.load(open(\"../../AD_Project/analyses/MTL_variable_tasks/6vars-continuous/%s/final_models_chosen/MTL/final.p\"%SPECIFIC_FOLDER, \"rb\" ) )\n",
    "\n",
    "for hy_iteration in range(len(hy_dict_list)):\n",
    "\n",
    "    hy_dict = hy_dict_list[hy_iteration]\n",
    "\n",
    "    title = \"%d_%s_%s_%s_%f_%f_%f_%s_%f_%d\"%(hy_dict[\"epochs\"], hy_dict[\"nonlinearity\"], \n",
    "                    str(hy_dict[\"hidden_sizes_shared\"]), str(hy_dict[\"hidden_sizes_separate\"]),\n",
    "                    hy_dict[\"dropout\"], hy_dict[\"k_reg\"], hy_dict[\"learning_rate\"], \n",
    "                    str(hy_dict[\"loss_weights\"]),  hy_dict[\"grad_clip_norm\"], hy_dict[\"batch_size\"])\n",
    "    print(title)\n",
    "    if title == MTL_final_final_model:\n",
    "        print(\"FINAL SELECTED HY ID:\", hy_iteration)\n",
    "        FINAL_HY = hy_iteration\n",
    "\n",
    "\n",
    "\n",
    "for rep in range(100):\n",
    "    print(rep)\n",
    "    \n",
    "    X,y = load_final_PCA_data(SPECIFIC_FOLDER)\n",
    "\n",
    "    print(X.shape)\n",
    "\n",
    "    for hy_iteration in [FINAL_HY]:\n",
    "\n",
    "        print(\"HYPERPARAMETER ITERATION: %d\"%hy_iteration)\n",
    "    \n",
    "        hy_dict = hy_dict_list[hy_iteration]\n",
    "\n",
    "        title = \"%d_%s_%s_%s_%f_%f_%f_%s_%f_%d\"%(hy_dict[\"epochs\"], hy_dict[\"nonlinearity\"], \n",
    "                        str(hy_dict[\"hidden_sizes_shared\"]), str(hy_dict[\"hidden_sizes_separate\"]),\n",
    "                        hy_dict[\"dropout\"], hy_dict[\"k_reg\"], hy_dict[\"learning_rate\"], \n",
    "                        str(hy_dict[\"loss_weights\"]),  hy_dict[\"grad_clip_norm\"], hy_dict[\"batch_size\"])\n",
    "        print(title)\n",
    "\n",
    "        res_dest = path_to_results +  \"/\" + dataset + \"/\" + title + \"/\" + str(rep) + \"/\"\n",
    "        modelpath = path_to_models + dataset + \"/\" + title +  \"/\" + str(rep) + \"/\"\n",
    "        for path in [res_dest, modelpath]:\n",
    "            if not os.path.isdir(path):\n",
    "                os.makedirs(path)\n",
    "            \n",
    "            \n",
    "        model = MDAD_model(X, hy_dict)    \n",
    "\n",
    "        csv_logger = CSVLogger(res_dest+'results.log')\n",
    "\n",
    "        History = model.fit(x={'main_input': X},\\\n",
    "                            y={'BRAAK_out': y[\"BRAAK\"], 'CERAD_out': y[\"CERAD\"], \\\n",
    "                               'PLAQUES_out': y[\"PLAQUES\"], 'TANGLES_out': y[\"TANGLES\"],\n",
    "                   \"ABETA_IHC_out\": y[\"ABETA_IHC\"], \"TAU_IHC_out\":y[\"TAU_IHC\"]}, \\\n",
    "                  verbose=0,epochs=hy_dict[\"epochs\"], batch_size=hy_dict[\"batch_size\"], callbacks=[csv_logger,\\\n",
    "                ModelCheckpoint(modelpath+\"{epoch:02d}.hdf5\", monitor='val_loss', verbose=0, \\\n",
    "                save_best_only=False, save_weights_only=False, mode='auto', period=200)])\n",
    "\n",
    "\n",
    "        K.clear_session()\n",
    "        gc.collect()"
   ]
  }
 ],
 "metadata": {
  "kernelspec": {
   "display_name": "Python 3",
   "language": "python",
   "name": "python3"
  },
  "language_info": {
   "codemirror_mode": {
    "name": "ipython",
    "version": 3
   },
   "file_extension": ".py",
   "mimetype": "text/x-python",
   "name": "python",
   "nbconvert_exporter": "python",
   "pygments_lexer": "ipython3",
   "version": "3.6.6"
  }
 },
 "nbformat": 4,
 "nbformat_minor": 2
}
