{
 "cells": [
  {
   "cell_type": "code",
   "execution_count": 1,
   "metadata": {},
   "outputs": [
    {
     "name": "stderr",
     "output_type": "stream",
     "text": [
      "/home/nbbwang/anaconda3/lib/python3.6/site-packages/h5py/__init__.py:34: FutureWarning: Conversion of the second argument of issubdtype from `float` to `np.floating` is deprecated. In future, it will be treated as `np.float64 == np.dtype(float).type`.\n",
      "  from ._conv import register_converters as _register_converters\n",
      "Using TensorFlow backend.\n"
     ]
    },
    {
     "data": {
      "text/plain": [
       "['/job:localhost/replica:0/task:0/device:GPU:0']"
      ]
     },
     "execution_count": 1,
     "metadata": {},
     "output_type": "execute_result"
    }
   ],
   "source": [
    "import h5py \n",
    "import numpy as np\n",
    "from keras import optimizers, regularizers, losses\n",
    "from keras.models import Model\n",
    "from keras import backend as K\n",
    "import keras\n",
    "import sys\n",
    "import pickle\n",
    "import tensorflow as tf\n",
    "import os\n",
    "\n",
    "os.environ[\"CUDA_VISIBLE_DEVICES\"]=\"2\"\n",
    "K.tensorflow_backend._get_available_gpus()"
   ]
  },
  {
   "cell_type": "code",
   "execution_count": 2,
   "metadata": {
    "collapsed": true
   },
   "outputs": [],
   "source": [
    "SPECIFIC_FOLDER = \"origGE\"\n",
    "dataset = \"ACT_MSBBRNA_ROSMAP_PCA\"\n",
    "\n",
    "path_to_data = \"/media/big/nbbwang/AD_Project/analyses/MTL_variable_tasks/MTL_data/%s/ACT_MSBBRNA_ROSMAP_PCA.h5\"%SPECIFIC_FOLDER\n",
    "\n",
    "num_components=500\n",
    "with h5py.File(path_to_data, 'r') as hf:\n",
    "    X = hf[\"ge_transformed\"][:,:num_components].astype(np.float64)      "
   ]
  },
  {
   "cell_type": "code",
   "execution_count": 3,
   "metadata": {
    "collapsed": true
   },
   "outputs": [],
   "source": [
    "savepath = \"../../md-ad_public_repo_data/Modeling/final_model/%s/model_transformations/\"%SPECIFIC_FOLDER\n",
    "\n",
    "curpath = \"/media/big/nbbwang/AD_Project/analyses/MTL_variable_tasks/6vars-continuous\"\n",
    "path_to_final_models_MTL = \"/media/big/nbbwang/AD_Project/analyses/MTL_variable_tasks/6vars-continuous/final_model/%s/models/\"%(SPECIFIC_FOLDER)\n",
    "path_to_final_models_MLPbaselines = {'ABETA_IHC': \"%s/final_model/%s/models/\"%(curpath,SPECIFIC_FOLDER), \n",
    "                                   'TAU_IHC': \"%s/final_model/%s/models/\"%(curpath,SPECIFIC_FOLDER), \n",
    "                                     'CERAD': \"%s/final_model/%s/models/\"%(curpath,SPECIFIC_FOLDER), \n",
    "                                   'BRAAK': \"%s/final_model/%s/models/\"%(curpath,SPECIFIC_FOLDER), \n",
    "                                   'PLAQUES': \"%s/final_model/%s/models/\"%(curpath,SPECIFIC_FOLDER), \n",
    "                                   'TANGLES':\"%s/final_model/%s/models/\"%(curpath,SPECIFIC_FOLDER)}\n",
    "\n",
    "path_to_split_data = \"/media/big/nbbwang/AD_Project/analyses/MTL_variable_tasks/MTL_data/%s/ACT_MSBBRNA_ROSMAP_PCASplit/\"%SPECIFIC_FOLDER\n",
    "\n",
    "path_to_final_models_chosen = \"/media/big/nbbwang/AD_Project/analyses/MTL_variable_tasks/6vars-continuous/%s/final_models_chosen/\"%SPECIFIC_FOLDER\n",
    "\n",
    "MTL_final_final_model = pickle.load(open(path_to_final_models_chosen + \"MTL/final.p\", \"rb\" ) )\n",
    "baselines_final_final_model = pickle.load(open(path_to_final_models_chosen + \"MLP_baselines/final.p\", \"rb\" ) )"
   ]
  },
  {
   "cell_type": "code",
   "execution_count": 4,
   "metadata": {
    "collapsed": true
   },
   "outputs": [],
   "source": [
    "phenotypes = [\"CERAD\", \"BRAAK\", \"PLAQUES\", \"TANGLES\", \"ABETA_IHC\", \"TAU_IHC\"]"
   ]
  },
  {
   "cell_type": "code",
   "execution_count": 5,
   "metadata": {
    "collapsed": true
   },
   "outputs": [],
   "source": [
    "\n",
    "def ignorenans_categorical_accuracy(num_categories):\n",
    "    def cat_acc(y_true,y_pred):\n",
    "        return\n",
    "    return \n",
    "\n",
    "def ordloss(num_categories):\n",
    "    def ordloss_cur_params(y_true, y_pred):\n",
    "        return \n",
    "    return \n",
    "\n",
    "def ignorenans_mse(y_true, y_pred):\n",
    "    bool_finite = tf.is_finite(y_true)\n",
    "    return K.mean(K.square(tf.boolean_mask(y_pred, bool_finite) - tf.boolean_mask(y_true, bool_finite)), axis=-1)\n",
    "\n",
    "def ignorenans_scaled_mse(y_true, y_pred):\n",
    "    bool_finite = tf.is_finite(y_true)\n",
    "    mse =  K.mean(K.square(tf.boolean_mask(y_pred, bool_finite) - tf.boolean_mask(y_true, bool_finite)), axis=-1)\n",
    "    var = K.var(tf.boolean_mask(y_true, bool_finite), axis=-1)\n",
    "    return mse/var\n",
    "    "
   ]
  },
  {
   "cell_type": "code",
   "execution_count": 6,
   "metadata": {
    "collapsed": true
   },
   "outputs": [],
   "source": [
    "def get_model_layers(model_file, num_layers):\n",
    "    \n",
    "    # note: need to define custom functions for model in order to load, but these don't actually get used\n",
    "    model = keras.models.load_model(model_file, custom_objects={\"ordloss_cur_params\": ordloss(0), \\\n",
    "            \"ignorenans_mse\": ignorenans_mse, \"cat_acc\": ignorenans_categorical_accuracy(0), \\\n",
    "            \"ignorenans_scaled_mse\": ignorenans_scaled_mse})\n",
    "    \n",
    "    # define new model that cuts off the last several layers\n",
    "    newmodel = Model(inputs = model.input, outputs = model.layers[num_layers-1].output)\n",
    "    \n",
    "    # agian, need to specify these parameters, but they aren't used since we don't retrain the model\n",
    "    opt = optimizers.adam()  \n",
    "    newmodel.compile(optimizer=opt, loss= \"mse\")\n",
    "    \n",
    "    return newmodel"
   ]
  },
  {
   "cell_type": "markdown",
   "metadata": {},
   "source": [
    "# MLP"
   ]
  },
  {
   "cell_type": "code",
   "execution_count": 7,
   "metadata": {
    "collapsed": true
   },
   "outputs": [],
   "source": [
    "MLP_LAYER_IDXes = [2,4,6,8]"
   ]
  },
  {
   "cell_type": "code",
   "execution_count": 11,
   "metadata": {
    "collapsed": true,
    "scrolled": true
   },
   "outputs": [],
   "source": [
    "X_transformed_layers = {}\n",
    "\n",
    "for phenotype in phenotypes:\n",
    "\n",
    "    fname = baselines_final_final_model[phenotype]\n",
    "    \n",
    "\n",
    "    path_to_models = path_to_final_models_MLPbaselines[phenotype] + \\\n",
    "                            \"MLP_baselines/%s/%s/%s/\"%(\"ACT_MSBBRNA_ROSMAP_PCA\", phenotype, fname)\n",
    "\n",
    "\n",
    "    repfolders_idx = np.where([\".\" not in x for x in  os.listdir(path_to_models)])[0]\n",
    "    repfolders = np.array(os.listdir(path_to_models))[repfolders_idx]\n",
    "    \n",
    "    for rep in repfolders:\n",
    "        path_to_model = path_to_models + \"%s/200.hdf5\"%rep\n",
    "\n",
    "        full_model = keras.models.load_model(path_to_model, custom_objects={\"ordloss_cur_params\": ordloss(0), \\\n",
    "            \"ignorenans_mse\": ignorenans_mse, \"cat_acc\": ignorenans_categorical_accuracy(0), \\\n",
    "            \"ignorenans_scaled_mse\": ignorenans_scaled_mse})\n",
    "\n",
    "        for HIDDEN_LAYER in [1]:\n",
    "\n",
    "            if not os.path.isdir(\"%sMLP/%s/%i/\"%(savepath, phenotype, HIDDEN_LAYER)):\n",
    "                os.makedirs(\"%sMLP/%s/%i/\"%(savepath, phenotype, HIDDEN_LAYER))\n",
    "\n",
    "            # GET TRANSFORMATIONS FOR THE MODEL UP TO THE LAYER OF INTEREST \n",
    "            mod_to_layer = get_model_layers(path_to_model, MLP_LAYER_IDXes[HIDDEN_LAYER])\n",
    "\n",
    "            X_transformed = mod_to_layer.predict(X)\n",
    "            \n",
    "            print(phenotype, HIDDEN_LAYER, rep)\n",
    "        \n",
    "            np.savetxt(\"%sMLP/%s/%i/%s.txt\"%(savepath, phenotype, HIDDEN_LAYER, rep),X_transformed)"
   ]
  },
  {
   "cell_type": "markdown",
   "metadata": {},
   "source": [
    "# MD-AD"
   ]
  },
  {
   "cell_type": "code",
   "execution_count": 9,
   "metadata": {
    "collapsed": true
   },
   "outputs": [],
   "source": [
    "MTL_LAYER_IDXes = [1, 3,\\\n",
    "                  {\"BRAAK\": 5, \"CERAD\":6, \"PLAQUES\": 7, \"TANGLES\":8, \"ABETA_IHC\":9, \"TAU_IHC\":10}, \n",
    "                  {\"BRAAK\": 17, \"CERAD\":18, \"PLAQUES\": 19, \"TANGLES\":20, \"ABETA_IHC\":21, \"TAU_IHC\":22},\n",
    "                  {\"BRAAK\": 29, \"CERAD\":30, \"PLAQUES\": 31, \"TANGLES\":32, \"ABETA_IHC\":33, \"TAU_IHC\":34}]"
   ]
  },
  {
   "cell_type": "code",
   "execution_count": 12,
   "metadata": {
    "collapsed": true
   },
   "outputs": [],
   "source": [
    "\n",
    "MTL_final_final_model\n",
    "\n",
    "path_to_models = path_to_final_models_MTL + \"MTL/%s/%s/\"%(dataset, MTL_final_final_model)\n",
    "\n",
    "\n",
    "repfolders_idx = np.where([\".\" not in x for x in  os.listdir(path_to_models)])[0]\n",
    "repfolders = np.array(os.listdir(path_to_models))[repfolders_idx]\n",
    "\n",
    "\n",
    "for rep in repfolders:\n",
    "    path_to_model = path_to_models + \"%s/200.hdf5\"%rep\n",
    "\n",
    "\n",
    "    for HIDDEN_LAYER in [0]:\n",
    "\n",
    "        # GET TRANSFORMATIONS FOR THE MODEL UP TO THE LAYER OF INTEREST \n",
    "        if type(MTL_LAYER_IDXes[HIDDEN_LAYER]) == dict:\n",
    "\n",
    "            for phen in phenotypes:\n",
    "\n",
    "                mod_to_layer = get_model_layers(path_to_model, MTL_LAYER_IDXes[HIDDEN_LAYER][phen]+1)\n",
    "                X_transformed = mod_to_layer.predict(X)\n",
    "                print(HIDDEN_LAYER, phen, rep)\n",
    "                if not os.path.isdir(\"%sMTL/%i/%s/\"%(savepath, HIDDEN_LAYER, phen)):\n",
    "                    os.makedirs(\"%sMTL/%i/%s/\"%(savepath, HIDDEN_LAYER, phen))\n",
    "                np.savetxt(\"%sMTL/%i/%s/%s.txt\"%(savepath, HIDDEN_LAYER, phen, rep),X_transformed)\n",
    "        else:\n",
    "            mod_to_layer = get_model_layers(path_to_model, MTL_LAYER_IDXes[HIDDEN_LAYER]+1)\n",
    "            X_transformed = mod_to_layer.predict(X)\n",
    "            \n",
    "            print(HIDDEN_LAYER, rep)\n",
    "            if not os.path.isdir(\"%sMTL/%i/\"%(savepath, HIDDEN_LAYER)):\n",
    "                os.makedirs(\"%sMTL/%i/\"%(savepath, HIDDEN_LAYER))\n",
    "            np.savetxt(\"%sMTL/%i/%s.txt\"%(savepath, HIDDEN_LAYER, rep),X_transformed)"
   ]
  }
 ],
 "metadata": {
  "kernelspec": {
   "display_name": "Python 3",
   "language": "python",
   "name": "python3"
  },
  "language_info": {
   "codemirror_mode": {
    "name": "ipython",
    "version": 3
   },
   "file_extension": ".py",
   "mimetype": "text/x-python",
   "name": "python",
   "nbconvert_exporter": "python",
   "pygments_lexer": "ipython3",
   "version": "3.6.6"
  }
 },
 "nbformat": 4,
 "nbformat_minor": 2
}
