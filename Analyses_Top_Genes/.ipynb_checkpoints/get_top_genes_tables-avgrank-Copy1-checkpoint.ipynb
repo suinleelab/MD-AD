{
 "cells": [
  {
   "cell_type": "code",
   "execution_count": 2,
   "metadata": {},
   "outputs": [
    {
     "name": "stderr",
     "output_type": "stream",
     "text": [
      "C:\\Users\\nbbwang\\Anaconda2\\envs\\py36\\lib\\site-packages\\h5py\\__init__.py:34: FutureWarning: Conversion of the second argument of issubdtype from `float` to `np.floating` is deprecated. In future, it will be treated as `np.float64 == np.dtype(float).type`.\n",
      "  from ._conv import register_converters as _register_converters\n"
     ]
    }
   ],
   "source": [
    "import pickle\n",
    "import numpy as np\n",
    "import pandas as pd\n",
    "import os\n",
    "import h5py\n",
    "from matplotlib import pyplot as plt\n",
    "import matplotlib.patches as mpatches\n",
    "\n",
    "%matplotlib inline\n",
    "\n",
    "import seaborn as sns\n",
    "\n",
    "from scipy.stats import spearmanr, pearsonr, rankdata"
   ]
  },
  {
   "cell_type": "code",
   "execution_count": null,
   "metadata": {
    "collapsed": true
   },
   "outputs": [],
   "source": []
  },
  {
   "cell_type": "code",
   "execution_count": 66,
   "metadata": {
    "collapsed": true
   },
   "outputs": [],
   "source": [
    "with h5py.File(\"../../../NEW_FULL_PIPELINE/Data_Processing/ProcessedData/combined_files/01_resid_postcombat/ACT_MSBBRNA_ROSMAP.h5\", 'r') as hf:\n",
    "    gene_symbols = hf[\"gene_symbols\"][:].astype(str)\n",
    "    \n",
    "phenotypes = ['CERAD','BRAAK','PLAQUES','TANGLES','ABETA_IHC','TAU_IHC','all','abeta_related','tau_related']\n",
    "phenotypes = ['CERAD','BRAAK','PLAQUES','TANGLES','ABETA_IHC','TAU_IHC']\n",
    "\n",
    "method = \"MTL\"\n"
   ]
  },
  {
   "cell_type": "code",
   "execution_count": 67,
   "metadata": {
    "collapsed": true
   },
   "outputs": [],
   "source": [
    "phen_dict = {\"all\": ['CERAD','BRAAK','PLAQUES','TANGLES','ABETA_IHC','TAU_IHC'], \n",
    "             \"abeta\": ['CERAD','PLAQUES','ABETA_IHC'],\n",
    "            \"tau\": ['BRAAK','TANGLES','TAU_IHC']}"
   ]
  },
  {
   "cell_type": "code",
   "execution_count": 68,
   "metadata": {
    "collapsed": true
   },
   "outputs": [],
   "source": [
    "# ranks such that most positive value has rank 1\n",
    "def weights_to_rankings(weights, direction=\"positive\"):\n",
    "    if direction==\"positive\":\n",
    "        return  len(weights) - rankdata(weights)\n",
    "    elif direction ==\"negative\":\n",
    "        return len(weights) - rankdata(-1*weights)\n",
    "    else:\n",
    "        return len(weights) - rankdata(abs(weights))\n"
   ]
  },
  {
   "cell_type": "code",
   "execution_count": null,
   "metadata": {
    "collapsed": true
   },
   "outputs": [],
   "source": []
  },
  {
   "cell_type": "code",
   "execution_count": 69,
   "metadata": {
    "collapsed": true
   },
   "outputs": [],
   "source": [
    "if method==\"MTL\":\n",
    "    num_reps = 101\n",
    "elif method == \"MLP_baselines\":\n",
    "    num_reps = 10"
   ]
  },
  {
   "cell_type": "code",
   "execution_count": null,
   "metadata": {
    "collapsed": true
   },
   "outputs": [],
   "source": []
  },
  {
   "cell_type": "code",
   "execution_count": 70,
   "metadata": {
    "scrolled": true
   },
   "outputs": [
    {
     "name": "stdout",
     "output_type": "stream",
     "text": [
      "0\n",
      "10\n",
      "20\n",
      "30\n",
      "40\n",
      "50\n",
      "60\n",
      "70\n",
      "80\n",
      "90\n",
      "100\n"
     ]
    }
   ],
   "source": [
    "num_cats_overlaps = num_reps\n",
    "top_x_genes = 500\n",
    "\n",
    "\n",
    "rep_gws = []\n",
    "for i in range(num_reps):\n",
    "    if i%10==0:\n",
    "        print(i)\n",
    "    p_by_g_gw = np.loadtxt(\"../data/IG_weights_forR/origGE/reps/weighted_avg_high_vs_low_path/%s/%i/outputs/G_by_output_type.txt\"%(method,i)).T\n",
    "    rep_gws.append(p_by_g_gw)\n",
    "rep_gws = np.array(rep_gws)\n",
    "\n",
    "rep_ranks = {}\n",
    "for direction in [\"positive\", \"negative\"]:\n",
    "    rep_ranks[direction] = np.zeros([len(rep_gws), len(phenotypes), len(gene_symbols)])\n",
    "    for i in range(num_reps):\n",
    "        for p in range(len(phenotypes)):\n",
    "            rep_ranks[direction][i,p,:] = weights_to_rankings(rep_gws[i,p,:], direction).astype(int)\n",
    "\n",
    "\n",
    "            \n"
   ]
  },
  {
   "cell_type": "code",
   "execution_count": 71,
   "metadata": {
    "scrolled": true
   },
   "outputs": [
    {
     "name": "stdout",
     "output_type": "stream",
     "text": [
      "positive\n",
      "100\n",
      "500\n",
      "1000\n",
      "2000\n",
      "negative\n",
      "100\n",
      "500\n",
      "1000\n",
      "2000\n"
     ]
    }
   ],
   "source": [
    "tops = [100,500,1000,2000]\n",
    "agreement_fracs = {}\n",
    "for direction in [\"positive\", \"negative\"]:\n",
    "    print(direction)\n",
    "    agreement_fracs[direction] = []\n",
    "    for top_num in tops:\n",
    "        print(top_num)\n",
    "        agreement_frac = []\n",
    "        currep = 1\n",
    "        cur_top = []\n",
    "\n",
    "        for currep in range(1,101):\n",
    "            new_top = np.argsort(np.mean(np.mean(rep_ranks[direction],axis=1)[:currep,:],axis=0))[:top_num]\n",
    "            agreement_frac.append(len(np.intersect1d(cur_top,new_top))/top_num)\n",
    "\n",
    "            cur_top=new_top\n",
    "        agreement_fracs[direction].append(agreement_frac)\n"
   ]
  },
  {
   "cell_type": "code",
   "execution_count": 72,
   "metadata": {},
   "outputs": [
    {
     "data": {
      "text/plain": [
       "(101, 6, 14591)"
      ]
     },
     "execution_count": 72,
     "metadata": {},
     "output_type": "execute_result"
    }
   ],
   "source": [
    "rep_ranks[\"negative\"].shape"
   ]
  },
  {
   "cell_type": "code",
   "execution_count": 73,
   "metadata": {
    "collapsed": true
   },
   "outputs": [],
   "source": [
    "import matplotlib\n",
    "cmap=plt.cm.tab20\n",
    "cmaplist = [cmap(i) for i in range(cmap.N)]\n",
    "warm_cmap = matplotlib.colors.LinearSegmentedColormap.from_list(\"\", [cmaplist[3], cmaplist[6]])\n",
    "cold_cmap = matplotlib.colors.LinearSegmentedColormap.from_list(\"\", [cmaplist[5], cmaplist[0]])"
   ]
  },
  {
   "cell_type": "code",
   "execution_count": 74,
   "metadata": {
    "scrolled": true
   },
   "outputs": [
    {
     "data": {
      "image/png": "[encoded data removed]",
      "text/plain": [
       "<matplotlib.figure.Figure at 0x1cc65391ac8>"
      ]
     },
     "metadata": {},
     "output_type": "display_data"
    }
   ],
   "source": [
    "# colors = {\"negative\": ['#92c5de',\"black\",'#4393c3','#053061'],\n",
    "#          \"positive\": ['#f4a582',\"black\",'#d6604d','#67001f']}\n",
    "\n",
    "colors = {\"negative\": ['#c7e9b4','#41b6c4','#225ea8','#081d58'],\n",
    "         \"positive\": ['#fed976','#fd8d3c','#e31a1c','#800026']}\n",
    "\n",
    "colors = {\"negative\": [cold_cmap(x) for x in np.arange(4)/3],\n",
    "         \"positive\": [warm_cmap(x) for x in np.arange(4)/3]}\n",
    "\n",
    "\n",
    "\n",
    "#['#67001f','#b2182b','#d6604d','#f4a582','#fddbc7','#d1e5f0','#92c5de','#4393c3','#2166ac','#053061']\n",
    "f,ax=plt.subplots(2,1,figsize=(8,8))\n",
    "for i,direction in enumerate(agreement_fracs.keys()):\n",
    "    for j,a in enumerate(agreement_fracs[direction]):\n",
    "        ax[i].plot(a[1:], c=colors[direction][j])\n",
    "        ax[i].set_ylim(.6,1.05)\n",
    "\n",
    "        ax[i].legend(tops, bbox_to_anchor=(1.2, 0.5), frameon=False)\n",
    "        ax[i].spines['right'].set_visible(False)\n",
    "        ax[i].spines['top'].set_visible(False)\n",
    "        ax[i].set_xlim(-1,100)\n",
    "\n"
   ]
  },
  {
   "cell_type": "markdown",
   "metadata": {},
   "source": [
    "## rep_ranks --> low numerical values means a high rank because the ranks go from 1=highest to 14590=lowest rank"
   ]
  },
  {
   "cell_type": "markdown",
   "metadata": {},
   "source": [
    "## \"score\"  = 0 for most negative gene in a run, 1  for most positive \n",
    "## \"consensus score\" = average score over the runs"
   ]
  },
  {
   "cell_type": "code",
   "execution_count": 75,
   "metadata": {
    "collapsed": true
   },
   "outputs": [],
   "source": [
    "scores = rep_ranks[\"negative\"]/(len(gene_symbols)-1)"
   ]
  },
  {
   "cell_type": "code",
   "execution_count": 76,
   "metadata": {
    "collapsed": true
   },
   "outputs": [],
   "source": [
    "consensus_scores = np.mean(scores,axis=0)"
   ]
  },
  {
   "cell_type": "code",
   "execution_count": 77,
   "metadata": {
    "scrolled": true
   },
   "outputs": [
    {
     "ename": "FileExistsError",
     "evalue": "[WinError 183] Cannot create a file when that file already exists: 'CONSENSUS_SCORES_191017_MTL'",
     "output_type": "error",
     "traceback": [
      "\u001b[1;31m---------------------------------------------------------------------------\u001b[0m",
      "\u001b[1;31mFileExistsError\u001b[0m                           Traceback (most recent call last)",
      "\u001b[1;32m<ipython-input-77-4c8b88f47200>\u001b[0m in \u001b[0;36m<module>\u001b[1;34m()\u001b[0m\n\u001b[1;32m----> 1\u001b[1;33m \u001b[0mos\u001b[0m\u001b[1;33m.\u001b[0m\u001b[0mmakedirs\u001b[0m\u001b[1;33m(\u001b[0m\u001b[1;34m\"CONSENSUS_SCORES_191017_%s\"\u001b[0m\u001b[1;33m%\u001b[0m\u001b[0mmethod\u001b[0m\u001b[1;33m)\u001b[0m\u001b[1;33m\u001b[0m\u001b[0m\n\u001b[0m",
      "\u001b[1;32m~\\Anaconda2\\envs\\py36\\lib\\os.py\u001b[0m in \u001b[0;36mmakedirs\u001b[1;34m(name, mode, exist_ok)\u001b[0m\n\u001b[0;32m    218\u001b[0m             \u001b[1;32mreturn\u001b[0m\u001b[1;33m\u001b[0m\u001b[0m\n\u001b[0;32m    219\u001b[0m     \u001b[1;32mtry\u001b[0m\u001b[1;33m:\u001b[0m\u001b[1;33m\u001b[0m\u001b[0m\n\u001b[1;32m--> 220\u001b[1;33m         \u001b[0mmkdir\u001b[0m\u001b[1;33m(\u001b[0m\u001b[0mname\u001b[0m\u001b[1;33m,\u001b[0m \u001b[0mmode\u001b[0m\u001b[1;33m)\u001b[0m\u001b[1;33m\u001b[0m\u001b[0m\n\u001b[0m\u001b[0;32m    221\u001b[0m     \u001b[1;32mexcept\u001b[0m \u001b[0mOSError\u001b[0m\u001b[1;33m:\u001b[0m\u001b[1;33m\u001b[0m\u001b[0m\n\u001b[0;32m    222\u001b[0m         \u001b[1;31m# Cannot rely on checking for EEXIST, since the operating system\u001b[0m\u001b[1;33m\u001b[0m\u001b[1;33m\u001b[0m\u001b[0m\n",
      "\u001b[1;31mFileExistsError\u001b[0m: [WinError 183] Cannot create a file when that file already exists: 'CONSENSUS_SCORES_191017_MTL'"
     ]
    }
   ],
   "source": [
    "os.makedirs(\"CONSENSUS_SCORES_191017_%s\"%method)"
   ]
  },
  {
   "cell_type": "code",
   "execution_count": null,
   "metadata": {
    "collapsed": true
   },
   "outputs": [],
   "source": [
    "for i,p in enumerate(phenotypes):\n",
    "    to_save_c_scores = consensus_scores[i]\n",
    "    \n",
    "    scores_df = pd.DataFrame(np.vstack([gene_symbols,to_save_c_scores]).T, columns=[\"gene\", \"score\"])\n",
    "    scores_df[\"score\"] = scores_df[\"score\"].astype(float)\n",
    "    scores_df = scores_df.sort_values(\"score\", ascending=False)\n",
    "    scores_df = scores_df.reset_index(drop=True)\n",
    "    scores_df.to_csv(\"CONSENSUS_SCORES_191017_%s/%s.csv\"%(method,p), index=False)\n",
    "for p_group in [\"all\", \"abeta\", \"tau\"]:\n",
    "    p_idx = np.where(np.in1d(phenotypes, phen_dict[p_group]))[0]\n",
    "    to_save_c_scores = np.mean(consensus_scores[p_idx],axis=0)\n",
    "    \n",
    "    scores_df = pd.DataFrame(np.vstack([gene_symbols,to_save_c_scores]).T, columns=[\"gene\", \"score\"])\n",
    "    scores_df[\"score\"] = scores_df[\"score\"].astype(float)\n",
    "    scores_df = scores_df.sort_values(\"score\", ascending=False)\n",
    "    scores_df = scores_df.reset_index(drop=True)\n",
    "    scores_df.to_csv(\"CONSENSUS_SCORES_191017_%s/%s-related.csv\"%(method,p_group), index=False)"
   ]
  },
  {
   "cell_type": "markdown",
   "metadata": {},
   "source": [
    "### compiling all of these results into one spread sheet:"
   ]
  },
  {
   "cell_type": "code",
   "execution_count": null,
   "metadata": {
    "collapsed": true
   },
   "outputs": [],
   "source": [
    "current_ranking = pd.read_csv(\"CONSENSUS_SCORES_191017_%s/all-related.csv\"%method, names=[\"gene\", \"all-related_score\"], skiprows=1)"
   ]
  },
  {
   "cell_type": "code",
   "execution_count": null,
   "metadata": {
    "collapsed": true
   },
   "outputs": [],
   "source": [
    "for group in [x+\"-related\" for x in [\"abeta\", \"tau\"]] + phenotypes:\n",
    "    new_df = pd.read_csv(\"CONSENSUS_SCORES_191017_%s/%s.csv\"%(method,group), names=[\"gene\", \"%s_score\"%group], skiprows=1)\n",
    "    current_ranking = current_ranking.merge(new_df, on=\"gene\", how=\"left\")"
   ]
  },
  {
   "cell_type": "code",
   "execution_count": null,
   "metadata": {
    "collapsed": true
   },
   "outputs": [],
   "source": [
    "current_ranking.to_csv(\"CONSENSUS_SCORES_191017_%s/ALL_CONSENSUS_SCORES.csv\"%method, index=False)"
   ]
  },
  {
   "cell_type": "code",
   "execution_count": null,
   "metadata": {
    "collapsed": true
   },
   "outputs": [],
   "source": [
    "current_ranking"
   ]
  },
  {
   "cell_type": "markdown",
   "metadata": {},
   "source": [
    "## end of 9/9/19"
   ]
  },
  {
   "cell_type": "code",
   "execution_count": null,
   "metadata": {
    "collapsed": true
   },
   "outputs": [],
   "source": []
  },
  {
   "cell_type": "code",
   "execution_count": null,
   "metadata": {
    "collapsed": true
   },
   "outputs": [],
   "source": []
  },
  {
   "cell_type": "markdown",
   "metadata": {},
   "source": [
    "# stuff from 8/29/19:\n"
   ]
  },
  {
   "cell_type": "code",
   "execution_count": 51,
   "metadata": {
    "collapsed": true
   },
   "outputs": [],
   "source": [
    "scores = np.mean(np.mean(rep_ranks[\"negative\"]/len(gene_symbols),axis=1),axis=0)"
   ]
  },
  {
   "cell_type": "code",
   "execution_count": 52,
   "metadata": {},
   "outputs": [
    {
     "data": {
      "text/plain": [
       "array([0.01327483, 0.01384064, 0.01899222, ..., 0.99167747, 0.99426508,\n",
       "       0.99505245])"
      ]
     },
     "execution_count": 52,
     "metadata": {},
     "output_type": "execute_result"
    }
   ],
   "source": [
    "np.sort(scores)"
   ]
  },
  {
   "cell_type": "code",
   "execution_count": 152,
   "metadata": {
    "collapsed": true
   },
   "outputs": [],
   "source": [
    "\n",
    "scores_df = pd.DataFrame(np.vstack([gene_symbols,scores]).T, columns=[\"gene\", \"score\"])\n",
    "scores_df[\"score\"] = scores_df[\"score\"].astype(float)\n",
    "scores_df = scores_df.sort_values(\"score\", ascending=False)\n",
    "scores_df = scores_df.reset_index(drop=True)"
   ]
  },
  {
   "cell_type": "code",
   "execution_count": 158,
   "metadata": {
    "collapsed": true
   },
   "outputs": [],
   "source": [
    "scores_df.to_csv(\"CONSENSUS_SCORES_190829.csv\")"
   ]
  },
  {
   "cell_type": "code",
   "execution_count": 156,
   "metadata": {},
   "outputs": [
    {
     "data": {
      "image/png": "[encoded data removed]",
      "text/plain": [
       "<matplotlib.figure.Figure at 0x2b99f075da0>"
      ]
     },
     "metadata": {},
     "output_type": "display_data"
    }
   ],
   "source": [
    "# ax=sns.barplot(x=\"score\", y=\"gene\", data=scores_df, hue=grouplevel, palette='Paired', dodge=False )\n",
    "ax=sns.barplot(x=\"gene\", y=\"score\", data=scores_df.loc[:50] )\n"
   ]
  },
  {
   "cell_type": "markdown",
   "metadata": {
    "collapsed": true
   },
   "source": [
    "### end of 8/29"
   ]
  },
  {
   "cell_type": "code",
   "execution_count": null,
   "metadata": {
    "collapsed": true
   },
   "outputs": [],
   "source": []
  },
  {
   "cell_type": "code",
   "execution_count": null,
   "metadata": {
    "collapsed": true
   },
   "outputs": [],
   "source": []
  },
  {
   "cell_type": "code",
   "execution_count": null,
   "metadata": {
    "collapsed": true
   },
   "outputs": [],
   "source": []
  },
  {
   "cell_type": "code",
   "execution_count": null,
   "metadata": {
    "collapsed": true
   },
   "outputs": [],
   "source": []
  },
  {
   "cell_type": "code",
   "execution_count": null,
   "metadata": {
    "collapsed": true
   },
   "outputs": [],
   "source": []
  },
  {
   "cell_type": "code",
   "execution_count": 130,
   "metadata": {
    "scrolled": true
   },
   "outputs": [
    {
     "ename": "TypeError",
     "evalue": "unsupported operand type(s) for /: 'str' and 'int'",
     "output_type": "error",
     "traceback": [
      "\u001b[1;31m---------------------------------------------------------------------------\u001b[0m",
      "\u001b[1;31mTypeError\u001b[0m                                 Traceback (most recent call last)",
      "\u001b[1;32m<ipython-input-130-c2dadfd641df>\u001b[0m in \u001b[0;36m<module>\u001b[1;34m()\u001b[0m\n\u001b[1;32m----> 1\u001b[1;33m \u001b[0max\u001b[0m\u001b[1;33m=\u001b[0m\u001b[0msns\u001b[0m\u001b[1;33m.\u001b[0m\u001b[0mbarplot\u001b[0m\u001b[1;33m(\u001b[0m\u001b[0mx\u001b[0m\u001b[1;33m=\u001b[0m\u001b[1;34m\"score\"\u001b[0m\u001b[1;33m,\u001b[0m \u001b[0my\u001b[0m\u001b[1;33m=\u001b[0m\u001b[1;34m\"gene\"\u001b[0m\u001b[1;33m,\u001b[0m \u001b[0mdata\u001b[0m\u001b[1;33m=\u001b[0m\u001b[0mscores_df\u001b[0m \u001b[1;33m)\u001b[0m\u001b[1;33m\u001b[0m\u001b[0m\n\u001b[0m",
      "\u001b[1;32m~\\Anaconda2\\envs\\py36\\lib\\site-packages\\seaborn\\categorical.py\u001b[0m in \u001b[0;36mbarplot\u001b[1;34m(x, y, hue, data, order, hue_order, estimator, ci, n_boot, units, orient, color, palette, saturation, errcolor, errwidth, capsize, dodge, ax, **kwargs)\u001b[0m\n\u001b[0;32m   2938\u001b[0m                           \u001b[0mestimator\u001b[0m\u001b[1;33m,\u001b[0m \u001b[0mci\u001b[0m\u001b[1;33m,\u001b[0m \u001b[0mn_boot\u001b[0m\u001b[1;33m,\u001b[0m \u001b[0munits\u001b[0m\u001b[1;33m,\u001b[0m\u001b[1;33m\u001b[0m\u001b[0m\n\u001b[0;32m   2939\u001b[0m                           \u001b[0morient\u001b[0m\u001b[1;33m,\u001b[0m \u001b[0mcolor\u001b[0m\u001b[1;33m,\u001b[0m \u001b[0mpalette\u001b[0m\u001b[1;33m,\u001b[0m \u001b[0msaturation\u001b[0m\u001b[1;33m,\u001b[0m\u001b[1;33m\u001b[0m\u001b[0m\n\u001b[1;32m-> 2940\u001b[1;33m                           errcolor, errwidth, capsize, dodge)\n\u001b[0m\u001b[0;32m   2941\u001b[0m \u001b[1;33m\u001b[0m\u001b[0m\n\u001b[0;32m   2942\u001b[0m     \u001b[1;32mif\u001b[0m \u001b[0max\u001b[0m \u001b[1;32mis\u001b[0m \u001b[1;32mNone\u001b[0m\u001b[1;33m:\u001b[0m\u001b[1;33m\u001b[0m\u001b[0m\n",
      "\u001b[1;32m~\\Anaconda2\\envs\\py36\\lib\\site-packages\\seaborn\\categorical.py\u001b[0m in \u001b[0;36m__init__\u001b[1;34m(self, x, y, hue, data, order, hue_order, estimator, ci, n_boot, units, orient, color, palette, saturation, errcolor, errwidth, capsize, dodge)\u001b[0m\n\u001b[0;32m   1586\u001b[0m                                  order, hue_order, units)\n\u001b[0;32m   1587\u001b[0m         \u001b[0mself\u001b[0m\u001b[1;33m.\u001b[0m\u001b[0mestablish_colors\u001b[0m\u001b[1;33m(\u001b[0m\u001b[0mcolor\u001b[0m\u001b[1;33m,\u001b[0m \u001b[0mpalette\u001b[0m\u001b[1;33m,\u001b[0m \u001b[0msaturation\u001b[0m\u001b[1;33m)\u001b[0m\u001b[1;33m\u001b[0m\u001b[0m\n\u001b[1;32m-> 1588\u001b[1;33m         \u001b[0mself\u001b[0m\u001b[1;33m.\u001b[0m\u001b[0mestimate_statistic\u001b[0m\u001b[1;33m(\u001b[0m\u001b[0mestimator\u001b[0m\u001b[1;33m,\u001b[0m \u001b[0mci\u001b[0m\u001b[1;33m,\u001b[0m \u001b[0mn_boot\u001b[0m\u001b[1;33m)\u001b[0m\u001b[1;33m\u001b[0m\u001b[0m\n\u001b[0m\u001b[0;32m   1589\u001b[0m \u001b[1;33m\u001b[0m\u001b[0m\n\u001b[0;32m   1590\u001b[0m         \u001b[0mself\u001b[0m\u001b[1;33m.\u001b[0m\u001b[0mdodge\u001b[0m \u001b[1;33m=\u001b[0m \u001b[0mdodge\u001b[0m\u001b[1;33m\u001b[0m\u001b[0m\n",
      "\u001b[1;32m~\\Anaconda2\\envs\\py36\\lib\\site-packages\\seaborn\\categorical.py\u001b[0m in \u001b[0;36mestimate_statistic\u001b[1;34m(self, estimator, ci, n_boot)\u001b[0m\n\u001b[0;32m   1470\u001b[0m                     \u001b[0mstatistic\u001b[0m\u001b[1;33m.\u001b[0m\u001b[0mappend\u001b[0m\u001b[1;33m(\u001b[0m\u001b[0mnp\u001b[0m\u001b[1;33m.\u001b[0m\u001b[0mnan\u001b[0m\u001b[1;33m)\u001b[0m\u001b[1;33m\u001b[0m\u001b[0m\n\u001b[0;32m   1471\u001b[0m                 \u001b[1;32melse\u001b[0m\u001b[1;33m:\u001b[0m\u001b[1;33m\u001b[0m\u001b[0m\n\u001b[1;32m-> 1472\u001b[1;33m                     \u001b[0mstatistic\u001b[0m\u001b[1;33m.\u001b[0m\u001b[0mappend\u001b[0m\u001b[1;33m(\u001b[0m\u001b[0mestimator\u001b[0m\u001b[1;33m(\u001b[0m\u001b[0mstat_data\u001b[0m\u001b[1;33m)\u001b[0m\u001b[1;33m)\u001b[0m\u001b[1;33m\u001b[0m\u001b[0m\n\u001b[0m\u001b[0;32m   1473\u001b[0m \u001b[1;33m\u001b[0m\u001b[0m\n\u001b[0;32m   1474\u001b[0m                 \u001b[1;31m# Get a confidence interval for this estimate\u001b[0m\u001b[1;33m\u001b[0m\u001b[1;33m\u001b[0m\u001b[0m\n",
      "\u001b[1;32m~\\Anaconda2\\envs\\py36\\lib\\site-packages\\numpy\\core\\fromnumeric.py\u001b[0m in \u001b[0;36mmean\u001b[1;34m(a, axis, dtype, out, keepdims)\u001b[0m\n\u001b[0;32m   3116\u001b[0m \u001b[1;33m\u001b[0m\u001b[0m\n\u001b[0;32m   3117\u001b[0m     return _methods._mean(a, axis=axis, dtype=dtype,\n\u001b[1;32m-> 3118\u001b[1;33m                           out=out, **kwargs)\n\u001b[0m\u001b[0;32m   3119\u001b[0m \u001b[1;33m\u001b[0m\u001b[0m\n\u001b[0;32m   3120\u001b[0m \u001b[1;33m\u001b[0m\u001b[0m\n",
      "\u001b[1;32m~\\Anaconda2\\envs\\py36\\lib\\site-packages\\numpy\\core\\_methods.py\u001b[0m in \u001b[0;36m_mean\u001b[1;34m(a, axis, dtype, out, keepdims)\u001b[0m\n\u001b[0;32m     85\u001b[0m             \u001b[0mret\u001b[0m \u001b[1;33m=\u001b[0m \u001b[0mret\u001b[0m\u001b[1;33m.\u001b[0m\u001b[0mdtype\u001b[0m\u001b[1;33m.\u001b[0m\u001b[0mtype\u001b[0m\u001b[1;33m(\u001b[0m\u001b[0mret\u001b[0m \u001b[1;33m/\u001b[0m \u001b[0mrcount\u001b[0m\u001b[1;33m)\u001b[0m\u001b[1;33m\u001b[0m\u001b[0m\n\u001b[0;32m     86\u001b[0m     \u001b[1;32melse\u001b[0m\u001b[1;33m:\u001b[0m\u001b[1;33m\u001b[0m\u001b[0m\n\u001b[1;32m---> 87\u001b[1;33m         \u001b[0mret\u001b[0m \u001b[1;33m=\u001b[0m \u001b[0mret\u001b[0m \u001b[1;33m/\u001b[0m \u001b[0mrcount\u001b[0m\u001b[1;33m\u001b[0m\u001b[0m\n\u001b[0m\u001b[0;32m     88\u001b[0m \u001b[1;33m\u001b[0m\u001b[0m\n\u001b[0;32m     89\u001b[0m     \u001b[1;32mreturn\u001b[0m \u001b[0mret\u001b[0m\u001b[1;33m\u001b[0m\u001b[0m\n",
      "\u001b[1;31mTypeError\u001b[0m: unsupported operand type(s) for /: 'str' and 'int'"
     ]
    }
   ],
   "source": [
    "ax=sns.barplot(x=\"score\", y=\"gene\", data=scores_df)\n"
   ]
  },
  {
   "cell_type": "code",
   "execution_count": null,
   "metadata": {
    "collapsed": true
   },
   "outputs": [],
   "source": []
  },
  {
   "cell_type": "code",
   "execution_count": null,
   "metadata": {
    "collapsed": true
   },
   "outputs": [],
   "source": []
  },
  {
   "cell_type": "code",
   "execution_count": 126,
   "metadata": {},
   "outputs": [
    {
     "data": {
      "text/plain": [
       "array([['BRK1', '0.8389772120930823'],\n",
       "       ['WFS1', '0.7283098469534434'],\n",
       "       ['HSPB3', '0.4897045355279138'],\n",
       "       ...,\n",
       "       ['CLN6', '0.9065884005986778'],\n",
       "       ['ITIH2', '0.6527037667100271'],\n",
       "       ['ABCA8', '0.8680358817870686']], dtype='<U32')"
      ]
     },
     "execution_count": 126,
     "metadata": {},
     "output_type": "execute_result"
    }
   ],
   "source": []
  },
  {
   "cell_type": "code",
   "execution_count": null,
   "metadata": {
    "collapsed": true
   },
   "outputs": [],
   "source": []
  },
  {
   "cell_type": "code",
   "execution_count": 117,
   "metadata": {},
   "outputs": [
    {
     "data": {
      "text/plain": [
       "'LTF'"
      ]
     },
     "execution_count": 117,
     "metadata": {},
     "output_type": "execute_result"
    }
   ],
   "source": [
    "gene_symbols[np.argmax(scores)]"
   ]
  },
  {
   "cell_type": "code",
   "execution_count": 102,
   "metadata": {
    "collapsed": true
   },
   "outputs": [],
   "source": [
    "percentiles = pd.read_csv(\"finalgenes_190819/percentiles/all_MDAD.rnk\",sep=\"\\t\", names=[\"gene\", \"percentile\"])"
   ]
  },
  {
   "cell_type": "code",
   "execution_count": 104,
   "metadata": {},
   "outputs": [
    {
     "data": {
      "text/html": [
       "<div>\n",
       "<style>\n",
       "    .dataframe thead tr:only-child th {\n",
       "        text-align: right;\n",
       "    }\n",
       "\n",
       "    .dataframe thead th {\n",
       "        text-align: left;\n",
       "    }\n",
       "\n",
       "    .dataframe tbody tr th {\n",
       "        vertical-align: top;\n",
       "    }\n",
       "</style>\n",
       "<table border=\"1\" class=\"dataframe\">\n",
       "  <thead>\n",
       "    <tr style=\"text-align: right;\">\n",
       "      <th></th>\n",
       "      <th>gene</th>\n",
       "      <th>percentile</th>\n",
       "    </tr>\n",
       "  </thead>\n",
       "  <tbody>\n",
       "    <tr>\n",
       "      <th>10184</th>\n",
       "      <td>LTF</td>\n",
       "      <td>0.999931</td>\n",
       "    </tr>\n",
       "    <tr>\n",
       "      <th>7588</th>\n",
       "      <td>FPR3</td>\n",
       "      <td>0.999863</td>\n",
       "    </tr>\n",
       "    <tr>\n",
       "      <th>2395</th>\n",
       "      <td>GFAP</td>\n",
       "      <td>0.999794</td>\n",
       "    </tr>\n",
       "    <tr>\n",
       "      <th>8270</th>\n",
       "      <td>PLCE1</td>\n",
       "      <td>0.999726</td>\n",
       "    </tr>\n",
       "    <tr>\n",
       "      <th>12859</th>\n",
       "      <td>ZNF98</td>\n",
       "      <td>0.999657</td>\n",
       "    </tr>\n",
       "    <tr>\n",
       "      <th>2825</th>\n",
       "      <td>SLC28A2</td>\n",
       "      <td>0.999589</td>\n",
       "    </tr>\n",
       "    <tr>\n",
       "      <th>10060</th>\n",
       "      <td>EFHB</td>\n",
       "      <td>0.999520</td>\n",
       "    </tr>\n",
       "    <tr>\n",
       "      <th>4719</th>\n",
       "      <td>C4B</td>\n",
       "      <td>0.999452</td>\n",
       "    </tr>\n",
       "    <tr>\n",
       "      <th>13841</th>\n",
       "      <td>NPNT</td>\n",
       "      <td>0.999383</td>\n",
       "    </tr>\n",
       "    <tr>\n",
       "      <th>10465</th>\n",
       "      <td>SLC22A1</td>\n",
       "      <td>0.999315</td>\n",
       "    </tr>\n",
       "    <tr>\n",
       "      <th>1692</th>\n",
       "      <td>HIST1H3D</td>\n",
       "      <td>0.999246</td>\n",
       "    </tr>\n",
       "    <tr>\n",
       "      <th>14388</th>\n",
       "      <td>SLC34A3</td>\n",
       "      <td>0.999178</td>\n",
       "    </tr>\n",
       "    <tr>\n",
       "      <th>104</th>\n",
       "      <td>NLRP2</td>\n",
       "      <td>0.999109</td>\n",
       "    </tr>\n",
       "    <tr>\n",
       "      <th>5689</th>\n",
       "      <td>MSR1</td>\n",
       "      <td>0.999041</td>\n",
       "    </tr>\n",
       "    <tr>\n",
       "      <th>8626</th>\n",
       "      <td>P2RY11</td>\n",
       "      <td>0.998972</td>\n",
       "    </tr>\n",
       "    <tr>\n",
       "      <th>11465</th>\n",
       "      <td>HRASLS5</td>\n",
       "      <td>0.998903</td>\n",
       "    </tr>\n",
       "    <tr>\n",
       "      <th>6811</th>\n",
       "      <td>KNSTRN</td>\n",
       "      <td>0.998835</td>\n",
       "    </tr>\n",
       "    <tr>\n",
       "      <th>5341</th>\n",
       "      <td>TREM2</td>\n",
       "      <td>0.998766</td>\n",
       "    </tr>\n",
       "    <tr>\n",
       "      <th>14508</th>\n",
       "      <td>ARSE</td>\n",
       "      <td>0.998698</td>\n",
       "    </tr>\n",
       "    <tr>\n",
       "      <th>3269</th>\n",
       "      <td>RPL9</td>\n",
       "      <td>0.998629</td>\n",
       "    </tr>\n",
       "    <tr>\n",
       "      <th>3387</th>\n",
       "      <td>SPX</td>\n",
       "      <td>0.998561</td>\n",
       "    </tr>\n",
       "    <tr>\n",
       "      <th>5411</th>\n",
       "      <td>GDPD2</td>\n",
       "      <td>0.998492</td>\n",
       "    </tr>\n",
       "    <tr>\n",
       "      <th>5790</th>\n",
       "      <td>CHI3L2</td>\n",
       "      <td>0.998424</td>\n",
       "    </tr>\n",
       "    <tr>\n",
       "      <th>12693</th>\n",
       "      <td>CAPG</td>\n",
       "      <td>0.998355</td>\n",
       "    </tr>\n",
       "    <tr>\n",
       "      <th>11626</th>\n",
       "      <td>SERPINA3</td>\n",
       "      <td>0.998287</td>\n",
       "    </tr>\n",
       "    <tr>\n",
       "      <th>154</th>\n",
       "      <td>RNF103-CHMP3</td>\n",
       "      <td>0.998218</td>\n",
       "    </tr>\n",
       "    <tr>\n",
       "      <th>7442</th>\n",
       "      <td>SLC37A2</td>\n",
       "      <td>0.998150</td>\n",
       "    </tr>\n",
       "    <tr>\n",
       "      <th>7304</th>\n",
       "      <td>SIGLEC1</td>\n",
       "      <td>0.998081</td>\n",
       "    </tr>\n",
       "    <tr>\n",
       "      <th>12754</th>\n",
       "      <td>EPHA8</td>\n",
       "      <td>0.998012</td>\n",
       "    </tr>\n",
       "    <tr>\n",
       "      <th>2474</th>\n",
       "      <td>APOC1</td>\n",
       "      <td>0.997944</td>\n",
       "    </tr>\n",
       "    <tr>\n",
       "      <th>...</th>\n",
       "      <td>...</td>\n",
       "      <td>...</td>\n",
       "    </tr>\n",
       "    <tr>\n",
       "      <th>9326</th>\n",
       "      <td>GPR83</td>\n",
       "      <td>0.001988</td>\n",
       "    </tr>\n",
       "    <tr>\n",
       "      <th>1334</th>\n",
       "      <td>IQGAP3</td>\n",
       "      <td>0.001919</td>\n",
       "    </tr>\n",
       "    <tr>\n",
       "      <th>1560</th>\n",
       "      <td>LYPD6B</td>\n",
       "      <td>0.001850</td>\n",
       "    </tr>\n",
       "    <tr>\n",
       "      <th>8629</th>\n",
       "      <td>MYO1G</td>\n",
       "      <td>0.001782</td>\n",
       "    </tr>\n",
       "    <tr>\n",
       "      <th>4964</th>\n",
       "      <td>CCDC134</td>\n",
       "      <td>0.001713</td>\n",
       "    </tr>\n",
       "    <tr>\n",
       "      <th>14446</th>\n",
       "      <td>LRAT</td>\n",
       "      <td>0.001645</td>\n",
       "    </tr>\n",
       "    <tr>\n",
       "      <th>8170</th>\n",
       "      <td>STK32B</td>\n",
       "      <td>0.001576</td>\n",
       "    </tr>\n",
       "    <tr>\n",
       "      <th>13346</th>\n",
       "      <td>GLUL</td>\n",
       "      <td>0.001508</td>\n",
       "    </tr>\n",
       "    <tr>\n",
       "      <th>10260</th>\n",
       "      <td>CHRNB3</td>\n",
       "      <td>0.001439</td>\n",
       "    </tr>\n",
       "    <tr>\n",
       "      <th>13734</th>\n",
       "      <td>SPATA20</td>\n",
       "      <td>0.001371</td>\n",
       "    </tr>\n",
       "    <tr>\n",
       "      <th>9641</th>\n",
       "      <td>RAC2</td>\n",
       "      <td>0.001302</td>\n",
       "    </tr>\n",
       "    <tr>\n",
       "      <th>5955</th>\n",
       "      <td>KATNAL2</td>\n",
       "      <td>0.001234</td>\n",
       "    </tr>\n",
       "    <tr>\n",
       "      <th>9471</th>\n",
       "      <td>RB1CC1</td>\n",
       "      <td>0.001165</td>\n",
       "    </tr>\n",
       "    <tr>\n",
       "      <th>8645</th>\n",
       "      <td>PZP</td>\n",
       "      <td>0.001097</td>\n",
       "    </tr>\n",
       "    <tr>\n",
       "      <th>3826</th>\n",
       "      <td>OLFML2B</td>\n",
       "      <td>0.001028</td>\n",
       "    </tr>\n",
       "    <tr>\n",
       "      <th>8461</th>\n",
       "      <td>IZUMO4</td>\n",
       "      <td>0.000959</td>\n",
       "    </tr>\n",
       "    <tr>\n",
       "      <th>5354</th>\n",
       "      <td>MTMR8</td>\n",
       "      <td>0.000891</td>\n",
       "    </tr>\n",
       "    <tr>\n",
       "      <th>6315</th>\n",
       "      <td>GSTM5</td>\n",
       "      <td>0.000822</td>\n",
       "    </tr>\n",
       "    <tr>\n",
       "      <th>2199</th>\n",
       "      <td>ALDH2</td>\n",
       "      <td>0.000754</td>\n",
       "    </tr>\n",
       "    <tr>\n",
       "      <th>10594</th>\n",
       "      <td>KLRC2</td>\n",
       "      <td>0.000685</td>\n",
       "    </tr>\n",
       "    <tr>\n",
       "      <th>7187</th>\n",
       "      <td>PRSS35</td>\n",
       "      <td>0.000617</td>\n",
       "    </tr>\n",
       "    <tr>\n",
       "      <th>2416</th>\n",
       "      <td>HAS2</td>\n",
       "      <td>0.000548</td>\n",
       "    </tr>\n",
       "    <tr>\n",
       "      <th>9259</th>\n",
       "      <td>ICAM3</td>\n",
       "      <td>0.000480</td>\n",
       "    </tr>\n",
       "    <tr>\n",
       "      <th>8396</th>\n",
       "      <td>SLC29A4</td>\n",
       "      <td>0.000411</td>\n",
       "    </tr>\n",
       "    <tr>\n",
       "      <th>1856</th>\n",
       "      <td>GJA9</td>\n",
       "      <td>0.000343</td>\n",
       "    </tr>\n",
       "    <tr>\n",
       "      <th>2427</th>\n",
       "      <td>MMP25</td>\n",
       "      <td>0.000274</td>\n",
       "    </tr>\n",
       "    <tr>\n",
       "      <th>2102</th>\n",
       "      <td>THNSL2</td>\n",
       "      <td>0.000206</td>\n",
       "    </tr>\n",
       "    <tr>\n",
       "      <th>9591</th>\n",
       "      <td>DCHS2</td>\n",
       "      <td>0.000137</td>\n",
       "    </tr>\n",
       "    <tr>\n",
       "      <th>12991</th>\n",
       "      <td>KRT86</td>\n",
       "      <td>0.000034</td>\n",
       "    </tr>\n",
       "    <tr>\n",
       "      <th>5290</th>\n",
       "      <td>RERG</td>\n",
       "      <td>0.000034</td>\n",
       "    </tr>\n",
       "  </tbody>\n",
       "</table>\n",
       "<p>14591 rows × 2 columns</p>\n",
       "</div>"
      ],
      "text/plain": [
       "               gene  percentile\n",
       "10184           LTF    0.999931\n",
       "7588           FPR3    0.999863\n",
       "2395           GFAP    0.999794\n",
       "8270          PLCE1    0.999726\n",
       "12859         ZNF98    0.999657\n",
       "2825        SLC28A2    0.999589\n",
       "10060          EFHB    0.999520\n",
       "4719            C4B    0.999452\n",
       "13841          NPNT    0.999383\n",
       "10465       SLC22A1    0.999315\n",
       "1692       HIST1H3D    0.999246\n",
       "14388       SLC34A3    0.999178\n",
       "104           NLRP2    0.999109\n",
       "5689           MSR1    0.999041\n",
       "8626         P2RY11    0.998972\n",
       "11465       HRASLS5    0.998903\n",
       "6811         KNSTRN    0.998835\n",
       "5341          TREM2    0.998766\n",
       "14508          ARSE    0.998698\n",
       "3269           RPL9    0.998629\n",
       "3387            SPX    0.998561\n",
       "5411          GDPD2    0.998492\n",
       "5790         CHI3L2    0.998424\n",
       "12693          CAPG    0.998355\n",
       "11626      SERPINA3    0.998287\n",
       "154    RNF103-CHMP3    0.998218\n",
       "7442        SLC37A2    0.998150\n",
       "7304        SIGLEC1    0.998081\n",
       "12754         EPHA8    0.998012\n",
       "2474          APOC1    0.997944\n",
       "...             ...         ...\n",
       "9326          GPR83    0.001988\n",
       "1334         IQGAP3    0.001919\n",
       "1560         LYPD6B    0.001850\n",
       "8629          MYO1G    0.001782\n",
       "4964        CCDC134    0.001713\n",
       "14446          LRAT    0.001645\n",
       "8170         STK32B    0.001576\n",
       "13346          GLUL    0.001508\n",
       "10260        CHRNB3    0.001439\n",
       "13734       SPATA20    0.001371\n",
       "9641           RAC2    0.001302\n",
       "5955        KATNAL2    0.001234\n",
       "9471         RB1CC1    0.001165\n",
       "8645            PZP    0.001097\n",
       "3826        OLFML2B    0.001028\n",
       "8461         IZUMO4    0.000959\n",
       "5354          MTMR8    0.000891\n",
       "6315          GSTM5    0.000822\n",
       "2199          ALDH2    0.000754\n",
       "10594         KLRC2    0.000685\n",
       "7187         PRSS35    0.000617\n",
       "2416           HAS2    0.000548\n",
       "9259          ICAM3    0.000480\n",
       "8396        SLC29A4    0.000411\n",
       "1856           GJA9    0.000343\n",
       "2427          MMP25    0.000274\n",
       "2102         THNSL2    0.000206\n",
       "9591          DCHS2    0.000137\n",
       "12991         KRT86    0.000034\n",
       "5290           RERG    0.000034\n",
       "\n",
       "[14591 rows x 2 columns]"
      ]
     },
     "execution_count": 104,
     "metadata": {},
     "output_type": "execute_result"
    }
   ],
   "source": [
    "percentiles.sort_values(\"percentile\", ascending=False)"
   ]
  },
  {
   "cell_type": "code",
   "execution_count": null,
   "metadata": {
    "collapsed": true
   },
   "outputs": [],
   "source": []
  },
  {
   "cell_type": "code",
   "execution_count": null,
   "metadata": {
    "collapsed": true
   },
   "outputs": [],
   "source": []
  },
  {
   "cell_type": "code",
   "execution_count": null,
   "metadata": {
    "collapsed": true
   },
   "outputs": [],
   "source": []
  },
  {
   "cell_type": "code",
   "execution_count": 57,
   "metadata": {},
   "outputs": [
    {
     "data": {
      "text/plain": [
       "array(['LTF', 'GFAP', 'PLCE1', 'FPR3', 'C4B', 'ZNF98', 'NPNT', 'SLC28A2',\n",
       "       'EFHB', 'KNSTRN'], dtype='<U23')"
      ]
     },
     "execution_count": 57,
     "metadata": {},
     "output_type": "execute_result"
    }
   ],
   "source": [
    "gene_symbols[cur_top][:10]"
   ]
  },
  {
   "cell_type": "code",
   "execution_count": null,
   "metadata": {
    "collapsed": true
   },
   "outputs": [],
   "source": []
  },
  {
   "cell_type": "code",
   "execution_count": null,
   "metadata": {
    "collapsed": true
   },
   "outputs": [],
   "source": []
  },
  {
   "cell_type": "code",
   "execution_count": 7,
   "metadata": {},
   "outputs": [
    {
     "ename": "NameError",
     "evalue": "name 'top_genes_num' is not defined",
     "output_type": "error",
     "traceback": [
      "\u001b[1;31m---------------------------------------------------------------------------\u001b[0m",
      "\u001b[1;31mNameError\u001b[0m                                 Traceback (most recent call last)",
      "\u001b[1;32m<ipython-input-7-7c95c37dea37>\u001b[0m in \u001b[0;36m<module>\u001b[1;34m()\u001b[0m\n\u001b[1;32m----> 1\u001b[1;33m \u001b[0mgene_symbols\u001b[0m\u001b[1;33m[\u001b[0m\u001b[0mnp\u001b[0m\u001b[1;33m.\u001b[0m\u001b[0margsort\u001b[0m\u001b[1;33m(\u001b[0m\u001b[0mnp\u001b[0m\u001b[1;33m.\u001b[0m\u001b[0msum\u001b[0m\u001b[1;33m(\u001b[0m\u001b[0mrep_ranks\u001b[0m\u001b[1;33m[\u001b[0m\u001b[1;34m\"positive\"\u001b[0m\u001b[1;33m]\u001b[0m\u001b[1;33m[\u001b[0m\u001b[1;36m100\u001b[0m\u001b[1;33m]\u001b[0m\u001b[1;33m,\u001b[0m\u001b[0maxis\u001b[0m\u001b[1;33m=\u001b[0m\u001b[1;36m0\u001b[0m\u001b[1;33m)\u001b[0m\u001b[1;33m)\u001b[0m\u001b[1;33m[\u001b[0m\u001b[1;33m:\u001b[0m\u001b[0mtop_genes_num\u001b[0m\u001b[1;33m]\u001b[0m\u001b[1;33m]\u001b[0m\u001b[1;33m\u001b[0m\u001b[0m\n\u001b[0m",
      "\u001b[1;31mNameError\u001b[0m: name 'top_genes_num' is not defined"
     ]
    }
   ],
   "source": [
    "gene_symbols[np.argsort(np.sum(rep_ranks[\"positive\"][100],axis=0))[:top_genes_num]]"
   ]
  },
  {
   "cell_type": "code",
   "execution_count": null,
   "metadata": {},
   "outputs": [
    {
     "data": {
      "text/plain": [
       "Text(0.5,1,'negative')"
      ]
     },
     "execution_count": 9,
     "metadata": {},
     "output_type": "execute_result"
    }
   ],
   "source": [
    "\n",
    "\n",
    "\n",
    "top_genes_num = 100\n",
    "\n",
    "top_x_neg = []\n",
    "top_x_pos = []\n",
    "for i in range(num_reps):\n",
    "    top_x_neg.append(gene_symbols[np.argsort(np.sum(rep_ranks[\"negative\"][i],axis=0))[:top_genes_num]])\n",
    "    top_x_pos.append(gene_symbols[np.argsort(np.sum(rep_ranks[\"positive\"][i],axis=0))[:top_genes_num]])\n",
    "\n",
    "\n",
    "overlaps_pos = np.zeros([num_reps,num_reps])\n",
    "overlaps_neg = np.zeros([num_reps,num_reps])\n",
    "\n",
    "for i in range(num_reps):\n",
    "    for j in range(i,num_reps):\n",
    "        overlaps_pos[i,j] = len(np.intersect1d(top_x_pos[i], top_x_pos[j]))/top_genes_num\n",
    "        overlaps_neg[i,j] = len(np.intersect1d(top_x_neg[i], top_x_neg[j]))/top_genes_num\n",
    "\n",
    "\n",
    "fig, axes = plt.subplots(1,2,figsize=(20,10))\n",
    "fig.suptitle(method)\n",
    "\n",
    "plt.figure(figsize=(5,5))\n",
    "\n",
    "hm = sns.heatmap(overlaps_pos.T,cmap=\"Greens\",linecolor=\"black\", linewidths=.5, cbar=False,\n",
    "                    vmin=0, vmax=1, annot=overlaps_pos.T*100, ax=axes[0])\n",
    "\n",
    "hm.set_title(\"positive\")\n",
    "\n",
    "hm = sns.heatmap(overlaps_neg.T,cmap=\"Greens\",linecolor=\"black\", linewidths=.5, cbar=False,\n",
    "                    vmin=0, vmax=1, annot=overlaps_neg.T*100, ax=axes[1])\n",
    "hm.set_title(\"negative\")\n"
   ]
  },
  {
   "cell_type": "code",
   "execution_count": null,
   "metadata": {
    "collapsed": true
   },
   "outputs": [],
   "source": [
    "for i in range(num_reps):\n",
    "    top_x_neg.append(gene_symbols[np.argsort(np.sum(rep_ranks[\"negative\"][i],axis=0))[:top_genes_num]])\n",
    "    top_x_pos.append(gene_symbols[np.argsort(np.sum(rep_ranks[\"positive\"][i],axis=0))[:top_genes_num]])"
   ]
  },
  {
   "cell_type": "code",
   "execution_count": null,
   "metadata": {
    "collapsed": true
   },
   "outputs": [],
   "source": [
    "phen_ids = {'CERAD':0,'BRAAK':1,'PLAQUES':2,'TANGLES':3,'ABETA_IHC':4,'TAU_IHC':5}\n",
    "\n",
    "phen_dict = {\"all\": ['CERAD','BRAAK','PLAQUES','TANGLES','ABETA_IHC','TAU_IHC'], \n",
    "             \"abeta\": ['CERAD','PLAQUES','ABETA_IHC'],\n",
    "            \"tau\": ['BRAAK','TANGLES','TAU_IHC']}\n",
    "\n",
    "\n",
    "\n",
    "    \n",
    "    "
   ]
  },
  {
   "cell_type": "code",
   "execution_count": null,
   "metadata": {
    "collapsed": true
   },
   "outputs": [],
   "source": [
    "def get_top_Xs(phens, direction, top_genes_num):\n",
    "    row_idxes = np.array([phen_ids[x] for x in phen_dict[phens]])\n",
    "    \n",
    "    \n",
    "    rep_ranks = []\n",
    "    for i in range(num_reps):\n",
    "        rep_ranks_i = []\n",
    "        for p in row_idxes:\n",
    "            rep_ranks_i.append(weights_to_rankings(rep_gws[i,p,:], direction).astype(int))\n",
    "        rep_ranks.append(rep_ranks_i)\n",
    "\n",
    "    rep_ranks = np.array(rep_ranks)\n",
    "    \n",
    "    top_X_genes = []\n",
    "    for i in range(num_reps):\n",
    "        top_X_genes.append(gene_symbols[np.argsort(np.sum(rep_ranks[i],axis=0))[:top_genes_num]])\n",
    "    \n",
    "    return(np.array(top_X_genes))\n",
    "    "
   ]
  },
  {
   "cell_type": "code",
   "execution_count": null,
   "metadata": {
    "collapsed": true
   },
   "outputs": [],
   "source": [
    "phen_dict.keys()"
   ]
  },
  {
   "cell_type": "code",
   "execution_count": null,
   "metadata": {
    "collapsed": true
   },
   "outputs": [],
   "source": [
    "plt.figure(figsize=(10,5))\n",
    "leg = []\n",
    "for PHENS in phen_dict.keys():\n",
    "    for direction in [\"negative\", \"positive\"]:\n",
    "        leg.append(PHENS + \" \" + direction)\n",
    "        \n",
    "        print(PHENS, direction)\n",
    "        \n",
    "        top_x_genes = get_top_Xs(PHENS, direction, top_genes_num)\n",
    "        top_x_genes = top_x_genes[50:]\n",
    "        # get list of genes in any top X list & the number of times the gene appears in any top X list\n",
    "        genes_in_any_top, num_top_appearances = np.unique(top_x_genes, return_counts=True)\n",
    "\n",
    "        # for reps that have the gene in the top X list, what's the average ranking? \n",
    "        # (i.e., we ignore the reps that dont have a given gene in the top X list)\n",
    "        mean_rankings_within_tops = []\n",
    "        for g in genes_in_any_top:\n",
    "            mean_rankings_within_tops.append(np.mean(np.hstack([np.where(x==g) for x in top_x_genes])))\n",
    "        mean_rankings_within_tops = np.round(np.array(mean_rankings_within_tops),2)\n",
    "\n",
    "        # generate a ranking where we sort by first, the number of reps with genes in the top X list, then within that overlap size, \n",
    "        # sort by the average ranking for the reps that had the gene in the top X\n",
    "        df = pd.DataFrame(np.vstack([genes_in_any_top, num_top_appearances, mean_rankings_within_tops]).T, columns=[\"gene\",\"num_reps_appearing\", \"mean_rank_when_appearing\"])\n",
    "        gene_order = df.sort_values(['num_reps_appearing', 'mean_rank_when_appearing'], ascending=[False, True]).index.values\n",
    "\n",
    "        new_df = df.loc[gene_order]\n",
    "\n",
    "#         if not os.path.isdir(\"/Users/nbbwang/Documents/humangene2RNAilib_newWithRBH/SUBFOLDERS2/%s_%s/\"%(direction, PHENS)):\n",
    "#             os.makedirs(\"/Users/nbbwang/Documents/humangene2RNAilib_newWithRBH/SUBFOLDERS2/%s_%s/\"%(direction, PHENS))\n",
    "        \n",
    "#         np.savetxt(\"/Users/nbbwang/Documents/humangene2RNAilib_newWithRBH/SUBFOLDERS2/%s_%s/examplegenelist.txt\"%(direction, PHENS), new_df[new_df[\"num_reps_appearing\"].astype(float)>=5][\"gene\"].astype(str), fmt=\"%s\")\n",
    "       \n",
    "    \n",
    "        if not os.path.isdir(\"ranking_lists\"):\n",
    "            os.makedirs(\"ranking_lists\")\n",
    "            \n",
    "        new_df[\"num_reps_appearing\"] = new_df[\"num_reps_appearing\"].astype(int)\n",
    "        new_df = new_df.sort_values(\"num_reps_appearing\", ascending=False)\n",
    "#         new_df.to_csv(\"ranking_lists/%s_%s.txt\"%(direction, PHENS), index=False)\n",
    "#         print(90, len(new_df[new_df[\"num_reps_appearing\"]>= 90]))\n",
    "#         print(new_df[new_df[\"num_reps_appearing\"]>= 90]))\n",
    "#         print(75, len(new_df[new_df[\"num_reps_appearing\"]>= 75]))\n",
    "#         print(50, len(new_df[new_df[\"num_reps_appearing\"]>= 50]))\n",
    "#         print(90, len(new_df))\n",
    "\n",
    "        \n",
    "        plt.plot(np.arange(len(new_df[\"num_reps_appearing\"].values)), new_df[\"num_reps_appearing\"].values)\n",
    "plt.legend(leg)\n",
    "plt.xlabel(\"top100 genes across 101 reps sorted by most to least conserved\")\n",
    "plt.ylabel(\"# reps capturing gene\")"
   ]
  },
  {
   "cell_type": "code",
   "execution_count": 14,
   "metadata": {},
   "outputs": [
    {
     "name": "stdout",
     "output_type": "stream",
     "text": [
      "all negative\n",
      "all positive\n",
      "abeta negative\n",
      "abeta positive\n",
      "tau negative\n",
      "tau positive\n"
     ]
    },
    {
     "data": {
      "text/plain": [
       "Text(0,0.5,'# reps capturing gene')"
      ]
     },
     "execution_count": 14,
     "metadata": {},
     "output_type": "execute_result"
    },
    {
     "data": {
      "image/png": "[encoded data removed]",
      "text/plain": [
       "<matplotlib.figure.Figure at 0x1658427ce80>"
      ]
     },
     "metadata": {},
     "output_type": "display_data"
    }
   ],
   "source": [
    "fig, axes = plt.subplots(3,1,figsize=(10,10), gridspec_kw = {'height_ratios':[4,2, 1]})\n",
    "leg = []\n",
    "for PHENS in phen_dict.keys():\n",
    "    for direction in [\"negative\", \"positive\"]:\n",
    "        leg.append(PHENS + \" \" + direction)\n",
    "        \n",
    "        print(PHENS, direction)\n",
    "        \n",
    "        top_x_genes_ = get_top_Xs(PHENS, direction, top_genes_num)\n",
    "        \n",
    "        \n",
    "\n",
    "        \n",
    "        \n",
    "        for i,num_tops in enumerate([101,50,25]):\n",
    "            top_x_genes = top_x_genes_[::-1][:num_tops]\n",
    "        \n",
    "            genes_in_any_top, num_top_appearances = np.unique(top_x_genes, return_counts=True)\n",
    "\n",
    "            mean_rankings_within_tops = []\n",
    "            for g in genes_in_any_top:\n",
    "                mean_rankings_within_tops.append(np.mean(np.hstack([np.where(x==g) for x in top_x_genes])))\n",
    "            mean_rankings_within_tops = np.round(np.array(mean_rankings_within_tops),2)\n",
    "\n",
    "            df = pd.DataFrame(np.vstack([genes_in_any_top, num_top_appearances, mean_rankings_within_tops]).T, columns=[\"gene\",\"num_reps_appearing\", \"mean_rank_when_appearing\"])\n",
    "            gene_order = df.sort_values(['num_reps_appearing', 'mean_rank_when_appearing'], ascending=[False, True]).index.values\n",
    "\n",
    "            new_df = df.loc[gene_order]\n",
    "\n",
    "            if not os.path.isdir(\"ranking_lists\"):\n",
    "                os.makedirs(\"ranking_lists\")\n",
    "\n",
    "            new_df[\"num_reps_appearing\"] = new_df[\"num_reps_appearing\"].astype(int)\n",
    "            new_df = new_df.sort_values(\"num_reps_appearing\", ascending=False)\n",
    "\n",
    "\n",
    "            axes[i].plot(np.arange(len(new_df[\"num_reps_appearing\"].values)), new_df[\"num_reps_appearing\"].values)\n",
    "            axes[i].set_xlim(-5,1400)\n",
    "            axes[i].set_title(\"top100 genes across %i reps sorted by most to least conserved\"%num_tops)\n",
    "\n",
    "axes[0].legend(leg)\n",
    "axes[0].set_ylabel(\"# reps capturing gene\")"
   ]
  },
  {
   "cell_type": "markdown",
   "metadata": {},
   "source": [
    "### Progressive analysis:"
   ]
  },
  {
   "cell_type": "code",
   "execution_count": 15,
   "metadata": {},
   "outputs": [
    {
     "name": "stdout",
     "output_type": "stream",
     "text": [
      "all negative\n",
      "all positive\n",
      "abeta negative\n",
      "abeta positive\n",
      "tau negative\n",
      "tau positive\n"
     ]
    },
    {
     "data": {
      "text/plain": [
       "Text(0.5,0,'Training run')"
      ]
     },
     "execution_count": 15,
     "metadata": {},
     "output_type": "execute_result"
    },
    {
     "data": {
      "image/png": "[encoded data removed]",
      "text/plain": [
       "<matplotlib.figure.Figure at 0x165e7095860>"
      ]
     },
     "metadata": {},
     "output_type": "display_data"
    }
   ],
   "source": [
    "plt.figure(figsize=(10,5))\n",
    "leg = []\n",
    "for PHENS in phen_dict.keys():\n",
    "    for direction in [\"negative\", \"positive\"]:\n",
    "        leg.append(PHENS + \" \" + direction)\n",
    "        \n",
    "        print(PHENS, direction)\n",
    "        \n",
    "        top_x_genes = get_top_Xs(PHENS, direction, top_genes_num)\n",
    "        \n",
    "        current_known_genes = np.array([])\n",
    "        new_genes = []\n",
    "        for rep in range(101):\n",
    "            new_genes.append(len(np.setdiff1d(top_x_genes[rep], current_known_genes)))\n",
    "            current_known_genes = np.union1d(current_known_genes, top_x_genes[rep])\n",
    "\n",
    "#         plt.plot(np.arange(101), np.sort(new_genes)[::-1])\n",
    "        plt.plot(np.arange(101), (new_genes))\n",
    "\n",
    "#         plt.plot(np.arange(101), new_genes)\n",
    "plt.legend(leg)\n",
    "plt.plot(np.arange(101), [0]*101, color=\"grey\", alpha=.5)\n",
    "plt.ylabel(\"Number (new) top-100 genes not seen in previous runs\")\n",
    "plt.xlabel(\"Training run\")"
   ]
  },
  {
   "cell_type": "code",
   "execution_count": null,
   "metadata": {
    "collapsed": true
   },
   "outputs": [],
   "source": []
  },
  {
   "cell_type": "code",
   "execution_count": null,
   "metadata": {
    "collapsed": true
   },
   "outputs": [],
   "source": []
  },
  {
   "cell_type": "code",
   "execution_count": 16,
   "metadata": {},
   "outputs": [
    {
     "name": "stdout",
     "output_type": "stream",
     "text": [
      "all negative\n",
      "all positive\n",
      "abeta negative\n",
      "abeta positive\n",
      "tau negative\n",
      "tau positive\n"
     ]
    },
    {
     "data": {
      "text/plain": [
       "Text(0,0.5,'fraction of final top genes')"
      ]
     },
     "execution_count": 16,
     "metadata": {},
     "output_type": "execute_result"
    },
    {
     "data": {
      "image/png": "[encoded data removed]",
      "text/plain": [
       "<matplotlib.figure.Figure at 0x16583109940>"
      ]
     },
     "metadata": {},
     "output_type": "display_data"
    }
   ],
   "source": [
    "plt.figure(figsize=(10,5))\n",
    "leg = []\n",
    "for PHENS in phen_dict.keys():\n",
    "    for direction in [\"negative\", \"positive\"]:\n",
    "        leg.append(PHENS + \" \" + direction)\n",
    "        \n",
    "        print(PHENS, direction)\n",
    "        \n",
    "        top_x_genes_ = get_top_Xs(PHENS, direction, top_genes_num)\n",
    "\n",
    "        top_x_genes = top_x_genes_[::-1][:100]\n",
    "\n",
    "        genes_in_any_top, num_top_appearances = np.unique(top_x_genes, return_counts=True)\n",
    "\n",
    "        mean_rankings_within_tops = []\n",
    "        for g in genes_in_any_top:\n",
    "            mean_rankings_within_tops.append(np.mean(np.hstack([np.where(x==g) for x in top_x_genes])))\n",
    "        mean_rankings_within_tops = np.round(np.array(mean_rankings_within_tops),2)\n",
    "\n",
    "        df = pd.DataFrame(np.vstack([genes_in_any_top, num_top_appearances, mean_rankings_within_tops]).T, columns=[\"gene\",\"num_reps_appearing\", \"mean_rank_when_appearing\"])\n",
    "        gene_order = df.sort_values(['num_reps_appearing', 'mean_rank_when_appearing'], ascending=[False, True]).index.values\n",
    "\n",
    "        new_df = df.loc[gene_order]\n",
    "\n",
    "        if not os.path.isdir(\"ranking_lists\"):\n",
    "            os.makedirs(\"ranking_lists\")\n",
    "\n",
    "        new_df[\"num_reps_appearing\"] = new_df[\"num_reps_appearing\"].astype(int)\n",
    "        new_df = new_df.sort_values(\"num_reps_appearing\", ascending=False)\n",
    "        \n",
    "        final_top_100 = new_df[\"gene\"].values[:100]\n",
    "        \n",
    "        \n",
    "\n",
    "\n",
    "        agreement = []\n",
    "        for num_tops in np.arange(1,101):\n",
    "            top_x_genes = top_x_genes_[::-1][:num_tops]\n",
    "        \n",
    "            genes_in_any_top, num_top_appearances = np.unique(top_x_genes, return_counts=True)\n",
    "\n",
    "            mean_rankings_within_tops = []\n",
    "            for g in genes_in_any_top:\n",
    "                mean_rankings_within_tops.append(np.mean(np.hstack([np.where(x==g) for x in top_x_genes])))\n",
    "            mean_rankings_within_tops = np.round(np.array(mean_rankings_within_tops),2)\n",
    "\n",
    "            df = pd.DataFrame(np.vstack([genes_in_any_top, num_top_appearances, mean_rankings_within_tops]).T, columns=[\"gene\",\"num_reps_appearing\", \"mean_rank_when_appearing\"])\n",
    "            gene_order = df.sort_values(['num_reps_appearing', 'mean_rank_when_appearing'], ascending=[False, True]).index.values\n",
    "\n",
    "            new_df = df.loc[gene_order]\n",
    "\n",
    "            if not os.path.isdir(\"ranking_lists\"):\n",
    "                os.makedirs(\"ranking_lists\")\n",
    "\n",
    "            new_df[\"num_reps_appearing\"] = new_df[\"num_reps_appearing\"].astype(int)\n",
    "            new_df = new_df.sort_values(\"num_reps_appearing\", ascending=False)\n",
    "\n",
    "            agreement.append(len(np.intersect1d(final_top_100, new_df[\"gene\"].values[:100])))\n",
    "            \n",
    "            \n",
    "        plt.plot(np.arange(len(agreement)), np.array(agreement)/len(final_top_100))\n",
    "plt.legend(leg)\n",
    "plt.xlabel(\"Aggregating top 100 genes from first X runs\")\n",
    "plt.ylabel(\"fraction of final top genes\")"
   ]
  },
  {
   "cell_type": "code",
   "execution_count": null,
   "metadata": {
    "collapsed": true
   },
   "outputs": [],
   "source": []
  },
  {
   "cell_type": "markdown",
   "metadata": {},
   "source": [
    "# get continuous gene rankings\n",
    "- rank ascending or descending for each run for each phenotype\n",
    "- average ranks over  both phenotypes and runs "
   ]
  },
  {
   "cell_type": "code",
   "execution_count": 66,
   "metadata": {
    "collapsed": true
   },
   "outputs": [],
   "source": [
    "for direction in [\"positive\", \"negative\"]:\n",
    "    savedir = \"GENE_RANKS_COMPARISON/MD-AD_consensus/%s/\"%direction\n",
    "    if not os.path.isdir(savedir):\n",
    "        os.makedirs(savedir)\n",
    "\n",
    "    final_ranking = np.median(np.mean(rep_ranks[direction],axis=1),axis=0)\n",
    "    sorted_genes = gene_symbols[np.argsort(final_ranking)]\n",
    "    \n",
    "    np.savetxt(savedir + \"final_ranks.txt\", final_ranking)\n",
    "    np.savetxt(savedir + \"sorted_genes.txt\", sorted_genes, fmt=\"%s\")"
   ]
  },
  {
   "cell_type": "markdown",
   "metadata": {},
   "source": [
    "for each run separately: "
   ]
  },
  {
   "cell_type": "code",
   "execution_count": 69,
   "metadata": {
    "collapsed": true
   },
   "outputs": [],
   "source": [
    "for run in range(101):\n",
    "    for direction in [\"positive\", \"negative\"]:\n",
    "        savedir = \"GENE_RANKS_COMPARISON/MD-AD_run/%i/%s/\"%(run,direction)\n",
    "        if not os.path.isdir(savedir):\n",
    "            os.makedirs(savedir)\n",
    "\n",
    "        final_ranking = np.mean(rep_ranks[direction][run],axis=0)\n",
    "        sorted_genes = gene_symbols[np.argsort(final_ranking)]\n",
    "\n",
    "        np.savetxt(savedir + \"final_ranks.txt\", final_ranking)\n",
    "        np.savetxt(savedir + \"sorted_genes.txt\", sorted_genes, fmt=\"%s\")"
   ]
  },
  {
   "cell_type": "markdown",
   "metadata": {},
   "source": [
    "For subsets of phenotypes relating to the same pathology class"
   ]
  },
  {
   "cell_type": "code",
   "execution_count": 86,
   "metadata": {
    "collapsed": true
   },
   "outputs": [],
   "source": [
    "for phens in [\"abeta\", \"tau\"]:\n",
    "    p_ids = np.array([phen_ids[x] for x in phen_dict[phens]])\n",
    "    \n",
    "    \n",
    "    for direction in [\"positive\", \"negative\"]:\n",
    "        savedir = \"GENE_RANKS_COMPARISON/MD-AD_consensus/%s/%s/\"%(direction, phens)\n",
    "        if not os.path.isdir(savedir):\n",
    "            os.makedirs(savedir)\n",
    "\n",
    "        final_ranking = np.median(np.mean(rep_ranks[direction][:,p_ids,:],axis=1),axis=0)\n",
    "        sorted_genes = gene_symbols[np.argsort(final_ranking)]\n",
    "\n",
    "        np.savetxt(savedir + \"final_ranks.txt\", final_ranking)\n",
    "        np.savetxt(savedir + \"sorted_genes.txt\", sorted_genes, fmt=\"%s\")"
   ]
  },
  {
   "cell_type": "code",
   "execution_count": 87,
   "metadata": {
    "collapsed": true
   },
   "outputs": [],
   "source": [
    "for phens in [\"abeta\", \"tau\"]:\n",
    "    for run in range(101):\n",
    "        for direction in [\"positive\", \"negative\"]:\n",
    "            savedir = \"GENE_RANKS_COMPARISON/MD-AD_run/%i/%s/%s/\"%(run,direction, phens)\n",
    "            if not os.path.isdir(savedir):\n",
    "                os.makedirs(savedir)\n",
    "\n",
    "            final_ranking = np.mean(rep_ranks[direction][run, p_ids,:],axis=0)\n",
    "            sorted_genes = gene_symbols[np.argsort(final_ranking)]\n",
    "\n",
    "            np.savetxt(savedir + \"final_ranks.txt\", final_ranking)\n",
    "            np.savetxt(savedir + \"sorted_genes.txt\", sorted_genes, fmt=\"%s\")"
   ]
  },
  {
   "cell_type": "code",
   "execution_count": null,
   "metadata": {
    "collapsed": true
   },
   "outputs": [],
   "source": []
  },
  {
   "cell_type": "code",
   "execution_count": null,
   "metadata": {
    "collapsed": true
   },
   "outputs": [],
   "source": []
  },
  {
   "cell_type": "code",
   "execution_count": null,
   "metadata": {
    "collapsed": true
   },
   "outputs": [],
   "source": []
  },
  {
   "cell_type": "code",
   "execution_count": null,
   "metadata": {
    "collapsed": true
   },
   "outputs": [],
   "source": []
  }
 ],
 "metadata": {
  "kernelspec": {
   "display_name": "Python 3.6",
   "language": "python",
   "name": "py36"
  },
  "language_info": {
   "codemirror_mode": {
    "name": "ipython",
    "version": 3
   },
   "file_extension": ".py",
   "mimetype": "text/x-python",
   "name": "python",
   "nbconvert_exporter": "python",
   "pygments_lexer": "ipython3",
   "version": "3.6.3"
  }
 },
 "nbformat": 4,
 "nbformat_minor": 2
}
